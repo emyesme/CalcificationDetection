{
  "nbformat": 4,
  "nbformat_minor": 0,
  "metadata": {
    "colab": {
      "name": "ignore big calcifications",
      "provenance": [],
      "collapsed_sections": [],
      "include_colab_link": true
    },
    "kernelspec": {
      "name": "python3",
      "display_name": "Python 3"
    },
    "language_info": {
      "name": "python"
    }
  },
  "cells": [
    {
      "cell_type": "markdown",
      "metadata": {
        "id": "view-in-github",
        "colab_type": "text"
      },
      "source": [
        "<a href=\"https://colab.research.google.com/github/emyesme/CalcificationDetection/blob/feature-pm/ignore_big_calcifications.ipynb\" target=\"_parent\"><img src=\"https://colab.research.google.com/assets/colab-badge.svg\" alt=\"Open In Colab\"/></a>"
      ]
    },
    {
      "cell_type": "code",
      "execution_count": 1,
      "metadata": {
        "colab": {
          "base_uri": "https://localhost:8080/"
        },
        "id": "VlDnjRxkFaXC",
        "outputId": "1cb1fa3e-3b79-4a67-98c9-4fecf4d3010f"
      },
      "outputs": [
        {
          "output_type": "stream",
          "name": "stdout",
          "text": [
            "Mounted at /content/drive\n"
          ]
        }
      ],
      "source": [
        "from google.colab import drive\n",
        "\n",
        "# This will prompt for authorization.\n",
        "drive.mount('/content/drive')"
      ]
    },
    {
      "cell_type": "code",
      "source": [
        "import os \n",
        "\n",
        "#first put a shortcut in your drive to the image processing folder\n",
        "\n",
        "#Choose the image folder you want to try\n",
        "\n",
        "pipeFolder = '8Prepro+glcm+fixed'\n",
        "\n",
        "RESULTS_FILES_DIR = os.path.join('/content',\n",
        "                        'drive',\n",
        "                        'MyDrive',\n",
        "                        'Results', \n",
        "                        pipeFolder)\n",
        "\n",
        "\n",
        "RESULTS_DIR = os.path.join('/content',\n",
        "                        'drive',\n",
        "                        'MyDrive',\n",
        "                        'Results')\n",
        "\n",
        "\n",
        "DATA_DIR = os.path.join('/content',\n",
        "                        'drive',\n",
        "                        'MyDrive',\n",
        "                        'Image Processing and Analysis 2022',\n",
        "                        'projects',\n",
        "                        'Calcification Detection',\n",
        "                        'dataset')\n",
        "\n",
        "if not os.path.exists(os.path.join(RESULTS_DIR, pipeFolder+\"+CorrectedLabels\")):\n",
        "  os.makedirs(os.path.join(RESULTS_DIR, pipeFolder+\"+CorrectedLabels\"))\n",
        "\n",
        "\n",
        "results_file = os.listdir(RESULTS_FILES_DIR)\n",
        "print(results_file)"
      ],
      "metadata": {
        "colab": {
          "base_uri": "https://localhost:8080/"
        },
        "id": "tQ2OU7QeFwfn",
        "outputId": "1433a7cd-6207-4b46-f43f-d7a55c80214a"
      },
      "execution_count": 2,
      "outputs": [
        {
          "output_type": "stream",
          "name": "stdout",
          "text": [
            "['20586908_6c613a14b80a8591_MG_R_CC_ANON__fos_glcm.csv', '20586934_6c613a14b80a8591_MG_L_CC_ANON__fos_glcm.csv', '20586960_6c613a14b80a8591_MG_R_ML_ANON__fos_glcm.csv', '20586986_6c613a14b80a8591_MG_L_ML_ANON__fos_glcm.csv', '20587054_b6a4f750c6df4f90_MG_R_CC_ANON__fos_glcm.csv', '20587080_b6a4f750c6df4f90_MG_R_ML_ANON__fos_glcm.csv', '20587148_fd746d25eb40b3dc_MG_R_CC_ANON__fos_glcm.csv', '20587174_fd746d25eb40b3dc_MG_L_CC_ANON__fos_glcm.csv', '20587200_fd746d25eb40b3dc_MG_R_ML_ANON__fos_glcm.csv', '20587226_fd746d25eb40b3dc_MG_L_ML_ANON__fos_glcm.csv', '20587294_e634830794f5c1bd_MG_R_CC_ANON__fos_glcm.csv', '20587320_e634830794f5c1bd_MG_L_CC_ANON__fos_glcm.csv', '20587346_e634830794f5c1bd_MG_R_ML_ANON__fos_glcm.csv', '20587372_e634830794f5c1bd_MG_L_ML_ANON__fos_glcm.csv', '20587466_d571b5880ad2a016_MG_L_CC_ANON__fos_glcm.csv', '20587492_d571b5880ad2a016_MG_R_ML_ANON__fos_glcm.csv', '20587518_d571b5880ad2a016_MG_L_ML_ANON__fos_glcm.csv', '20587544_d571b5880ad2a016_MG_R_CC_ANON__fos_glcm.csv', '20587612_f4b2d377f43ba0bd_MG_R_CC_ANON__fos_glcm.csv', '20587638_f4b2d377f43ba0bd_MG_L_CC_ANON__fos_glcm.csv', '20587664_f4b2d377f43ba0bd_MG_R_ML_ANON__fos_glcm.csv', '20587690_f4b2d377f43ba0bd_MG_L_ML_ANON__fos_glcm.csv', '20587758_81cd83d2f4d78528_MG_L_CC_ANON__fos_glcm.csv', '20587784_81cd83d2f4d78528_MG_R_ML_ANON__fos_glcm.csv', '20587810_81cd83d2f4d78528_MG_L_ML_ANON__fos_glcm.csv', '20587836_81cd83d2f4d78528_MG_R_CC_ANON__fos_glcm.csv', '20587902_8dbbd4e51f549ff0_MG_R_CC_ANON__fos_glcm.csv', '20587928_8dbbd4e51f549ff0_MG_R_ML_ANON__fos_glcm.csv', '20587994_024ee3569b2605dc_MG_R_CC_ANON__fos_glcm.csv', '20588020_024ee3569b2605dc_MG_L_CC_ANON__fos_glcm.csv', '20588046_024ee3569b2605dc_MG_R_ML_ANON__fos_glcm.csv', '20588072_024ee3569b2605dc_MG_L_ML_ANON__fos_glcm.csv', '20588138_8d0b9620c53c0268_MG_R_ML_ANON__fos_glcm.csv', '20588164_8d0b9620c53c0268_MG_R_CC_ANON__fos_glcm.csv', '20588190_8d0b9620c53c0268_MG_L_CC_ANON__fos_glcm.csv', '20588216_8d0b9620c53c0268_MG_L_ML_ANON__fos_glcm.csv', '20588308_493155e17143edef_MG_L_ML_ANON__fos_glcm.csv', '20588334_493155e17143edef_MG_L_CC_ANON__fos_glcm.csv', '20588458_bf1a6aaadb05e3df_MG_R_CC_ANON__fos_glcm.csv', '20588510_bf1a6aaadb05e3df_MG_R_ML_ANON__fos_glcm.csv', '20588536_bf1a6aaadb05e3df_MG_L_ML_ANON__fos_glcm.csv', '20588562_bf1a6aaadb05e3df_MG_L_CC_ANON__fos_glcm.csv', '20588654_036aff49b8ac84f0_MG_R_ML_ANON__fos_glcm.csv', '20588680_036aff49b8ac84f0_MG_L_ML_ANON__fos_glcm.csv', '22427682_d713ef5849f98b6c_MG_R_CC_ANON__fos_glcm.csv', '22427705_d713ef5849f98b6c_MG_L_CC_ANON__fos_glcm.csv', '22427728_d713ef5849f98b6c_MG_R_ML_ANON__fos_glcm.csv', '22427751_d713ef5849f98b6c_MG_L_ML_ANON__fos_glcm.csv', '22427840_bbd6a3a35438c11b_MG_R_CC_ANON__fos_glcm.csv', '22427864_bbd6a3a35438c11b_MG_L_CC_ANON__fos_glcm.csv', '22579730_bbd6a3a35438c11b_MG_R_ML_ANON__fos_glcm.csv', '22579754_bbd6a3a35438c11b_MG_L_ML_ANON__fos_glcm.csv', '22579847_301f1776aebbf5d2_MG_R_CC_ANON__fos_glcm.csv', '22579870_301f1776aebbf5d2_MG_L_CC_ANON__fos_glcm.csv', '22579893_301f1776aebbf5d2_MG_R_ML_ANON__fos_glcm.csv', '22579916_301f1776aebbf5d2_MG_L_ML_ANON__fos_glcm.csv', '22580015_6200187f3f1ccc18_MG_R_CC_ANON__fos_glcm.csv', '22580038_6200187f3f1ccc18_MG_L_CC_ANON__fos_glcm.csv', '22580068_6200187f3f1ccc18_MG_R_ML_ANON__fos_glcm.csv', '22580098_6200187f3f1ccc18_MG_L_ML_ANON__fos_glcm.csv', '22580192_5530d5782fc89dd7_MG_R_CC_ANON__fos_glcm.csv', '22580218_5530d5782fc89dd7_MG_L_CC_ANON__fos_glcm.csv', '22580244_5530d5782fc89dd7_MG_R_ML_ANON__fos_glcm.csv', '22580270_5530d5782fc89dd7_MG_L_ML_ANON__fos_glcm.csv', '22580341_5eae9beae14d26fd_MG_R_CC_ANON__fos_glcm.csv', '22580367_5eae9beae14d26fd_MG_L_CC_ANON__fos_glcm.csv', '22580393_5eae9beae14d26fd_MG_R_ML_ANON__fos_glcm.csv', '22580419_5eae9beae14d26fd_MG_L_ML_ANON__fos_glcm.csv', '22580492_2a5b932da4ce5ca1_MG_R_CC_ANON__fos_glcm.csv', '22580520_2a5b932da4ce5ca1_MG_L_CC_ANON__fos_glcm.csv', '22580548_2a5b932da4ce5ca1_MG_R_ML_ANON__fos_glcm.csv', '22580576_2a5b932da4ce5ca1_MG_L_ML_ANON__fos_glcm.csv', '22580654_fe7d005dcbbfb46d_MG_R_CC_ANON__fos_glcm.csv', '22580680_fe7d005dcbbfb46d_MG_L_CC_ANON__fos_glcm.csv', '22580706_fe7d005dcbbfb46d_MG_R_ML_ANON__fos_glcm.csv', '22580732_fe7d005dcbbfb46d_MG_L_ML_ANON__fos_glcm.csv', '22613624_dcafa6ba6374ec07_MG_R_CC_ANON__fos_glcm.csv', '22613650_dcafa6ba6374ec07_MG_L_CC_ANON__fos_glcm.csv', '22613676_dcafa6ba6374ec07_MG_R_ML_ANON__fos_glcm.csv', '22613702_dcafa6ba6374ec07_MG_L_ML_ANON__fos_glcm.csv', '22613770_45c7f44839fd9e68_MG_R_CC_ANON__fos_glcm.csv', '22613796_45c7f44839fd9e68_MG_L_CC_ANON__fos_glcm.csv', '22613822_45c7f44839fd9e68_MG_R_ML_ANON__fos_glcm.csv', '22613848_45c7f44839fd9e68_MG_L_ML_ANON__fos_glcm.csv', '22613918_f23fa352e7de3dc7_MG_R_CC_ANON__fos_glcm.csv', '22613944_f23fa352e7de3dc7_MG_L_CC_ANON__fos_glcm.csv', '22613970_f23fa352e7de3dc7_MG_R_ML_ANON__fos_glcm.csv', '22613996_f23fa352e7de3dc7_MG_L_ML_ANON__fos_glcm.csv', '22614074_6bd24a0a42c19ce1_MG_R_CC_ANON__fos_glcm.csv', '22614097_6bd24a0a42c19ce1_MG_L_CC_ANON__fos_glcm.csv', '22614127_6bd24a0a42c19ce1_MG_R_ML_ANON__fos_glcm.csv', '22614150_6bd24a0a42c19ce1_MG_L_ML_ANON__fos_glcm.csv', '22614236_1e5c3af078f74b05_MG_L_CC_ANON__fos_glcm.csv', '22614266_1e5c3af078f74b05_MG_L_ML_ANON__fos_glcm.csv', '22614353_d065adcb9905b973_MG_R_CC_ANON__fos_glcm.csv', '22614379_d065adcb9905b973_MG_L_CC_ANON__fos_glcm.csv', '22614405_d065adcb9905b973_MG_R_ML_ANON__fos_glcm.csv', '22614431_d065adcb9905b973_MG_L_ML_ANON__fos_glcm.csv', '22614499_2dec4948fbe6336d_MG_R_CC_ANON__fos_glcm.csv', '22614522_2dec4948fbe6336d_MG_L_CC_ANON__fos_glcm.csv', '22614545_2dec4948fbe6336d_MG_R_ML_ANON__fos_glcm.csv', '22614568_2dec4948fbe6336d_MG_L_ML_ANON__fos_glcm.csv', '22670094_e1f51192f7bf3f5f_MG_R_CC_ANON__fos_glcm.csv', '22670124_e1f51192f7bf3f5f_MG_L_CC_ANON__fos_glcm.csv', '22670147_e1f51192f7bf3f5f_MG_R_ML_ANON__fos_glcm.csv', '22670177_e1f51192f7bf3f5f_MG_L_ML_ANON__fos_glcm.csv', '22670278_98429c0bdf78c0c7_MG_R_CC_ANON__fos_glcm.csv', '22670301_98429c0bdf78c0c7_MG_L_CC_ANON__fos_glcm.csv', '22670324_98429c0bdf78c0c7_MG_R_ML_ANON__fos_glcm.csv', '22670347_98429c0bdf78c0c7_MG_L_ML_ANON__fos_glcm.csv', '22670442_7e677f3d530e41ed_MG_R_CC_ANON__fos_glcm.csv', '22670465_7e677f3d530e41ed_MG_L_CC_ANON__fos_glcm.csv', '22670488_7e677f3d530e41ed_MG_R_ML_ANON__fos_glcm.csv', '22670511_7e677f3d530e41ed_MG_L_ML_ANON__fos_glcm.csv', '22670620_e15a16f87b4f9782_MG_R_CC_ANON__fos_glcm.csv', '22670643_e15a16f87b4f9782_MG_L_CC_ANON__fos_glcm.csv', '22670673_e15a16f87b4f9782_MG_R_ML_ANON__fos_glcm.csv', '22670703_e15a16f87b4f9782_MG_L_ML_ANON__fos_glcm.csv', '22670809_0b7396cdccacca82_MG_R_CC_ANON__fos_glcm.csv', '22670832_0b7396cdccacca82_MG_L_CC_ANON__fos_glcm.csv', '22670855_0b7396cdccacca82_MG_R_ML_ANON__fos_glcm.csv', '22670878_0b7396cdccacca82_MG_L_ML_ANON__fos_glcm.csv', '22670978_f571fd4e63c718e3_MG_L_CC_ANON__fos_glcm.csv', '22671003_f571fd4e63c718e3_MG_L_ML_ANON__fos_glcm.csv', '22678449_60995d51033e24b8_MG_R_CC_ANON__fos_glcm.csv', '22678472_60995d51033e24b8_MG_L_CC_ANON__fos_glcm.csv', '22678495_60995d51033e24b8_MG_R_ML_ANON__fos_glcm.csv', '22678518_60995d51033e24b8_MG_L_ML_ANON__fos_glcm.csv', '22678622_61b13c59bcba149e_MG_R_CC_ANON__fos_glcm.csv', '22678646_61b13c59bcba149e_MG_L_CC_ANON__fos_glcm.csv', '22678670_61b13c59bcba149e_MG_R_ML_ANON__fos_glcm.csv', '22678694_61b13c59bcba149e_MG_L_ML_ANON__fos_glcm.csv', '22678787_64a22c47765f0c5c_MG_R_CC_ANON__fos_glcm.csv', '22678810_64a22c47765f0c5c_MG_L_CC_ANON__fos_glcm.csv', '22678833_64a22c47765f0c5c_MG_R_ML_ANON__fos_glcm.csv', '22678856_64a22c47765f0c5c_MG_L_ML_ANON__fos_glcm.csv', '22678953_b9a4da5f2dae63a9_MG_R_CC_ANON__fos_glcm.csv', '22678980_b9a4da5f2dae63a9_MG_L_CC_ANON__fos_glcm.csv', '22679008_b9a4da5f2dae63a9_MG_R_ML_ANON__fos_glcm.csv', '22679036_b9a4da5f2dae63a9_MG_L_ML_ANON__fos_glcm.csv', '24054997_2f1104b3cda7f145_MG_L_ML_ANON__fos_glcm.csv', '24055024_2f1104b3cda7f145_MG_R_ML_ANON__fos_glcm.csv', '24055051_2f1104b3cda7f145_MG_L_CC_ANON__fos_glcm.csv', '24055078_2f1104b3cda7f145_MG_R_CC_ANON__fos_glcm.csv', '24055149_606e9b184978a350_MG_L_ML_ANON__fos_glcm.csv', '24055176_606e9b184978a350_MG_R_ML_ANON__fos_glcm.csv', '24055203_606e9b184978a350_MG_L_CC_ANON__fos_glcm.csv', '24055274_1e10aef17c9fe149_MG_L_ML_ANON__fos_glcm.csv', '24055328_1e10aef17c9fe149_MG_R_ML_ANON__fos_glcm.csv', '24055355_1e10aef17c9fe149_MG_L_CC_ANON__fos_glcm.csv', '24055382_1e10aef17c9fe149_MG_R_CC_ANON__fos_glcm.csv', '24055445_ac3185e18ffdc7b6_MG_L_ML_ANON__fos_glcm.csv', '24055464_ac3185e18ffdc7b6_MG_R_ML_ANON__fos_glcm.csv', '24055483_ac3185e18ffdc7b6_MG_L_CC_ANON__fos_glcm.csv', '24055502_ac3185e18ffdc7b6_MG_R_CC_ANON__fos_glcm.csv', '24055573_6f1aef40b3775182_MG_L_ML_ANON__fos_glcm.csv', '24055600_6f1aef40b3775182_MG_R_ML_ANON__fos_glcm.csv', '24055627_6f1aef40b3775182_MG_L_CC_ANON__fos_glcm.csv', '24055654_6f1aef40b3775182_MG_R_CC_ANON__fos_glcm.csv', '24055725_f0f1a133837b5137_MG_L_ML_ANON__fos_glcm.csv', '24055752_f0f1a133837b5137_MG_R_ML_ANON__fos_glcm.csv', '24055779_f0f1a133837b5137_MG_L_CC_ANON__fos_glcm.csv', '24055806_f0f1a133837b5137_MG_R_CC_ANON__fos_glcm.csv', '24055877_839819f2eadaf325_MG_L_ML_ANON__fos_glcm.csv', '24055904_839819f2eadaf325_MG_R_ML_ANON__fos_glcm.csv', '24055931_839819f2eadaf325_MG_L_CC_ANON__fos_glcm.csv', '24055958_839819f2eadaf325_MG_R_CC_ANON__fos_glcm.csv', '24058660_9e8db9e34d5275ef_MG_R_CC_ANON__fos_glcm.csv', '24058686_9e8db9e34d5275ef_MG_L_CC_ANON__fos_glcm.csv', '24058712_9e8db9e34d5275ef_MG_R_ML_ANON__fos_glcm.csv', '24058738_9e8db9e34d5275ef_MG_L_ML_ANON__fos_glcm.csv', '24065251_c4b995eddb3c510c_MG_L_ML_ANON__fos_glcm.csv', '24065270_c4b995eddb3c510c_MG_R_ML_ANON__fos_glcm.csv', '24065289_c4b995eddb3c510c_MG_L_CC_ANON__fos_glcm.csv', '24065308_c4b995eddb3c510c_MG_R_CC_ANON__fos_glcm.csv', '24065380_83db89f57aea498a_MG_L_ML_ANON__fos_glcm.csv', '24065407_83db89f57aea498a_MG_R_ML_ANON__fos_glcm.csv', '24065434_83db89f57aea498a_MG_L_CC_ANON__fos_glcm.csv', '24065461_83db89f57aea498a_MG_R_CC_ANON__fos_glcm.csv', '24065530_d8205a09c8173f44_MG_L_ML_ANON__fos_glcm.csv', '24065557_d8205a09c8173f44_MG_R_ML_ANON__fos_glcm.csv', '24065584_d8205a09c8173f44_MG_L_CC_ANON__fos_glcm.csv', '24065611_d8205a09c8173f44_MG_R_CC_ANON__fos_glcm.csv', '24065680_5291e1aee2bbf5df_MG_L_ML_ANON__fos_glcm.csv', '24065707_5291e1aee2bbf5df_MG_R_ML_ANON__fos_glcm.csv', '24065734_5291e1aee2bbf5df_MG_L_CC_ANON__fos_glcm.csv', '24065761_5291e1aee2bbf5df_MG_R_CC_ANON__fos_glcm.csv', '24065833_c01f83a1eb283270_MG_L_ML_ANON__fos_glcm.csv', '24065860_c01f83a1eb283270_MG_R_ML_ANON__fos_glcm.csv', '24065887_c01f83a1eb283270_MG_L_CC_ANON__fos_glcm.csv', '24065914_c01f83a1eb283270_MG_R_CC_ANON__fos_glcm.csv', '26933772_f8bfddc28e8045c0_MG_R_CC_ANON__fos_glcm.csv', '26933801_f8bfddc28e8045c0_MG_L_CC_ANON__fos_glcm.csv', '26933830_f8bfddc28e8045c0_MG_R_ML_ANON__fos_glcm.csv', '26933859_f8bfddc28e8045c0_MG_L_ML_ANON__fos_glcm.csv', '27829134_fbb55bf7fff48540_MG_R_CC_ANON__fos_glcm.csv', '27829161_fbb55bf7fff48540_MG_L_CC_ANON__fos_glcm.csv', '27829188_fbb55bf7fff48540_MG_R_ML_ANON__fos_glcm.csv', '27829215_fbb55bf7fff48540_MG_L_ML_ANON__fos_glcm.csv', '30011484_349323117bf0fd93_MG_R_CC_ANON__fos_glcm.csv', '30011507_349323117bf0fd93_MG_L_CC_ANON__fos_glcm.csv', '30011530_349323117bf0fd93_MG_R_ML_ANON__fos_glcm.csv', '30011553_349323117bf0fd93_MG_L_ML_ANON__fos_glcm.csv', '30011647_6968748e66837bc7_MG_R_CC_ANON__fos_glcm.csv', '30011674_6968748e66837bc7_MG_L_CC_ANON__fos_glcm.csv', '30011700_6968748e66837bc7_MG_R_ML_ANON__fos_glcm.csv', '30011727_6968748e66837bc7_MG_L_ML_ANON__fos_glcm.csv', '30011798_4f20c1285d8f0b1f_MG_R_CC_ANON__fos_glcm.csv', '30011824_4f20c1285d8f0b1f_MG_L_CC_ANON__fos_glcm.csv', '30011850_4f20c1285d8f0b1f_MG_R_ML_ANON__fos_glcm.csv', '30318067_4f20c1285d8f0b1f_MG_L_ML_ANON__fos_glcm.csv', '50993399_5d85ecc9cf26b254_MG_L_ML_ANON__fos_glcm.csv', '50993426_5d85ecc9cf26b254_MG_L_CC_ANON__fos_glcm.csv', '50993616_b03f1dd34eb3c55f_MG_L_ML_ANON__fos_glcm.csv', '50993643_b03f1dd34eb3c55f_MG_L_CC_ANON__fos_glcm.csv', '50993670_b03f1dd34eb3c55f_MG_L_ML_ANON__fos_glcm.csv', '50993697_b03f1dd34eb3c55f_MG_L_CC_ANON__fos_glcm.csv', '50993787_de5e8d61e501a71b_MG_L_ML_ANON__fos_glcm.csv', '50993814_de5e8d61e501a71b_MG_R_ML_ANON__fos_glcm.csv', '50993841_de5e8d61e501a71b_MG_L_CC_ANON__fos_glcm.csv', '50993868_de5e8d61e501a71b_MG_R_CC_ANON__fos_glcm.csv', '50993895_de5e8d61e501a71b_MG_L_ML_ANON__fos_glcm.csv', '50993922_de5e8d61e501a71b_MG_R_ML_ANON__fos_glcm.csv', '50993949_de5e8d61e501a71b_MG_L_CC_ANON__fos_glcm.csv', '50993976_de5e8d61e501a71b_MG_R_CC_ANON__fos_glcm.csv', '50994110_cc9e66c5b31baab8_MG_L_ML_ANON__fos_glcm.csv', '50994137_cc9e66c5b31baab8_MG_R_ML_ANON__fos_glcm.csv', '50994164_cc9e66c5b31baab8_MG_L_CC_ANON__fos_glcm.csv', '50994191_cc9e66c5b31baab8_MG_R_CC_ANON__fos_glcm.csv', '50994273_cc9e66c5b31baab8_MG_R_CC_ANON__fos_glcm.csv', '50994300_cc9e66c5b31baab8_MG_R_FB_ANON__fos_glcm.csv', '50994327_cc9e66c5b31baab8_MG_L_ML_ANON__fos_glcm.csv', '50994354_cc9e66c5b31baab8_MG_R_ML_ANON__fos_glcm.csv', '50994381_cc9e66c5b31baab8_MG_L_CC_ANON__fos_glcm.csv', '50994408_cc9e66c5b31baab8_MG_R_CC_ANON__fos_glcm.csv', '50994535_de4c34099d6ef8de_MG_R_ML_ANON__fos_glcm.csv', '50994562_de4c34099d6ef8de_MG_R_CC_ANON__fos_glcm.csv', '50994589_de4c34099d6ef8de_MG_R_ML_ANON__fos_glcm.csv', '50994616_de4c34099d6ef8de_MG_R_CC_ANON__fos_glcm.csv', '50994706_069212ec65a94339_MG_R_CC_ANON__fos_glcm.csv', '50994733_069212ec65a94339_MG_L_ML_ANON__fos_glcm.csv', '50994760_069212ec65a94339_MG_R_ML_ANON__fos_glcm.csv', '50994787_069212ec65a94339_MG_L_CC_ANON__fos_glcm.csv', '50994814_069212ec65a94339_MG_L_ML_ANON__fos_glcm.csv', '50994841_069212ec65a94339_MG_R_ML_ANON__fos_glcm.csv', '50994868_069212ec65a94339_MG_L_CC_ANON__fos_glcm.csv', '50994895_069212ec65a94339_MG_R_CC_ANON__fos_glcm.csv', '50995762_0c735e8768d276b4_MG_R_ML_ANON__fos_glcm.csv', '50995789_0c735e8768d276b4_MG_R_CC_ANON__fos_glcm.csv', '50995872_c94d8a1ebd452afe_MG_L_ML_ANON__fos_glcm.csv', '50995899_c94d8a1ebd452afe_MG_L_CC_ANON__fos_glcm.csv', '50995963_d742ec2f9b90aa62_MG_L_ML_ANON__fos_glcm.csv', '50995990_d742ec2f9b90aa62_MG_L_CC_ANON__fos_glcm.csv', '50996056_71c1a60d57c5322f_MG_L_ML_ANON__fos_glcm.csv', '50996083_71c1a60d57c5322f_MG_R_ML_ANON__fos_glcm.csv', '50996110_71c1a60d57c5322f_MG_L_CC_ANON__fos_glcm.csv', '50996137_71c1a60d57c5322f_MG_R_CC_ANON__fos_glcm.csv', '50996201_8c1b2bd64ca4d778_MG_L_ML_ANON__fos_glcm.csv', '50996228_8c1b2bd64ca4d778_MG_L_CC_ANON__fos_glcm.csv', '50996325_6aba0b402889a16f_MG_L_ML_ANON__fos_glcm.csv', '50996352_6aba0b402889a16f_MG_R_ML_ANON__fos_glcm.csv', '50996379_6aba0b402889a16f_MG_L_CC_ANON__fos_glcm.csv', '50996406_6aba0b402889a16f_MG_R_CC_ANON__fos_glcm.csv', '50996709_330e5fe16929eed4_MG_R_ML_ANON__fos_glcm.csv', '50996736_330e5fe16929eed4_MG_R_CC_ANON__fos_glcm.csv', '50996800_fdf4a1516f88b280_MG_L_ML_ANON__fos_glcm.csv', '50996827_fdf4a1516f88b280_MG_R_ML_ANON__fos_glcm.csv', '50996854_fdf4a1516f88b280_MG_L_CC_ANON__fos_glcm.csv', '50996881_fdf4a1516f88b280_MG_R_CC_ANON__fos_glcm.csv', '50996945_ce5e5e18a261cd29_MG_L_ML_ANON__fos_glcm.csv', '50996972_ce5e5e18a261cd29_MG_R_ML_ANON__fos_glcm.csv', '50996999_ce5e5e18a261cd29_MG_L_CC_ANON__fos_glcm.csv', '50997026_ce5e5e18a261cd29_MG_R_CC_ANON__fos_glcm.csv', '50997053_ce5e5e18a261cd29_MG_L_CC_ANON__fos_glcm.csv', '50997080_ce5e5e18a261cd29_MG_L_ML_ANON__fos_glcm.csv', '50997107_ce5e5e18a261cd29_MG_R_ML_ANON__fos_glcm.csv', '50997134_ce5e5e18a261cd29_MG_R_CC_ANON__fos_glcm.csv', '50997223_9054942f7be52dd9_MG_L_ML_ANON__fos_glcm.csv', '50997250_9054942f7be52dd9_MG_R_ML_ANON__fos_glcm.csv', '50997277_9054942f7be52dd9_MG_L_CC_ANON__fos_glcm.csv', '50997304_9054942f7be52dd9_MG_R_CC_ANON__fos_glcm.csv', '50997434_97ec8cadfca70d32_MG_L_ML_ANON__fos_glcm.csv', '50997461_97ec8cadfca70d32_MG_R_ML_ANON__fos_glcm.csv', '50997488_97ec8cadfca70d32_MG_L_CC_ANON__fos_glcm.csv', '50997515_97ec8cadfca70d32_MG_R_CC_ANON__fos_glcm.csv', '50997597_67cc8c9939d74a9a_MG_L_ML_ANON__fos_glcm.csv', '50997624_67cc8c9939d74a9a_MG_R_ML_ANON__fos_glcm.csv', '50997651_67cc8c9939d74a9a_MG_L_CC_ANON__fos_glcm.csv', '50997678_67cc8c9939d74a9a_MG_R_CC_ANON__fos_glcm.csv', '50997742_cbb6c98a81e69eeb_MG_L_ML_ANON__fos_glcm.csv', '50997769_cbb6c98a81e69eeb_MG_R_ML_ANON__fos_glcm.csv', '50997796_cbb6c98a81e69eeb_MG_L_CC_ANON__fos_glcm.csv', '50997823_cbb6c98a81e69eeb_MG_R_CC_ANON__fos_glcm.csv', '50998032_66adfbb4f19c76d2_MG_R_CC_ANON__fos_glcm.csv', '50998059_66adfbb4f19c76d2_MG_L_ML_ANON__fos_glcm.csv', '50998086_66adfbb4f19c76d2_MG_R_ML_ANON__fos_glcm.csv', '50998113_66adfbb4f19c76d2_MG_L_CC_ANON__fos_glcm.csv', '50998177_f34ee0ab6591b792_MG_L_ML_ANON__fos_glcm.csv', '50998204_f34ee0ab6591b792_MG_R_ML_ANON__fos_glcm.csv', '50998231_f34ee0ab6591b792_MG_L_CC_ANON__fos_glcm.csv', '50998258_f34ee0ab6591b792_MG_R_CC_ANON__fos_glcm.csv', '50998322_1e4b534393d18753_MG_R_ML_ANON__fos_glcm.csv', '50998349_1e4b534393d18753_MG_R_CC_ANON__fos_glcm.csv', '50998413_1f139436acfc5467_MG_L_ML_ANON__fos_glcm.csv', '50998440_1f139436acfc5467_MG_R_ML_ANON__fos_glcm.csv', '50998467_1f139436acfc5467_MG_L_CC_ANON__fos_glcm.csv', '50998494_1f139436acfc5467_MG_R_CC_ANON__fos_glcm.csv', '50998580_cd12bc20b3d27d0b_MG_L_ML_ANON__fos_glcm.csv', '50998607_cd12bc20b3d27d0b_MG_R_ML_ANON__fos_glcm.csv', '50998634_cd12bc20b3d27d0b_MG_L_CC_ANON__fos_glcm.csv', '50998661_cd12bc20b3d27d0b_MG_R_CC_ANON__fos_glcm.csv', '50998981_a78eba834ef6ee88_MG_R_ML_ANON__fos_glcm.csv', '50999008_a78eba834ef6ee88_MG_R_CC_ANON__fos_glcm.csv', '50999094_cb65e8dac169f596_MG_L_ML_ANON__fos_glcm.csv', '50999121_cb65e8dac169f596_MG_R_ML_ANON__fos_glcm.csv', '50999148_cb65e8dac169f596_MG_L_CC_ANON__fos_glcm.csv', '50999175_cb65e8dac169f596_MG_R_CC_ANON__fos_glcm.csv', '50999246_cb65e8dac169f596_MG_L_ML_ANON__fos_glcm.csv', '50999273_cb65e8dac169f596_MG_R_ML_ANON__fos_glcm.csv', '50999300_cb65e8dac169f596_MG_L_CC_ANON__fos_glcm.csv', '50999327_cb65e8dac169f596_MG_R_CC_ANON__fos_glcm.csv', '50999432_f62fbf38fb208316_MG_L_ML_ANON__fos_glcm.csv', '50999459_f62fbf38fb208316_MG_L_CC_ANON__fos_glcm.csv', '51048738_3f22cdda8da215e3_MG_R_ML_ANON__fos_glcm.csv', '51048765_3f22cdda8da215e3_MG_R_CC_ANON__fos_glcm.csv', '51048891_f3e93e889a7746f0_MG_L_ML_ANON__fos_glcm.csv', '51048918_f3e93e889a7746f0_MG_R_ML_ANON__fos_glcm.csv', '51048945_f3e93e889a7746f0_MG_L_CC_ANON__fos_glcm.csv', '51048972_f3e93e889a7746f0_MG_R_CC_ANON__fos_glcm.csv', '51049053_8c105bb715bf1c3c_MG_L_ML_ANON__fos_glcm.csv', '51049080_8c105bb715bf1c3c_MG_R_ML_ANON__fos_glcm.csv', '51049107_8c105bb715bf1c3c_MG_L_CC_ANON__fos_glcm.csv', '51049134_8c105bb715bf1c3c_MG_R_CC_ANON__fos_glcm.csv', '51049249_832ebce700241036_MG_L_CC_ANON__fos_glcm.csv', '51049276_832ebce700241036_MG_L_ML_ANON__fos_glcm.csv', '51049462_6f64793857feb5d0_MG_L_ML_ANON__fos_glcm.csv', '51049489_6f64793857feb5d0_MG_R_ML_ANON__fos_glcm.csv', '51049516_6f64793857feb5d0_MG_L_CC_ANON__fos_glcm.csv', '51049543_6f64793857feb5d0_MG_R_CC_ANON__fos_glcm.csv', '51049628_6f64793857feb5d0_MG_L_ML_ANON__fos_glcm.csv', '51049655_6f64793857feb5d0_MG_R_ML_ANON__fos_glcm.csv', '51049682_6f64793857feb5d0_MG_L_CC_ANON__fos_glcm.csv', '51070197_6f64793857feb5d0_MG_R_CC_ANON__fos_glcm.csv', '53580611_40e22f2e3215b954_MG_L_ML_ANON__fos_glcm.csv', '53580638_40e22f2e3215b954_MG_R_ML_ANON__fos_glcm.csv', '53580665_40e22f2e3215b954_MG_L_CC_ANON__fos_glcm.csv', '53580692_40e22f2e3215b954_MG_R_CC_ANON__fos_glcm.csv', '53580804_51bec6477a7898b9_MG_L_ML_ANON__fos_glcm.csv', '53580831_51bec6477a7898b9_MG_R_ML_ANON__fos_glcm.csv', '53580858_51bec6477a7898b9_MG_L_CC_ANON__fos_glcm.csv', '53580885_51bec6477a7898b9_MG_R_CC_ANON__fos_glcm.csv', '53580979_4c341dad22471922_MG_L_ML_ANON__fos_glcm.csv', '53581006_4c341dad22471922_MG_R_ML_ANON__fos_glcm.csv', '53581033_4c341dad22471922_MG_L_CC_ANON__fos_glcm.csv', '53581060_4c341dad22471922_MG_R_CC_ANON__fos_glcm.csv', '53581124_3be876aecfaad4ca_MG_L_ML_ANON__fos_glcm.csv', '53581151_3be876aecfaad4ca_MG_L_CC_ANON__fos_glcm.csv', '53581237_80123a24997098dc_MG_R_ML_ANON__fos_glcm.csv', '53581264_80123a24997098dc_MG_R_CC_ANON__fos_glcm.csv', '53581379_b231a8ba4dd4214f_MG_L_ML_ANON__fos_glcm.csv', '53581406_b231a8ba4dd4214f_MG_R_ML_ANON__fos_glcm.csv', '53581433_b231a8ba4dd4214f_MG_L_CC_ANON__fos_glcm.csv', '53581460_b231a8ba4dd4214f_MG_R_CC_ANON__fos_glcm.csv', '53581769_573747ee33ef6e5a_MG_L_ML_ANON__fos_glcm.csv', '53581796_573747ee33ef6e5a_MG_L_CC_ANON__fos_glcm.csv', '53581860_21e6cc12630e5e9f_MG_L_ML_ANON__fos_glcm.csv', '53581887_21e6cc12630e5e9f_MG_R_ML_ANON__fos_glcm.csv', '53581914_21e6cc12630e5e9f_MG_L_CC_ANON__fos_glcm.csv', '53581941_21e6cc12630e5e9f_MG_R_CC_ANON__fos_glcm.csv', '53582304_8913a7e0cf3bd74e_MG_R_ML_ANON__fos_glcm.csv', '53582331_8913a7e0cf3bd74e_MG_R_CC_ANON__fos_glcm.csv', '53582395_3f0db31711fc9795_MG_L_ML_ANON__fos_glcm.csv', '53582422_3f0db31711fc9795_MG_R_ML_ANON__fos_glcm.csv', '53582449_3f0db31711fc9795_MG_L_CC_ANON__fos_glcm.csv', '53582476_3f0db31711fc9795_MG_R_CC_ANON__fos_glcm.csv', '53582540_3e73f1c0670cfb0a_MG_R_ML_ANON__fos_glcm.csv', '53582567_3e73f1c0670cfb0a_MG_R_CC_ANON__fos_glcm.csv', '53582656_465aa5ec1b59efc6_MG_L_ML_ANON__fos_glcm.csv', '53582683_465aa5ec1b59efc6_MG_L_CC_ANON__fos_glcm.csv', '53582710_465aa5ec1b59efc6_MG_R_ML_ANON__fos_glcm.csv', '53582737_465aa5ec1b59efc6_MG_L_ML_ANON__fos_glcm.csv', '53582764_465aa5ec1b59efc6_MG_R_ML_ANON__fos_glcm.csv', '53582791_465aa5ec1b59efc6_MG_L_CC_ANON__fos_glcm.csv', '53582818_465aa5ec1b59efc6_MG_R_CC_ANON__fos_glcm.csv', '53586361_dda3c6969a34ff8e_MG_L_ML_ANON__fos_glcm.csv', '53586388_dda3c6969a34ff8e_MG_R_ML_ANON__fos_glcm.csv', '53586415_dda3c6969a34ff8e_MG_L_CC_ANON__fos_glcm.csv', '53586442_dda3c6969a34ff8e_MG_R_CC_ANON__fos_glcm.csv', '53586724_e5f3f68b9ce31228_MG_L_ML_ANON__fos_glcm.csv', '53586751_e5f3f68b9ce31228_MG_R_ML_ANON__fos_glcm.csv', '53586778_e5f3f68b9ce31228_MG_L_CC_ANON__fos_glcm.csv', '53586805_e5f3f68b9ce31228_MG_R_CC_ANON__fos_glcm.csv', '53586869_6ac23356b912ee9b_MG_L_ML_ANON__fos_glcm.csv', '53586896_6ac23356b912ee9b_MG_L_CC_ANON__fos_glcm.csv', '53586960_809e3f43339f93c6_MG_L_ML_ANON__fos_glcm.csv', '53586987_809e3f43339f93c6_MG_R_ML_ANON__fos_glcm.csv', '53587014_809e3f43339f93c6_MG_L_CC_ANON__fos_glcm.csv', '53587041_809e3f43339f93c6_MG_R_CC_ANON__fos_glcm.csv', '53587104_7b71aa9928e6975e_MG_L_ML_ANON__fos_glcm.csv', '53587131_7b71aa9928e6975e_MG_L_CC_ANON__fos_glcm.csv', '53587427_d2befe622e188943_MG_L_ML_ANON__fos_glcm.csv', '53587454_d2befe622e188943_MG_R_ML_ANON__fos_glcm.csv', '53587481_d2befe622e188943_MG_L_CC_ANON__fos_glcm.csv', '53587508_d2befe622e188943_MG_R_CC_ANON__fos_glcm.csv', '53587572_11e6732579acf692_MG_L_ML_ANON__fos_glcm.csv', '53587599_11e6732579acf692_MG_L_CC_ANON__fos_glcm.csv', '53587663_5fb370d4c1c71974_MG_R_CC_ANON__fos_glcm.csv', '53587690_5fb370d4c1c71974_MG_L_ML_ANON__fos_glcm.csv', '53587717_5fb370d4c1c71974_MG_R_ML_ANON__fos_glcm.csv', '53587744_5fb370d4c1c71974_MG_L_CC_ANON__fos_glcm.csv']\n"
          ]
        }
      ]
    },
    {
      "cell_type": "code",
      "source": [
        "import numpy as np\n",
        "import pandas as pd\n",
        "import os\n",
        "import cv2\n",
        "#!pip install fastprogress\n",
        "from fastprogress import master_bar, progress_bar\n",
        "import gc\n",
        "import time"
      ],
      "metadata": {
        "id": "xp7BLGZhGZ_m"
      },
      "execution_count": 3,
      "outputs": []
    },
    {
      "cell_type": "code",
      "source": [
        "from google.colab.patches import cv2_imshow\n",
        "#import plt for display\n",
        "import matplotlib.pyplot as plt\n",
        "\n",
        "#go into de directory of the images\n",
        "\n",
        "# this have 3 outputs root directory, the folders in the path and the files in the path.\n",
        "# we ignore _ the two first because we are not interested in those\n",
        "_, _, images = next(os.walk(os.path.join(DATA_DIR,'images')))\n",
        "_, _, breastMasks = next(os.walk(os.path.join(DATA_DIR,'masks')))\n",
        "_, _, groundTruths = next(os.walk(os.path.join(DATA_DIR, 'groundtruths')))\n",
        "\n",
        "images.sort()\n",
        "breastMasks.sort()\n",
        "groundTruths.sort()\n",
        "\n",
        "# read numbers of normal images\n",
        "normals = []\n",
        "with open(os.path.join(DATA_DIR,'normals.txt')) as f:\n",
        "    for line in f:\n",
        "        normals.append(line[:-1])"
      ],
      "metadata": {
        "id": "jEA2DYukHSkI"
      },
      "execution_count": 4,
      "outputs": []
    },
    {
      "cell_type": "code",
      "source": [
        "# function to get connected components of the ground truth binary image\n",
        "import cv2\n",
        "\n",
        "def componentsStatsGroundTruth(matrix):\n",
        "  dict_stat = dict()\n",
        "\n",
        "  # getting the info of the components in the ground truth\n",
        "  # second value is connectivity 4 or 8\n",
        "  connectedComponentsGroundTruth = cv2.connectedComponentsWithStats(matrix, 8, cv2.CV_32S)\n",
        "\n",
        "  # Get the results\n",
        "  # The first cell is the number of labels\n",
        "  num_labels = connectedComponentsGroundTruth[0]\n",
        "  # The second cell is the label matrix\n",
        "  labels = connectedComponentsGroundTruth[1]\n",
        "  \n",
        "  \n",
        "  # The third cell is the stat matrix\n",
        "\n",
        "# if it is not register as normal\n",
        "# stat have 5 items: leftmost x coordinate,\n",
        "#                    topmost y coordinate,\n",
        "#                    horizontal size of the bounding box\n",
        "#                    vertical size of the bounding box\n",
        "#                    total area in pixels of the connected component\n",
        "\n",
        "  stats = connectedComponentsGroundTruth[2]\n",
        "  for stat in range(len(stats)):\n",
        "    dict_stat[stat] = {}\n",
        "    dict_stat[stat][\"leftmost_x\"] = stats[stat][0]\n",
        "    dict_stat[stat][\"topmost_y\"] = stats[stat][1]\n",
        "    dict_stat[stat][\"hor_size\"] = stats[stat][2]\n",
        "    dict_stat[stat][\"vert_size\"] = stats[stat][3]\n",
        "    dict_stat[stat][\"total_ares\"] = stats[stat][4]\n",
        "\n",
        "  # The fourth cell is the centroid matrix\n",
        "  dict_centroid = dict()\n",
        "  centroids = connectedComponentsGroundTruth[3]\n",
        "  for i in range(len(centroids)):\n",
        "    dict_centroid[i] = {}\n",
        "    dict_centroid[i][\"x\"] = centroids[i][0]\n",
        "    dict_centroid[i][\"y\"] = centroids[i][1]\n",
        "\n",
        "  return num_labels, labels, dict_stat, dict_centroid"
      ],
      "metadata": {
        "id": "DUEEK2OGJMfn"
      },
      "execution_count": 5,
      "outputs": []
    },
    {
      "cell_type": "code",
      "source": [
        "import pandas as pd\n",
        "import gc\n",
        "import json\n",
        "from skimage.measure import label, regionprops\n",
        "\n",
        "def create_groundTruthStatsFile(groundTruths):\n",
        "\n",
        "  gTComponents = pd.DataFrame()\n",
        "  flag = True\n",
        "\n",
        "  for groundTruth in groundTruths:\n",
        "\n",
        "    gTComponents = pd.DataFrame()\n",
        "\n",
        "    imgGroundTruth = cv2.imread(os.path.join(DATA_DIR, 'groundtruths', groundTruth), cv2.IMREAD_GRAYSCALE)\n",
        "\n",
        "    blobs = imgGroundTruth > 0.7 * imgGroundTruth.mean() #Thresholding the backgroudnd\n",
        "    blobs_labels, count = label(blobs, background=0, return_num=True) #Getting labels of the connected components and the amount of them without considering the count\n",
        "\n",
        "\n",
        "    # https://scikit-image.org/docs/stable/api/skimage.measure.html#skimage.measure.regionprops   \n",
        "    # regionprops give us back a lot of properties including area and centroids\n",
        "    props = regionprops(blobs_labels)\n",
        "    centroids = []\n",
        "    areas = []\n",
        "    for prop in props:\n",
        "      centroids.append(prop.centroid)\n",
        "      areas.append(prop.area)\n",
        "\n",
        "    gTComponents['centroids'] = [centroids]\n",
        "    gTComponents['area'] = [areas]\n",
        "    gTComponents['num_labels'] = count\n",
        "    gTComponents['name'] = groundTruth\n",
        "\n",
        "    if(flag):\n",
        "      gTComponents.to_csv(os.path.join('/content',\n",
        "                                  'drive',\n",
        "                                  'MyDrive',\n",
        "                                  'Results',\n",
        "                                  'groundTruthStatsFinal.csv'),\n",
        "                      mode='a',\n",
        "                      index=False)\n",
        "      flag = False\n",
        "    else:\n",
        "      gTComponents.to_csv(os.path.join('/content',\n",
        "                                  'drive',\n",
        "                                  'MyDrive',\n",
        "                                  'Results',\n",
        "                                  'groundTruthStatsFinal.csv'),\n",
        "                    mode='a',\n",
        "                    header=False,\n",
        "                    index=False)\n",
        "    \n",
        "    del areas, centroids, props\n",
        "    gc.collect()\n",
        "  \n",
        "  return\n"
      ],
      "metadata": {
        "id": "sk72TQrHIGS5"
      },
      "execution_count": 6,
      "outputs": []
    },
    {
      "cell_type": "code",
      "source": [
        "# create_groundTruthStatsFile(groundTruths)"
      ],
      "metadata": {
        "id": "9q49SFiOS9PE"
      },
      "execution_count": 7,
      "outputs": []
    },
    {
      "cell_type": "code",
      "source": [
        "results_file[0]"
      ],
      "metadata": {
        "colab": {
          "base_uri": "https://localhost:8080/",
          "height": 36
        },
        "id": "Fnl8k0br1wzy",
        "outputId": "c37165f4-34dd-4085-d981-1adb6f1233a7"
      },
      "execution_count": 8,
      "outputs": [
        {
          "output_type": "execute_result",
          "data": {
            "text/plain": [
              "'20586908_6c613a14b80a8591_MG_R_CC_ANON__fos_glcm.csv'"
            ],
            "application/vnd.google.colaboratory.intrinsic+json": {
              "type": "string"
            }
          },
          "metadata": {},
          "execution_count": 8
        }
      ]
    },
    {
      "cell_type": "code",
      "source": [
        "import pandas as pd\n",
        "import gc\n",
        "import json\n",
        "from skimage.measure import label, regionprops\n",
        "\n",
        "\n",
        "path = RESULTS_FILES_DIR\n",
        "\n",
        "for result in progress_bar(results_file):\n",
        "  try:\n",
        "    df = pd.read_csv(path+'/'+result)\n",
        "    print(len(df))\n",
        "  except:\n",
        "    print(\"Empty file \", result)\n",
        "\n",
        "  df_positives = df.loc[df.label == 1]\n",
        "  print('positives', len(df_positives))\n",
        "  df_new = pd.DataFrame()\n",
        "  if 'glcm' in pipeFolder:\n",
        "    df_step = 1\n",
        "  else:\n",
        "    df_step = 7\n",
        "  for i in range(0, len(df_positives), df_step):\n",
        "    top = int(df_positives.iloc[i]['y'] -7)\n",
        "    bottom = int(df_positives.iloc[i]['y'] +7)\n",
        "    left = int(df_positives.iloc[i]['x'] -7)\n",
        "    right = int(df_positives.iloc[i]['x'] +7)\n",
        "    \n",
        "    imgGroundTruth = cv2.imread(os.path.join(DATA_DIR, 'groundtruths', result.split('.')[0][: 38]+'.tif'), cv2.IMREAD_GRAYSCALE)\n",
        "    blobs = imgGroundTruth > 0.7 * imgGroundTruth.mean() #Thresholding the background\n",
        "    blobs_labels, count = label(blobs, background=0, return_num=True) #Getting labels of the connected components and the amount of them without considering the background\n",
        "    props = regionprops(blobs_labels)\n",
        "    \n",
        "    roi = blobs_labels[top:bottom, left:right]\n",
        "    nonzero = cv2.countNonZero(roi)\n",
        "\n",
        "    if nonzero > 0: # unnecessary if label is 1 it will always be true\n",
        "      # https://scikit-image.org/docs/stable/api/skimage.measure.html#skimage.measure.regionprops\n",
        "      count = 0\n",
        "      matching_labels = [i for i in np.unique(roi) if i != 0]# not take into account background\n",
        "      \n",
        "      for match in matching_labels:\n",
        "        if props[match-1].area > np.floor(np.pi*(15/2.0)**2):\n",
        "          count+=1\n",
        "      if count == len(matching_labels):\n",
        "        # all matches correspond to big calcifications \n",
        "        print('Area too big... ignored')\n",
        "      else:\n",
        "        # match != count, if at less one is not big. it will keep the candidate\n",
        "        df_new = df_new.append(df_positives.iloc[ i:i+df_step,:])\n",
        "    else:\n",
        "      print(\"NONZERO ALERT YOU SHOULD NOT BE READING THIS\")\n",
        "  \n",
        "  df_final = df.loc[df.label == 0].append(df_new)\n",
        "  print(len(df_final))\n",
        "\n",
        "  df_final.to_csv(os.path.join(RESULTS_DIR, pipeFolder+\"+CorrectedLabels\", result), index=False)\n"
      ],
      "metadata": {
        "id": "iKhu2OjNTrpw"
      },
      "execution_count": null,
      "outputs": []
    },
    {
      "cell_type": "code",
      "source": [
        ""
      ],
      "metadata": {
        "id": "RtM7a1ZpkkS6"
      },
      "execution_count": null,
      "outputs": []
    }
  ]
}