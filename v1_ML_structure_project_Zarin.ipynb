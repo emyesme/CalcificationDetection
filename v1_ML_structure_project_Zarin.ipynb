{
  "nbformat": 4,
  "nbformat_minor": 0,
  "metadata": {
    "colab": {
      "name": "v1_ML_structure_project_Zarin.ipynb",
      "provenance": [],
      "collapsed_sections": [],
      "include_colab_link": true
    },
    "kernelspec": {
      "name": "python3",
      "display_name": "Python 3"
    },
    "language_info": {
      "name": "python"
    }
  },
  "cells": [
    {
      "cell_type": "markdown",
      "metadata": {
        "id": "view-in-github",
        "colab_type": "text"
      },
      "source": [
        "<a href=\"https://colab.research.google.com/github/emyesme/CalcificationDetection/blob/Zarin/v1_ML_structure_project_Zarin.ipynb\" target=\"_parent\"><img src=\"https://colab.research.google.com/assets/colab-badge.svg\" alt=\"Open In Colab\"/></a>"
      ]
    },
    {
      "cell_type": "code",
      "execution_count": 323,
      "metadata": {
        "colab": {
          "base_uri": "https://localhost:8080/"
        },
        "id": "-dd477p2erqy",
        "outputId": "7b4d434b-aca0-4fe0-f7b9-68aaffd01edf"
      },
      "outputs": [
        {
          "output_type": "stream",
          "name": "stdout",
          "text": [
            "Drive already mounted at /content/drive; to attempt to forcibly remount, call drive.mount(\"/content/drive\", force_remount=True).\n"
          ]
        }
      ],
      "source": [
        "from google.colab import drive\n",
        "\n",
        "# This will prompt for authorization.\n",
        "drive.mount('/content/drive')"
      ]
    },
    {
      "cell_type": "code",
      "source": [
        "import os \n",
        "\n",
        "#first put a shortcut in your drive to the image processing folder\n",
        "\n",
        "DATA_DIR = os.path.join('/content',\n",
        "                        'drive',\n",
        "                        'MyDrive',\n",
        "                        'Results',\n",
        "                        'dehazingDarkChannelGuidedFilter+DoH+GLCM')\n",
        "\n",
        "# Pipeline 1 'dehazingDarkChannelGuidedFilter+DoH+GLCM'\n",
        "# Pipeline 2 'dehazingDarkGuidedFilter+dilation+DoH+(Haar+GLCM)'\n",
        "\n",
        "print(os.listdir(DATA_DIR))\n",
        "\n",
        "results_file = os.listdir(DATA_DIR)"
      ],
      "metadata": {
        "colab": {
          "base_uri": "https://localhost:8080/"
        },
        "id": "nDRr9M44sYxK",
        "outputId": "57450908-6d93-4c75-f8a5-ac6e60871a4e"
      },
      "execution_count": 324,
      "outputs": [
        {
          "output_type": "stream",
          "name": "stdout",
          "text": [
            "['20586908_6c613a14b80a8591_MG_R_CC_ANON_features.csv', '20586934_6c613a14b80a8591_MG_L_CC_ANON_features.csv', '20586960_6c613a14b80a8591_MG_R_ML_ANON_features.csv', '20586986_6c613a14b80a8591_MG_L_ML_ANON_features.csv', '20587054_b6a4f750c6df4f90_MG_R_CC_ANON_features.csv', '20587080_b6a4f750c6df4f90_MG_R_ML_ANON_features.csv', '20587148_fd746d25eb40b3dc_MG_R_CC_ANON_features.csv', '20587174_fd746d25eb40b3dc_MG_L_CC_ANON_features.csv', '20587200_fd746d25eb40b3dc_MG_R_ML_ANON_features.csv', '20587226_fd746d25eb40b3dc_MG_L_ML_ANON_features.csv', '20587294_e634830794f5c1bd_MG_R_CC_ANON_features.csv', '20587320_e634830794f5c1bd_MG_L_CC_ANON_features.csv', '20587346_e634830794f5c1bd_MG_R_ML_ANON_features.csv', '20587372_e634830794f5c1bd_MG_L_ML_ANON_features.csv', '20587466_d571b5880ad2a016_MG_L_CC_ANON_features.csv', '20587492_d571b5880ad2a016_MG_R_ML_ANON_features.csv', '20587518_d571b5880ad2a016_MG_L_ML_ANON_features.csv', '20587544_d571b5880ad2a016_MG_R_CC_ANON_features.csv', '20587612_f4b2d377f43ba0bd_MG_R_CC_ANON_features.csv', '20587638_f4b2d377f43ba0bd_MG_L_CC_ANON_features.csv', '20587664_f4b2d377f43ba0bd_MG_R_ML_ANON_features.csv', '20587690_f4b2d377f43ba0bd_MG_L_ML_ANON_features.csv', '20587758_81cd83d2f4d78528_MG_L_CC_ANON_features.csv', '20587784_81cd83d2f4d78528_MG_R_ML_ANON_features.csv', '20587810_81cd83d2f4d78528_MG_L_ML_ANON_features.csv', '20587836_81cd83d2f4d78528_MG_R_CC_ANON_features.csv', '20587902_8dbbd4e51f549ff0_MG_R_CC_ANON_features.csv', '20587928_8dbbd4e51f549ff0_MG_R_ML_ANON_features.csv', '20587994_024ee3569b2605dc_MG_R_CC_ANON_features.csv', '20588020_024ee3569b2605dc_MG_L_CC_ANON_features.csv', '20588046_024ee3569b2605dc_MG_R_ML_ANON_features.csv', '20588072_024ee3569b2605dc_MG_L_ML_ANON_features.csv', '20588138_8d0b9620c53c0268_MG_R_ML_ANON_features.csv', '20588164_8d0b9620c53c0268_MG_R_CC_ANON_features.csv', '20588216_8d0b9620c53c0268_MG_L_ML_ANON_features.csv', '20588308_493155e17143edef_MG_L_ML_ANON_features.csv', '20588458_bf1a6aaadb05e3df_MG_R_CC_ANON_features.csv', '20588510_bf1a6aaadb05e3df_MG_R_ML_ANON_features.csv', '20588536_bf1a6aaadb05e3df_MG_L_ML_ANON_features.csv', '20588562_bf1a6aaadb05e3df_MG_L_CC_ANON_features.csv', '20588654_036aff49b8ac84f0_MG_R_ML_ANON_features.csv', '20588680_036aff49b8ac84f0_MG_L_ML_ANON_features.csv', '22427682_d713ef5849f98b6c_MG_R_CC_ANON_features.csv', '22427705_d713ef5849f98b6c_MG_L_CC_ANON_features.csv', '22427728_d713ef5849f98b6c_MG_R_ML_ANON_features.csv', '22427751_d713ef5849f98b6c_MG_L_ML_ANON_features.csv', '22427840_bbd6a3a35438c11b_MG_R_CC_ANON_features.csv', '22427864_bbd6a3a35438c11b_MG_L_CC_ANON_features.csv', '22579730_bbd6a3a35438c11b_MG_R_ML_ANON_features.csv', '22579754_bbd6a3a35438c11b_MG_L_ML_ANON_features.csv', '22579847_301f1776aebbf5d2_MG_R_CC_ANON_features.csv', '22579870_301f1776aebbf5d2_MG_L_CC_ANON_features.csv', '22579893_301f1776aebbf5d2_MG_R_ML_ANON_features.csv', '22579916_301f1776aebbf5d2_MG_L_ML_ANON_features.csv', '22580015_6200187f3f1ccc18_MG_R_CC_ANON_features.csv', '22580038_6200187f3f1ccc18_MG_L_CC_ANON_features.csv', '22580068_6200187f3f1ccc18_MG_R_ML_ANON_features.csv', '22580098_6200187f3f1ccc18_MG_L_ML_ANON_features.csv', '22580192_5530d5782fc89dd7_MG_R_CC_ANON_features.csv', '22580218_5530d5782fc89dd7_MG_L_CC_ANON_features.csv', '22580244_5530d5782fc89dd7_MG_R_ML_ANON_features.csv', '22580270_5530d5782fc89dd7_MG_L_ML_ANON_features.csv', '22580341_5eae9beae14d26fd_MG_R_CC_ANON_features.csv', '22580367_5eae9beae14d26fd_MG_L_CC_ANON_features.csv', '22580419_5eae9beae14d26fd_MG_L_ML_ANON_features.csv', '22580492_2a5b932da4ce5ca1_MG_R_CC_ANON_features.csv', '22580520_2a5b932da4ce5ca1_MG_L_CC_ANON_features.csv', '22580548_2a5b932da4ce5ca1_MG_R_ML_ANON_features.csv', '22580576_2a5b932da4ce5ca1_MG_L_ML_ANON_features.csv', '22580654_fe7d005dcbbfb46d_MG_R_CC_ANON_features.csv', '22580680_fe7d005dcbbfb46d_MG_L_CC_ANON_features.csv', '22580706_fe7d005dcbbfb46d_MG_R_ML_ANON_features.csv', '22580732_fe7d005dcbbfb46d_MG_L_ML_ANON_features.csv', '22613624_dcafa6ba6374ec07_MG_R_CC_ANON_features.csv', '22613650_dcafa6ba6374ec07_MG_L_CC_ANON_features.csv', '22613676_dcafa6ba6374ec07_MG_R_ML_ANON_features.csv', '22613702_dcafa6ba6374ec07_MG_L_ML_ANON_features.csv', '22613770_45c7f44839fd9e68_MG_R_CC_ANON_features.csv', '22613796_45c7f44839fd9e68_MG_L_CC_ANON_features.csv', '22613822_45c7f44839fd9e68_MG_R_ML_ANON_features.csv', '22613848_45c7f44839fd9e68_MG_L_ML_ANON_features.csv', '22613918_f23fa352e7de3dc7_MG_R_CC_ANON_features.csv', '22613944_f23fa352e7de3dc7_MG_L_CC_ANON_features.csv', '22613970_f23fa352e7de3dc7_MG_R_ML_ANON_features.csv', '22613996_f23fa352e7de3dc7_MG_L_ML_ANON_features.csv', '22614074_6bd24a0a42c19ce1_MG_R_CC_ANON_features.csv', '22614097_6bd24a0a42c19ce1_MG_L_CC_ANON_features.csv', '22614127_6bd24a0a42c19ce1_MG_R_ML_ANON_features.csv', '22614150_6bd24a0a42c19ce1_MG_L_ML_ANON_features.csv', '22614236_1e5c3af078f74b05_MG_L_CC_ANON_features.csv', '22614266_1e5c3af078f74b05_MG_L_ML_ANON_features.csv', '22614353_d065adcb9905b973_MG_R_CC_ANON_features.csv', '22614379_d065adcb9905b973_MG_L_CC_ANON_features.csv', '22614405_d065adcb9905b973_MG_R_ML_ANON_features.csv', '22614431_d065adcb9905b973_MG_L_ML_ANON_features.csv', '22614499_2dec4948fbe6336d_MG_R_CC_ANON_features.csv', '22614522_2dec4948fbe6336d_MG_L_CC_ANON_features.csv', '22614545_2dec4948fbe6336d_MG_R_ML_ANON_features.csv', '22614568_2dec4948fbe6336d_MG_L_ML_ANON_features.csv', '22670094_e1f51192f7bf3f5f_MG_R_CC_ANON_features.csv', '22670124_e1f51192f7bf3f5f_MG_L_CC_ANON_features.csv', '22670147_e1f51192f7bf3f5f_MG_R_ML_ANON_features.csv', '22670177_e1f51192f7bf3f5f_MG_L_ML_ANON_features.csv', '22670278_98429c0bdf78c0c7_MG_R_CC_ANON_features.csv', '22670301_98429c0bdf78c0c7_MG_L_CC_ANON_features.csv', '22670324_98429c0bdf78c0c7_MG_R_ML_ANON_features.csv', '22670347_98429c0bdf78c0c7_MG_L_ML_ANON_features.csv', '22670442_7e677f3d530e41ed_MG_R_CC_ANON_features.csv', '22670465_7e677f3d530e41ed_MG_L_CC_ANON_features.csv', '22670488_7e677f3d530e41ed_MG_R_ML_ANON_features.csv', '22670511_7e677f3d530e41ed_MG_L_ML_ANON_features.csv', '22670620_e15a16f87b4f9782_MG_R_CC_ANON_features.csv', '22670643_e15a16f87b4f9782_MG_L_CC_ANON_features.csv', '22670673_e15a16f87b4f9782_MG_R_ML_ANON_features.csv', '22670703_e15a16f87b4f9782_MG_L_ML_ANON_features.csv', '22670809_0b7396cdccacca82_MG_R_CC_ANON_features.csv', '22670832_0b7396cdccacca82_MG_L_CC_ANON_features.csv', '22670855_0b7396cdccacca82_MG_R_ML_ANON_features.csv', '22670878_0b7396cdccacca82_MG_L_ML_ANON_features.csv', '22670978_f571fd4e63c718e3_MG_L_CC_ANON_features.csv', '22671003_f571fd4e63c718e3_MG_L_ML_ANON_features.csv', '22678449_60995d51033e24b8_MG_R_CC_ANON_features.csv', '22678472_60995d51033e24b8_MG_L_CC_ANON_features.csv', '22678495_60995d51033e24b8_MG_R_ML_ANON_features.csv', '22678518_60995d51033e24b8_MG_L_ML_ANON_features.csv', '22678622_61b13c59bcba149e_MG_R_CC_ANON_features.csv', '22678646_61b13c59bcba149e_MG_L_CC_ANON_features.csv', '22678670_61b13c59bcba149e_MG_R_ML_ANON_features.csv', '22678787_64a22c47765f0c5c_MG_R_CC_ANON_features.csv', '22678810_64a22c47765f0c5c_MG_L_CC_ANON_features.csv', '22678833_64a22c47765f0c5c_MG_R_ML_ANON_features.csv', '22678856_64a22c47765f0c5c_MG_L_ML_ANON_features.csv', '22678953_b9a4da5f2dae63a9_MG_R_CC_ANON_features.csv', '22678980_b9a4da5f2dae63a9_MG_L_CC_ANON_features.csv', '22679008_b9a4da5f2dae63a9_MG_R_ML_ANON_features.csv', '22679036_b9a4da5f2dae63a9_MG_L_ML_ANON_features.csv', '24054997_2f1104b3cda7f145_MG_L_ML_ANON_features.csv', '24055024_2f1104b3cda7f145_MG_R_ML_ANON_features.csv', '24055149_606e9b184978a350_MG_L_ML_ANON_features.csv', '24055176_606e9b184978a350_MG_R_ML_ANON_features.csv', '24055203_606e9b184978a350_MG_L_CC_ANON_features.csv', '24055274_1e10aef17c9fe149_MG_L_ML_ANON_features.csv', '24055355_1e10aef17c9fe149_MG_L_CC_ANON_features.csv', '24055382_1e10aef17c9fe149_MG_R_CC_ANON_features.csv', '24055464_ac3185e18ffdc7b6_MG_R_ML_ANON_features.csv', '24055483_ac3185e18ffdc7b6_MG_L_CC_ANON_features.csv', '24055502_ac3185e18ffdc7b6_MG_R_CC_ANON_features.csv', '24055573_6f1aef40b3775182_MG_L_ML_ANON_features.csv', '24055600_6f1aef40b3775182_MG_R_ML_ANON_features.csv', '24055627_6f1aef40b3775182_MG_L_CC_ANON_features.csv', '24055654_6f1aef40b3775182_MG_R_CC_ANON_features.csv', '24055725_f0f1a133837b5137_MG_L_ML_ANON_features.csv', '24055752_f0f1a133837b5137_MG_R_ML_ANON_features.csv', '24055779_f0f1a133837b5137_MG_L_CC_ANON_features.csv', '24055806_f0f1a133837b5137_MG_R_CC_ANON_features.csv', '24055877_839819f2eadaf325_MG_L_ML_ANON_features.csv', '24055904_839819f2eadaf325_MG_R_ML_ANON_features.csv', '24055931_839819f2eadaf325_MG_L_CC_ANON_features.csv', '24055958_839819f2eadaf325_MG_R_CC_ANON_features.csv', '24058660_9e8db9e34d5275ef_MG_R_CC_ANON_features.csv', '24058686_9e8db9e34d5275ef_MG_L_CC_ANON_features.csv', '24058712_9e8db9e34d5275ef_MG_R_ML_ANON_features.csv', '24058738_9e8db9e34d5275ef_MG_L_ML_ANON_features.csv', '24065251_c4b995eddb3c510c_MG_L_ML_ANON_features.csv', '24065270_c4b995eddb3c510c_MG_R_ML_ANON_features.csv', '24065289_c4b995eddb3c510c_MG_L_CC_ANON_features.csv', '24065308_c4b995eddb3c510c_MG_R_CC_ANON_features.csv', '24065380_83db89f57aea498a_MG_L_ML_ANON_features.csv', '24065407_83db89f57aea498a_MG_R_ML_ANON_features.csv', '24065434_83db89f57aea498a_MG_L_CC_ANON_features.csv', '24065461_83db89f57aea498a_MG_R_CC_ANON_features.csv', '24065530_d8205a09c8173f44_MG_L_ML_ANON_features.csv', '24065557_d8205a09c8173f44_MG_R_ML_ANON_features.csv', '24065584_d8205a09c8173f44_MG_L_CC_ANON_features.csv', '24065611_d8205a09c8173f44_MG_R_CC_ANON_features.csv', '24065680_5291e1aee2bbf5df_MG_L_ML_ANON_features.csv', '24065707_5291e1aee2bbf5df_MG_R_ML_ANON_features.csv', '24065734_5291e1aee2bbf5df_MG_L_CC_ANON_features.csv', '24065761_5291e1aee2bbf5df_MG_R_CC_ANON_features.csv', '24065833_c01f83a1eb283270_MG_L_ML_ANON_features.csv', '24065860_c01f83a1eb283270_MG_R_ML_ANON_features.csv', '24065887_c01f83a1eb283270_MG_L_CC_ANON_features.csv', '26933772_f8bfddc28e8045c0_MG_R_CC_ANON_features.csv', '26933801_f8bfddc28e8045c0_MG_L_CC_ANON_features.csv', '26933830_f8bfddc28e8045c0_MG_R_ML_ANON_features.csv', '26933859_f8bfddc28e8045c0_MG_L_ML_ANON_features.csv', '27829134_fbb55bf7fff48540_MG_R_CC_ANON_features.csv', '27829161_fbb55bf7fff48540_MG_L_CC_ANON_features.csv', '27829188_fbb55bf7fff48540_MG_R_ML_ANON_features.csv', '27829215_fbb55bf7fff48540_MG_L_ML_ANON_features.csv', '30011484_349323117bf0fd93_MG_R_CC_ANON_features.csv', '30011507_349323117bf0fd93_MG_L_CC_ANON_features.csv', '30011530_349323117bf0fd93_MG_R_ML_ANON_features.csv', '30011553_349323117bf0fd93_MG_L_ML_ANON_features.csv', '30011647_6968748e66837bc7_MG_R_CC_ANON_features.csv', '30011674_6968748e66837bc7_MG_L_CC_ANON_features.csv', '30011700_6968748e66837bc7_MG_R_ML_ANON_features.csv', '30011727_6968748e66837bc7_MG_L_ML_ANON_features.csv', '30011798_4f20c1285d8f0b1f_MG_R_CC_ANON_features.csv', '30011824_4f20c1285d8f0b1f_MG_L_CC_ANON_features.csv', '30011850_4f20c1285d8f0b1f_MG_R_ML_ANON_features.csv', '30318067_4f20c1285d8f0b1f_MG_L_ML_ANON_features.csv', '50993399_5d85ecc9cf26b254_MG_L_ML_ANON_features.csv', '50993426_5d85ecc9cf26b254_MG_L_CC_ANON_features.csv', '50993616_b03f1dd34eb3c55f_MG_L_ML_ANON_features.csv', '50993643_b03f1dd34eb3c55f_MG_L_CC_ANON_features.csv', '50993670_b03f1dd34eb3c55f_MG_L_ML_ANON_features.csv', '50993697_b03f1dd34eb3c55f_MG_L_CC_ANON_features.csv', '50993787_de5e8d61e501a71b_MG_L_ML_ANON_features.csv', '50993814_de5e8d61e501a71b_MG_R_ML_ANON_features.csv', '50993841_de5e8d61e501a71b_MG_L_CC_ANON_features.csv', '50993868_de5e8d61e501a71b_MG_R_CC_ANON_features.csv', '50993895_de5e8d61e501a71b_MG_L_ML_ANON_features.csv', '50993922_de5e8d61e501a71b_MG_R_ML_ANON_features.csv', '50993949_de5e8d61e501a71b_MG_L_CC_ANON_features.csv', '50993976_de5e8d61e501a71b_MG_R_CC_ANON_features.csv', '50994110_cc9e66c5b31baab8_MG_L_ML_ANON_features.csv', '50994137_cc9e66c5b31baab8_MG_R_ML_ANON_features.csv', '50994164_cc9e66c5b31baab8_MG_L_CC_ANON_features.csv', '50994191_cc9e66c5b31baab8_MG_R_CC_ANON_features.csv', '50994273_cc9e66c5b31baab8_MG_R_CC_ANON_features.csv', '50994327_cc9e66c5b31baab8_MG_L_ML_ANON_features.csv', '50994354_cc9e66c5b31baab8_MG_R_ML_ANON_features.csv', '50994381_cc9e66c5b31baab8_MG_L_CC_ANON_features.csv', '50994408_cc9e66c5b31baab8_MG_R_CC_ANON_features.csv', '50994535_de4c34099d6ef8de_MG_R_ML_ANON_features.csv', '50994562_de4c34099d6ef8de_MG_R_CC_ANON_features.csv', '50994589_de4c34099d6ef8de_MG_R_ML_ANON_features.csv', '50994616_de4c34099d6ef8de_MG_R_CC_ANON_features.csv', '50994706_069212ec65a94339_MG_R_CC_ANON_features.csv', '50994733_069212ec65a94339_MG_L_ML_ANON_features.csv', '50994760_069212ec65a94339_MG_R_ML_ANON_features.csv', '50994787_069212ec65a94339_MG_L_CC_ANON_features.csv', '50994814_069212ec65a94339_MG_L_ML_ANON_features.csv', '50994841_069212ec65a94339_MG_R_ML_ANON_features.csv', '50994868_069212ec65a94339_MG_L_CC_ANON_features.csv', '50994895_069212ec65a94339_MG_R_CC_ANON_features.csv', '50995762_0c735e8768d276b4_MG_R_ML_ANON_features.csv', '50995789_0c735e8768d276b4_MG_R_CC_ANON_features.csv', '50995872_c94d8a1ebd452afe_MG_L_ML_ANON_features.csv', '50995899_c94d8a1ebd452afe_MG_L_CC_ANON_features.csv', '50995963_d742ec2f9b90aa62_MG_L_ML_ANON_features.csv', '50995990_d742ec2f9b90aa62_MG_L_CC_ANON_features.csv', '50996056_71c1a60d57c5322f_MG_L_ML_ANON_features.csv', '50996083_71c1a60d57c5322f_MG_R_ML_ANON_features.csv', '50996110_71c1a60d57c5322f_MG_L_CC_ANON_features.csv', '50996137_71c1a60d57c5322f_MG_R_CC_ANON_features.csv', '50996201_8c1b2bd64ca4d778_MG_L_ML_ANON_features.csv', '50996228_8c1b2bd64ca4d778_MG_L_CC_ANON_features.csv', '50996325_6aba0b402889a16f_MG_L_ML_ANON_features.csv', '50996352_6aba0b402889a16f_MG_R_ML_ANON_features.csv', '50996379_6aba0b402889a16f_MG_L_CC_ANON_features.csv', '50996406_6aba0b402889a16f_MG_R_CC_ANON_features.csv', '50996709_330e5fe16929eed4_MG_R_ML_ANON_features.csv', '50996736_330e5fe16929eed4_MG_R_CC_ANON_features.csv', '50996800_fdf4a1516f88b280_MG_L_ML_ANON_features.csv', '50996827_fdf4a1516f88b280_MG_R_ML_ANON_features.csv', '50996854_fdf4a1516f88b280_MG_L_CC_ANON_features.csv', '50996881_fdf4a1516f88b280_MG_R_CC_ANON_features.csv', '50996945_ce5e5e18a261cd29_MG_L_ML_ANON_features.csv', '50996972_ce5e5e18a261cd29_MG_R_ML_ANON_features.csv', '50996999_ce5e5e18a261cd29_MG_L_CC_ANON_features.csv', '50997026_ce5e5e18a261cd29_MG_R_CC_ANON_features.csv', '50997053_ce5e5e18a261cd29_MG_L_CC_ANON_features.csv', '50997080_ce5e5e18a261cd29_MG_L_ML_ANON_features.csv', '50997107_ce5e5e18a261cd29_MG_R_ML_ANON_features.csv', '50997134_ce5e5e18a261cd29_MG_R_CC_ANON_features.csv', '50997223_9054942f7be52dd9_MG_L_ML_ANON_features.csv', '50997250_9054942f7be52dd9_MG_R_ML_ANON_features.csv', '50997277_9054942f7be52dd9_MG_L_CC_ANON_features.csv', '50997304_9054942f7be52dd9_MG_R_CC_ANON_features.csv', '50997434_97ec8cadfca70d32_MG_L_ML_ANON_features.csv', '50997461_97ec8cadfca70d32_MG_R_ML_ANON_features.csv', '50997488_97ec8cadfca70d32_MG_L_CC_ANON_features.csv', '50997515_97ec8cadfca70d32_MG_R_CC_ANON_features.csv', '50997597_67cc8c9939d74a9a_MG_L_ML_ANON_features.csv', '50997624_67cc8c9939d74a9a_MG_R_ML_ANON_features.csv', '50997651_67cc8c9939d74a9a_MG_L_CC_ANON_features.csv', '50997678_67cc8c9939d74a9a_MG_R_CC_ANON_features.csv', '50997742_cbb6c98a81e69eeb_MG_L_ML_ANON_features.csv', '50997769_cbb6c98a81e69eeb_MG_R_ML_ANON_features.csv', '50997796_cbb6c98a81e69eeb_MG_L_CC_ANON_features.csv', '50997823_cbb6c98a81e69eeb_MG_R_CC_ANON_features.csv', '50998032_66adfbb4f19c76d2_MG_R_CC_ANON_features.csv', '50998059_66adfbb4f19c76d2_MG_L_ML_ANON_features.csv', '50998086_66adfbb4f19c76d2_MG_R_ML_ANON_features.csv', '50998113_66adfbb4f19c76d2_MG_L_CC_ANON_features.csv', '50998177_f34ee0ab6591b792_MG_L_ML_ANON_features.csv', '50998204_f34ee0ab6591b792_MG_R_ML_ANON_features.csv', '50998231_f34ee0ab6591b792_MG_L_CC_ANON_features.csv', '50998258_f34ee0ab6591b792_MG_R_CC_ANON_features.csv', '50998322_1e4b534393d18753_MG_R_ML_ANON_features.csv', '50998413_1f139436acfc5467_MG_L_ML_ANON_features.csv', '50998440_1f139436acfc5467_MG_R_ML_ANON_features.csv', '50998467_1f139436acfc5467_MG_L_CC_ANON_features.csv', '50998494_1f139436acfc5467_MG_R_CC_ANON_features.csv', '50998580_cd12bc20b3d27d0b_MG_L_ML_ANON_features.csv', '50998607_cd12bc20b3d27d0b_MG_R_ML_ANON_features.csv', '50998634_cd12bc20b3d27d0b_MG_L_CC_ANON_features.csv', '50998661_cd12bc20b3d27d0b_MG_R_CC_ANON_features.csv', '50998981_a78eba834ef6ee88_MG_R_ML_ANON_features.csv', '50999008_a78eba834ef6ee88_MG_R_CC_ANON_features.csv', '50999094_cb65e8dac169f596_MG_L_ML_ANON_features.csv', '50999121_cb65e8dac169f596_MG_R_ML_ANON_features.csv', '50999148_cb65e8dac169f596_MG_L_CC_ANON_features.csv', '50999175_cb65e8dac169f596_MG_R_CC_ANON_features.csv', '50999246_cb65e8dac169f596_MG_L_ML_ANON_features.csv', '50999273_cb65e8dac169f596_MG_R_ML_ANON_features.csv', '50999300_cb65e8dac169f596_MG_L_CC_ANON_features.csv', '50999327_cb65e8dac169f596_MG_R_CC_ANON_features.csv', '50999432_f62fbf38fb208316_MG_L_ML_ANON_features.csv', '50999459_f62fbf38fb208316_MG_L_CC_ANON_features.csv', '51048738_3f22cdda8da215e3_MG_R_ML_ANON_features.csv', '51048765_3f22cdda8da215e3_MG_R_CC_ANON_features.csv', '51048891_f3e93e889a7746f0_MG_L_ML_ANON_features.csv', '51048918_f3e93e889a7746f0_MG_R_ML_ANON_features.csv', '51048945_f3e93e889a7746f0_MG_L_CC_ANON_features.csv', '51048972_f3e93e889a7746f0_MG_R_CC_ANON_features.csv', '51049053_8c105bb715bf1c3c_MG_L_ML_ANON_features.csv', '51049080_8c105bb715bf1c3c_MG_R_ML_ANON_features.csv', '51049107_8c105bb715bf1c3c_MG_L_CC_ANON_features.csv', '51049134_8c105bb715bf1c3c_MG_R_CC_ANON_features.csv', '51049249_832ebce700241036_MG_L_CC_ANON_features.csv', '51049276_832ebce700241036_MG_L_ML_ANON_features.csv', '51049462_6f64793857feb5d0_MG_L_ML_ANON_features.csv', '51049489_6f64793857feb5d0_MG_R_ML_ANON_features.csv', '51049516_6f64793857feb5d0_MG_L_CC_ANON_features.csv', '51049543_6f64793857feb5d0_MG_R_CC_ANON_features.csv', '51049628_6f64793857feb5d0_MG_L_ML_ANON_features.csv', '51049655_6f64793857feb5d0_MG_R_ML_ANON_features.csv', '51049682_6f64793857feb5d0_MG_L_CC_ANON_features.csv', '51070197_6f64793857feb5d0_MG_R_CC_ANON_features.csv', '53580611_40e22f2e3215b954_MG_L_ML_ANON_features.csv', '53580638_40e22f2e3215b954_MG_R_ML_ANON_features.csv', '53580665_40e22f2e3215b954_MG_L_CC_ANON_features.csv', '53580692_40e22f2e3215b954_MG_R_CC_ANON_features.csv', '53580804_51bec6477a7898b9_MG_L_ML_ANON_features.csv', '53580831_51bec6477a7898b9_MG_R_ML_ANON_features.csv', '53580858_51bec6477a7898b9_MG_L_CC_ANON_features.csv', '53580885_51bec6477a7898b9_MG_R_CC_ANON_features.csv', '53580979_4c341dad22471922_MG_L_ML_ANON_features.csv', '53581006_4c341dad22471922_MG_R_ML_ANON_features.csv', '53581033_4c341dad22471922_MG_L_CC_ANON_features.csv', '53581060_4c341dad22471922_MG_R_CC_ANON_features.csv', '53581124_3be876aecfaad4ca_MG_L_ML_ANON_features.csv', '53581151_3be876aecfaad4ca_MG_L_CC_ANON_features.csv', '53581237_80123a24997098dc_MG_R_ML_ANON_features.csv', '53581264_80123a24997098dc_MG_R_CC_ANON_features.csv', '53581379_b231a8ba4dd4214f_MG_L_ML_ANON_features.csv', '53581406_b231a8ba4dd4214f_MG_R_ML_ANON_features.csv', '53581433_b231a8ba4dd4214f_MG_L_CC_ANON_features.csv', '53581460_b231a8ba4dd4214f_MG_R_CC_ANON_features.csv', '53581769_573747ee33ef6e5a_MG_L_ML_ANON_features.csv', '53581796_573747ee33ef6e5a_MG_L_CC_ANON_features.csv', '53581860_21e6cc12630e5e9f_MG_L_ML_ANON_features.csv', '53581887_21e6cc12630e5e9f_MG_R_ML_ANON_features.csv', '53581914_21e6cc12630e5e9f_MG_L_CC_ANON_features.csv', '53581941_21e6cc12630e5e9f_MG_R_CC_ANON_features.csv', '53582304_8913a7e0cf3bd74e_MG_R_ML_ANON_features.csv', '53582331_8913a7e0cf3bd74e_MG_R_CC_ANON_features.csv', '53582395_3f0db31711fc9795_MG_L_ML_ANON_features.csv', '53582422_3f0db31711fc9795_MG_R_ML_ANON_features.csv', '53582449_3f0db31711fc9795_MG_L_CC_ANON_features.csv', '53582476_3f0db31711fc9795_MG_R_CC_ANON_features.csv', '53582540_3e73f1c0670cfb0a_MG_R_ML_ANON_features.csv', '53582567_3e73f1c0670cfb0a_MG_R_CC_ANON_features.csv', '53582656_465aa5ec1b59efc6_MG_L_ML_ANON_features.csv', '53582683_465aa5ec1b59efc6_MG_L_CC_ANON_features.csv', '53582710_465aa5ec1b59efc6_MG_R_ML_ANON_features.csv', '53582737_465aa5ec1b59efc6_MG_L_ML_ANON_features.csv', '53582764_465aa5ec1b59efc6_MG_R_ML_ANON_features.csv', '53582791_465aa5ec1b59efc6_MG_L_CC_ANON_features.csv', '53582818_465aa5ec1b59efc6_MG_R_CC_ANON_features.csv', '53586361_dda3c6969a34ff8e_MG_L_ML_ANON_features.csv', '53586388_dda3c6969a34ff8e_MG_R_ML_ANON_features.csv', '53586415_dda3c6969a34ff8e_MG_L_CC_ANON_features.csv', '53586442_dda3c6969a34ff8e_MG_R_CC_ANON_features.csv', '53586724_e5f3f68b9ce31228_MG_L_ML_ANON_features.csv', '53586751_e5f3f68b9ce31228_MG_R_ML_ANON_features.csv', '53586778_e5f3f68b9ce31228_MG_L_CC_ANON_features.csv', '53586805_e5f3f68b9ce31228_MG_R_CC_ANON_features.csv', '53586869_6ac23356b912ee9b_MG_L_ML_ANON_features.csv', '53586896_6ac23356b912ee9b_MG_L_CC_ANON_features.csv', '53586960_809e3f43339f93c6_MG_L_ML_ANON_features.csv', '53586987_809e3f43339f93c6_MG_R_ML_ANON_features.csv', '53587014_809e3f43339f93c6_MG_L_CC_ANON_features.csv', '53587041_809e3f43339f93c6_MG_R_CC_ANON_features.csv', '53587104_7b71aa9928e6975e_MG_L_ML_ANON_features.csv', '53587131_7b71aa9928e6975e_MG_L_CC_ANON_features.csv', '53587427_d2befe622e188943_MG_L_ML_ANON_features.csv', '53587454_d2befe622e188943_MG_R_ML_ANON_features.csv', '53587481_d2befe622e188943_MG_L_CC_ANON_features.csv', '53587508_d2befe622e188943_MG_R_CC_ANON_features.csv', '53587572_11e6732579acf692_MG_L_ML_ANON_features.csv', '53587599_11e6732579acf692_MG_L_CC_ANON_features.csv', '53587663_5fb370d4c1c71974_MG_R_CC_ANON_features.csv', '53587690_5fb370d4c1c71974_MG_L_ML_ANON_features.csv', '53587717_5fb370d4c1c71974_MG_R_ML_ANON_features.csv', '53587744_5fb370d4c1c71974_MG_L_CC_ANON_features.csv', '24055328_1e10aef17c9fe149_MG_R_ML_ANON_features.csv']\n"
          ]
        }
      ]
    },
    {
      "cell_type": "code",
      "source": [
        "import numpy as np\n",
        "import pandas as pd\n",
        "from sklearn.datasets import load_digits\n",
        "import matplotlib.pyplot as plt\n",
        "from sklearn.preprocessing import StandardScaler\n",
        "from sklearn.svm import SVC\n",
        "from sklearn.model_selection import GridSearchCV, StratifiedKFold\n",
        "from sklearn.pipeline import Pipeline\n",
        "\n",
        "from sklearn.model_selection import train_test_split\n",
        "from sklearn.metrics import accuracy_score\n",
        "\n",
        "import numpy as np\n",
        "import pandas as pd\n",
        "import seaborn as sns\n",
        "import matplotlib.pylab as plt"
      ],
      "metadata": {
        "id": "6-OnlgGfsSdp"
      },
      "execution_count": 325,
      "outputs": []
    },
    {
      "cell_type": "code",
      "source": [
        "def read_results(path):\n",
        "  dfs= pd.DataFrame()\n",
        "  for result in results_file[3:]:\n",
        "    try:\n",
        "      df = pd.read_csv(path+'/'+result)\n",
        "      dfs = dfs.append(df)\n",
        "    except:\n",
        "      print(\"Empty file \", result)\n",
        "  return dfs"
      ],
      "metadata": {
        "id": "neMctBoMuIMD"
      },
      "execution_count": 326,
      "outputs": []
    },
    {
      "cell_type": "code",
      "source": [
        "dfs = read_results(DATA_DIR)"
      ],
      "metadata": {
        "id": "QqiYmbiz-Fbm"
      },
      "execution_count": 327,
      "outputs": []
    },
    {
      "cell_type": "code",
      "source": [
        "dfs.shape"
      ],
      "metadata": {
        "colab": {
          "base_uri": "https://localhost:8080/"
        },
        "id": "SYsZaeLIjr9M",
        "outputId": "4c5d2a05-edaf-4ed3-bda4-53a5518746ec"
      },
      "execution_count": 328,
      "outputs": [
        {
          "output_type": "execute_result",
          "data": {
            "text/plain": [
              "(7507, 26)"
            ]
          },
          "metadata": {},
          "execution_count": 328
        }
      ]
    },
    {
      "cell_type": "code",
      "source": [
        "dfs.label.value_counts()"
      ],
      "metadata": {
        "colab": {
          "base_uri": "https://localhost:8080/"
        },
        "id": "uhECN0pqcuLb",
        "outputId": "834d9fce-701d-424f-cc00-fa9928e5c923"
      },
      "execution_count": 329,
      "outputs": [
        {
          "output_type": "execute_result",
          "data": {
            "text/plain": [
              "0    5562\n",
              "1    1945\n",
              "Name: label, dtype: int64"
            ]
          },
          "metadata": {},
          "execution_count": 329
        }
      ]
    },
    {
      "cell_type": "code",
      "source": [
        "dfs.label.value_counts().idxmax()"
      ],
      "metadata": {
        "colab": {
          "base_uri": "https://localhost:8080/"
        },
        "id": "ca9v5DlHDuiz",
        "outputId": "6ad9f5f3-3886-408a-d079-8958f6cc3011"
      },
      "execution_count": 330,
      "outputs": [
        {
          "output_type": "execute_result",
          "data": {
            "text/plain": [
              "0"
            ]
          },
          "metadata": {},
          "execution_count": 330
        }
      ]
    },
    {
      "cell_type": "markdown",
      "source": [
        "# **Preprocessing**"
      ],
      "metadata": {
        "id": "OiwTtcPjrMRK"
      }
    },
    {
      "cell_type": "code",
      "source": [
        "# We will balance data randomly taking  the same amount of 0 and 1 label inputs. There are several options to manage unbalanced data,\n",
        "# this is just one approach, we should try different approaches.\n",
        "# https://towardsdatascience.com/comparing-different-classification-machine-learning-models-for-an-imbalanced-dataset-fdae1af3677f\n",
        "def rus(dfs):\n",
        "  df_0 = dfs.loc[dfs.label == dfs.label.value_counts().idxmax()].sample(min(dfs.label.value_counts()), random_state = 1)\n",
        "  dfs_eq = df_0.append(dfs.loc[dfs.label == dfs.label.value_counts().idxmin()])\n",
        "  print(\"Length of balanced data: \", len(dfs_eq))\n",
        "  return dfs_eq"
      ],
      "metadata": {
        "id": "udO3hTL2c0W7"
      },
      "execution_count": 331,
      "outputs": []
    },
    {
      "cell_type": "code",
      "source": [
        "def plotFeatures(data):\n",
        "  #plot the scatter matrix\n",
        "  pd.plotting.scatter_matrix(data,figsize=(25,25))\n",
        "  #correlation plot\n",
        "  corr = data.corr()\n",
        "  f, ax = plt.subplots(figsize=(25, 25))\n",
        "  sns.heatmap(corr,annot=True)"
      ],
      "metadata": {
        "id": "dLoDror0v6el"
      },
      "execution_count": 332,
      "outputs": []
    },
    {
      "cell_type": "code",
      "source": [
        "def standardScaler(X_train, X_test):\n",
        "  standard_scaler = preprocessing.StandardScaler()\n",
        "  X_train = standard_scaler.fit_transform(X_train)\n",
        "  X_test = standard_scaler.transform(X_test)\n",
        "  return X_train, X_test"
      ],
      "metadata": {
        "id": "hNRW1sKxHoOu"
      },
      "execution_count": 333,
      "outputs": []
    },
    {
      "cell_type": "markdown",
      "source": [
        "# **Feature Engineering**"
      ],
      "metadata": {
        "id": "YXE13LCNrZcX"
      }
    },
    {
      "cell_type": "code",
      "source": [
        "from sklearn.ensemble import ExtraTreesClassifier\n",
        "from sklearn.feature_selection import SelectFromModel\n",
        "from sklearn import preprocessing\n",
        "from sklearn.decomposition import PCA\n",
        "from sklearn.feature_selection import SelectKBest\n",
        "from sklearn.feature_selection import chi2\n"
      ],
      "metadata": {
        "id": "5os_ORY98A4Z"
      },
      "execution_count": 334,
      "outputs": []
    },
    {
      "cell_type": "code",
      "source": [
        "def featureSelectionTrees(estimators, X_train, y_train, X_test):\n",
        "  clf = ExtraTreesClassifier(n_estimators=estimators)\n",
        "  clf = clf.fit(X_train, y_train)\n",
        "  model = SelectFromModel(clf, prefit=True)\n",
        "  X_train = model.transform(X_train)\n",
        "  X_test = model.transform(X_test)\n",
        "  return X_train, X_test"
      ],
      "metadata": {
        "id": "z0Icd_DnzSdZ"
      },
      "execution_count": 335,
      "outputs": []
    },
    {
      "cell_type": "code",
      "source": [
        "def pcaAnalysis(components, X_train, X_test):\n",
        "  pca = PCA(components)\n",
        "  X_train = pca.fit_transform(X_train)\n",
        "  X_test = pca.transform(X_test)\n",
        "  print(\"PCA variance ratio: \", pca.explained_variance_ratio_)\n",
        "  print(\"Total variance Explained by PCA: \", sum(pca.explained_variance_ratio_))\n",
        "  return X_train, X_test"
      ],
      "metadata": {
        "id": "jdnQpMHUI-0T"
      },
      "execution_count": 336,
      "outputs": []
    },
    {
      "cell_type": "code",
      "source": [
        "def selectFeaturesChi(k, X_train, X_test, y_train):\n",
        "  sel = SelectKBest(chi2, k=k)\n",
        "  sel.fit(X_train, y_train)\n",
        "  X_train = sel.transform(X_train)\n",
        "  X_test = sel.transform(X_test)\n",
        "  return X_train, X_test"
      ],
      "metadata": {
        "id": "uTqXxdqBLFYS"
      },
      "execution_count": 337,
      "outputs": []
    },
    {
      "cell_type": "code",
      "source": [
        "def forwardSFS(features,X_train, X_test, y_train):\n",
        "  from sklearn.linear_model import RidgeCV\n",
        "\n",
        "  ridge = RidgeCV(alphas=np.logspace(-6, 6, num=5)).fit(X_train, y_train)\n",
        "  importance = np.abs(ridge.coef_)\n",
        "\n",
        "  from sklearn.feature_selection import SequentialFeatureSelector\n",
        "\n",
        "  sfs_forward = SequentialFeatureSelector(ridge, n_features_to_select=features, direction=\"forward\").fit(X_train, y_train)\n",
        "  X_train=sfs_forward.transform(X_train)\n",
        "  X_test=sfs_forward.transform(X_test)\n",
        "  return X_train, X_test"
      ],
      "metadata": {
        "id": "5ztwPhbQLb8F"
      },
      "execution_count": 338,
      "outputs": []
    },
    {
      "cell_type": "code",
      "source": [
        "def backwardSFS(features,X_train, X_test, y_train):\n",
        "  from sklearn.linear_model import RidgeCV\n",
        "\n",
        "  ridge = RidgeCV(alphas=np.logspace(-6, 6, num=5)).fit(X_train, y_train)\n",
        "  importance = np.abs(ridge.coef_)\n",
        "\n",
        "  from sklearn.feature_selection import SequentialFeatureSelector\n",
        "\n",
        "  sfs_backward = SequentialFeatureSelector(ridge, n_features_to_select=features, direction=\"backward\").fit(X_train, y_train)\n",
        "  X_train=sfs_backward.transform(X_train)\n",
        "  X_test=sfs_backward.transform(X_test)\n",
        "  return X_train, X_test"
      ],
      "metadata": {
        "id": "3_czoPzYLnTW"
      },
      "execution_count": 339,
      "outputs": []
    },
    {
      "cell_type": "code",
      "source": [
        "def importantCoeff(features,X_train, X_test, y_train):\n",
        "  from sklearn.linear_model import RidgeCV\n",
        "\n",
        "  ridge = RidgeCV(alphas=np.logspace(-6, 6, num=5)).fit(X_train, y_train)\n",
        "  importance = np.abs(ridge.coef_)\n",
        "\n",
        "  from sklearn.feature_selection import SelectFromModel\n",
        "  from time import time\n",
        "  n=features+1\n",
        "  threshold = np.sort(importance)[-n] + 0.01\n",
        "\n",
        "  sfm = SelectFromModel(ridge, threshold=threshold).fit(X_train, y_train)\n",
        "  X_train=sfm.transform(X_train)\n",
        "  X_test=sfm.transform(X_test)\n",
        "  return X_train, X_test"
      ],
      "metadata": {
        "id": "yfjhMOudSjux"
      },
      "execution_count": 340,
      "outputs": []
    },
    {
      "cell_type": "markdown",
      "source": [
        "# **Classification**"
      ],
      "metadata": {
        "id": "2b3nb74MroMO"
      }
    },
    {
      "cell_type": "code",
      "source": [
        "from sklearn.neighbors import KNeighborsClassifier\n",
        "from sklearn.model_selection import cross_val_score\n",
        "from sklearn import tree\n",
        "\n",
        "import numpy as np\n",
        "from sklearn.datasets import load_digits\n",
        "import matplotlib.pyplot as plt\n",
        "from sklearn.preprocessing import StandardScaler\n",
        "from sklearn.svm import SVC\n",
        "from sklearn.model_selection import GridSearchCV, StratifiedKFold\n",
        "from sklearn.pipeline import Pipeline\n",
        "\n",
        "from sklearn.feature_selection import SelectKBest\n",
        "from sklearn.feature_selection import chi2\n",
        "\n"
      ],
      "metadata": {
        "id": "1-TQuxisz-J9"
      },
      "execution_count": 341,
      "outputs": []
    },
    {
      "cell_type": "code",
      "source": [
        "def KNN(neighbors, X_train, X_test, y_train, y_test, data, labels):\n",
        "  neigh = KNeighborsClassifier(n_neighbors=neighbors)\n",
        "  y_pred = neigh.fit(X_train, y_train).predict(X_test)\n",
        "  cvScore = cross_val_score(neigh, data, labels, cv=10)\n",
        "  print(cvScore)\n",
        "  print(\"Mean CV_score accuracy: \", np.mean(cvScore))"
      ],
      "metadata": {
        "id": "kkiwq_C0lD38"
      },
      "execution_count": 342,
      "outputs": []
    },
    {
      "cell_type": "code",
      "source": [
        "def DecisionTree(X_train, X_test, y_train, y_test, data, labels):\n",
        "  clf = tree.DecisionTreeClassifier()\n",
        "  y_pred = clf.fit(X_train, y_train).predict(X_test)\n",
        "  cvScore = cross_val_score(clf, data, labels, cv=10)\n",
        "  print(cvScore)\n",
        "  print(\"Mean CV_score accuracy: \", np.mean(cvScore))\n"
      ],
      "metadata": {
        "id": "5hohRhuWbs3W"
      },
      "execution_count": 343,
      "outputs": []
    },
    {
      "cell_type": "code",
      "source": [
        "def SVM(kernel,X_train, X_test, y_train, y_test, data, labels):\n",
        "  #kernels=‘linear’, ‘poly’, ‘rbf’, ‘sigmoid’\n",
        "  from sklearn import svm\n",
        "  sv = svm.SVC(kernel=kernel)\n",
        "  y_pred = sv.fit(X_train, y_train).predict(X_test)\n",
        "  cvScore = cross_val_score(sv, data, labels, cv=10)\n",
        "  print(cvScore)\n",
        "  print(\"Mean CV_score accuracy: \", np.mean(cvScore))\n"
      ],
      "metadata": {
        "id": "tyXa9lUwsWDJ"
      },
      "execution_count": 344,
      "outputs": []
    },
    {
      "cell_type": "code",
      "source": [
        "def GaussianNaiveBayes(X_train, X_test, y_train, y_test, data, labels):\n",
        "  from sklearn.naive_bayes import GaussianNB\n",
        "  gnb = GaussianNB()\n",
        "  y_pred = gnb.fit(X_train, y_train).predict(X_test)\n",
        "  cvScore = cross_val_score(gnb, data, labels, cv=10)\n",
        "  print(cvScore)\n",
        "  print(\"Mean CV_score accuracy: \", np.mean(cvScore))"
      ],
      "metadata": {
        "id": "xT0ZSkie5xfN"
      },
      "execution_count": 345,
      "outputs": []
    },
    {
      "cell_type": "code",
      "source": [
        "def ComplementNaiveBayes(X_train, X_test, y_train, y_test, data, labels):\n",
        "  from sklearn.naive_bayes import ComplementNB\n",
        "  cnb = ComplementNB()\n",
        "  y_pred = cnb.fit(X_train, y_train).predict(X_test)\n",
        "  cvScore = cross_val_score(cnb, data, labels, cv=10)\n",
        "  print(cvScore)\n",
        "  print(\"Mean CV_score accuracy: \", np.mean(cvScore))"
      ],
      "metadata": {
        "id": "ejPQFOND72yp"
      },
      "execution_count": 346,
      "outputs": []
    },
    {
      "cell_type": "code",
      "source": [
        "def RandomFC(depth,X_train, X_test, y_train, y_test, data, labels):\n",
        "  from sklearn.ensemble import RandomForestClassifier\n",
        "  from sklearn.datasets import make_classification\n",
        "  rf = RandomForestClassifier(max_depth=depth, random_state=0)\n",
        "  y_pred = rf.fit(X_train, y_train).predict(X_test)\n",
        "  cvScore = cross_val_score(rf, data, labels, cv=10)\n",
        "  print(cvScore)\n",
        "  print(\"Mean CV_score accuracy: \", np.mean(cvScore))"
      ],
      "metadata": {
        "id": "BS2v_S929Zt0"
      },
      "execution_count": 347,
      "outputs": []
    },
    {
      "cell_type": "code",
      "source": [
        "def AdaBoost(estimators,X_train, X_test, y_train, y_test, data, labels):\n",
        "  from sklearn.ensemble import AdaBoostClassifier\n",
        "  ab = AdaBoostClassifier(n_estimators=estimators)\n",
        "  y_pred = ab.fit(X_train, y_train).predict(X_test)\n",
        "  cvScore = cross_val_score(ab, data, labels, cv=10)\n",
        "  print(cvScore)\n",
        "  print(\"Mean CV_score accuracy: \", np.mean(cvScore))"
      ],
      "metadata": {
        "id": "drg6ufjHA20l"
      },
      "execution_count": 348,
      "outputs": []
    },
    {
      "cell_type": "code",
      "source": [
        "# This is an example of how to use a Pipe inside a function we are training, as done in Challenge 3 by the professor\n",
        "def SVC_linear(n_values, lower_value_C, higher_value_C, base, data, labels):\n",
        "  #Let's apply a stratified 10-fold cross validation\n",
        "  cv = StratifiedKFold(n_splits=10, shuffle=True, random_state=42)\n",
        "\n",
        "  #Let's build a pipeline with only a scaler and a linear SVM\n",
        "  pipe = Pipeline([('scaler', StandardScaler()), ('classifier',SVC(kernel='linear'))])\n",
        "\n",
        "  #Let's build a structure for the grid search with a set of parameters for the techniques in the pipeline\n",
        "  #Be careful to the double underscore between the name you chose in the pipeline and the name of the parameter\n",
        "  #Be careful also to the function logspace for the range of the C values\n",
        "  parameters={'classifier__C': np.logspace(lower_value_C, higher_value_C, num=n_values,base=base)}\n",
        "  print(parameters)\n",
        "\n",
        "  #Let's apply the grid search function\n",
        "  grid_search = GridSearchCV(pipe, parameters, cv=cv)\n",
        "  #Let's train and test the learning system\n",
        "  grid_search.fit(data, labels)\n",
        "\n",
        "  #Here we just print the best accuracy and the corresponding values for the parameters\n",
        "  print(\"The best parameters are %s with an accuracy of %0.4f\"%(grid_search.best_params_, grid_search.best_score_))\n"
      ],
      "metadata": {
        "id": "pjVbyTcmwekE"
      },
      "execution_count": 349,
      "outputs": []
    },
    {
      "cell_type": "markdown",
      "source": [
        "# **Main**"
      ],
      "metadata": {
        "id": "_liWLRjttKkK"
      }
    },
    {
      "cell_type": "code",
      "source": [
        "def main():\n",
        "  #Reading data\n",
        "  dfs = read_results(DATA_DIR)\n",
        "\n",
        "  #Preprocessing steps\n",
        "  #Manage unbalanced data\n",
        "  dataBalanced = rus(dfs) #Random majority undersampling\n",
        "\n",
        "  labels = dataBalanced['label']\n",
        "  data = dataBalanced.drop(['name', 'label'], axis=1)\n",
        "\n",
        "  #Plot features \n",
        "  #plotFeatures(data)\n",
        "\n",
        "  #Obtain train-test datasets\n",
        "  X_train, X_test, y_train, y_test = train_test_split(data, labels, test_size=0.5,  stratify=labels,random_state=42)  \n",
        "\n",
        "  # Normalization steps\n",
        "  X_train, X_test = standardScaler(X_train, X_test)\n",
        "\n",
        "  #Feature Engineering - PCA, LDA, choose-k, etc\n",
        "  #X_train, X_test = pcaAnalysis(5, X_train, X_test)\n",
        "  #X_train, X_test = featureSelectionTrees(50, X_train, y_train, X_test)\n",
        "  X_train, X_test = backwardSFS(2, X_train, X_test, y_train)\n",
        "  #X_train, X_test = selectFeaturesChi(10, X_train, X_test, y_train)\n",
        "  #X_train, X_test = importantCoeff(5,X_train, X_test, y_train)\n",
        "\n",
        "  #Classification\n",
        "  \n",
        "  #DecisionTree(X_train, X_test, y_train, y_test, data, labels)\n",
        "  #KNN(10,X_train, X_test, y_train, y_test, data, labels)\n",
        "  #SVM('rbf',X_train, X_test, y_train, y_test, data, labels)\n",
        "  #GaussianNaiveBayes(X_train, X_test, y_train, y_test, data, labels)\n",
        "  RandomFC(10,X_train, X_test, y_train, y_test, data, labels)\n",
        "  #AdaBoost(30, X_train, X_test, y_train, y_test, data, labels)"
      ],
      "metadata": {
        "id": "3DsFqhAhtsvn"
      },
      "execution_count": 359,
      "outputs": []
    },
    {
      "cell_type": "code",
      "source": [
        "if __name__== \"__main__\":\n",
        "  main()"
      ],
      "metadata": {
        "colab": {
          "base_uri": "https://localhost:8080/"
        },
        "id": "ehu9MRsAtM02",
        "outputId": "1904335f-d16d-4559-970e-55f7862d9113"
      },
      "execution_count": 360,
      "outputs": [
        {
          "output_type": "stream",
          "name": "stdout",
          "text": [
            "Length of balanced data:  3890\n",
            "[0.67866324 0.6940874  0.66323907 0.67866324 0.67609254 0.67352185\n",
            " 0.62724936 0.55012853 0.66838046 0.67609254]\n",
            "Mean CV_score accuracy:  0.658611825192802\n"
          ]
        }
      ]
    },
    {
      "cell_type": "code",
      "source": [
        "# When we find the best fit, we can put everything into a pipeline\n",
        "\n",
        "# pipe = Pipeline([('standard', StandardScaler()),\n",
        "#                  ('classifier', KNeighborsClassifier(n_neighbors=5))])\n",
        "\n",
        "# pipe.fit(X_train, y_train)\n",
        "# score = pipe.predict(X_test)\n",
        "# accuracy_score(y_test, score)"
      ],
      "metadata": {
        "id": "uTXs7wak_Vtx"
      },
      "execution_count": 352,
      "outputs": []
    }
  ]
}