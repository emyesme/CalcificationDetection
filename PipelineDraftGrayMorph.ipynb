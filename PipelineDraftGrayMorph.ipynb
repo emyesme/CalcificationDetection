{
  "cells": [
    {
      "cell_type": "markdown",
      "metadata": {
        "id": "view-in-github",
        "colab_type": "text"
      },
      "source": [
        "<a href=\"https://colab.research.google.com/github/emyesme/CalcificationDetection/blob/Emily/PipelineDraftGrayMorph.ipynb\" target=\"_parent\"><img src=\"https://colab.research.google.com/assets/colab-badge.svg\" alt=\"Open In Colab\"/></a>"
      ]
    },
    {
      "cell_type": "markdown",
      "metadata": {
        "id": "kXWym_EKAKUN"
      },
      "source": [
        "#Libraries and Data Setup"
      ]
    },
    {
      "cell_type": "markdown",
      "metadata": {
        "id": "P5KF-GomVYsN"
      },
      "source": [
        "## Import libraries"
      ]
    },
    {
      "cell_type": "code",
      "execution_count": 3,
      "metadata": {
        "colab": {
          "base_uri": "https://localhost:8080/"
        },
        "id": "0Wlt8za56vXZ",
        "outputId": "f582b538-8782-435b-f8ee-e2a98ec0f954"
      },
      "outputs": [
        {
          "output_type": "stream",
          "name": "stdout",
          "text": [
            "Requirement already satisfied: scikit-image in /usr/local/lib/python3.7/dist-packages (0.18.3)\n",
            "Collecting scikit-image\n",
            "  Downloading scikit_image-0.19.2-cp37-cp37m-manylinux_2_12_x86_64.manylinux2010_x86_64.whl (13.5 MB)\n",
            "\u001b[K     |████████████████████████████████| 13.5 MB 4.6 MB/s \n",
            "\u001b[?25hRequirement already satisfied: tifffile>=2019.7.26 in /usr/local/lib/python3.7/dist-packages (from scikit-image) (2021.11.2)\n",
            "Requirement already satisfied: pillow!=7.1.0,!=7.1.1,!=8.3.0,>=6.1.0 in /usr/local/lib/python3.7/dist-packages (from scikit-image) (7.1.2)\n",
            "Requirement already satisfied: numpy>=1.17.0 in /usr/local/lib/python3.7/dist-packages (from scikit-image) (1.21.6)\n",
            "Requirement already satisfied: imageio>=2.4.1 in /usr/local/lib/python3.7/dist-packages (from scikit-image) (2.4.1)\n",
            "Requirement already satisfied: packaging>=20.0 in /usr/local/lib/python3.7/dist-packages (from scikit-image) (21.3)\n",
            "Requirement already satisfied: PyWavelets>=1.1.1 in /usr/local/lib/python3.7/dist-packages (from scikit-image) (1.3.0)\n",
            "Requirement already satisfied: networkx>=2.2 in /usr/local/lib/python3.7/dist-packages (from scikit-image) (2.6.3)\n",
            "Requirement already satisfied: scipy>=1.4.1 in /usr/local/lib/python3.7/dist-packages (from scikit-image) (1.4.1)\n",
            "Requirement already satisfied: pyparsing!=3.0.5,>=2.0.2 in /usr/local/lib/python3.7/dist-packages (from packaging>=20.0->scikit-image) (3.0.8)\n",
            "Installing collected packages: scikit-image\n",
            "  Attempting uninstall: scikit-image\n",
            "    Found existing installation: scikit-image 0.18.3\n",
            "    Uninstalling scikit-image-0.18.3:\n",
            "      Successfully uninstalled scikit-image-0.18.3\n",
            "\u001b[31mERROR: pip's dependency resolver does not currently take into account all the packages that are installed. This behaviour is the source of the following dependency conflicts.\n",
            "albumentations 0.1.12 requires imgaug<0.2.7,>=0.2.5, but you have imgaug 0.2.9 which is incompatible.\u001b[0m\n",
            "Successfully installed scikit-image-0.19.2\n"
          ]
        }
      ],
      "source": [
        "# just once to install opencv\n",
        "#!pip install opencv-python\n",
        "#!pip install matplotlib\n",
        "#!pip install numpy\n",
        "#!pip install google-colab\n",
        "\n",
        "#!pip install PyWavelets\n",
        "#!pip install image_dehazer\n",
        "!pip install -U scikit-image\n",
        "#!pip install fastprogress\n",
        "from fastprogress import master_bar, progress_bar\n",
        "\n",
        "# import opencv\n",
        "import cv2\n",
        "# import numpy\n",
        "import numpy as np\n",
        "import math\n",
        "# features module from scikit-image\n",
        "from skimage import feature\n",
        "import itertools\n",
        "#import show special for google colab\n",
        "from google.colab.patches import cv2_imshow\n",
        "#import plt for display\n",
        "import matplotlib.pyplot as plt\n",
        "# wavelet\n",
        "import pywt\n",
        "# combination of lists\n",
        "import itertools"
      ]
    },
    {
      "cell_type": "markdown",
      "metadata": {
        "id": "XIR8JLtxAB3j"
      },
      "source": [
        "## Drive Setup"
      ]
    },
    {
      "cell_type": "code",
      "execution_count": 4,
      "metadata": {
        "colab": {
          "base_uri": "https://localhost:8080/"
        },
        "id": "5i-G98GNpyYt",
        "outputId": "2310ba24-8c9b-4380-8091-1da7d175b595"
      },
      "outputs": [
        {
          "output_type": "stream",
          "name": "stdout",
          "text": [
            "Mounted at /content/drive\n"
          ]
        }
      ],
      "source": [
        "from google.colab import drive\n",
        "drive.mount('/content/drive') # This will prompt for authorization."
      ]
    },
    {
      "cell_type": "markdown",
      "metadata": {
        "id": "lPVc5BwPAacs"
      },
      "source": [
        "We put a shortcut in our drive to the image processing folder for this."
      ]
    },
    {
      "cell_type": "code",
      "execution_count": 5,
      "metadata": {
        "id": "5st-OLpSqZ6A"
      },
      "outputs": [],
      "source": [
        "import os \n",
        "DATA_DIR = os.path.join('/content',\n",
        "                        'drive',\n",
        "                        'MyDrive',\n",
        "                        'Image Processing and Analysis 2022',\n",
        "                        'projects',\n",
        "                        'Calcification Detection',\n",
        "                        'dataset')"
      ]
    },
    {
      "cell_type": "markdown",
      "metadata": {
        "id": "9qro11DuuHQ8"
      },
      "source": [
        "## Data Setup"
      ]
    },
    {
      "cell_type": "code",
      "execution_count": 6,
      "metadata": {
        "id": "qVa4SLoMuJnG"
      },
      "outputs": [],
      "source": [
        "#go into de directory of the images\n",
        "\n",
        "# this have 3 outputs root directory, the folders in the path and the files in the path.\n",
        "# we ignore _ the two first because we are not interested in those\n",
        "_, _, images = next(os.walk(os.path.join(DATA_DIR,'images')))\n",
        "_, _, breastMasks = next(os.walk(os.path.join(DATA_DIR,'masks')))\n",
        "_, _, groundTruths = next(os.walk(os.path.join(DATA_DIR, 'groundtruths')))\n",
        "\n",
        "images.sort()\n",
        "breastMasks.sort()\n",
        "groundTruths.sort()\n",
        "\n",
        "# read numbers of normal images\n",
        "normals = []\n",
        "with open(os.path.join(DATA_DIR,'normals.txt')) as f:\n",
        "    for line in f:\n",
        "        normals.append(line[:-1])"
      ]
    },
    {
      "cell_type": "markdown",
      "metadata": {
        "id": "UrNskk4euP8h"
      },
      "source": [
        "## Google Colab Like a Pro"
      ]
    },
    {
      "cell_type": "code",
      "execution_count": 7,
      "metadata": {
        "colab": {
          "base_uri": "https://localhost:8080/",
          "height": 17
        },
        "id": "F95xA4V4uUZI",
        "outputId": "8aaec895-31c9-49d6-ccdf-fea16c5435a5"
      },
      "outputs": [
        {
          "output_type": "display_data",
          "data": {
            "text/plain": [
              "<IPython.core.display.Javascript object>"
            ],
            "application/javascript": [
              "function ClickConnect(){\n",
              "console.log(\"Working\");\n",
              "document.querySelector(\"colab-toolbar-button#connect\").click()\n",
              "}setInterval(ClickConnect,60000)"
            ]
          },
          "metadata": {}
        }
      ],
      "source": [
        "# https://medium.com/@robertbracco1/configuring-google-colab-like-a-pro-d61c253f7573#a642\n",
        "%%javascript\n",
        "function ClickConnect(){\n",
        "console.log(\"Working\");\n",
        "document.querySelector(\"colab-toolbar-button#connect\").click()\n",
        "}setInterval(ClickConnect,60000)"
      ]
    },
    {
      "cell_type": "markdown",
      "metadata": {
        "id": "fLGkMjUYVev7"
      },
      "source": [
        "# Preprocessing"
      ]
    },
    {
      "cell_type": "markdown",
      "metadata": {
        "id": "XYzla-c2R8l_"
      },
      "source": [
        "## DeHazing Using Dark Channel Prior and Guided Filter"
      ]
    },
    {
      "cell_type": "markdown",
      "metadata": {
        "id": "0uY5uR3KSGBi"
      },
      "source": [
        "Dehazing method proposed by the professor (also used in his paper)\n",
        "\n",
        "Taken from here:\n",
        "https://github.com/He-Zhang/image_dehaze\n",
        "Info on readme.md of the repo"
      ]
    },
    {
      "cell_type": "markdown",
      "metadata": {
        "id": "_9cQrJMPS5LT"
      },
      "source": [
        "### Dark Channel"
      ]
    },
    {
      "cell_type": "markdown",
      "metadata": {
        "id": "0E0GdS_BTOAb"
      },
      "source": [
        "Here goes the theory behind this function "
      ]
    },
    {
      "cell_type": "code",
      "execution_count": 8,
      "metadata": {
        "id": "oahKNNk_TCQ1"
      },
      "outputs": [],
      "source": [
        "# Here goes inputs --> output types\n",
        "def DarkChannel(im,sz):\n",
        "    b,g,r = cv2.split(im)\n",
        "    dc = cv2.min(cv2.min(r,g),b);\n",
        "    kernel = cv2.getStructuringElement(cv2.MORPH_RECT,(sz,sz))\n",
        "    dark = cv2.erode(dc,kernel)\n",
        "    return dark"
      ]
    },
    {
      "cell_type": "markdown",
      "metadata": {
        "id": "PYBQgzyNkKDY"
      },
      "source": [
        "### AtmLight"
      ]
    },
    {
      "cell_type": "code",
      "execution_count": 9,
      "metadata": {
        "id": "3o_LF4EXj7ut"
      },
      "outputs": [],
      "source": [
        "# Possibly change to grayscale would be nice\n",
        "def AtmLight(im,dark):\n",
        "    [h,w] = im.shape[:2]\n",
        "    imsz = h*w\n",
        "    numpx = int(max(math.floor(imsz/1000),1))\n",
        "    darkvec = dark.reshape(imsz);\n",
        "    imvec = im.reshape(imsz,3);\n",
        "\n",
        "    indices = darkvec.argsort();\n",
        "    indices = indices[imsz-numpx::]\n",
        "\n",
        "    atmsum = np.zeros([1,3])\n",
        "    for ind in range(1,numpx):\n",
        "       atmsum = atmsum + imvec[indices[ind]]\n",
        "\n",
        "    A = atmsum / numpx;\n",
        "    return A"
      ]
    },
    {
      "cell_type": "markdown",
      "metadata": {
        "id": "HgNCi3U-kNhR"
      },
      "source": [
        "### TransmissionEstimate"
      ]
    },
    {
      "cell_type": "code",
      "execution_count": 10,
      "metadata": {
        "id": "B9564anxkREK"
      },
      "outputs": [],
      "source": [
        "def TransmissionEstimate(im,A,sz):\n",
        "    omega = 0.95;# the closer to 1 the stronger the darkenning\n",
        "    im3 = np.empty(im.shape,im.dtype);\n",
        "\n",
        "    for ind in range(0,3):\n",
        "        im3[:,:,ind] = im[:,:,ind]/A[0,ind]\n",
        "\n",
        "    transmission = 1 - omega*DarkChannel(im3,sz);\n",
        "    return transmission"
      ]
    },
    {
      "cell_type": "markdown",
      "metadata": {
        "id": "ujgwt8eakTwm"
      },
      "source": [
        "### GuidedFilter"
      ]
    },
    {
      "cell_type": "code",
      "execution_count": 11,
      "metadata": {
        "id": "pQwICn9skXtP"
      },
      "outputs": [],
      "source": [
        "def Guidedfilter(im,p,r,eps):\n",
        "    mean_I = cv2.boxFilter(im,cv2.CV_64F,(r,r));\n",
        "    mean_p = cv2.boxFilter(p, cv2.CV_64F,(r,r));\n",
        "    mean_Ip = cv2.boxFilter(im*p,cv2.CV_64F,(r,r));\n",
        "    cov_Ip = mean_Ip - mean_I*mean_p;\n",
        "\n",
        "    mean_II = cv2.boxFilter(im*im,cv2.CV_64F,(r,r));\n",
        "    var_I   = mean_II - mean_I*mean_I;\n",
        "\n",
        "    a = cov_Ip/(var_I + eps);\n",
        "    b = mean_p - a*mean_I;\n",
        "\n",
        "    mean_a = cv2.boxFilter(a,cv2.CV_64F,(r,r));\n",
        "    mean_b = cv2.boxFilter(b,cv2.CV_64F,(r,r));\n",
        "\n",
        "    q = mean_a*im + mean_b;\n",
        "    return q;"
      ]
    },
    {
      "cell_type": "markdown",
      "metadata": {
        "id": "4tB3quNxkbJv"
      },
      "source": [
        "### TransmissionRefine"
      ]
    },
    {
      "cell_type": "code",
      "execution_count": 12,
      "metadata": {
        "id": "r_GHwktLkbkv"
      },
      "outputs": [],
      "source": [
        "def TransmissionRefine(im,et):\n",
        "    gray = cv2.cvtColor(im,cv2.COLOR_BGR2GRAY);\n",
        "    gray = np.float64(gray)/255;\n",
        "    r = 60;\n",
        "    eps = 0.0001;\n",
        "    t = Guidedfilter(gray,et,r,eps);\n",
        "\n",
        "    return t;"
      ]
    },
    {
      "cell_type": "markdown",
      "metadata": {
        "id": "6nOv5qYxkjqP"
      },
      "source": [
        "### Recover"
      ]
    },
    {
      "cell_type": "code",
      "execution_count": 13,
      "metadata": {
        "id": "VuIef3qHkn5I"
      },
      "outputs": [],
      "source": [
        "def Recover(im,t,A,tx = 0.1):\n",
        "    res = np.empty(im.shape,im.dtype);\n",
        "    t = cv2.max(t,tx);\n",
        "\n",
        "    for ind in range(0,3):\n",
        "        res[:,:,ind] = (im[:,:,ind]-A[0,ind])/t + A[0,ind]\n",
        "    return res"
      ]
    },
    {
      "cell_type": "markdown",
      "metadata": {
        "id": "S_V-ibO6koPC"
      },
      "source": [
        "### deHazingDarkChannelPriorPy"
      ]
    },
    {
      "cell_type": "code",
      "execution_count": 14,
      "metadata": {
        "id": "v9lVjTTcoC2C"
      },
      "outputs": [],
      "source": [
        "def deHazingDarkChannelPriorPy(matrix, mask):\n",
        "\n",
        "    I = matrix.astype(np.float64)/255\n",
        " \n",
        "    dark = DarkChannel(I,15)\n",
        "    A = AtmLight(I,dark)\n",
        "    te = TransmissionEstimate(I,A,15)\n",
        "    t = TransmissionRefine(matrix,te)\n",
        "    J = Recover(I,t,A,0.1)\n",
        "    preprocessed = J\n",
        "    return preprocessed\n",
        "\n",
        "# image = cv2.imread(DATA_DIR+\"/images/53582422_3f0db31711fc9795_MG_R_ML_ANON.tif\")\n",
        "# dark, t, matrix, J = deHazingDarkChannelPriorPy(image, image)"
      ]
    },
    {
      "cell_type": "markdown",
      "metadata": {
        "id": "OQoaHLlkJKMa"
      },
      "source": [
        "## Grayscale Morphological Reconstruction"
      ]
    },
    {
      "cell_type": "code",
      "execution_count": 15,
      "metadata": {
        "id": "1mC4-1YKJQO_"
      },
      "outputs": [],
      "source": [
        "def morphReconstruction(matrix):\n",
        "  matrix = cv2.cvtColor(matrix, cv2.COLOR_BGR2GRAY)\n",
        "  marker = cv2.morphologyEx(matrix, cv2.MORPH_OPEN, cv2.getStructuringElement(cv2.MORPH_ELLIPSE, (37,37)))\n",
        "  marker_cur = marker\n",
        "  mask = matrix\n",
        "  \n",
        "  while True:\n",
        "    marker_prev = marker_cur.copy()\n",
        "\n",
        "    marker_cur = cv2.dilate(marker_cur, cv2.getStructuringElement(cv2.MORPH_RECT, (3,3)))\n",
        "    marker_cur = cv2.min(marker_cur, mask)\n",
        "\n",
        "    if cv2.countNonZero(marker_cur - marker_prev) == False:\n",
        "        break\n",
        "  \n",
        "  return mask-marker_cur, marker_cur"
      ]
    },
    {
      "cell_type": "markdown",
      "metadata": {
        "id": "ZAa2ldjTlMWA"
      },
      "source": [
        "## Image Dilation"
      ]
    },
    {
      "cell_type": "code",
      "execution_count": 16,
      "metadata": {
        "id": "8D4EdMZolL_j"
      },
      "outputs": [],
      "source": [
        "def imgDilation(matrix):\n",
        "  kernel = np.ones((9,9), np.uint8)\n",
        "  img_dilation = cv2.dilate(matrix, kernel, iterations=3)\n",
        "  return img_dilation"
      ]
    },
    {
      "cell_type": "markdown",
      "metadata": {
        "id": "KFc9qVWuu2ng"
      },
      "source": [
        "## Other Tried Methods"
      ]
    },
    {
      "cell_type": "markdown",
      "metadata": {
        "id": "OY0FcYiDvfZG"
      },
      "source": [
        "**CLAHE (adaptive histogram equalization)**\n",
        "  * CLAHE + dehazing = bad results, black image \n",
        "  * points less visible with CLAHE\n",
        "\n",
        "**Linear stretching**\n",
        "  * still missing linear streching\n",
        "  * The code goes on forever (high computational cost)\n",
        "\n"
      ]
    },
    {
      "cell_type": "markdown",
      "metadata": {
        "id": "vNWyVrjyVvuW"
      },
      "source": [
        "# Candidate Extraction"
      ]
    },
    {
      "cell_type": "markdown",
      "metadata": {
        "id": "_BG3WCxXZNpv"
      },
      "source": [
        "##Hessian-Matrix-Based Analysis"
      ]
    },
    {
      "cell_type": "markdown",
      "metadata": {
        "id": "_FPkl7iJlJCC"
      },
      "source": [
        "Hessian-matrix-based analysis or difference of gaussians (DoH) blob detection from skimage:\n",
        "\n",
        "https://scikit-image.org/docs/stable/api/skimage.feature.html?highlight=local%20binary%20pattern#skimage.feature.blob_doh"
      ]
    },
    {
      "cell_type": "code",
      "execution_count": 17,
      "metadata": {
        "id": "f0KHFD9fFC9y"
      },
      "outputs": [],
      "source": [
        "def candidateExtraction(matrix, mask):\n",
        "\n",
        "  from skimage import feature\n",
        "  \n",
        "  # returns x,y,sigma of the blob\n",
        "  blobs = feature.blob_doh(matrix,\n",
        "                           min_sigma=1,\n",
        "                           max_sigma=30,\n",
        "                           num_sigma=10,\n",
        "                           # The absolute lower bound for scale space maxima.\n",
        "                           # Local maxima smaller than threshold are ignored.\n",
        "                           # Reduce this to detect blobs with lower intensities.\n",
        "                           # If threshold_rel is also specified, whichever threshold is larger will be used.\n",
        "                           # If None, threshold_rel is used instead.\n",
        "                           threshold=0.001,\n",
        "                           # lower more sensible, more false positives bad also tinier calcifications detected\n",
        "                           overlap=0.5,\n",
        "                           log_scale=False,\n",
        "                           threshold_rel=None\n",
        "                           )\n",
        "  # taken from the documentation\n",
        "  # ...The downside is that this method can’t be used for detecting blobs of radius less than 3px\n",
        "  # due to the box filters used in the approximation of Hessian Determinant.\n",
        "  result = blobs\n",
        "  return result"
      ]
    },
    {
      "cell_type": "markdown",
      "metadata": {
        "id": "von-0yGEXbzT"
      },
      "source": [
        "# Feature Extraction"
      ]
    },
    {
      "cell_type": "code",
      "execution_count": 18,
      "metadata": {
        "id": "fe7aJb2YhZ9a"
      },
      "outputs": [],
      "source": [
        "# Get Ground Truth for each patch\n",
        "def patchGroundTruth(candidate, groundTruth):\n",
        "\n",
        "  left = int((candidate[0] - candidate[2]) if ((candidate[0] - candidate[2]) > 0) else 0)\n",
        "  right = int((candidate[0] + candidate[2]) if ((candidate[0] + candidate[2]) < groundTruth.shape[0]) else groundTruth.shape[0])\n",
        "  top = int((candidate[1] - candidate[2]) if ((candidate[1] - candidate[2]) > 0) else 0)\n",
        "  bottom = int((candidate[1] + candidate[2]) if ((candidate[1] + candidate[2]) < groundTruth.shape[1]) else groundTruth.shape[1])\n",
        "\n",
        "  truePatch = groundTruth[left : right,\n",
        "                          top  : bottom]\n",
        "  sum = np.sum(truePatch)\n",
        "  if sum > 0:\n",
        "    return str(1)\n",
        "  else:\n",
        "    return str(0)"
      ]
    },
    {
      "cell_type": "markdown",
      "metadata": {
        "id": "MfBTU_XZoIsZ"
      },
      "source": [
        "Video tutorial on how to use GLCM:\n",
        "\n",
        "* https://www.youtube.com/watch?v=5x-CIHRmMNY\n",
        "\n",
        "Documentation and example on GLCM:\n",
        "\n",
        "* https://scikit-image.org/docs/dev/auto_examples/features_detection/plot_glcm.html\n",
        "\n",
        "Paper:\n",
        "\n",
        "*  https://ijcrr.com/uploads/3454_pdf.pdf\n",
        "\n",
        "GLCM Properties documentation:\n",
        "\n",
        "* https://scikit-image.org/docs/dev/api/skimage.feature.html#skimage.feature.graycoprops\n",
        "\n",
        "GLCM Gray co-matrix documentation:\n",
        "\n",
        "* https://stackoverflow.com/questions/54512617/creating-gray-level-co-occurrence-matrix-from-16-bit-image\n",
        "(why can't we have 16 bit type for the coocurrence matrix computation)\n",
        "\n",
        "* https://www.sciencedirect.com/topics/engineering/cooccurrence-matrix (simple explanation GLCM)"
      ]
    },
    {
      "cell_type": "markdown",
      "metadata": {
        "id": "PUWQRdESsaXf"
      },
      "source": [
        "### Haar-Wavelet with GLCM\n",
        "Appl. Sci. 2019, 9, 5388; doi:10.3390/app9245388\n",
        "\n",
        "Method: apply the feature extraction with the glcm to each haar wavelet decomposition result\n",
        "\n",
        "*Because of their small size and their high degree of localization, microcalcifications represent high-spatial frequencies in the image. The wavelet transform is an attractive option for the detection of high-spatial-frequency components of an image because it can spatially localize high-frequency components. Hence, it was used by many authors for the segmentation of microcalcifications. 15–27*\n",
        "Source: DOI: 10.1118/1.3121511\n"
      ]
    },
    {
      "cell_type": "code",
      "execution_count": 19,
      "metadata": {
        "id": "23WbyaI2FhzF"
      },
      "outputs": [],
      "source": [
        "def featuresExtractionHaarWavelet(matrix, candidates, features, mask, groundTruth, image, folder):\n",
        "\n",
        "  # no candidates, no extraction needed\n",
        "  if (len(candidates) == 0):\n",
        "    return []\n",
        "\n",
        "  # angles\n",
        "  angles = [0, np.pi/4, np.pi/2, 3*np.pi/4]\n",
        "\n",
        "  flag = True\n",
        "  for index, candidate in enumerate(progress_bar(candidates)):\n",
        "    \n",
        "    distances = [1]# probably we need bigger\n",
        "\n",
        "    # to use them as coordinates they have to be integers\n",
        "    candidate = candidate.astype(np.int64)\n",
        "\n",
        "    # candidates are y,x and sigma\n",
        "    # tolerance to the window\n",
        "    n = 3\n",
        "    left = int((candidate[0] - candidate[2] - n) if ((candidate[0] - candidate[2] - n) > 0) else 0)\n",
        "    right = int((candidate[0] + candidate[2] + n) if ((candidate[0] + candidate[2] + n) < matrix.shape[0]) else matrix.shape[0])\n",
        "    top = int((candidate[1] - candidate[2] - n) if ((candidate[1] - candidate[2] - n) > 0) else 0)\n",
        "    bottom = int((candidate[1] + candidate[2] + n) if ((candidate[1] + candidate[2] + n) < matrix.shape[1]) else matrix.shape[1])\n",
        "\n",
        "    patchCandidate = matrix[left: right,\n",
        "                            top : bottom]\n",
        "\n",
        "    # graycomatrix, glcm, receive unsigned integer type\n",
        "    patchCandidate = patchCandidate.astype(np.uint8)\n",
        "\n",
        "    #Wavelet Transform\n",
        "\n",
        "    ## haar wavelet \n",
        "    #Apply GLCM on LH, HL, HH\n",
        "\n",
        "    coeffs2 = pywt.dwt2(patchCandidate, 'haar')\n",
        "\n",
        "    # low-low, low-high, high-low, high-high\n",
        "    (LL, (LH, HL, HH)) = coeffs2\n",
        "\n",
        "    # LL just give information about the details not the edges so unnecessary\n",
        "\n",
        "    LH = LH.astype(np.uint8)\n",
        "    HL = HL.astype(np.uint8)\n",
        "    HH = HH.astype(np.uint8)\n",
        "\n",
        "    haarDecomposes = [LH, HL, HH]\n",
        "\n",
        "    for i, haarDecompose in enumerate(haarDecomposes):\n",
        "\n",
        "      dictFeatures = {}\n",
        "      dictFeatures = {'name': 'patch_' + str(index) + '_haar_' + str(i) + '_surf_' + str(image.split(\".\")[0]),\n",
        "                      'label': patchGroundTruth(candidate, groundTruth),\n",
        "                      'x': candidate[1],\n",
        "                      'y': candidate[0],\n",
        "                      'sigma': candidate[2]}\n",
        "\n",
        "      # combination of distances and angles as couples of values\n",
        "      distAngle = list(itertools.product(distances, angles))\n",
        "\n",
        "      for distanceAngle in distAngle:\n",
        "\n",
        "        distance = distanceAngle[0]\n",
        "        angle = distanceAngle[1]\n",
        "\n",
        "        # get the degree to use it as name for the column\n",
        "        name = str(angle*(180.0/np.pi))\n",
        "\n",
        "        # input image, distance in pixels, angles\n",
        "        glcm = feature.graycomatrix(haarDecompose, [ distance ], [ angle ])\n",
        "\n",
        "        # properties\n",
        "        dictFeatures['contrast'+ str(distance) + name] = feature.graycoprops(glcm, 'contrast')[0][0]\n",
        "        dictFeatures['dissimilarity' + str(distance) + name] = feature.graycoprops(glcm, 'dissimilarity')[0][0]\n",
        "        dictFeatures['homogeneity' + str(distance) + name] = feature.graycoprops(glcm, 'homogeneity')[0][0]\n",
        "        dictFeatures['energy' + str(distance) + name] = feature.graycoprops(glcm, 'energy')[0][0]\n",
        "        dictFeatures['correlation' + str(distance) + name] = feature.graycoprops(glcm, 'correlation')[0][0]\n",
        "        dictFeatures['ASM' + str(distance) + name] = feature.graycoprops(glcm, 'ASM')[0][0]\n",
        "\n",
        "      # add to the dataframe the features for this patch\n",
        "      features = features.append(dictFeatures, ignore_index=True)\n",
        "\n",
        "  # save in the csv\n",
        "  writeFeatures(features, flag, folder, image, 'graym_haar_glcm')\n",
        "\n",
        "  return features"
      ]
    },
    {
      "cell_type": "code",
      "source": [
        ""
      ],
      "metadata": {
        "id": "FCrrFBEC4Qib"
      },
      "execution_count": 19,
      "outputs": []
    },
    {
      "cell_type": "code",
      "execution_count": 20,
      "metadata": {
        "id": "nHSmoTp84QyL"
      },
      "outputs": [],
      "source": [
        "from skimage import feature\n",
        "import itertools\n",
        "\n",
        "# featuresExtraction\n",
        "# here explain what you code\n",
        "def featuresExtraction(matrix, candidates, features, mask, groundTruth, image, folder):\n",
        "  \n",
        "  if (len(candidates) == 0):\n",
        "    return []\n",
        "\n",
        "  # angles\n",
        "  angles = [0, np.pi/4, np.pi/2, 3*np.pi/4]\n",
        "\n",
        "  flag = True\n",
        "  for index, candidate in enumerate(progress_bar(candidates)):\n",
        "    \n",
        "    # distances\n",
        "    distances = [1]# probably we need bigger\n",
        "\n",
        "    # combination of distances and angles as couples of values\n",
        "    distancesAngles = list(itertools.product(distances, angles))\n",
        "\n",
        "    # candidate points are save as np.float64\n",
        "    # to use them as coordinates they have to be integers\n",
        "    candidate = candidate.astype(np.int64)\n",
        "\n",
        "    # candidates are y,x and sigma\n",
        "    left = int((candidate[0] - candidate[2]) if ((candidate[0] - candidate[2]) > 0) else 0)\n",
        "    right = int((candidate[0] + candidate[2]) if ((candidate[0] + candidate[2]) < matrix.shape[0]) else matrix.shape[0])\n",
        "    top = int((candidate[1] - candidate[2]) if ((candidate[1] - candidate[2]) > 0) else 0)\n",
        "    bottom = int((candidate[1] + candidate[2]) if ((candidate[1] + candidate[2]) < matrix.shape[1]) else matrix.shape[1])\n",
        "\n",
        "    patchCandidate = matrix[left: right,\n",
        "                            top : bottom]\n",
        "    \n",
        "    patchCandidate = patchCandidate.astype(np.uint8)\n",
        "    dictFeatures = {}\n",
        "    dictFeatures = {'name': 'patch_' + str(index) + '_' + str(image.split(\".\")[0]),\n",
        "                    'label': patchGroundTruth(candidate, groundTruth),\n",
        "                    'x': candidate[1],\n",
        "                    'y': candidate[0],\n",
        "                    'sigma': candidate[2]}\n",
        "\n",
        "    for distanceAngle in distancesAngles:\n",
        "      distance = distanceAngle[0]\n",
        "      angle = distanceAngle[1]\n",
        "      # get the degree to use it as name for the column\n",
        "      name = str(angle*(180.0/np.pi))\n",
        "      # input image, distance in pixels, angles\n",
        "      #https://stackoverflow.com/questions/54512617/creating-gray-level-co-occurrence-matrix-from-16-bit-image\n",
        "      glcm = feature.graycomatrix(patchCandidate, [ distance ], [ angle ])\n",
        "\n",
        "      # Output: the gray-level co-occurrence histogram. The value P[i,j,d,theta]\n",
        "      # is the number of times that gray-level j occurs at a distance d\n",
        "      # and at an angle theta from gray-level i.\n",
        "      # If normed is False, the output is of type uint32, otherwise it is float64.\n",
        "      # The dimensions are: levels x levels x number of distances x number of angles.\n",
        "\n",
        "      # properties: {‘contrast’, ‘dissimilarity’, ‘homogeneity’, ‘energy’, ‘correlation’, ‘ASM’}\n",
        "      dictFeatures['contrast'+ str(distance) + name] = feature.graycoprops(glcm, 'contrast')[0][0]\n",
        "      dictFeatures['dissimilarity' + str(distance) + name] = feature.graycoprops(glcm, 'dissimilarity')[0][0]\n",
        "      dictFeatures['homogeneity' + str(distance) + name] = feature.graycoprops(glcm, 'homogeneity')[0][0]\n",
        "      dictFeatures['energy' + str(distance) + name] = feature.graycoprops(glcm, 'energy')[0][0]\n",
        "      dictFeatures['correlation' + str(distance) + name] = feature.graycoprops(glcm, 'correlation')[0][0]\n",
        "      dictFeatures['ASM' + str(distance) + name] = feature.graycoprops(glcm, 'ASM')[0][0]\n",
        "\n",
        "      # print(feature.graycoprops(glcm, 'contrast')[0][0])\n",
        "      # print(feature.graycoprops(glcm, 'dissimilarity')[0][0])\n",
        "      # print(feature.graycoprops(glcm, 'homogeneity')[0][0])\n",
        "      # print(feature.graycoprops(glcm, 'energy')[0][0])\n",
        "      # print(feature.graycoprops(glcm, 'correlation')[0][0])\n",
        "      # print(feature.graycoprops(glcm, 'ASM')[0][0])\n",
        "\n",
        "    # add to the dataframe the features for this patch\n",
        "    features = features.append(dictFeatures, ignore_index=True)\n",
        "  # save in the csv\n",
        "  writeFeatures(features, flag, folder, image, 'graym_haar_glcm')\n",
        "\n",
        "  return features"
      ]
    },
    {
      "cell_type": "code",
      "execution_count": 21,
      "metadata": {
        "id": "KacVrfAgo1Lr"
      },
      "outputs": [],
      "source": [
        "def writeFeatures(features, flag, folder, image, name):\n",
        "  if(flag):\n",
        "    features.to_csv(os.path.join('/content',\n",
        "                                 'drive',\n",
        "                                 'MyDrive',\n",
        "                                 'Results',\n",
        "                                 folder,\n",
        "                                 str(image.split('.')[0]) + '_'+ name + '.csv'),\n",
        "                    mode='a',\n",
        "                    index=False)\n",
        "    flag = False\n",
        "  else:\n",
        "    features.to_csv(os.path.join('/content',\n",
        "                                 'drive',\n",
        "                                 'MyDrive',\n",
        "                                 'Results',\n",
        "                                 folder,\n",
        "                                 str(image.split('.')[0]) + '_'+ name + '.csv'),\n",
        "                  mode='a',\n",
        "                  header=False,\n",
        "                  index=False)\n",
        "  return flag"
      ]
    },
    {
      "cell_type": "markdown",
      "metadata": {
        "id": "rYRi_ffVWClo"
      },
      "source": [
        "# Connected Components"
      ]
    },
    {
      "cell_type": "code",
      "execution_count": 22,
      "metadata": {
        "id": "d7G2psxqargQ"
      },
      "outputs": [],
      "source": [
        "# function to get connected components of the ground truth binary image\n",
        "def componentsStatsGroundTruth(matrix):\n",
        "    # getting the info of the components in the ground truth\n",
        "    # second value is connectivity 4 or 8\n",
        "    connectedComponentsGroundTruth = cv2.connectedComponentsWithStats(matrix, 8, cv2.CV_32S)\n",
        "\n",
        "    # Get the results\n",
        "    # The first cell is the number of labels\n",
        "    num_labels = connectedComponentsGroundTruth[0]\n",
        "    # The second cell is the label matrix\n",
        "    labels = connectedComponentsGroundTruth[1]\n",
        "    # The third cell is the stat matrix\n",
        "    stats = connectedComponentsGroundTruth[2]\n",
        "    # The fourth cell is the centroid matrix\n",
        "    centroids = connectedComponentsGroundTruth[3]\n",
        "\n",
        "    return num_labels, labels, stats, centroids"
      ]
    },
    {
      "cell_type": "markdown",
      "metadata": {
        "id": "pqItorT9Wr06"
      },
      "source": [
        "# Show Images"
      ]
    },
    {
      "cell_type": "code",
      "execution_count": 23,
      "metadata": {
        "id": "G6mejNA1fgIq"
      },
      "outputs": [],
      "source": [
        "from matplotlib.patches import Circle\n",
        "import matplotlib.patches as mpatches\n",
        "\n",
        "# function to draw the grid to display\n",
        "def display_grid(figure, axis, img, imgGroundTruth, imgMask, image10, image11, image12):\n",
        "  # draw in the axis the img\n",
        "  axis[0][0].imshow(img, cmap='gray')\n",
        "  # switch off the axis of the plot\n",
        "  axis[0][0].axis('off')\n",
        "  # set a title for the plot\n",
        "  axis[0][0].set_title('Image')\n",
        "\n",
        "  axis[0][1].imshow(imgGroundTruth, cmap='gray')\n",
        "  axis[0][1].axis('off')\n",
        "  axis[0][1].set_title('Ground Truth')\n",
        "\n",
        "  axis[0][2].imshow(imgMask, cmap='gray')\n",
        "  axis[0][2].axis('off')\n",
        "  axis[0][2].set_title('Breast Mask')\n",
        "\n",
        "  axis[1][0].imshow(image10, cmap='gray')\n",
        "  axis[1][0].axis('off')\n",
        "  axis[1][0].set_title('Preprocessed')\n",
        "\n",
        "  # draw candidates as circles\n",
        "  axis[1][1].imshow(image11, cmap='gray')\n",
        "  axis[1][1].axis('off')\n",
        "  axis[1][1].set_title('Candidates')\n",
        "\n",
        "  # Now, loop through coord arrays, and create a circle at each x,y pair\n",
        "  for y,x,sigma in candidates:\n",
        "\n",
        "    # blue circle on the candidate\n",
        "    blob = Circle((x,y), sigma*5, color='blue', fill=False)\n",
        "    axis[1][1].add_patch(blob)\n",
        "\n",
        "    # red squares in the patches extracted\n",
        "    rect=mpatches.Rectangle((x,y),sigma,sigma, \n",
        "                        fill=False,\n",
        "                        color=\"red\",\n",
        "                       linewidth=2)\n",
        "    axis[1][1].add_patch(rect)\n",
        "\n",
        "  axis[1][2].imshow(image12, cmap='gray')\n",
        "  axis[1][2].axis('off')\n",
        "  axis[1][2].set_title('compare with ground truth and candidates')\n",
        "\n",
        "  # Now, loop through coord arrays, and create a circle at each x,y pair\n",
        "  for y,x,sigma in candidates:\n",
        "    blob = Circle((x,y), sigma, color='blue', fill=False)\n",
        "    axis[1][2].add_patch(blob)\n",
        "  \n",
        "  return figure, axis"
      ]
    },
    {
      "cell_type": "markdown",
      "metadata": {
        "id": "7GHlP95OW6e6"
      },
      "source": [
        "# Main"
      ]
    },
    {
      "cell_type": "code",
      "execution_count": 27,
      "metadata": {
        "colab": {
          "base_uri": "https://localhost:8080/",
          "height": 877
        },
        "id": "qqqX2PGi6-X8",
        "outputId": "576677aa-6efd-4d98-91c9-abb2ce26bf1b"
      },
      "outputs": [
        {
          "output_type": "display_data",
          "data": {
            "text/plain": [
              "<IPython.core.display.HTML object>"
            ],
            "text/html": [
              "\n",
              "<style>\n",
              "    /* Turns off some styling */\n",
              "    progress {\n",
              "        /* gets rid of default border in Firefox and Opera. */\n",
              "        border: none;\n",
              "        /* Needs to be in here for Safari polyfill so background images work as expected. */\n",
              "        background-size: auto;\n",
              "    }\n",
              "    .progress-bar-interrupted, .progress-bar-interrupted::-webkit-progress-bar {\n",
              "        background: #F44336;\n",
              "    }\n",
              "</style>\n"
            ]
          },
          "metadata": {}
        },
        {
          "output_type": "display_data",
          "data": {
            "text/plain": [
              "<IPython.core.display.HTML object>"
            ],
            "text/html": [
              "\n",
              "    <div>\n",
              "      <progress value='410' class='' max='410' style='width:300px; height:20px; vertical-align: middle;'></progress>\n",
              "      100.00% [410/410 02:10<00:00]\n",
              "    </div>\n",
              "    "
            ]
          },
          "metadata": {}
        },
        {
          "output_type": "display_data",
          "data": {
            "text/plain": [
              "<IPython.core.display.HTML object>"
            ],
            "text/html": [
              "\n",
              "<style>\n",
              "    /* Turns off some styling */\n",
              "    progress {\n",
              "        /* gets rid of default border in Firefox and Opera. */\n",
              "        border: none;\n",
              "        /* Needs to be in here for Safari polyfill so background images work as expected. */\n",
              "        background-size: auto;\n",
              "    }\n",
              "    .progress-bar-interrupted, .progress-bar-interrupted::-webkit-progress-bar {\n",
              "        background: #F44336;\n",
              "    }\n",
              "</style>\n"
            ]
          },
          "metadata": {}
        },
        {
          "output_type": "display_data",
          "data": {
            "text/plain": [
              "<IPython.core.display.HTML object>"
            ],
            "text/html": [
              "\n",
              "    <div>\n",
              "      <progress value='82' class='' max='82' style='width:300px; height:20px; vertical-align: middle;'></progress>\n",
              "      100.00% [82/82 00:02<00:00]\n",
              "    </div>\n",
              "    "
            ]
          },
          "metadata": {}
        },
        {
          "output_type": "display_data",
          "data": {
            "text/plain": [
              "<IPython.core.display.HTML object>"
            ],
            "text/html": [
              "\n",
              "<style>\n",
              "    /* Turns off some styling */\n",
              "    progress {\n",
              "        /* gets rid of default border in Firefox and Opera. */\n",
              "        border: none;\n",
              "        /* Needs to be in here for Safari polyfill so background images work as expected. */\n",
              "        background-size: auto;\n",
              "    }\n",
              "    .progress-bar-interrupted, .progress-bar-interrupted::-webkit-progress-bar {\n",
              "        background: #F44336;\n",
              "    }\n",
              "</style>\n"
            ]
          },
          "metadata": {}
        },
        {
          "output_type": "display_data",
          "data": {
            "text/plain": [
              "<IPython.core.display.HTML object>"
            ],
            "text/html": [
              "\n",
              "    <div>\n",
              "      <progress value='82' class='' max='82' style='width:300px; height:20px; vertical-align: middle;'></progress>\n",
              "      100.00% [82/82 00:07<00:00]\n",
              "    </div>\n",
              "    "
            ]
          },
          "metadata": {}
        },
        {
          "output_type": "display_data",
          "data": {
            "text/plain": [
              "<Figure size 1080x1080 with 6 Axes>"
            ],
            "image/png": "[encoded data removed]"
          },
          "metadata": {
            "needs_background": "light"
          }
        }
      ],
      "source": [
        "import copy\n",
        "import pandas as pd\n",
        "\n",
        "#go through the image files \n",
        "for image, breastMask, groundTruth in zip(progress_bar(images), breastMasks, groundTruths):\n",
        "\n",
        "  # to save the features generated with the glcm\n",
        "  features = pd.DataFrame(dtype=np.float64)\n",
        "\n",
        "  # 20588020, 7717, 5328, 3787, 5725, 3859, 6934, 50995872\n",
        "  digits = '588020'\n",
        "\n",
        "  if ((digits in image) and (digits in breastMask) and ('mask' in breastMask)):\n",
        "  #if ('mask' in breastMask):\n",
        "  #if image not in already:\n",
        "\n",
        "    #upload images\n",
        "    img = cv2.imread(os.path.join(DATA_DIR,'images',image))\n",
        "    imgMask = cv2.imread(os.path.join(DATA_DIR, 'masks', breastMask))\n",
        "    imgGroundTruth = cv2.imread(os.path.join(DATA_DIR, 'groundtruths', image), cv2.IMREAD_GRAYSCALE)\n",
        "    imgCopy = copy.deepcopy(img)\n",
        "\n",
        "    # preprocessing # \n",
        "\n",
        "    preprocessed = deHazingDarkChannelPriorPy(imgCopy, imgMask)\n",
        "    \n",
        "    preprocessed = preprocessed.astype(np.float32)\n",
        "\n",
        "    preprocessedMorphMc, preprocessedMorphBg = morphReconstruction(preprocessed)\n",
        "\n",
        "    preprocessedDil = imgDilation(preprocessedMorphMc)\n",
        "    \n",
        "\n",
        "    # candidate extraction #\n",
        "\n",
        "    copyPreprocessedDil = copy.deepcopy(preprocessedDil)\n",
        "    copyPreprocessedDil = copyPreprocessedDil.astype(np.float32)\n",
        "    #copyPreprocessedDil = cv2.cvtColor(copyPreprocessedDil, cv2.COLOR_BGR2GRAY)\n",
        "    candidates = candidateExtraction(copyPreprocessedDil, imgMask)\n",
        "\n",
        "    # feature extraction #\n",
        "\n",
        "    copyPreprocessed = copy.deepcopy(preprocessed)\n",
        "    copyPreprocessed = copyPreprocessed.astype(np.float32)\n",
        "    copyPreprocessed = cv2.cvtColor(copyPreprocessed, cv2.COLOR_BGR2GRAY)\n",
        "    features = featuresExtraction(preprocessedMorphMc, candidates, features, imgMask, imgGroundTruth, image, 'test')\n",
        "    features = featuresExtractionHaarWavelet(preprocessedMorphMc, candidates, features, imgMask, imgGroundTruth, image, 'test')\n",
        "\n",
        "    # ML must be applied for the classification of the features extracted\n",
        "\n",
        "    ################ ERASE MEMORY\n",
        "    # import gc\n",
        "    # del features\n",
        "    # del preprocessed\n",
        "    # del candidates\n",
        "    # # del blobs\n",
        "    # del copyPreprocessed\n",
        "    # del imgCopy\n",
        "    # del img\n",
        "    # del imgMask\n",
        "    # del imgGroundTruth\n",
        "    # gc.collect()\n",
        "    ############################\n",
        "\n",
        "    # end image processing part #\n",
        "\n",
        "    # display related #\n",
        "\n",
        "    # # matrix of plots and size of the figure\n",
        "    figure, axis = plt.subplots(2, 3, figsize=(15,15))\n",
        "    #                          [0][0] - [0][1] - [0][2] | [1][0] - [1][1] - [1][2]\n",
        "    display_grid(figure, axis, img, imgGroundTruth, preprocessedMorphMc, img, preprocessedDil, imgGroundTruth )\n",
        "    plt.subplots_adjust(wspace=0, hspace=0)\n",
        "\n",
        "    # #ucasdeeplearning2@gmail.com display figure with image\n",
        "    plt.show() "
      ]
    },
    {
      "cell_type": "markdown",
      "metadata": {
        "id": "VRSMyeuNzT_W"
      },
      "source": [
        "## CONCLUSIONS FOR PREPROCESSING"
      ]
    },
    {
      "cell_type": "markdown",
      "metadata": {
        "id": "7KoeGI1Nzbtn"
      },
      "source": [
        "* still missing quantum noise supression\n",
        "\n",
        "* details in the phd defense file\n",
        "\n",
        "* Observations from the results:\n",
        "    * fiber intersections may also appear as bright spots (false positives)\n",
        "\n",
        "* THINGS WE NOTICE BETWEEN BOTH DEHAZING METHODS\n",
        "    * Better suppression of fatty tissue (noise) and greater enhancement of brightness of desired feature (microcalcifications)\n",
        "    * sometimes for the other dehazing method black patches become present in the fatty tissue\n",
        "    * this did not happen in the dehazing with dark channel prior (and guided filter)\n",
        "    * sharper\n",
        "    * enhances the contrast and details\n",
        "\n",
        "* Observations from the results:\n",
        "    * images with pectoral muscule cause false positives"
      ]
    },
    {
      "cell_type": "markdown",
      "metadata": {
        "id": "PT59L1o0QMWI"
      },
      "source": [
        "# Counting the labels per image"
      ]
    },
    {
      "cell_type": "code",
      "execution_count": 25,
      "metadata": {
        "id": "V5dQ53MoRjlK"
      },
      "outputs": [],
      "source": [
        "def imshow_components(labels):\n",
        "    # Map component labels to hue val\n",
        "    label_hue = np.uint8(179*labels/np.max(labels))\n",
        "    blank_ch = 255*np.ones_like(label_hue)\n",
        "    labeled_img = cv2.merge([label_hue, blank_ch, blank_ch])\n",
        "\n",
        "    # cvt to BGR for display\n",
        "    labeled_img = cv2.cvtColor(labeled_img, cv2.COLOR_HSV2BGR)\n",
        "\n",
        "    # set bg label to black\n",
        "    labeled_img[label_hue==0] = 0\n",
        "\n",
        "    plt.imshow(labeled_img)\n",
        "    "
      ]
    },
    {
      "cell_type": "code",
      "execution_count": 26,
      "metadata": {
        "colab": {
          "base_uri": "https://localhost:8080/",
          "height": 237
        },
        "id": "k23efzBIQLYn",
        "outputId": "f9586cd5-49f7-4c9f-84e3-8f92a54485c0"
      },
      "outputs": [
        {
          "output_type": "error",
          "ename": "StopIteration",
          "evalue": "ignored",
          "traceback": [
            "\u001b[0;31m---------------------------------------------------------------------------\u001b[0m",
            "\u001b[0;31mStopIteration\u001b[0m                             Traceback (most recent call last)",
            "\u001b[0;32m<ipython-input-26-6748ab83d2a9>\u001b[0m in \u001b[0;36m<module>\u001b[0;34m()\u001b[0m\n\u001b[1;32m     13\u001b[0m \u001b[0;31m# read specific folder for result\u001b[0m\u001b[0;34m\u001b[0m\u001b[0;34m\u001b[0m\u001b[0;34m\u001b[0m\u001b[0m\n\u001b[1;32m     14\u001b[0m _, _, results = next(os.walk(os.path.join( RESULTS,\n\u001b[0;32m---> 15\u001b[0;31m                                            folder)))\n\u001b[0m\u001b[1;32m     16\u001b[0m \u001b[0;34m\u001b[0m\u001b[0m\n\u001b[1;32m     17\u001b[0m \u001b[0;31m# read the groundtruths\u001b[0m\u001b[0;34m\u001b[0m\u001b[0;34m\u001b[0m\u001b[0;34m\u001b[0m\u001b[0m\n",
            "\u001b[0;31mStopIteration\u001b[0m: "
          ]
        }
      ],
      "source": [
        "# count the candidates\n",
        "# count the candidates in the ground truth \n",
        "\n",
        "microCalcifications = pd.DataFrame()\n",
        "\n",
        "RESULTS = os.path.join('/content',\n",
        "                        'drive',\n",
        "                        'MyDrive',\n",
        "                        'Results')\n",
        "\n",
        "folder = 'dehazingDarkGuidedFilter+dilation+DoH+(Haar+GLCM)'\n",
        "\n",
        "# read specific folder for result\n",
        "_, _, results = next(os.walk(os.path.join( RESULTS,\n",
        "                                           folder)))\n",
        "\n",
        "# read the groundtruths\n",
        "_, _, groundtruths = next(os.walk(os.path.join(DATA_DIR, 'groundtruths')))\n",
        "\n",
        "\n",
        "#sort\n",
        "groundtruths.sort()\n",
        "results.sort()\n",
        "\n",
        "# shape of the csv with the name of image, count of mc and count of true mc\n",
        "dictCount = {}\n",
        "\n",
        "# for each groundtruth image corresponding to the csv result\n",
        "# get the connected components that are microcalcification (area to discard from breast component and bg) \n",
        "# create csv with name and those two countings\n",
        "for result, groundtruth in zip(results, groundtruths):\n",
        "  # read microcalcifications results\n",
        "\n",
        "  # csv\n",
        "  microCalcifications['name'] = str(result)\n",
        "  \n",
        "  pdResults = pd.read_csv(os.path.join(RESULTS, folder, result))\n",
        "  microCalcifications['count MC'] = np.sum(pdResults['label'])/3\n",
        "\n",
        "  #image\n",
        "  sum = 0\n",
        "  trueMicroCalficications = cv2.imread(os.path.join(DATA_DIR, 'groundtruths'))\n",
        "  #trueMicroCalficications = np.float32(trueMicroCalficications)\n",
        "\n",
        "  #trueMicroCalficications = cv2.cvtColor(trueMicroCalficications, cv2.COLOR_BGR2GRAY)\n",
        "  num_labels, labels_im = cv2.connectedComponents(trueMicroCalficications)\n",
        "\n",
        "  # numLabelsMC, labelsMC, statsMC, centroidsMC = componentsStatsGroundTruth(trueMicroCalficications)  \n",
        "  # print(\"stat: \", statsMC)\n",
        "  # print(\"numLabel: \", numLabelsMC)\n",
        "  # print(\"label: \", labelsMC)\n",
        "  # print(\"centroid: \", centroidsMC)\n",
        "\n",
        "\n",
        "\n",
        "  # # filter out the components that are probably not microcalcifications\n",
        "  # for numLabel, label, stat, centroid in zip(numLabelsMC, labelsMC, statsMC, centroidsMC):\n",
        "  #   print(\"stat: \", stat)\n",
        "\n",
        "\n",
        "# # save the info in the csv\n",
        "# dictCount.to_csv(os.path.join('/content',\n",
        "#                               'drive',\n",
        "#                               'MyDrive',\n",
        "#                               folder+'_counting.csv',\n",
        "                              \n",
        "#                 mode='a',\n",
        "#                 index=False)\n",
        "\n",
        "  imshow_components(labels_im)\n",
        "\n",
        "  break\n",
        "\n"
      ]
    }
  ],
  "metadata": {
    "colab": {
      "collapsed_sections": [],
      "name": "PipelineDraftGrayMorph.ipynb",
      "provenance": [],
      "include_colab_link": true
    },
    "kernelspec": {
      "display_name": "Python 3",
      "name": "python3"
    },
    "language_info": {
      "name": "python"
    }
  },
  "nbformat": 4,
  "nbformat_minor": 0
}