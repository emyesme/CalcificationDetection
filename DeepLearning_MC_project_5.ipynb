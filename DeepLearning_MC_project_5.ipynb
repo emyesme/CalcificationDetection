{
  "cells": [
    {
      "cell_type": "markdown",
      "metadata": {
        "id": "view-in-github",
        "colab_type": "text"
      },
      "source": [
        "<a href=\"https://colab.research.google.com/github/emyesme/CalcificationDetection/blob/feature-pm/DeepLearning_MC_project_5.ipynb\" target=\"_parent\"><img src=\"https://colab.research.google.com/assets/colab-badge.svg\" alt=\"Open In Colab\"/></a>"
      ]
    },
    {
      "cell_type": "code",
      "execution_count": null,
      "metadata": {
        "colab": {
          "base_uri": "https://localhost:8080/"
        },
        "id": "hAem5pBbW9eM",
        "outputId": "9c7f7399-1cd6-45b6-b029-a23739447b0f"
      },
      "outputs": [
        {
          "output_type": "stream",
          "name": "stdout",
          "text": [
            "Mounted at /content/drive\n"
          ]
        }
      ],
      "source": [
        "from google.colab import drive\n",
        "\n",
        "# This will prompt for authorization.\n",
        "drive.mount('/content/drive')"
      ]
    },
    {
      "cell_type": "code",
      "execution_count": null,
      "metadata": {
        "colab": {
          "base_uri": "https://localhost:8080/"
        },
        "id": "u27ZtWK1XAY-",
        "outputId": "aedd82b8-46aa-4f37-b50b-4fa07ce25d27"
      },
      "outputs": [
        {
          "output_type": "stream",
          "name": "stdout",
          "text": [
            "['X_train.csv', 'test', 'X_train2.csv', 'X_train3.csv', '4.dehazingDC+DoH(0.0005)+GLCM', '5.dehazingDilBlur+DoH+GLCM', 'FROC_calculations_KNN_pip4_5296.csv', 'FROC_calculations_DT_pip4_fn5173_normals57.csv', 'FROC_calculations_DT_pip4_fn294_normals57.csv', 'FROC_calculations_DT_pip6_fn235_normals39.csv', 'FROC_calculations_DT_pip6_fn257_normals37.csv', 'FROC_calculations_DT_pip6_fn203_normals57.csv', 'FROC_calculations_DT_pip4_fn203_normals57.csv', '8.dehazingDil+DoG+GLCM', '6.dehazingMorph+DoH+HaarWaveletGLCM', '10.CLAHE+Dehazing+Dil(3,3)+DoGTweak+GLCM', 'groundTruthStats.gsheet', 'groundTruthStats.csv', 'DehazingDarkChannel_GuidedFilter', 'CLAHE+Dehazing', 'CLAHE+Dehazing+GrayMorph', '10-1.CLAHE+Dehazing+Dil(3,3)+DoGTweak(0.06)+GLCM', 'Pipeline_Prepro10-DoGTweakOf8', 'TestLBP', '13.CLAHE+Dehazing+Dil(3,3)+DoG(10)+LBP+GLCM', '12.CLAHE+Dehazing+GrayMorph+Dil(3,3)+DoGTweak', 'Patches_complete', 'Patches', '10', '12', 'FROC_calculations_SVM-SEL_pip10_fn479_normals57.csv', 'FROC_calculations_SVM-SEL_pip10_fn479_normals57_fp.csv', 'SensitivityResults', 'CandidatesPipeline8', 'CandidatesPipeline10', 'FROC_calculations_SVM-SEL_pip10_fn167_normals57.csv', 'clahe+dehazing+bgr (1)', 'clahe+dehazing+bgr', 'clahe+dehazing+bgr1', 'standard_partitions.csv', 'proi_files', 'CandidatesPipeline10_8', 'modeltry1.pt', 'model_try1.pt', 'CLAHE+Dehazing+HaarWavelet2', 'Pipeline10_fos_mahotas_glcm', 'GLCMFeatsTacha', 'Pipeline10_fos_mahotas_haar_glcm', 'P10_haar_glcm_unchange', 'model_12_1.pt', 'model_12_2.pt', 'model_12_2_final.pt', 'Calcification Detection.gslides', 'model_12_4.pt', 'model_12_5.pt']\n"
          ]
        }
      ],
      "source": [
        "import os \n",
        "\n",
        "#first put a shortcut in your drive to the image processing folder\n",
        "\n",
        "RESULTS_DIR = os.path.join('/content',\n",
        "                        'drive',\n",
        "                        'MyDrive',\n",
        "                        'Results')\n",
        "\n",
        "\n",
        "DATA_DIR = os.path.join('/content',\n",
        "                        'drive',\n",
        "                        'MyDrive',\n",
        "                        'Image Processing and Analysis 2022',\n",
        "                        'projects',\n",
        "                        'Calcification Detection',\n",
        "                        'dataset')\n",
        "\n",
        "PROI_DIR = os.path.join('/content',\n",
        "                        'drive',\n",
        "                        'MyDrive',\n",
        "                        'Results', \n",
        "                        'proi_files')\n",
        "\n",
        "print(os.listdir(RESULTS_DIR))\n",
        "\n",
        "data_file = os.listdir(RESULTS_DIR)"
      ]
    },
    {
      "cell_type": "code",
      "execution_count": null,
      "metadata": {
        "colab": {
          "base_uri": "https://localhost:8080/"
        },
        "id": "OqbV7UqFBeKA",
        "outputId": "ce30385b-8895-4913-de71-f0f8be310984"
      },
      "outputs": [
        {
          "output_type": "stream",
          "name": "stdout",
          "text": [
            "Looking in indexes: https://pypi.org/simple, https://us-python.pkg.dev/colab-wheels/public/simple/\n",
            "Collecting torchmetrics\n",
            "  Downloading torchmetrics-0.9.0-py3-none-any.whl (418 kB)\n",
            "\u001b[K     |████████████████████████████████| 418 kB 4.3 MB/s \n",
            "\u001b[?25hRequirement already satisfied: packaging in /usr/local/lib/python3.7/dist-packages (from torchmetrics) (21.3)\n",
            "Requirement already satisfied: typing-extensions in /usr/local/lib/python3.7/dist-packages (from torchmetrics) (4.2.0)\n",
            "Requirement already satisfied: torch>=1.3.1 in /usr/local/lib/python3.7/dist-packages (from torchmetrics) (1.11.0+cu113)\n",
            "Requirement already satisfied: numpy>=1.17.2 in /usr/local/lib/python3.7/dist-packages (from torchmetrics) (1.21.6)\n",
            "Requirement already satisfied: pyparsing!=3.0.5,>=2.0.2 in /usr/local/lib/python3.7/dist-packages (from packaging->torchmetrics) (3.0.9)\n",
            "Installing collected packages: torchmetrics\n",
            "Successfully installed torchmetrics-0.9.0\n"
          ]
        }
      ],
      "source": [
        "pip install torchmetrics"
      ]
    },
    {
      "cell_type": "code",
      "execution_count": null,
      "metadata": {
        "id": "_9rhux8SW0Ts"
      },
      "outputs": [],
      "source": [
        "# import the required packages\n",
        "import os\n",
        "import time\n",
        "import matplotlib.pyplot as plt\n",
        "import numpy as np\n",
        "import torch\n",
        "import torch.nn as nn\n",
        "import torch.optim as optim\n",
        "import torchvision\n",
        "import torchvision.transforms as transforms\n",
        "import torch.utils.data as data\n",
        "import copy\n",
        "\n",
        "from torchmetrics import F1Score\n",
        "from torchmetrics.functional import auroc\n",
        "from torchmetrics.functional import precision_recall\n",
        "from torchmetrics import AUROC"
      ]
    },
    {
      "cell_type": "code",
      "execution_count": null,
      "metadata": {
        "id": "I0CzC_YGW1Yx"
      },
      "outputs": [],
      "source": [
        "# hyperparameters\n",
        "batch_size = 32\n",
        "learning_rate = 0.001\n",
        "epochs = 30\n",
        "momentum = 0.9\n",
        "lr_step_size = 6   # if < epochs, we are using decaying learning rate\n",
        "lr_gamma = 0.1\n",
        "data_augmentation = True\n",
        "dropout = 0.5\n",
        "activation = nn.ReLU()\n",
        "\n",
        "# make visible only one GPU at the time\n",
        "os.environ[\"CUDA_VISIBLE_DEVICES\"] = \"0\"  # <-- should be the ID of the GPU you want to use\n",
        "\n",
        "# options\n",
        "# device = \"cuda:0\"           # put here \"cuda:0\" if you want to run on GPU\n",
        "device = torch.device(\"cuda:0\" if torch.cuda.is_available() else \"cpu\")\n",
        "monitor_display = True      # whether to display monitored performance plots\n",
        "display_first_n = 0         # how many samples/batches are displayed\n",
        "num_workers = 2             # how many workers (=threads) for fetching data\n",
        "pretrained = False          # whether to test a pretrained model (to be loaded) or train a new one\n",
        "display_errors = True       # whether to display errors (only in pretrained mode)"
      ]
    },
    {
      "cell_type": "code",
      "execution_count": null,
      "metadata": {
        "id": "YMoibauPrDjm"
      },
      "outputs": [],
      "source": [
        "import torchvision.transforms.functional as TF\n",
        "import random\n",
        "\n",
        "random.seed(1)\n",
        "# We need to use numpy for rotation transformation\n",
        "# For sigma and mean we nee to do patch wise\n",
        "\n",
        "\n",
        "class MyRotationTransform:\n",
        "    \"\"\"Rotate by one of the given angles.\"\"\"\n",
        "\n",
        "    def __init__(self, times, mode):\n",
        "        self.times = times\n",
        "        self.mode = mode\n",
        "\n",
        "    def __call__(self, x):\n",
        "        mode = random.choice(self.mode)\n",
        "        if mode == 0:\n",
        "          return np.fliplr(x)\n",
        "        elif mode == 1:\n",
        "          return np.flipud(x)\n",
        "        else:   \n",
        "          times = random.choice(self.times)\n",
        "          return np.rot90(x, times)\n",
        "# -90, 0, 90, and 180 degrees rotation\n",
        "\n",
        "#rotation_transform = MyRotationTransform(angles=[-90, 0, 90, 180])\n",
        "\n",
        "# DataAugmentation = transforms.RandomApply(\n",
        "#         [ np.RandomHorizontalFlip(), \n",
        "#      transforms.RandomVerticalFlip(),\n",
        "#      #transforms.RandomRotation(90, fill=(0,)),\n",
        "#       MyRotationTransform(times=[1,2,3])] , p=0.5)  # fill=(0,) is a workaround for the torchvision bug tracked at https://github.com/pytorch/vision/issues/1759#issuecomment-575307516\n",
        "\n",
        "class Convert(object):\n",
        "    def __call__(self, img):\n",
        "        return torch.unsqueeze(torch.from_numpy(img.astype('float')), 0).float()\n",
        "\n",
        "transform_train = transforms.Compose(\n",
        "    [MyRotationTransform(times=[1,2,3], mode=[0,1,2,3])]) \n",
        "\n",
        "# should randomly apply a transformation from the list"
      ]
    },
    {
      "cell_type": "code",
      "execution_count": null,
      "metadata": {
        "id": "qHt3_FWoJHa0"
      },
      "outputs": [],
      "source": [
        "# Calculated from the original training set \n",
        "mu = [23227.7412] # mean\n",
        "std = [3587.8953] # Standard deviation\n"
      ]
    },
    {
      "cell_type": "code",
      "execution_count": null,
      "metadata": {
        "id": "lJ4ZsdP4ZVj5"
      },
      "outputs": [],
      "source": [
        "transform_normalize = transforms.Normalize(mean=[mu], std=[std])"
      ]
    },
    {
      "cell_type": "markdown",
      "metadata": {
        "id": "gm8zZBDDYdjy"
      },
      "source": [
        "**Load information**"
      ]
    },
    {
      "cell_type": "code",
      "execution_count": null,
      "metadata": {
        "id": "4ZxH2BvIYZae"
      },
      "outputs": [],
      "source": [
        "windowSize = 12\n",
        "noMC_file_train = os.path.join(PROI_DIR, 'train-validation-test', 'noMC.w{}.train.proi'.format(windowSize))\n",
        "MC_file_train = os.path.join(PROI_DIR, 'train-validation-test', 'MC.w{}.train.proi'.format(windowSize))"
      ]
    },
    {
      "cell_type": "code",
      "execution_count": null,
      "metadata": {
        "id": "aC4zps30ZIpJ"
      },
      "outputs": [],
      "source": [
        "noMC_file_test = os.path.join(PROI_DIR, 'train-validation-test', 'noMC.w{}.test.proi'.format(windowSize))\n",
        "MC_file_test = os.path.join(PROI_DIR, 'train-validation-test', 'MC.w{}.test.proi'.format(windowSize))\n",
        "noMC_file_validation = os.path.join(PROI_DIR, 'train-validation-test', 'noMC.w{}.validation.proi'.format(windowSize))\n",
        "MC_file_validation = os.path.join(PROI_DIR, 'train-validation-test', 'MC.w{}.validation.proi'.format(windowSize))"
      ]
    },
    {
      "cell_type": "code",
      "execution_count": null,
      "metadata": {
        "colab": {
          "base_uri": "https://localhost:8080/"
        },
        "id": "TSDpWbCcXc9o",
        "outputId": "1b2ccb92-a06b-4d70-b93b-8be51d4a1190"
      },
      "outputs": [
        {
          "output_type": "stream",
          "name": "stdout",
          "text": [
            "\n",
            "Load dataset:\n",
            "...load images from 2 classes \n",
            "...image /content/drive/MyDrive/Image Processing and Analysis 2022/projects/Calcification Detection/dataset/images/20587054_b6a4f750c6df4f90_MG_R_CC_ANON.tif loaded and added to pool\n",
            "...image /content/drive/MyDrive/Image Processing and Analysis 2022/projects/Calcification Detection/dataset/images/20587148_fd746d25eb40b3dc_MG_R_CC_ANON.tif loaded and added to pool\n",
            "...image /content/drive/MyDrive/Image Processing and Analysis 2022/projects/Calcification Detection/dataset/images/20587174_fd746d25eb40b3dc_MG_L_CC_ANON.tif loaded and added to pool\n",
            "...image /content/drive/MyDrive/Image Processing and Analysis 2022/projects/Calcification Detection/dataset/images/20587200_fd746d25eb40b3dc_MG_R_ML_ANON.tif loaded and added to pool\n",
            "...image /content/drive/MyDrive/Image Processing and Analysis 2022/projects/Calcification Detection/dataset/images/20587226_fd746d25eb40b3dc_MG_L_ML_ANON.tif loaded and added to pool\n",
            "...image /content/drive/MyDrive/Image Processing and Analysis 2022/projects/Calcification Detection/dataset/images/20587294_e634830794f5c1bd_MG_R_CC_ANON.tif loaded and added to pool\n",
            "...image /content/drive/MyDrive/Image Processing and Analysis 2022/projects/Calcification Detection/dataset/images/20587372_e634830794f5c1bd_MG_L_ML_ANON.tif loaded and added to pool\n",
            "...image /content/drive/MyDrive/Image Processing and Analysis 2022/projects/Calcification Detection/dataset/images/20587466_d571b5880ad2a016_MG_L_CC_ANON.tif loaded and added to pool\n",
            "...image /content/drive/MyDrive/Image Processing and Analysis 2022/projects/Calcification Detection/dataset/images/20587492_d571b5880ad2a016_MG_R_ML_ANON.tif loaded and added to pool\n",
            "...image /content/drive/MyDrive/Image Processing and Analysis 2022/projects/Calcification Detection/dataset/images/20587518_d571b5880ad2a016_MG_L_ML_ANON.tif loaded and added to pool\n",
            "...image /content/drive/MyDrive/Image Processing and Analysis 2022/projects/Calcification Detection/dataset/images/20587544_d571b5880ad2a016_MG_R_CC_ANON.tif loaded and added to pool\n",
            "...image /content/drive/MyDrive/Image Processing and Analysis 2022/projects/Calcification Detection/dataset/images/20587612_f4b2d377f43ba0bd_MG_R_CC_ANON.tif loaded and added to pool\n",
            "...image /content/drive/MyDrive/Image Processing and Analysis 2022/projects/Calcification Detection/dataset/images/20587638_f4b2d377f43ba0bd_MG_L_CC_ANON.tif loaded and added to pool\n",
            "...image /content/drive/MyDrive/Image Processing and Analysis 2022/projects/Calcification Detection/dataset/images/20587664_f4b2d377f43ba0bd_MG_R_ML_ANON.tif loaded and added to pool\n",
            "...image /content/drive/MyDrive/Image Processing and Analysis 2022/projects/Calcification Detection/dataset/images/20587690_f4b2d377f43ba0bd_MG_L_ML_ANON.tif loaded and added to pool\n",
            "...image /content/drive/MyDrive/Image Processing and Analysis 2022/projects/Calcification Detection/dataset/images/20587758_81cd83d2f4d78528_MG_L_CC_ANON.tif loaded and added to pool\n",
            "...image /content/drive/MyDrive/Image Processing and Analysis 2022/projects/Calcification Detection/dataset/images/20587784_81cd83d2f4d78528_MG_R_ML_ANON.tif loaded and added to pool\n",
            "...image /content/drive/MyDrive/Image Processing and Analysis 2022/projects/Calcification Detection/dataset/images/20587836_81cd83d2f4d78528_MG_R_CC_ANON.tif loaded and added to pool\n",
            "...image /content/drive/MyDrive/Image Processing and Analysis 2022/projects/Calcification Detection/dataset/images/20588334_493155e17143edef_MG_L_CC_ANON.tif loaded and added to pool\n",
            "...image /content/drive/MyDrive/Image Processing and Analysis 2022/projects/Calcification Detection/dataset/images/22580015_6200187f3f1ccc18_MG_R_CC_ANON.tif loaded and added to pool\n",
            "...image /content/drive/MyDrive/Image Processing and Analysis 2022/projects/Calcification Detection/dataset/images/22580068_6200187f3f1ccc18_MG_R_ML_ANON.tif loaded and added to pool\n",
            "...image /content/drive/MyDrive/Image Processing and Analysis 2022/projects/Calcification Detection/dataset/images/22580098_6200187f3f1ccc18_MG_L_ML_ANON.tif loaded and added to pool\n",
            "...image /content/drive/MyDrive/Image Processing and Analysis 2022/projects/Calcification Detection/dataset/images/22580654_fe7d005dcbbfb46d_MG_R_CC_ANON.tif loaded and added to pool\n",
            "...image /content/drive/MyDrive/Image Processing and Analysis 2022/projects/Calcification Detection/dataset/images/22580680_fe7d005dcbbfb46d_MG_L_CC_ANON.tif loaded and added to pool\n",
            "...image /content/drive/MyDrive/Image Processing and Analysis 2022/projects/Calcification Detection/dataset/images/22580732_fe7d005dcbbfb46d_MG_L_ML_ANON.tif loaded and added to pool\n",
            "...image /content/drive/MyDrive/Image Processing and Analysis 2022/projects/Calcification Detection/dataset/images/22613770_45c7f44839fd9e68_MG_R_CC_ANON.tif loaded and added to pool\n",
            "...image /content/drive/MyDrive/Image Processing and Analysis 2022/projects/Calcification Detection/dataset/images/22613796_45c7f44839fd9e68_MG_L_CC_ANON.tif loaded and added to pool\n",
            "...image /content/drive/MyDrive/Image Processing and Analysis 2022/projects/Calcification Detection/dataset/images/22613822_45c7f44839fd9e68_MG_R_ML_ANON.tif loaded and added to pool\n",
            "...image /content/drive/MyDrive/Image Processing and Analysis 2022/projects/Calcification Detection/dataset/images/22613848_45c7f44839fd9e68_MG_L_ML_ANON.tif loaded and added to pool\n",
            "...image /content/drive/MyDrive/Image Processing and Analysis 2022/projects/Calcification Detection/dataset/images/22613918_f23fa352e7de3dc7_MG_R_CC_ANON.tif loaded and added to pool\n",
            "...image /content/drive/MyDrive/Image Processing and Analysis 2022/projects/Calcification Detection/dataset/images/22613970_f23fa352e7de3dc7_MG_R_ML_ANON.tif loaded and added to pool\n",
            "...image /content/drive/MyDrive/Image Processing and Analysis 2022/projects/Calcification Detection/dataset/images/22613996_f23fa352e7de3dc7_MG_L_ML_ANON.tif loaded and added to pool\n",
            "...image /content/drive/MyDrive/Image Processing and Analysis 2022/projects/Calcification Detection/dataset/images/22614074_6bd24a0a42c19ce1_MG_R_CC_ANON.tif loaded and added to pool\n",
            "...image /content/drive/MyDrive/Image Processing and Analysis 2022/projects/Calcification Detection/dataset/images/22614097_6bd24a0a42c19ce1_MG_L_CC_ANON.tif loaded and added to pool\n",
            "...image /content/drive/MyDrive/Image Processing and Analysis 2022/projects/Calcification Detection/dataset/images/22614127_6bd24a0a42c19ce1_MG_R_ML_ANON.tif loaded and added to pool\n",
            "...image /content/drive/MyDrive/Image Processing and Analysis 2022/projects/Calcification Detection/dataset/images/22614150_6bd24a0a42c19ce1_MG_L_ML_ANON.tif loaded and added to pool\n",
            "...image /content/drive/MyDrive/Image Processing and Analysis 2022/projects/Calcification Detection/dataset/images/22670278_98429c0bdf78c0c7_MG_R_CC_ANON.tif loaded and added to pool\n",
            "...image /content/drive/MyDrive/Image Processing and Analysis 2022/projects/Calcification Detection/dataset/images/22670301_98429c0bdf78c0c7_MG_L_CC_ANON.tif loaded and added to pool\n",
            "...image /content/drive/MyDrive/Image Processing and Analysis 2022/projects/Calcification Detection/dataset/images/22670324_98429c0bdf78c0c7_MG_R_ML_ANON.tif loaded and added to pool\n",
            "...image /content/drive/MyDrive/Image Processing and Analysis 2022/projects/Calcification Detection/dataset/images/22670347_98429c0bdf78c0c7_MG_L_ML_ANON.tif loaded and added to pool\n",
            "...image /content/drive/MyDrive/Image Processing and Analysis 2022/projects/Calcification Detection/dataset/images/22678953_b9a4da5f2dae63a9_MG_R_CC_ANON.tif loaded and added to pool\n",
            "...image /content/drive/MyDrive/Image Processing and Analysis 2022/projects/Calcification Detection/dataset/images/22678980_b9a4da5f2dae63a9_MG_L_CC_ANON.tif loaded and added to pool\n",
            "...image /content/drive/MyDrive/Image Processing and Analysis 2022/projects/Calcification Detection/dataset/images/22679036_b9a4da5f2dae63a9_MG_L_ML_ANON.tif loaded and added to pool\n",
            "...image /content/drive/MyDrive/Image Processing and Analysis 2022/projects/Calcification Detection/dataset/images/24055149_606e9b184978a350_MG_L_ML_ANON.tif loaded and added to pool\n",
            "...image /content/drive/MyDrive/Image Processing and Analysis 2022/projects/Calcification Detection/dataset/images/24055176_606e9b184978a350_MG_R_ML_ANON.tif loaded and added to pool\n",
            "...image /content/drive/MyDrive/Image Processing and Analysis 2022/projects/Calcification Detection/dataset/images/24055203_606e9b184978a350_MG_L_CC_ANON.tif loaded and added to pool\n",
            "...image /content/drive/MyDrive/Image Processing and Analysis 2022/projects/Calcification Detection/dataset/images/24055274_1e10aef17c9fe149_MG_L_ML_ANON.tif loaded and added to pool\n",
            "...image /content/drive/MyDrive/Image Processing and Analysis 2022/projects/Calcification Detection/dataset/images/24055328_1e10aef17c9fe149_MG_R_ML_ANON.tif loaded and added to pool\n",
            "...image /content/drive/MyDrive/Image Processing and Analysis 2022/projects/Calcification Detection/dataset/images/24055382_1e10aef17c9fe149_MG_R_CC_ANON.tif loaded and added to pool\n",
            "...image /content/drive/MyDrive/Image Processing and Analysis 2022/projects/Calcification Detection/dataset/images/24055573_6f1aef40b3775182_MG_L_ML_ANON.tif loaded and added to pool\n",
            "...image /content/drive/MyDrive/Image Processing and Analysis 2022/projects/Calcification Detection/dataset/images/24055654_6f1aef40b3775182_MG_R_CC_ANON.tif loaded and added to pool\n",
            "...image /content/drive/MyDrive/Image Processing and Analysis 2022/projects/Calcification Detection/dataset/images/24055752_f0f1a133837b5137_MG_R_ML_ANON.tif loaded and added to pool\n",
            "...image /content/drive/MyDrive/Image Processing and Analysis 2022/projects/Calcification Detection/dataset/images/24055779_f0f1a133837b5137_MG_L_CC_ANON.tif loaded and added to pool\n",
            "...image /content/drive/MyDrive/Image Processing and Analysis 2022/projects/Calcification Detection/dataset/images/24055806_f0f1a133837b5137_MG_R_CC_ANON.tif loaded and added to pool\n",
            "...image /content/drive/MyDrive/Image Processing and Analysis 2022/projects/Calcification Detection/dataset/images/24055877_839819f2eadaf325_MG_L_ML_ANON.tif loaded and added to pool\n",
            "...image /content/drive/MyDrive/Image Processing and Analysis 2022/projects/Calcification Detection/dataset/images/24055931_839819f2eadaf325_MG_L_CC_ANON.tif loaded and added to pool\n",
            "...image /content/drive/MyDrive/Image Processing and Analysis 2022/projects/Calcification Detection/dataset/images/24055958_839819f2eadaf325_MG_R_CC_ANON.tif loaded and added to pool\n",
            "...image /content/drive/MyDrive/Image Processing and Analysis 2022/projects/Calcification Detection/dataset/images/24065289_c4b995eddb3c510c_MG_L_CC_ANON.tif loaded and added to pool\n",
            "...image /content/drive/MyDrive/Image Processing and Analysis 2022/projects/Calcification Detection/dataset/images/24065308_c4b995eddb3c510c_MG_R_CC_ANON.tif loaded and added to pool\n",
            "...image /content/drive/MyDrive/Image Processing and Analysis 2022/projects/Calcification Detection/dataset/images/24065380_83db89f57aea498a_MG_L_ML_ANON.tif loaded and added to pool\n",
            "...image /content/drive/MyDrive/Image Processing and Analysis 2022/projects/Calcification Detection/dataset/images/24065407_83db89f57aea498a_MG_R_ML_ANON.tif loaded and added to pool\n",
            "...image /content/drive/MyDrive/Image Processing and Analysis 2022/projects/Calcification Detection/dataset/images/24065434_83db89f57aea498a_MG_L_CC_ANON.tif loaded and added to pool\n",
            "...image /content/drive/MyDrive/Image Processing and Analysis 2022/projects/Calcification Detection/dataset/images/24065461_83db89f57aea498a_MG_R_CC_ANON.tif loaded and added to pool\n",
            "...image /content/drive/MyDrive/Image Processing and Analysis 2022/projects/Calcification Detection/dataset/images/24065557_d8205a09c8173f44_MG_R_ML_ANON.tif loaded and added to pool\n",
            "...image /content/drive/MyDrive/Image Processing and Analysis 2022/projects/Calcification Detection/dataset/images/24065584_d8205a09c8173f44_MG_L_CC_ANON.tif loaded and added to pool\n",
            "...image /content/drive/MyDrive/Image Processing and Analysis 2022/projects/Calcification Detection/dataset/images/24065611_d8205a09c8173f44_MG_R_CC_ANON.tif loaded and added to pool\n",
            "...image /content/drive/MyDrive/Image Processing and Analysis 2022/projects/Calcification Detection/dataset/images/24065680_5291e1aee2bbf5df_MG_L_ML_ANON.tif loaded and added to pool\n",
            "...image /content/drive/MyDrive/Image Processing and Analysis 2022/projects/Calcification Detection/dataset/images/24065707_5291e1aee2bbf5df_MG_R_ML_ANON.tif loaded and added to pool\n",
            "...image /content/drive/MyDrive/Image Processing and Analysis 2022/projects/Calcification Detection/dataset/images/24065734_5291e1aee2bbf5df_MG_L_CC_ANON.tif loaded and added to pool\n",
            "...image /content/drive/MyDrive/Image Processing and Analysis 2022/projects/Calcification Detection/dataset/images/24065833_c01f83a1eb283270_MG_L_ML_ANON.tif loaded and added to pool\n",
            "...image /content/drive/MyDrive/Image Processing and Analysis 2022/projects/Calcification Detection/dataset/images/24065860_c01f83a1eb283270_MG_R_ML_ANON.tif loaded and added to pool\n",
            "...image /content/drive/MyDrive/Image Processing and Analysis 2022/projects/Calcification Detection/dataset/images/24065887_c01f83a1eb283270_MG_L_CC_ANON.tif loaded and added to pool\n",
            "...image /content/drive/MyDrive/Image Processing and Analysis 2022/projects/Calcification Detection/dataset/images/24065914_c01f83a1eb283270_MG_R_CC_ANON.tif loaded and added to pool\n",
            "...image /content/drive/MyDrive/Image Processing and Analysis 2022/projects/Calcification Detection/dataset/images/26933772_f8bfddc28e8045c0_MG_R_CC_ANON.tif loaded and added to pool\n",
            "...image /content/drive/MyDrive/Image Processing and Analysis 2022/projects/Calcification Detection/dataset/images/26933801_f8bfddc28e8045c0_MG_L_CC_ANON.tif loaded and added to pool\n",
            "...image /content/drive/MyDrive/Image Processing and Analysis 2022/projects/Calcification Detection/dataset/images/26933830_f8bfddc28e8045c0_MG_R_ML_ANON.tif loaded and added to pool\n",
            "...image /content/drive/MyDrive/Image Processing and Analysis 2022/projects/Calcification Detection/dataset/images/26933859_f8bfddc28e8045c0_MG_L_ML_ANON.tif loaded and added to pool\n",
            "...image /content/drive/MyDrive/Image Processing and Analysis 2022/projects/Calcification Detection/dataset/images/27829134_fbb55bf7fff48540_MG_R_CC_ANON.tif loaded and added to pool\n",
            "...image /content/drive/MyDrive/Image Processing and Analysis 2022/projects/Calcification Detection/dataset/images/27829188_fbb55bf7fff48540_MG_R_ML_ANON.tif loaded and added to pool\n",
            "...image /content/drive/MyDrive/Image Processing and Analysis 2022/projects/Calcification Detection/dataset/images/27829215_fbb55bf7fff48540_MG_L_ML_ANON.tif loaded and added to pool\n",
            "...image /content/drive/MyDrive/Image Processing and Analysis 2022/projects/Calcification Detection/dataset/images/30011484_349323117bf0fd93_MG_R_CC_ANON.tif loaded and added to pool\n",
            "...image /content/drive/MyDrive/Image Processing and Analysis 2022/projects/Calcification Detection/dataset/images/30011507_349323117bf0fd93_MG_L_CC_ANON.tif loaded and added to pool\n",
            "...image /content/drive/MyDrive/Image Processing and Analysis 2022/projects/Calcification Detection/dataset/images/30011553_349323117bf0fd93_MG_L_ML_ANON.tif loaded and added to pool\n",
            "...image /content/drive/MyDrive/Image Processing and Analysis 2022/projects/Calcification Detection/dataset/images/30011798_4f20c1285d8f0b1f_MG_R_CC_ANON.tif loaded and added to pool\n",
            "...image /content/drive/MyDrive/Image Processing and Analysis 2022/projects/Calcification Detection/dataset/images/30011824_4f20c1285d8f0b1f_MG_L_CC_ANON.tif loaded and added to pool\n",
            "...image /content/drive/MyDrive/Image Processing and Analysis 2022/projects/Calcification Detection/dataset/images/30011850_4f20c1285d8f0b1f_MG_R_ML_ANON.tif loaded and added to pool\n",
            "...image /content/drive/MyDrive/Image Processing and Analysis 2022/projects/Calcification Detection/dataset/images/30318067_4f20c1285d8f0b1f_MG_L_ML_ANON.tif loaded and added to pool\n",
            "...image /content/drive/MyDrive/Image Processing and Analysis 2022/projects/Calcification Detection/dataset/images/50993616_b03f1dd34eb3c55f_MG_L_ML_ANON.tif loaded and added to pool\n",
            "...image /content/drive/MyDrive/Image Processing and Analysis 2022/projects/Calcification Detection/dataset/images/50993643_b03f1dd34eb3c55f_MG_L_CC_ANON.tif loaded and added to pool\n",
            "...image /content/drive/MyDrive/Image Processing and Analysis 2022/projects/Calcification Detection/dataset/images/50993670_b03f1dd34eb3c55f_MG_L_ML_ANON.tif loaded and added to pool\n",
            "...image /content/drive/MyDrive/Image Processing and Analysis 2022/projects/Calcification Detection/dataset/images/50993697_b03f1dd34eb3c55f_MG_L_CC_ANON.tif loaded and added to pool\n",
            "...image /content/drive/MyDrive/Image Processing and Analysis 2022/projects/Calcification Detection/dataset/images/50993787_de5e8d61e501a71b_MG_L_ML_ANON.tif loaded and added to pool\n",
            "...image /content/drive/MyDrive/Image Processing and Analysis 2022/projects/Calcification Detection/dataset/images/50993814_de5e8d61e501a71b_MG_R_ML_ANON.tif loaded and added to pool\n",
            "...image /content/drive/MyDrive/Image Processing and Analysis 2022/projects/Calcification Detection/dataset/images/50993841_de5e8d61e501a71b_MG_L_CC_ANON.tif loaded and added to pool\n",
            "...image /content/drive/MyDrive/Image Processing and Analysis 2022/projects/Calcification Detection/dataset/images/50993868_de5e8d61e501a71b_MG_R_CC_ANON.tif loaded and added to pool\n",
            "...image /content/drive/MyDrive/Image Processing and Analysis 2022/projects/Calcification Detection/dataset/images/50993922_de5e8d61e501a71b_MG_R_ML_ANON.tif loaded and added to pool\n",
            "...image /content/drive/MyDrive/Image Processing and Analysis 2022/projects/Calcification Detection/dataset/images/50993949_de5e8d61e501a71b_MG_L_CC_ANON.tif loaded and added to pool\n",
            "...image /content/drive/MyDrive/Image Processing and Analysis 2022/projects/Calcification Detection/dataset/images/50993976_de5e8d61e501a71b_MG_R_CC_ANON.tif loaded and added to pool\n",
            "...image /content/drive/MyDrive/Image Processing and Analysis 2022/projects/Calcification Detection/dataset/images/50994535_de4c34099d6ef8de_MG_R_ML_ANON.tif loaded and added to pool\n",
            "...image /content/drive/MyDrive/Image Processing and Analysis 2022/projects/Calcification Detection/dataset/images/50994562_de4c34099d6ef8de_MG_R_CC_ANON.tif loaded and added to pool\n",
            "...image /content/drive/MyDrive/Image Processing and Analysis 2022/projects/Calcification Detection/dataset/images/50994616_de4c34099d6ef8de_MG_R_CC_ANON.tif loaded and added to pool\n",
            "...image /content/drive/MyDrive/Image Processing and Analysis 2022/projects/Calcification Detection/dataset/images/50994706_069212ec65a94339_MG_R_CC_ANON.tif loaded and added to pool\n",
            "...image /content/drive/MyDrive/Image Processing and Analysis 2022/projects/Calcification Detection/dataset/images/50994733_069212ec65a94339_MG_L_ML_ANON.tif loaded and added to pool\n",
            "...image /content/drive/MyDrive/Image Processing and Analysis 2022/projects/Calcification Detection/dataset/images/50994760_069212ec65a94339_MG_R_ML_ANON.tif loaded and added to pool\n",
            "...image /content/drive/MyDrive/Image Processing and Analysis 2022/projects/Calcification Detection/dataset/images/50994787_069212ec65a94339_MG_L_CC_ANON.tif loaded and added to pool\n",
            "...image /content/drive/MyDrive/Image Processing and Analysis 2022/projects/Calcification Detection/dataset/images/50994814_069212ec65a94339_MG_L_ML_ANON.tif loaded and added to pool\n",
            "...image /content/drive/MyDrive/Image Processing and Analysis 2022/projects/Calcification Detection/dataset/images/50994895_069212ec65a94339_MG_R_CC_ANON.tif loaded and added to pool\n",
            "...image /content/drive/MyDrive/Image Processing and Analysis 2022/projects/Calcification Detection/dataset/images/50995899_c94d8a1ebd452afe_MG_L_CC_ANON.tif loaded and added to pool\n",
            "...image /content/drive/MyDrive/Image Processing and Analysis 2022/projects/Calcification Detection/dataset/images/50996056_71c1a60d57c5322f_MG_L_ML_ANON.tif loaded and added to pool\n",
            "...image /content/drive/MyDrive/Image Processing and Analysis 2022/projects/Calcification Detection/dataset/images/50996083_71c1a60d57c5322f_MG_R_ML_ANON.tif loaded and added to pool\n",
            "...image /content/drive/MyDrive/Image Processing and Analysis 2022/projects/Calcification Detection/dataset/images/50996137_71c1a60d57c5322f_MG_R_CC_ANON.tif loaded and added to pool\n",
            "...image /content/drive/MyDrive/Image Processing and Analysis 2022/projects/Calcification Detection/dataset/images/50996709_330e5fe16929eed4_MG_R_ML_ANON.tif loaded and added to pool\n",
            "...image /content/drive/MyDrive/Image Processing and Analysis 2022/projects/Calcification Detection/dataset/images/50996945_ce5e5e18a261cd29_MG_L_ML_ANON.tif loaded and added to pool\n",
            "...image /content/drive/MyDrive/Image Processing and Analysis 2022/projects/Calcification Detection/dataset/images/50996999_ce5e5e18a261cd29_MG_L_CC_ANON.tif loaded and added to pool\n",
            "...image /content/drive/MyDrive/Image Processing and Analysis 2022/projects/Calcification Detection/dataset/images/50997026_ce5e5e18a261cd29_MG_R_CC_ANON.tif loaded and added to pool\n",
            "...image /content/drive/MyDrive/Image Processing and Analysis 2022/projects/Calcification Detection/dataset/images/50997053_ce5e5e18a261cd29_MG_L_CC_ANON.tif loaded and added to pool\n",
            "...image /content/drive/MyDrive/Image Processing and Analysis 2022/projects/Calcification Detection/dataset/images/50997080_ce5e5e18a261cd29_MG_L_ML_ANON.tif loaded and added to pool\n",
            "...image /content/drive/MyDrive/Image Processing and Analysis 2022/projects/Calcification Detection/dataset/images/50997107_ce5e5e18a261cd29_MG_R_ML_ANON.tif loaded and added to pool\n",
            "...image /content/drive/MyDrive/Image Processing and Analysis 2022/projects/Calcification Detection/dataset/images/50997134_ce5e5e18a261cd29_MG_R_CC_ANON.tif loaded and added to pool\n",
            "...image /content/drive/MyDrive/Image Processing and Analysis 2022/projects/Calcification Detection/dataset/images/50997434_97ec8cadfca70d32_MG_L_ML_ANON.tif loaded and added to pool\n",
            "...image /content/drive/MyDrive/Image Processing and Analysis 2022/projects/Calcification Detection/dataset/images/50997461_97ec8cadfca70d32_MG_R_ML_ANON.tif loaded and added to pool\n",
            "...image /content/drive/MyDrive/Image Processing and Analysis 2022/projects/Calcification Detection/dataset/images/50997488_97ec8cadfca70d32_MG_L_CC_ANON.tif loaded and added to pool\n",
            "...image /content/drive/MyDrive/Image Processing and Analysis 2022/projects/Calcification Detection/dataset/images/50998349_1e4b534393d18753_MG_R_CC_ANON.tif loaded and added to pool\n",
            "...image /content/drive/MyDrive/Image Processing and Analysis 2022/projects/Calcification Detection/dataset/images/50998580_cd12bc20b3d27d0b_MG_L_ML_ANON.tif loaded and added to pool\n",
            "...image /content/drive/MyDrive/Image Processing and Analysis 2022/projects/Calcification Detection/dataset/images/50998607_cd12bc20b3d27d0b_MG_R_ML_ANON.tif loaded and added to pool\n",
            "...image /content/drive/MyDrive/Image Processing and Analysis 2022/projects/Calcification Detection/dataset/images/50998634_cd12bc20b3d27d0b_MG_L_CC_ANON.tif loaded and added to pool\n",
            "...image /content/drive/MyDrive/Image Processing and Analysis 2022/projects/Calcification Detection/dataset/images/50998661_cd12bc20b3d27d0b_MG_R_CC_ANON.tif loaded and added to pool\n",
            "...image /content/drive/MyDrive/Image Processing and Analysis 2022/projects/Calcification Detection/dataset/images/50999432_f62fbf38fb208316_MG_L_ML_ANON.tif loaded and added to pool\n",
            "...image /content/drive/MyDrive/Image Processing and Analysis 2022/projects/Calcification Detection/dataset/images/50999459_f62fbf38fb208316_MG_L_CC_ANON.tif loaded and added to pool\n",
            "...image /content/drive/MyDrive/Image Processing and Analysis 2022/projects/Calcification Detection/dataset/images/51048738_3f22cdda8da215e3_MG_R_ML_ANON.tif loaded and added to pool\n",
            "...image /content/drive/MyDrive/Image Processing and Analysis 2022/projects/Calcification Detection/dataset/images/51048765_3f22cdda8da215e3_MG_R_CC_ANON.tif loaded and added to pool\n",
            "...image /content/drive/MyDrive/Image Processing and Analysis 2022/projects/Calcification Detection/dataset/images/51048891_f3e93e889a7746f0_MG_L_ML_ANON.tif loaded and added to pool\n",
            "...image /content/drive/MyDrive/Image Processing and Analysis 2022/projects/Calcification Detection/dataset/images/51048918_f3e93e889a7746f0_MG_R_ML_ANON.tif loaded and added to pool\n",
            "...image /content/drive/MyDrive/Image Processing and Analysis 2022/projects/Calcification Detection/dataset/images/51048945_f3e93e889a7746f0_MG_L_CC_ANON.tif loaded and added to pool\n",
            "...image /content/drive/MyDrive/Image Processing and Analysis 2022/projects/Calcification Detection/dataset/images/51048972_f3e93e889a7746f0_MG_R_CC_ANON.tif loaded and added to pool\n",
            "...image /content/drive/MyDrive/Image Processing and Analysis 2022/projects/Calcification Detection/dataset/images/51049053_8c105bb715bf1c3c_MG_L_ML_ANON.tif loaded and added to pool\n",
            "...image /content/drive/MyDrive/Image Processing and Analysis 2022/projects/Calcification Detection/dataset/images/51049080_8c105bb715bf1c3c_MG_R_ML_ANON.tif loaded and added to pool\n",
            "...image /content/drive/MyDrive/Image Processing and Analysis 2022/projects/Calcification Detection/dataset/images/51049107_8c105bb715bf1c3c_MG_L_CC_ANON.tif loaded and added to pool\n",
            "...image /content/drive/MyDrive/Image Processing and Analysis 2022/projects/Calcification Detection/dataset/images/51049134_8c105bb715bf1c3c_MG_R_CC_ANON.tif loaded and added to pool\n",
            "...image /content/drive/MyDrive/Image Processing and Analysis 2022/projects/Calcification Detection/dataset/images/51049249_832ebce700241036_MG_L_CC_ANON.tif loaded and added to pool\n",
            "...image /content/drive/MyDrive/Image Processing and Analysis 2022/projects/Calcification Detection/dataset/images/51049276_832ebce700241036_MG_L_ML_ANON.tif loaded and added to pool\n",
            "...image /content/drive/MyDrive/Image Processing and Analysis 2022/projects/Calcification Detection/dataset/images/53580979_4c341dad22471922_MG_L_ML_ANON.tif loaded and added to pool\n",
            "...image /content/drive/MyDrive/Image Processing and Analysis 2022/projects/Calcification Detection/dataset/images/53581033_4c341dad22471922_MG_L_CC_ANON.tif loaded and added to pool\n",
            "...image /content/drive/MyDrive/Image Processing and Analysis 2022/projects/Calcification Detection/dataset/images/53581060_4c341dad22471922_MG_R_CC_ANON.tif loaded and added to pool\n",
            "...image /content/drive/MyDrive/Image Processing and Analysis 2022/projects/Calcification Detection/dataset/images/53581237_80123a24997098dc_MG_R_ML_ANON.tif loaded and added to pool\n",
            "...image /content/drive/MyDrive/Image Processing and Analysis 2022/projects/Calcification Detection/dataset/images/53581264_80123a24997098dc_MG_R_CC_ANON.tif loaded and added to pool\n",
            "...image /content/drive/MyDrive/Image Processing and Analysis 2022/projects/Calcification Detection/dataset/images/53581379_b231a8ba4dd4214f_MG_L_ML_ANON.tif loaded and added to pool\n",
            "...image /content/drive/MyDrive/Image Processing and Analysis 2022/projects/Calcification Detection/dataset/images/53581433_b231a8ba4dd4214f_MG_L_CC_ANON.tif loaded and added to pool\n",
            "...image /content/drive/MyDrive/Image Processing and Analysis 2022/projects/Calcification Detection/dataset/images/53581460_b231a8ba4dd4214f_MG_R_CC_ANON.tif loaded and added to pool\n",
            "...image /content/drive/MyDrive/Image Processing and Analysis 2022/projects/Calcification Detection/dataset/images/53582395_3f0db31711fc9795_MG_L_ML_ANON.tif loaded and added to pool\n",
            "...image /content/drive/MyDrive/Image Processing and Analysis 2022/projects/Calcification Detection/dataset/images/53582422_3f0db31711fc9795_MG_R_ML_ANON.tif loaded and added to pool\n",
            "...image /content/drive/MyDrive/Image Processing and Analysis 2022/projects/Calcification Detection/dataset/images/53582449_3f0db31711fc9795_MG_L_CC_ANON.tif loaded and added to pool\n",
            "...image /content/drive/MyDrive/Image Processing and Analysis 2022/projects/Calcification Detection/dataset/images/53582476_3f0db31711fc9795_MG_R_CC_ANON.tif loaded and added to pool\n",
            "...image /content/drive/MyDrive/Image Processing and Analysis 2022/projects/Calcification Detection/dataset/images/53582540_3e73f1c0670cfb0a_MG_R_ML_ANON.tif loaded and added to pool\n",
            "...image /content/drive/MyDrive/Image Processing and Analysis 2022/projects/Calcification Detection/dataset/images/53582656_465aa5ec1b59efc6_MG_L_ML_ANON.tif loaded and added to pool\n",
            "...image /content/drive/MyDrive/Image Processing and Analysis 2022/projects/Calcification Detection/dataset/images/53582683_465aa5ec1b59efc6_MG_L_CC_ANON.tif loaded and added to pool\n",
            "...image /content/drive/MyDrive/Image Processing and Analysis 2022/projects/Calcification Detection/dataset/images/53582710_465aa5ec1b59efc6_MG_R_ML_ANON.tif loaded and added to pool\n",
            "...image /content/drive/MyDrive/Image Processing and Analysis 2022/projects/Calcification Detection/dataset/images/53582737_465aa5ec1b59efc6_MG_L_ML_ANON.tif loaded and added to pool\n",
            "...image /content/drive/MyDrive/Image Processing and Analysis 2022/projects/Calcification Detection/dataset/images/53582764_465aa5ec1b59efc6_MG_R_ML_ANON.tif loaded and added to pool\n",
            "...image /content/drive/MyDrive/Image Processing and Analysis 2022/projects/Calcification Detection/dataset/images/53582791_465aa5ec1b59efc6_MG_L_CC_ANON.tif loaded and added to pool\n",
            "...image /content/drive/MyDrive/Image Processing and Analysis 2022/projects/Calcification Detection/dataset/images/53586724_e5f3f68b9ce31228_MG_L_ML_ANON.tif loaded and added to pool\n",
            "...image /content/drive/MyDrive/Image Processing and Analysis 2022/projects/Calcification Detection/dataset/images/53586751_e5f3f68b9ce31228_MG_R_ML_ANON.tif loaded and added to pool\n",
            "...image /content/drive/MyDrive/Image Processing and Analysis 2022/projects/Calcification Detection/dataset/images/53586778_e5f3f68b9ce31228_MG_L_CC_ANON.tif loaded and added to pool\n",
            "...image /content/drive/MyDrive/Image Processing and Analysis 2022/projects/Calcification Detection/dataset/images/53586869_6ac23356b912ee9b_MG_L_ML_ANON.tif loaded and added to pool\n",
            "...image /content/drive/MyDrive/Image Processing and Analysis 2022/projects/Calcification Detection/dataset/images/53586896_6ac23356b912ee9b_MG_L_CC_ANON.tif loaded and added to pool\n",
            "...image /content/drive/MyDrive/Image Processing and Analysis 2022/projects/Calcification Detection/dataset/images/53587454_d2befe622e188943_MG_R_ML_ANON.tif loaded and added to pool\n",
            "...image /content/drive/MyDrive/Image Processing and Analysis 2022/projects/Calcification Detection/dataset/images/53587481_d2befe622e188943_MG_L_CC_ANON.tif loaded and added to pool\n",
            "...image /content/drive/MyDrive/Image Processing and Analysis 2022/projects/Calcification Detection/dataset/images/53587508_d2befe622e188943_MG_R_CC_ANON.tif loaded and added to pool\n",
            "...TOTAL TIME elapsed  = 456.0 seconds\n",
            "...roi dim (C x W x H) = 1 x 12 x 12\n",
            "...class counts        = [9512639    3693]\n",
            "...class augmentations = [0, 947571]\n",
            "...total counts        = 9516332\n",
            "...data augmentation:  = Compose\n"
          ]
        }
      ],
      "source": [
        "import roi_cc_project_2 as roi_cc_project\n",
        "\n",
        "dataset_train = roi_cc_project.CvROI([noMC_file_train, MC_file_train], os.path.join(DATA_DIR, 'images'), img_prefix='', img_suffix='', img_channel=None, img_list='', train=True,\n",
        "                 crossvalid=(1, 1), class_weights=[10,1], class_max_counts=None, class_min_counts=None,\n",
        "                 preprocessing=transform_normalize, augmentation=transform_train, verbose=True)\n",
        "# dataset = roi_cc_project.UnlabeledImageROI(os.path.join(DATA_DIR, 'images', '20586908_6c613a14b80a8591_MG_R_CC_ANON.tif'),os.path.join(DATA_DIR, 'groundtruths', '20586908_6c613a14b80a8591_MG_R_CC_ANON.tif'), (12,12), img_channel=None, preprocessing=None, verbose=True)"
      ]
    },
    {
      "cell_type": "code",
      "execution_count": null,
      "metadata": {
        "colab": {
          "base_uri": "https://localhost:8080/"
        },
        "id": "pOX28sLE04eK",
        "outputId": "49ad6cc3-8193-4387-a675-887010f5424f"
      },
      "outputs": [
        {
          "output_type": "execute_result",
          "data": {
            "text/plain": [
              "[0, 947571]"
            ]
          },
          "metadata": {},
          "execution_count": 12
        }
      ],
      "source": [
        "dataset_train.class_augmentations"
      ]
    },
    {
      "cell_type": "code",
      "source": [
        "dataset_train.class_total_counts"
      ],
      "metadata": {
        "colab": {
          "base_uri": "https://localhost:8080/"
        },
        "id": "ghoiFjYpzAWi",
        "outputId": "6fb9b86a-a9f3-4fef-a318-bd88f5924ca7"
      },
      "execution_count": null,
      "outputs": [
        {
          "output_type": "execute_result",
          "data": {
            "text/plain": [
              "array([9512639,  951264])"
            ]
          },
          "metadata": {},
          "execution_count": 13
        }
      ]
    },
    {
      "cell_type": "code",
      "execution_count": null,
      "metadata": {
        "id": "rBc-tCQtH_1u"
      },
      "outputs": [],
      "source": [
        "def plot_true_patches():\n",
        "  roi_1 = []\n",
        "  for roi, label in dataset_train:\n",
        "    if label == 1:\n",
        "      roi_1.append(roi)\n",
        "    if len(roi_1)>1:\n",
        "      break\n",
        "  for i in range(len(roi_1)):\n",
        "    plt.imshow(roi_1[i].numpy()[0,:,:], cmap='gray')\n",
        "    plt.show()"
      ]
    },
    {
      "cell_type": "code",
      "execution_count": null,
      "metadata": {
        "colab": {
          "base_uri": "https://localhost:8080/"
        },
        "id": "LgZ7fwwzZNZC",
        "outputId": "9ba82bfb-e5e7-447f-e3ef-baf7ec777bdb"
      },
      "outputs": [
        {
          "output_type": "stream",
          "name": "stdout",
          "text": [
            "\n",
            "Load dataset:\n",
            "...load images from 2 classes \n",
            "...image /content/drive/MyDrive/Image Processing and Analysis 2022/projects/Calcification Detection/dataset/images/20587080_b6a4f750c6df4f90_MG_R_ML_ANON.tif loaded and added to pool\n",
            "...image /content/drive/MyDrive/Image Processing and Analysis 2022/projects/Calcification Detection/dataset/images/20587320_e634830794f5c1bd_MG_L_CC_ANON.tif loaded and added to pool\n",
            "...image /content/drive/MyDrive/Image Processing and Analysis 2022/projects/Calcification Detection/dataset/images/20587346_e634830794f5c1bd_MG_R_ML_ANON.tif loaded and added to pool\n",
            "...image /content/drive/MyDrive/Image Processing and Analysis 2022/projects/Calcification Detection/dataset/images/20587810_81cd83d2f4d78528_MG_L_ML_ANON.tif loaded and added to pool\n",
            "...image /content/drive/MyDrive/Image Processing and Analysis 2022/projects/Calcification Detection/dataset/images/20588308_493155e17143edef_MG_L_ML_ANON.tif loaded and added to pool\n",
            "...image /content/drive/MyDrive/Image Processing and Analysis 2022/projects/Calcification Detection/dataset/images/22580038_6200187f3f1ccc18_MG_L_CC_ANON.tif loaded and added to pool\n",
            "...image /content/drive/MyDrive/Image Processing and Analysis 2022/projects/Calcification Detection/dataset/images/22580706_fe7d005dcbbfb46d_MG_R_ML_ANON.tif loaded and added to pool\n",
            "...image /content/drive/MyDrive/Image Processing and Analysis 2022/projects/Calcification Detection/dataset/images/22613944_f23fa352e7de3dc7_MG_L_CC_ANON.tif loaded and added to pool\n",
            "...image /content/drive/MyDrive/Image Processing and Analysis 2022/projects/Calcification Detection/dataset/images/22679008_b9a4da5f2dae63a9_MG_R_ML_ANON.tif loaded and added to pool\n",
            "...image /content/drive/MyDrive/Image Processing and Analysis 2022/projects/Calcification Detection/dataset/images/24055355_1e10aef17c9fe149_MG_L_CC_ANON.tif loaded and added to pool\n",
            "...image /content/drive/MyDrive/Image Processing and Analysis 2022/projects/Calcification Detection/dataset/images/24055600_6f1aef40b3775182_MG_R_ML_ANON.tif loaded and added to pool\n",
            "...image /content/drive/MyDrive/Image Processing and Analysis 2022/projects/Calcification Detection/dataset/images/24055627_6f1aef40b3775182_MG_L_CC_ANON.tif loaded and added to pool\n",
            "...image /content/drive/MyDrive/Image Processing and Analysis 2022/projects/Calcification Detection/dataset/images/24055725_f0f1a133837b5137_MG_L_ML_ANON.tif loaded and added to pool\n",
            "...image /content/drive/MyDrive/Image Processing and Analysis 2022/projects/Calcification Detection/dataset/images/24055904_839819f2eadaf325_MG_R_ML_ANON.tif loaded and added to pool\n",
            "...image /content/drive/MyDrive/Image Processing and Analysis 2022/projects/Calcification Detection/dataset/images/24065251_c4b995eddb3c510c_MG_L_ML_ANON.tif loaded and added to pool\n",
            "...image /content/drive/MyDrive/Image Processing and Analysis 2022/projects/Calcification Detection/dataset/images/24065270_c4b995eddb3c510c_MG_R_ML_ANON.tif loaded and added to pool\n",
            "...image /content/drive/MyDrive/Image Processing and Analysis 2022/projects/Calcification Detection/dataset/images/24065530_d8205a09c8173f44_MG_L_ML_ANON.tif loaded and added to pool\n",
            "...image /content/drive/MyDrive/Image Processing and Analysis 2022/projects/Calcification Detection/dataset/images/24065761_5291e1aee2bbf5df_MG_R_CC_ANON.tif loaded and added to pool\n",
            "...image /content/drive/MyDrive/Image Processing and Analysis 2022/projects/Calcification Detection/dataset/images/27829161_fbb55bf7fff48540_MG_L_CC_ANON.tif loaded and added to pool\n",
            "...image /content/drive/MyDrive/Image Processing and Analysis 2022/projects/Calcification Detection/dataset/images/30011530_349323117bf0fd93_MG_R_ML_ANON.tif loaded and added to pool\n",
            "...image /content/drive/MyDrive/Image Processing and Analysis 2022/projects/Calcification Detection/dataset/images/50993895_de5e8d61e501a71b_MG_L_ML_ANON.tif loaded and added to pool\n",
            "...image /content/drive/MyDrive/Image Processing and Analysis 2022/projects/Calcification Detection/dataset/images/50994589_de4c34099d6ef8de_MG_R_ML_ANON.tif loaded and added to pool\n",
            "...image /content/drive/MyDrive/Image Processing and Analysis 2022/projects/Calcification Detection/dataset/images/50994841_069212ec65a94339_MG_R_ML_ANON.tif loaded and added to pool\n",
            "...image /content/drive/MyDrive/Image Processing and Analysis 2022/projects/Calcification Detection/dataset/images/50994868_069212ec65a94339_MG_L_CC_ANON.tif loaded and added to pool\n",
            "...image /content/drive/MyDrive/Image Processing and Analysis 2022/projects/Calcification Detection/dataset/images/50995872_c94d8a1ebd452afe_MG_L_ML_ANON.tif loaded and added to pool\n",
            "...image /content/drive/MyDrive/Image Processing and Analysis 2022/projects/Calcification Detection/dataset/images/50995963_d742ec2f9b90aa62_MG_L_ML_ANON.tif loaded and added to pool\n",
            "...image /content/drive/MyDrive/Image Processing and Analysis 2022/projects/Calcification Detection/dataset/images/50995990_d742ec2f9b90aa62_MG_L_CC_ANON.tif loaded and added to pool\n",
            "...image /content/drive/MyDrive/Image Processing and Analysis 2022/projects/Calcification Detection/dataset/images/50996110_71c1a60d57c5322f_MG_L_CC_ANON.tif loaded and added to pool\n",
            "...image /content/drive/MyDrive/Image Processing and Analysis 2022/projects/Calcification Detection/dataset/images/50996325_6aba0b402889a16f_MG_L_ML_ANON.tif loaded and added to pool\n",
            "...image /content/drive/MyDrive/Image Processing and Analysis 2022/projects/Calcification Detection/dataset/images/50996352_6aba0b402889a16f_MG_R_ML_ANON.tif loaded and added to pool\n",
            "...image /content/drive/MyDrive/Image Processing and Analysis 2022/projects/Calcification Detection/dataset/images/50996379_6aba0b402889a16f_MG_L_CC_ANON.tif loaded and added to pool\n",
            "...image /content/drive/MyDrive/Image Processing and Analysis 2022/projects/Calcification Detection/dataset/images/50996406_6aba0b402889a16f_MG_R_CC_ANON.tif loaded and added to pool\n",
            "...image /content/drive/MyDrive/Image Processing and Analysis 2022/projects/Calcification Detection/dataset/images/50996736_330e5fe16929eed4_MG_R_CC_ANON.tif loaded and added to pool\n",
            "...image /content/drive/MyDrive/Image Processing and Analysis 2022/projects/Calcification Detection/dataset/images/50996972_ce5e5e18a261cd29_MG_R_ML_ANON.tif loaded and added to pool\n",
            "...image /content/drive/MyDrive/Image Processing and Analysis 2022/projects/Calcification Detection/dataset/images/50997515_97ec8cadfca70d32_MG_R_CC_ANON.tif loaded and added to pool\n",
            "...image /content/drive/MyDrive/Image Processing and Analysis 2022/projects/Calcification Detection/dataset/images/50998322_1e4b534393d18753_MG_R_ML_ANON.tif loaded and added to pool\n",
            "...image /content/drive/MyDrive/Image Processing and Analysis 2022/projects/Calcification Detection/dataset/images/53581006_4c341dad22471922_MG_R_ML_ANON.tif loaded and added to pool\n",
            "...image /content/drive/MyDrive/Image Processing and Analysis 2022/projects/Calcification Detection/dataset/images/53581406_b231a8ba4dd4214f_MG_R_ML_ANON.tif loaded and added to pool\n",
            "...image /content/drive/MyDrive/Image Processing and Analysis 2022/projects/Calcification Detection/dataset/images/53582567_3e73f1c0670cfb0a_MG_R_CC_ANON.tif loaded and added to pool\n",
            "...image /content/drive/MyDrive/Image Processing and Analysis 2022/projects/Calcification Detection/dataset/images/53582818_465aa5ec1b59efc6_MG_R_CC_ANON.tif loaded and added to pool\n",
            "...image /content/drive/MyDrive/Image Processing and Analysis 2022/projects/Calcification Detection/dataset/images/53586805_e5f3f68b9ce31228_MG_R_CC_ANON.tif loaded and added to pool\n",
            "...image /content/drive/MyDrive/Image Processing and Analysis 2022/projects/Calcification Detection/dataset/images/53587427_d2befe622e188943_MG_L_ML_ANON.tif loaded and added to pool\n",
            "...TOTAL TIME elapsed  = 107.7 seconds\n",
            "...roi dim (C x W x H) = 1 x 12 x 12\n",
            "...class counts        = [2293264     651]\n",
            "...class augmentations = []\n",
            "...total counts        = 2293915\n",
            "...data augmentation:  = NoneType\n"
          ]
        }
      ],
      "source": [
        "import roi_cc_project_2 as roi_cc_project\n",
        "\n",
        "dataset_validation = roi_cc_project.CvROI([noMC_file_validation, MC_file_validation], os.path.join(DATA_DIR, 'images'), img_prefix='', img_suffix='', img_channel=None, img_list='', train=False,\n",
        "                 crossvalid=(1, 1), class_weights=None, class_max_counts=None, class_min_counts=None,\n",
        "                 preprocessing=transform_normalize, augmentation=None, verbose=True)\n",
        "# dataset = roi_cc_project.UnlabeledImageROI(os.path.join(DATA_DIR, 'images', '20586908_6c613a14b80a8591_MG_R_CC_ANON.tif'),os.path.join(DATA_DIR, 'groundtruths', '20586908_6c613a14b80a8591_MG_R_CC_ANON.tif'), (12,12), img_channel=None, preprocessing=None, verbose=True)"
      ]
    },
    {
      "cell_type": "code",
      "execution_count": null,
      "metadata": {
        "colab": {
          "base_uri": "https://localhost:8080/"
        },
        "id": "euqhGXQFY-K0",
        "outputId": "c01e0b3c-de47-40da-c8b3-03196f474a44"
      },
      "outputs": [
        {
          "output_type": "execute_result",
          "data": {
            "text/plain": [
              "tensor([[[-6.4739, -6.4739, -6.4739, -6.4739, -6.4739, -6.4739, -6.4739,\n",
              "          -6.4739, -6.4739, -6.4739, -6.4739, -6.4739],\n",
              "         [-6.4739, -6.4739, -6.4739, -6.4739, -6.4739, -6.4739, -6.4739,\n",
              "          -6.4739, -6.4739, -6.4739, -6.4739, -6.4739],\n",
              "         [-6.4739, -6.4739, -6.4739, -6.4739, -6.4739, -6.4739, -6.4739,\n",
              "          -6.4739, -6.4739, -6.4739, -6.4739, -6.4739],\n",
              "         [-6.4739, -6.4739, -6.4739, -6.4739, -6.4739, -6.4739, -6.4739,\n",
              "          -6.4739, -6.4739, -6.4739, -6.4739, -6.4739],\n",
              "         [-6.4739, -6.4739, -6.4739, -6.4739, -6.4739, -6.4739, -6.4739,\n",
              "          -6.4739, -6.4739, -6.4739, -6.4739, -6.4739],\n",
              "         [-6.4739, -6.4739, -6.4739, -6.4739, -6.4739, -6.4739, -6.4739,\n",
              "          -6.4739, -6.4739, -6.4739, -6.4739, -4.7434],\n",
              "         [-6.4739, -6.4739, -6.4739, -6.4739, -6.4739, -6.4739, -6.4739,\n",
              "          -6.4739, -6.4739, -4.7835, -4.5781, -4.3328],\n",
              "         [-6.4739, -6.4739, -6.4739, -6.4739, -6.4739, -6.4739, -6.4739,\n",
              "          -4.8013, -4.6631, -4.3239, -4.0296, -3.7085],\n",
              "         [-6.4739, -6.4739, -6.4739, -6.4739, -6.4739, -4.7166, -4.5558,\n",
              "          -4.3507, -4.0965, -3.8289, -3.5078, -3.1597],\n",
              "         [-6.4739, -6.4739, -6.4739, -4.5469, -4.4443, -4.2169, -4.0207,\n",
              "          -3.6996, -3.4766, -3.2400, -3.0349, -2.7272],\n",
              "         [-6.4739, -4.6138, -4.4042, -4.1901, -3.9404, -3.6951, -3.4050,\n",
              "          -3.1330, -2.9947, -2.7940, -2.4685, -2.2500],\n",
              "         [-4.4889, -4.2481, -4.0207, -3.7709, -3.5034, -3.2222, -3.0215,\n",
              "          -2.7628, -2.5755, -2.3124, -2.0669, -1.8662]]])"
            ]
          },
          "metadata": {},
          "execution_count": 16
        }
      ],
      "source": [
        "dataset_train[10][0]"
      ]
    },
    {
      "cell_type": "code",
      "execution_count": null,
      "metadata": {
        "id": "xU1Emsej13lC"
      },
      "outputs": [],
      "source": [
        ""
      ]
    },
    {
      "cell_type": "markdown",
      "metadata": {
        "id": "54ORzJinY3Fy"
      },
      "source": [
        "Train test split"
      ]
    },
    {
      "cell_type": "code",
      "execution_count": null,
      "metadata": {
        "id": "1s5zPAAdxBro"
      },
      "outputs": [],
      "source": [
        "# train_size = int(0.8 * len(dataset_train))\n",
        "# validation_size = len(dataset_train) - train_size\n",
        "# train_dataset, val_dataset = torch.utils.data.random_split(dataset_train, [train_size, validation_size])"
      ]
    },
    {
      "cell_type": "code",
      "execution_count": null,
      "metadata": {
        "id": "Bd864xCEiZng"
      },
      "outputs": [],
      "source": [
        "# train_percentage = 0.6\n",
        "# test_percentage = 0.25\n",
        "\n",
        "# train_size = int(len(dataset)*train_percentage)\n",
        "# test_size = int(len(dataset)*test_percentage)\n",
        "\n",
        "# indices = list(range(len(dataset)))\n",
        "# np.random.shuffle(indices)\n",
        "# train_indices, test_indices, val_indices = indices[:train_size], indices[train_size:train_size+test_size], indices[train_size+test_size:]\n",
        "# train_features = data.SubsetRandomSampler(train_indices)\n",
        "# val_features = data.SubsetRandomSampler(val_indices)\n",
        "# test_features = data.SubsetRandomSampler(test_indices)\n",
        "\n",
        "# dataloader_train = torch.utils.data.DataLoader(dataset, batch_size=batch_size, num_workers=num_workers, pin_memory=True, sampler=train_features)\n",
        "# dataloader_val = torch.utils.data.DataLoader(dataset, batch_size=batch_size, num_workers=num_workers, pin_memory=True, sampler=val_features)\n",
        "# dataloader_test = torch.utils.data.DataLoader(dataset, batch_size=batch_size, num_workers=num_workers, pin_memory=True, sampler=test_features)"
      ]
    },
    {
      "cell_type": "code",
      "execution_count": null,
      "metadata": {
        "id": "hXn10K9vBzjn"
      },
      "outputs": [],
      "source": [
        ""
      ]
    },
    {
      "cell_type": "markdown",
      "metadata": {
        "id": "pz8hf2H6uAaQ"
      },
      "source": [
        "**Dataloader**"
      ]
    },
    {
      "cell_type": "code",
      "execution_count": null,
      "metadata": {
        "id": "GM_jp5acK70y"
      },
      "outputs": [],
      "source": [
        "random.seed(1)\n",
        "torch.manual_seed(1)\n",
        "torch.cuda.manual_seed(1)\n",
        "np.random.seed(1)\n",
        "\n",
        "\n",
        "dataloader_train = torch.utils.data.DataLoader(dataset_train, batch_size=batch_size, shuffle=True, num_workers=num_workers, pin_memory=True) \n",
        "dataloader_val = torch.utils.data.DataLoader(dataset_validation, batch_size=batch_size, shuffle=True, num_workers=num_workers, pin_memory=True)  # what is pin memory true\n",
        "\n",
        "dataloader = {'train': dataloader_train, 'eval': dataloader_val}\n",
        "dataset_sizes = {'train': len(dataset_train), 'eval': len(dataset_validation)}"
      ]
    },
    {
      "cell_type": "markdown",
      "metadata": {
        "id": "9DDuCOfTYaKM"
      },
      "source": [
        "### **Model definition**"
      ]
    },
    {
      "cell_type": "code",
      "source": [
        "import numpy as np\n",
        "from collections import OrderedDict\n",
        "\n",
        "import torch\n",
        "import torch.nn as nn\n",
        "import torch.nn.functional as F\n",
        "import torch.optim as optim\n",
        "\n",
        "from torchsummary import summary\n",
        "\n",
        "class IncrementalBlock(nn.Module):\n",
        "    def __init__(self, in_channels):\n",
        "        super(IncrementalBlock, self).__init__()\n",
        "        \n",
        "        self.conv1 = nn.Conv2d(in_channels=in_channels, out_channels=32, kernel_size=3, padding=1)\n",
        "        self.conv2 = nn.Conv2d(in_channels=32, out_channels=32, kernel_size=3, padding=1)\n",
        "        self.pool = nn.MaxPool2d(kernel_size=2, stride=2)\n",
        "        self.init_weigts()\n",
        "        \n",
        "    def init_weigts(self):\n",
        "        nn.init.xavier_uniform_(self.conv1.weight)\n",
        "        self.conv1.bias.data.fill_(0.0)\n",
        "        nn.init.xavier_uniform_(self.conv2.weight)\n",
        "        self.conv2.bias.data.fill_(0.0)\n",
        "        \n",
        "    def forward(self, x):\n",
        "        x = F.relu(self.conv1(x))\n",
        "        x = F.relu(self.conv2(x))\n",
        "        x = self.pool(x)\n",
        "        return x\n",
        "\n",
        "\n",
        "class ClassificationBlock(nn.Module):\n",
        "    def __init__(self, in_features=288):\n",
        "        super(ClassificationBlock, self).__init__()\n",
        "        \n",
        "        self.fc1 = nn.Linear(in_features=in_features, out_features=256)\n",
        "        self.fc2 = nn.Linear(in_features=256, out_features=256)\n",
        "        self.out = nn.Linear(in_features=256, out_features=2)\n",
        "        self.init_weigts()\n",
        "        \n",
        "    def init_weigts(self):\n",
        "        nn.init.xavier_uniform_(self.fc1.weight)\n",
        "        self.fc1.bias.data.fill_(0.0)\n",
        "        nn.init.xavier_uniform_(self.fc2.weight)\n",
        "        self.fc2.bias.data.fill_(0.0)\n",
        "        nn.init.xavier_uniform_(self.out.weight)\n",
        "        self.out.bias.data.fill_(0.0)\n",
        "        \n",
        "    def forward(self, x):\n",
        "        x = F.dropout(self.fc1(x))\n",
        "        x = F.dropout(self.fc2(x))\n",
        "        x = self.out(x)\n",
        "        return x\n",
        "\n",
        "\n",
        "class CNN_final(nn.Module):\n",
        "    def __init__(self, input_size):\n",
        "        super(CNN_final, self).__init__()\n",
        "        \n",
        "        self.num_ic = int(np.log2(input_size))-1\n",
        "        incremental_blocks = OrderedDict([])\n",
        "        for i in range(self.num_ic):\n",
        "            if i == 0:\n",
        "                in_channels = 1\n",
        "            else:\n",
        "                in_channels = 32\n",
        "            incremental_blocks.update({f\"IC{i}\": IncrementalBlock(in_channels)})\n",
        "        self.conv = nn.ModuleDict({\"incremental_block\": nn.Sequential(incremental_blocks)})\n",
        "        self.flatten = nn.Flatten()\n",
        "        self.classifier = ClassificationBlock()\n",
        "\n",
        "    def forward(self, x):\n",
        "        for i in range(self.num_ic):\n",
        "            x = self.conv.incremental_block[i](x)\n",
        "        x = self.flatten(x)\n",
        "        x = self.classifier(x)\n",
        "        return x\n"
      ],
      "metadata": {
        "id": "e0dWqccXXnAQ"
      },
      "execution_count": null,
      "outputs": []
    },
    {
      "cell_type": "code",
      "execution_count": null,
      "metadata": {
        "id": "4KHpATwIW29l"
      },
      "outputs": [],
      "source": [
        "# define CNN\n",
        "\n",
        "###\n",
        "# Haq, I.U., Ali, H., Yu, W.H., Lei, C., Ali, H., Feature fusion and ensemble learning\u0002based CNN model for mammographic image classification, Journal of King Saud University - Computer and\n",
        "# Information Sciences (2022), doi: https://doi.org/10.1016/j.jksuci.2022.03.023\n",
        "###\n",
        "\n",
        "## leakyrelu used instead of elu\n",
        "## Adam optimizer with a learning rate of 0.0001, β1 of 0.9, and β2 of 0.99, and a batch size of 24\n",
        "\n",
        "class CD_CNN(nn.Module):\n",
        "    def __init__(self):\n",
        "        super(CD_CNN, self).__init__()\n",
        "        \n",
        "        self.conv1 = nn.Conv2d(in_channels=1, out_channels=64, kernel_size=3, padding=1) #kernel_size=7\n",
        "        # kernel sizes reduced due to patch size\n",
        "        self.bn1 = nn.BatchNorm2d(64)\n",
        "        self.conv2 = nn.Conv2d(in_channels=64, out_channels=64, kernel_size=3, padding=1) #kernel_size=7\n",
        "        self.bn2 = nn.BatchNorm2d(64)\n",
        "        self.pool1 = nn.MaxPool2d(kernel_size=2, stride=2) # stride? padding?\n",
        "        #https://stackoverflow.com/questions/63971920/why-am-i-getting-calculated-padding-input-size-per-channel-smaller-than-kernel-s\n",
        "        self.dropout1=nn.Dropout(p=0.2)\n",
        "        self.bn3 = nn.BatchNorm2d(64)\n",
        "\n",
        "        #self.dwconv1 = nn.DepthwiseConv2D(in_channels=64, out_channels=128, kernel_size=5, padding=1)\n",
        "        self.dwconv1 = nn.Conv2d(in_channels=64, out_channels=128, groups= 64, kernel_size=3, padding=1) #kernel_size=5\n",
        "        #https://discuss.pytorch.org/t/attributeerror-module-torch-nn-has-no-attribute-conv2d/90038\n",
        "        #https://pytorch.org/docs/stable/generated/torch.nn.Conv2d.html        \n",
        "        self.bn4 = nn.BatchNorm2d(128)\n",
        "        self.conv3 = nn.Conv2d(in_channels=128, out_channels=128, kernel_size=3, padding=1) #kernel_size=5\n",
        "        self.bn5 = nn.BatchNorm2d(128)\n",
        "        self.pool2 = nn.MaxPool2d(kernel_size=2, stride=2)\n",
        "        self.dropout2=nn.Dropout(p=0.2)\n",
        "        self.bn6 = nn.BatchNorm2d(128)\n",
        "\n",
        "        #self.dwconv2 = nn.DepthwiseConv2D(in_channels=128, out_channels=256, kernel_size=3, padding=1)\n",
        "       \n",
        "        # third block removed due to patch size\n",
        "        # self.dwconv2 = nn.Conv2d(in_channels=128, out_channels=256, groups= 128, kernel_size=3, padding=1)\n",
        "        # self.bn7 = nn.BatchNorm2d(256)\n",
        "        # self.conv4 = nn.Conv2d(in_channels=256, out_channels=256, kernel_size=3, padding=1)\n",
        "        # self.bn8 = nn.BatchNorm2d(256)\n",
        "        # self.conv5 = nn.Conv2d(in_channels=256, out_channels=256, kernel_size=3, padding=1)\n",
        "        # self.bn9 = nn.BatchNorm2d(256)\n",
        "        # self.pool3 = nn.MaxPool2d(kernel_size=2, stride=2)\n",
        "        # self.dropout3=nn.Dropout(p=0.2)\n",
        "        # self.bn10 = nn.BatchNorm2d(256)\n",
        "\n",
        "        self.fc1 = nn.Linear(128*3*3,512) #128*3*3 is output size of previous stage\n",
        "        self.fc2 = nn.Linear(512,2) # 2?\n",
        "\n",
        "        self.out = nn.Sigmoid()\n",
        "\n",
        "        \n",
        "        \n",
        "        self.act = activation\n",
        "\n",
        "        #self.act = nn.Sigmoid()\n",
        "\n",
        "        nn.init.xavier_normal_(self.conv1.weight)\n",
        "        nn.init.xavier_normal_(self.conv2.weight)\n",
        "        nn.init.xavier_normal_(self.conv3.weight)\n",
        "        nn.init.xavier_normal_(self.fc1.weight)\n",
        "        nn.init.xavier_normal_(self.fc2.weight)\n",
        "       # nn.init.xavier_normal_(self.conv4.weight)\n",
        "       # nn.init.xavier_normal_(self.conv5.weight)\n",
        "        nn.init.xavier_normal_(self.dwconv1.weight)\n",
        "       # nn.init.xavier_normal_(self.dwconv2.weight)\n",
        "\n",
        "\n",
        "    def forward(self, x):\n",
        "        \n",
        "        x = self.act(self.bn1(self.conv1(x)))\n",
        "        x = self.act(self.bn2(self.conv2(x)))\n",
        "        x = self.pool1(x)\n",
        "        x = self.bn3(self.dropout1(x))\n",
        "        # print(x.size())\n",
        "\n",
        "        x = self.act(self.bn4(self.dwconv1(x)))\n",
        "        x = self.act(self.bn5(self.conv3(x)))\n",
        "        x = self.pool2(x)\n",
        "        x = self.bn6(self.dropout2(x))\n",
        "        # print(x.size())\n",
        "\n",
        "        # x = self.act(self.bn7(self.dwconv2(x)))\n",
        "        # x = self.act(self.bn8(self.conv4(x))) \n",
        "        # x = self.act(self.bn9(self.conv5(x))) \n",
        "        # x = self.pool3(x)\n",
        "        # x = self.bn10(self.dropout3(x))\n",
        "        # print(x.size())\n",
        "\n",
        "        x = x.view(-1, 128*3*3)\n",
        "        x = self.act(self.fc1(x))\n",
        "\n",
        "        # print(x.size())\n",
        "\n",
        "        x = self.fc2(x)\n",
        "        # no activation: \"remember in this case to not specify the activation in the last layer when you define the net!\"\n",
        "        # consider softmax/logsoftmax\n",
        "        \n",
        "        # print(x.size())\n",
        "        \n",
        "        x = self.out(x)\n",
        "\n",
        "        # print(x.size())\n",
        "\n",
        "        return x"
      ]
    },
    {
      "cell_type": "code",
      "execution_count": null,
      "metadata": {
        "id": "dm0MhGYYI1TU"
      },
      "outputs": [],
      "source": [
        "class DeepNet(nn.Module):\n",
        "    def __init__(self):\n",
        "       super(DeepNet, self).__init__()\n",
        "       self.fc1 = nn.Linear(144, 100)\n",
        "       self.fc2 = nn.Linear(100, 100)\n",
        "       self.fc3 = nn.Linear(100, 10)\n",
        "\n",
        "       nn.init.xavier_normal_(self.fc1.weight)\n",
        "       nn.init.xavier_normal_(self.fc2.weight)\n",
        "       nn.init.xavier_normal_(self.fc3.weight)\n",
        "\n",
        "       self.bn1 = nn.BatchNorm1d(100)\n",
        "       self.bn2 = nn.BatchNorm1d(100)\n",
        "\n",
        "       self.act = activation\n",
        "\n",
        "       self.dropout = nn.Dropout(p=dropout)\n",
        "\n",
        "    def forward(self, x):\n",
        "        \n",
        "        x = self.act(self.bn1(self.fc1(x)))\n",
        "        x = self.dropout(x)\n",
        "        x = self.act(self.bn2(self.fc2(x)))\n",
        "        x = self.dropout(x)\n",
        "        x = self.fc3(x)\n",
        "\n",
        "        return x"
      ]
    },
    {
      "cell_type": "code",
      "execution_count": null,
      "metadata": {
        "id": "NA8pQj2raNKL"
      },
      "outputs": [],
      "source": [
        "class CNN1(nn.Module):\n",
        "  def __init__(self) -> None:\n",
        "      super(CNN1, self).__init__()\n",
        "\n",
        "      # in_channels is number of channels (this is because we have a patch of 1 image)\n",
        "      # out_channels is number of filters or kernels given out by the convolution\n",
        "      # stride is a parameter (default is 1)\n",
        "      self.conv1 =  nn.Conv2d(in_channels=1, out_channels=64, kernel_size=2, padding=1)\n",
        "      self.bn1 = nn.BatchNorm2d(64)\n",
        "      self.conv2 = nn.Conv2d(in_channels=64, out_channels=64, kernel_size=2, padding=1)\n",
        "      self.bn2 = nn.BatchNorm2d(64)\n",
        "      self.pool1 = nn.MaxPool2d(kernel_size=2)\n",
        "      self.dropout1=nn.Dropout(p=0.2)\n",
        "      self.bn3 = nn.BatchNorm2d(64)\n",
        "\n",
        "      self.flatten = nn.Flatten()\n",
        "\n",
        "      self.fc1 = nn.Linear(3136,512)\n",
        "      self.fc2 = nn.Linear(512,2)\n",
        "\n",
        "      nn.init.xavier_normal_(self.fc1.weight)\n",
        "      nn.init.xavier_normal_(self.fc2.weight)\n",
        "      nn.init.xavier_normal_(self.conv1.weight)\n",
        "      nn.init.xavier_normal_(self.conv2.weight)\n",
        "\n",
        "  def forward(self, x):\n",
        "\n",
        "      x = self.conv1(x)\n",
        "      x = self.bn1(x)\n",
        "      x = self.conv2(x)\n",
        "      x = self.conv2(x)\n",
        "      x = self.pool1(x)\n",
        "      x = self.dropout1(x)\n",
        "      x = self.bn3(x)\n",
        "      x = self.flatten(x)\n",
        "      x = self.fc1(x)\n",
        "      x = activation(x)\n",
        "      x = self.fc2(x)\n",
        "\n",
        "      return x\n",
        "\n"
      ]
    },
    {
      "cell_type": "code",
      "execution_count": null,
      "metadata": {
        "id": "Ti68kRkObivY"
      },
      "outputs": [],
      "source": [
        "from torchsummary import summary\n",
        "\n",
        "# This part is to check the parameters of my network and the numbers to come\n",
        "\n",
        "# net = CD_CNN()\n",
        "# summary(net, (1,12,12))\n",
        "\n",
        "# dummy_variable = torch.rand(1,1,12,12) #batch size, channel, image size\n",
        "# net(dummy_variable).size()"
      ]
    },
    {
      "cell_type": "markdown",
      "source": [
        "**Useful Metrics and Functions**"
      ],
      "metadata": {
        "id": "T-foaC4XPd9A"
      }
    },
    {
      "cell_type": "code",
      "execution_count": null,
      "metadata": {
        "id": "uB8A7rDS0EG5"
      },
      "outputs": [],
      "source": [
        "def confusion(prediction, truth):\n",
        "    \"\"\" Returns the confusion matrix for the values in the `prediction` and `truth`\n",
        "    tensors, i.e. the amount of positions where the values of `prediction`\n",
        "    and `truth` are\n",
        "    - 1 and 1 (True Positive)\n",
        "    - 1 and 0 (False Positive)\n",
        "    - 0 and 0 (True Negative)\n",
        "    - 0 and 1 (False Negative)\n",
        "    \"\"\"\n",
        "\n",
        "    confusion_vector = prediction / truth\n",
        "    # Element-wise division of the 2 tensors returns a new tensor which holds a\n",
        "    # unique value for each case:\n",
        "    #   1     where prediction and truth are 1 (True Positive)\n",
        "    #   inf   where prediction is 1 and truth is 0 (False Positive)\n",
        "    #   nan   where prediction and truth are 0 (True Negative)\n",
        "    #   0     where prediction is 0 and truth is 1 (False Negative)\n",
        "\n",
        "    true_positives = torch.sum(confusion_vector == 1).item()\n",
        "    false_positives = torch.sum(confusion_vector == float('inf')).item()\n",
        "    true_negatives = torch.sum(torch.isnan(confusion_vector)).item()\n",
        "    false_negatives = torch.sum(confusion_vector == 0).item()\n",
        "\n",
        "    return true_positives, false_positives, true_negatives, false_negatives"
      ]
    },
    {
      "cell_type": "code",
      "execution_count": null,
      "metadata": {
        "id": "EyyszbtD02Pd"
      },
      "outputs": [],
      "source": [
        "def mcc(tp, fp, tn, fn):\n",
        "  # Formula taken from https://en.wikipedia.org/wiki/Phi_coefficient\n",
        "  num = (tp*tn) - (fp*fn)\n",
        "  den = ((tp+fp) * (tp+fn) * (tn+fp) * (tn+fn)) ** 0.5\n",
        "\n",
        "  if den != 0:\n",
        "    return num/den\n",
        "  else:\n",
        "    return 0"
      ]
    },
    {
      "cell_type": "code",
      "execution_count": null,
      "metadata": {
        "id": "Qd_99B-tUrRV"
      },
      "outputs": [],
      "source": [
        "def save(model, path_to_save: str) -> None:\n",
        "    torch.save(model.state_dict(), path_to_save)\n",
        "\n",
        "def load(model, path_to_model: str):\n",
        "    return model.load_state_dict(torch.load(path_to_model))"
      ]
    },
    {
      "cell_type": "markdown",
      "source": [
        "**Train and test function**"
      ],
      "metadata": {
        "id": "W1pUh_a6PqMN"
      }
    },
    {
      "cell_type": "code",
      "execution_count": null,
      "metadata": {
        "id": "Z0Zd_yPrEMdB"
      },
      "outputs": [],
      "source": [
        "\n",
        "# define train function (1 epoch)\n",
        "# returns average loss and accuracy\n",
        "def train(dataset, dataloader):\n",
        "\n",
        "    # switch to train mode\n",
        "    net.train()\n",
        "\n",
        "    # reset performance measures\n",
        "    loss_sum = 0.0\n",
        "    correct = 0\n",
        "\n",
        "    # 1 epoch = 1 complete loop over the dataset\n",
        "    for batch in dataloader:\n",
        "\n",
        "        # get data from dataloader. This is the thing that I get from the get_item\n",
        "        inputs, targets = batch\n",
        "\n",
        "        # move data to device\n",
        "        inputs, targets = inputs.to(device, non_blocking=True), targets.to(device, non_blocking=True)\n",
        "\n",
        "        # zero the parameter gradients\n",
        "        optimizer.zero_grad()\n",
        "\n",
        "        # forward pass\n",
        "        outputs = net(inputs)\n",
        "\n",
        "        # calculate loss\n",
        "        loss = criterion(outputs, targets)\n",
        "\n",
        "        # loss gradient backpropagation\n",
        "        loss.backward() # I calculate the derivatives backwards\n",
        "\n",
        "        # net parameters update\n",
        "        optimizer.step() #I use the gradients to update the weights\n",
        "\n",
        "        # accumulate loss\n",
        "        loss_sum += loss.item()\n",
        "\n",
        "        # accumulate correct outputs (for accuracy calculation)\n",
        "        outputs_max = torch.argmax(outputs, dim=1) #predicted labels\n",
        "        targets_max = targets #torch.argmax(targets, dim=1)\n",
        "        correct += outputs_max.eq(targets_max).sum().float() # this is to find out how many predictions were correct\n",
        "\n",
        "    # step learning rate scheduler\n",
        "    scheduler.step() #we just need to keep track of the steps since the LR depends on it\n",
        "\n",
        "    # return average loss and accuracy\n",
        "    return loss_sum / len(dataloader), 100. * correct / len(dataset)\n"
      ]
    },
    {
      "cell_type": "code",
      "execution_count": null,
      "metadata": {
        "id": "yLRT9aFctJm9"
      },
      "outputs": [],
      "source": [
        "\n",
        "\n",
        "def train_model(model, criterion, optimizer, scheduler, model_name, num_epochs=30, load_trained=False):\n",
        "    since = time.time()\n",
        "    f1 = F1Score(num_classes=2).to(device)\n",
        "\n",
        "    if load_trained:\n",
        "      checkpoint = torch.load(RESULTS_DIR + model_name)\n",
        "      model.load_state_dict(checkpoint['model_state_dict'])\n",
        "      optimizer.load_state_dict(checkpoint['optimizer_state_dict'])\n",
        "      last_epoch = checkpoint['epoch']+1\n",
        "      loss = checkpoint['loss']\n",
        "\n",
        "    else:\n",
        "      last_epoch=0\n",
        "\n",
        "\n",
        "    best_model_wts = copy.deepcopy(model.state_dict()) #It keeps track of the parameters of the model in certain state\n",
        "    best_auc = 0.0\n",
        "  \n",
        "    for epoch in range(last_epoch, num_epochs):\n",
        "        print('Epoch {}/{}'.format(epoch+1, num_epochs))\n",
        "        print('-' * 10)\n",
        "\n",
        "\n",
        "\n",
        "        # Each epoch has a training and validation phase\n",
        "        for phase in ['train', 'eval']:\n",
        "          \n",
        "            if phase == 'train':\n",
        "                model.train()  # Set model to training mode\n",
        "            else:\n",
        "                model.eval()   # Set model to evaluate mode\n",
        "\n",
        "            running_loss = 0.0\n",
        "    #            running_corrects = 0\n",
        "            f1_history = list()\n",
        "\n",
        "            y_true = list()\n",
        "            y_probs = list()\n",
        "\n",
        "\n",
        "            tp_total = 0\n",
        "            fp_total = 0\n",
        "            tn_total = 0\n",
        "            fn_total = 0 \n",
        "\n",
        "            # Iterate over data.\n",
        "            for inputs, labels in dataloader[phase]:\n",
        "                inputs = inputs.to(device)\n",
        "                labels = labels.to(device)\n",
        "\n",
        "                # zero the parameter gradients\n",
        "                optimizer.zero_grad()\n",
        "\n",
        "                # forward\n",
        "                # track history if only in train\n",
        "                with torch.set_grad_enabled(phase == 'train'):\n",
        "                    outputs = model(inputs)\n",
        "                    loss = criterion(outputs, labels)\n",
        "\n",
        "                    # backward + optimize only if in training phase\n",
        "                    if phase == 'train':\n",
        "                        loss.backward()\n",
        "                        optimizer.step()\n",
        "                \n",
        "                with torch.no_grad():\n",
        "                    preds = torch.argmax(outputs, dim=1)\n",
        "                    probs = F.softmax(outputs, dim=1)[:,1]\n",
        "\n",
        "                # statistics\n",
        "                running_loss += loss.item() * inputs.size(0)\n",
        "    #                running_corrects += torch.sum(preds == labels.data)\n",
        "                f1_history.append(f1(preds, labels.data).double().cpu().numpy()) \n",
        "                y_true.append(labels.data.cpu())\n",
        "                y_probs.append(probs.cpu())\n",
        "    #                running_prerec += precision_recall(preds, labels.data)\n",
        "\n",
        "                tp, fp, tn, fn = confusion(preds, labels.data)\n",
        "                tp_total += tp\n",
        "                fp_total += fp\n",
        "                tn_total += tn\n",
        "                fn_total += fn\n",
        "    #                print(tp, fp, tn, fn) \n",
        "\n",
        "            epoch_loss = running_loss / dataset_sizes[phase]\n",
        "            epoch_f1 = np.mean(f1_history)\n",
        "            epoch_auc = auroc(torch.cat(y_probs, dim=0), torch.cat(y_true, dim=0), max_fpr=0.0001).item()\n",
        "            epoch_mcc = mcc(tp_total, fp_total, tn_total, fn_total)\n",
        "\n",
        "            if phase == 'train':\n",
        "              scheduler.step()\n",
        "              torch.save({\n",
        "                'epoch': epoch,\n",
        "                'model_state_dict': model.state_dict(),\n",
        "                'optimizer_state_dict': optimizer.state_dict(),\n",
        "                'loss': epoch_loss,\n",
        "                }, RESULTS_DIR+ model_name)  \n",
        "\n",
        "\n",
        "            print('{} Loss: {:.4f} F1-score: {:.4f}'.format(\n",
        "                phase, epoch_loss, epoch_f1))\n",
        "            print('MCC: ', epoch_mcc)\n",
        "            print('AUC: ', epoch_auc)                        \n",
        "\n",
        "            # deep copy the model\n",
        "            if phase == 'eval' and epoch_auc > best_auc:\n",
        "                best_auc = epoch_auc\n",
        "                best_model_wts = copy.deepcopy(model.state_dict())\n",
        "\n",
        "            del f1_history, y_true, y_probs\n",
        "\n",
        "\n",
        "        print()\n",
        "\n",
        "    time_elapsed = time.time() - since\n",
        "    print('Training complete in {:.0f}m {:.0f}s'.format(\n",
        "        time_elapsed // 60, time_elapsed % 60))\n",
        "    print('Best val mcc: {:4f}'.format(best_auc))\n",
        "\n",
        "    # load best model weights\n",
        "    model.load_state_dict(best_model_wts)\n",
        "    return model"
      ]
    },
    {
      "cell_type": "code",
      "execution_count": null,
      "metadata": {
        "id": "yJteYaNJK3eZ"
      },
      "outputs": [],
      "source": [
        "# Fix the patch size\n",
        "# consider something not histogram-based\n",
        "#LBPs\n",
        "#Haar Features"
      ]
    },
    {
      "cell_type": "code",
      "execution_count": null,
      "metadata": {
        "id": "OnYAcElltZhk"
      },
      "outputs": [],
      "source": [
        "# define test function\n",
        "# returns predictions\n",
        "def test(dataset, dataloader):\n",
        "\n",
        "    # switch to test mode\n",
        "    net.eval()  \n",
        "\n",
        "    # initialize predictions\n",
        "    predictions = []\n",
        "    reals = [] #torch.zeros(len(dataset), dtype=torch.int64)\n",
        "    sample_counter = 0\n",
        "\n",
        "    # do not accumulate gradients (faster)\n",
        "    with torch.no_grad():\n",
        "\n",
        "        # test all batches\n",
        "        for inputs, labels in dataloader:\n",
        "\n",
        "            # get data from dataloader [ignore labels/targets as they are not used in test mode]\n",
        "            inputs = inputs.to(device)\n",
        "            labels = labels.to(device)\n",
        "            # forward pass\n",
        "            outputs = net(inputs)\n",
        "\n",
        "            # store predictions\n",
        "            outputs_max = torch.argmax(outputs, dim=1)\n",
        "            predictions.append( outputs_max)\n",
        "            reals.append(labels.data)\n",
        "            sample_counter += 1 #We should look for MCC, AUC or F1-score, p-AUC- Ratio of positive negatives 10 - 4, 10-3\n",
        "\n",
        "                #90 degrees rotations 1-100, 1-10\n",
        "\n",
        "                #patch wise output into a set of regions\n",
        "                #Using threshold\n",
        "                #output probability map image processing\n",
        "\n",
        "    return predictions, reals"
      ]
    },
    {
      "cell_type": "markdown",
      "source": [
        "**Model initialization and Training**"
      ],
      "metadata": {
        "id": "jbWX0kP4Qhrw"
      }
    },
    {
      "cell_type": "code",
      "execution_count": null,
      "metadata": {
        "id": "Emo3pdAQIPe6"
      },
      "outputs": [],
      "source": [
        "net = CNN_final(12).to(device) #we need to also send the model to the GPU as well\n",
        "\n",
        "# create loss function\n",
        "criterion = nn.CrossEntropyLoss() #most used for classification purposes\n",
        "\n",
        "# create SGD optimizer\n",
        "optimizer = optim.SGD(net.parameters(), lr=0.001, momentum=0.9, weight_decay=0.0005) #most common optimizer is adam\n",
        "\n",
        "# create learning rate scheduler\n",
        "scheduler = optim.lr_scheduler.StepLR(optimizer, step_size=6, gamma=lr_gamma)\n",
        "\n",
        "# experiment ID\n",
        "experiment_ID = \"%s_%s_%s_bs(%d)lr(%.4f_%d_%.1f)m(%.1f)e(%d)act(%s)xavier(yes)da(%s)do(%.1f)BN\" % (type(net).__name__, type(criterion).__name__, type(optimizer).__name__,\n",
        "                batch_size, learning_rate, lr_step_size, lr_gamma, momentum, epochs, type(activation).__name__, data_augmentation, dropout)"
      ]
    },
    {
      "cell_type": "code",
      "execution_count": null,
      "metadata": {
        "colab": {
          "base_uri": "https://localhost:8080/"
        },
        "id": "SugDntlJSAgh",
        "outputId": "0f3a1642-7fc7-4d83-faf0-a9a36effe486"
      },
      "outputs": [
        {
          "output_type": "stream",
          "name": "stdout",
          "text": [
            "Epoch 1/30\n",
            "----------\n",
            "train Loss: 0.0319 F1-score: 0.9898\n",
            "MCC:  0.9375864837838872\n",
            "AUC:  0.6614891290664673\n",
            "eval Loss: 0.0131 F1-score: 0.9969\n",
            "MCC:  0.2742717131576867\n",
            "AUC:  0.519907534122467\n",
            "\n",
            "Epoch 2/30\n",
            "----------\n",
            "train Loss: 0.0248 F1-score: 0.9920\n",
            "MCC:  0.951099468060474\n",
            "AUC:  0.7069570422172546\n",
            "eval Loss: 0.0087 F1-score: 0.9981\n",
            "MCC:  0.34509515187343354\n",
            "AUC:  0.5304595232009888\n",
            "\n",
            "Epoch 3/30\n",
            "----------\n",
            "train Loss: 0.0224 F1-score: 0.9927\n",
            "MCC:  0.9555377401033135\n",
            "AUC:  0.7161632180213928\n",
            "eval Loss: 0.0178 F1-score: 0.9954\n",
            "MCC:  0.23074735460480636\n",
            "AUC:  0.5033041834831238\n",
            "\n",
            "Epoch 4/30\n",
            "----------\n",
            "train Loss: 0.0203 F1-score: 0.9933\n",
            "MCC:  0.9594259699457546\n",
            "AUC:  0.7198389768600464\n",
            "eval Loss: 0.0040 F1-score: 0.9990\n",
            "MCC:  0.42177725491080614\n",
            "AUC:  0.7100777626037598\n",
            "\n",
            "Epoch 5/30\n",
            "----------\n",
            "train Loss: 0.0185 F1-score: 0.9939\n",
            "MCC:  0.9627777667132303\n",
            "AUC:  0.7249631285667419\n",
            "eval Loss: 0.0095 F1-score: 0.9977\n",
            "MCC:  0.3096101368129405\n",
            "AUC:  0.5222322344779968\n",
            "\n",
            "Epoch 6/30\n",
            "----------\n",
            "train Loss: 0.0169 F1-score: 0.9944\n",
            "MCC:  0.9656789942750674\n",
            "AUC:  0.7326140403747559\n",
            "eval Loss: 0.0098 F1-score: 0.9973\n",
            "MCC:  0.2869721961932994\n",
            "AUC:  0.6147516369819641\n",
            "\n",
            "Epoch 7/30\n",
            "----------\n",
            "train Loss: 0.0116 F1-score: 0.9967\n",
            "MCC:  0.9802333043460261\n",
            "AUC:  0.7592015862464905\n",
            "eval Loss: 0.0099 F1-score: 0.9971\n",
            "MCC:  0.2809375335684869\n",
            "AUC:  0.793921709060669\n",
            "\n",
            "Epoch 8/30\n",
            "----------\n",
            "train Loss: 0.0106 F1-score: 0.9971\n",
            "MCC:  0.9827808578717109\n",
            "AUC:  0.7629373073577881\n",
            "eval Loss: 0.0085 F1-score: 0.9976\n",
            "MCC:  0.31064041295933087\n",
            "AUC:  0.7758879065513611\n",
            "\n",
            "Epoch 9/30\n",
            "----------\n",
            "train Loss: 0.0101 F1-score: 0.9973\n",
            "MCC:  0.9838917229298578\n",
            "AUC:  0.763623833656311\n",
            "eval Loss: 0.0105 F1-score: 0.9970\n",
            "MCC:  0.2795316411766689\n",
            "AUC:  0.7835568189620972\n",
            "\n",
            "Epoch 10/30\n",
            "----------\n",
            "train Loss: 0.0097 F1-score: 0.9974\n",
            "MCC:  0.98451665980262\n",
            "AUC:  0.7666628360748291\n",
            "eval Loss: 0.0101 F1-score: 0.9969\n",
            "MCC:  0.2762892827585915\n",
            "AUC:  0.7867395877838135\n",
            "\n",
            "Epoch 11/30\n",
            "----------\n",
            "train Loss: 0.0094 F1-score: 0.9975\n",
            "MCC:  0.9851374097272374\n",
            "AUC:  0.7670791149139404\n",
            "eval Loss: 0.0099 F1-score: 0.9971\n",
            "MCC:  0.28744758352196537\n",
            "AUC:  0.7848232984542847\n",
            "\n",
            "Epoch 12/30\n",
            "----------\n",
            "train Loss: 0.0092 F1-score: 0.9976\n",
            "MCC:  0.985735512421831\n",
            "AUC:  0.7691283226013184\n",
            "eval Loss: 0.0073 F1-score: 0.9978\n",
            "MCC:  0.32292850155766006\n",
            "AUC:  0.8189165592193604\n",
            "\n",
            "Epoch 13/30\n",
            "----------\n",
            "train Loss: 0.0085 F1-score: 0.9979\n",
            "MCC:  0.9876219382427369\n",
            "AUC:  0.7746555805206299\n",
            "eval Loss: 0.0078 F1-score: 0.9977\n",
            "MCC:  0.31395829759761756\n",
            "AUC:  0.7994067668914795\n",
            "\n",
            "Epoch 14/30\n",
            "----------\n",
            "train Loss: 0.0085 F1-score: 0.9980\n",
            "MCC:  0.9878789007138956\n",
            "AUC:  0.7758499383926392\n",
            "eval Loss: 0.0072 F1-score: 0.9979\n",
            "MCC:  0.3279469636746761\n",
            "AUC:  0.7936793565750122\n",
            "\n",
            "Epoch 15/30\n",
            "----------\n",
            "train Loss: 0.0084 F1-score: 0.9980\n",
            "MCC:  0.9879583710175682\n",
            "AUC:  0.7743436098098755\n",
            "eval Loss: 0.0075 F1-score: 0.9979\n",
            "MCC:  0.32409926165720315\n",
            "AUC:  0.7811973094940186\n",
            "\n",
            "Epoch 16/30\n",
            "----------\n",
            "train Loss: 0.0084 F1-score: 0.9980\n",
            "MCC:  0.9880679468982818\n",
            "AUC:  0.7753567695617676\n",
            "eval Loss: 0.0078 F1-score: 0.9977\n",
            "MCC:  0.3156072581539278\n",
            "AUC:  0.7975113391876221\n",
            "\n",
            "Epoch 17/30\n",
            "----------\n"
          ]
        }
      ],
      "source": [
        "model = train_model(net, criterion, optimizer, scheduler, '/model_12_5.pt', num_epochs=epochs, load_trained=False)"
      ]
    },
    {
      "cell_type": "code",
      "execution_count": null,
      "metadata": {
        "id": "Rf_vzbUBZA-P"
      },
      "outputs": [],
      "source": [
        "save(model, RESULTS_DIR+'/model_try1.pt')"
      ]
    },
    {
      "cell_type": "markdown",
      "source": [
        "## **Model Testing**"
      ],
      "metadata": {
        "id": "XFBKnnwrTgaU"
      }
    },
    {
      "cell_type": "code",
      "execution_count": null,
      "metadata": {
        "id": "1Ji-9niw54kh"
      },
      "outputs": [],
      "source": [
        "del dataset_train\n",
        "del dataset_validation"
      ]
    },
    {
      "cell_type": "code",
      "execution_count": null,
      "metadata": {
        "colab": {
          "base_uri": "https://localhost:8080/"
        },
        "id": "Ww11T0595xhv",
        "outputId": "7cbfba0f-5a7d-46f9-d21e-1b0e7ba82a79"
      },
      "outputs": [
        {
          "name": "stdout",
          "output_type": "stream",
          "text": [
            "\n",
            "Load dataset:\n",
            "...load images from 2 classes \n",
            "...image /content/drive/MyDrive/Image Processing and Analysis 2022/projects/Calcification Detection/dataset/images/20586908_6c613a14b80a8591_MG_R_CC_ANON.tif loaded and added to pool\n",
            "...image /content/drive/MyDrive/Image Processing and Analysis 2022/projects/Calcification Detection/dataset/images/20586934_6c613a14b80a8591_MG_L_CC_ANON.tif loaded and added to pool\n",
            "...image /content/drive/MyDrive/Image Processing and Analysis 2022/projects/Calcification Detection/dataset/images/20586960_6c613a14b80a8591_MG_R_ML_ANON.tif loaded and added to pool\n",
            "...image /content/drive/MyDrive/Image Processing and Analysis 2022/projects/Calcification Detection/dataset/images/20586986_6c613a14b80a8591_MG_L_ML_ANON.tif loaded and added to pool\n",
            "...image /content/drive/MyDrive/Image Processing and Analysis 2022/projects/Calcification Detection/dataset/images/20587902_8dbbd4e51f549ff0_MG_R_CC_ANON.tif loaded and added to pool\n",
            "...image /content/drive/MyDrive/Image Processing and Analysis 2022/projects/Calcification Detection/dataset/images/20587928_8dbbd4e51f549ff0_MG_R_ML_ANON.tif loaded and added to pool\n",
            "...image /content/drive/MyDrive/Image Processing and Analysis 2022/projects/Calcification Detection/dataset/images/20587994_024ee3569b2605dc_MG_R_CC_ANON.tif loaded and added to pool\n",
            "...image /content/drive/MyDrive/Image Processing and Analysis 2022/projects/Calcification Detection/dataset/images/20588020_024ee3569b2605dc_MG_L_CC_ANON.tif loaded and added to pool\n",
            "...image /content/drive/MyDrive/Image Processing and Analysis 2022/projects/Calcification Detection/dataset/images/20588046_024ee3569b2605dc_MG_R_ML_ANON.tif loaded and added to pool\n",
            "...image /content/drive/MyDrive/Image Processing and Analysis 2022/projects/Calcification Detection/dataset/images/20588072_024ee3569b2605dc_MG_L_ML_ANON.tif loaded and added to pool\n",
            "...image /content/drive/MyDrive/Image Processing and Analysis 2022/projects/Calcification Detection/dataset/images/20588138_8d0b9620c53c0268_MG_R_ML_ANON.tif loaded and added to pool\n",
            "...image /content/drive/MyDrive/Image Processing and Analysis 2022/projects/Calcification Detection/dataset/images/20588164_8d0b9620c53c0268_MG_R_CC_ANON.tif loaded and added to pool\n",
            "...image /content/drive/MyDrive/Image Processing and Analysis 2022/projects/Calcification Detection/dataset/images/20588190_8d0b9620c53c0268_MG_L_CC_ANON.tif loaded and added to pool\n",
            "...image /content/drive/MyDrive/Image Processing and Analysis 2022/projects/Calcification Detection/dataset/images/20588216_8d0b9620c53c0268_MG_L_ML_ANON.tif loaded and added to pool\n",
            "...image /content/drive/MyDrive/Image Processing and Analysis 2022/projects/Calcification Detection/dataset/images/20588458_bf1a6aaadb05e3df_MG_R_CC_ANON.tif loaded and added to pool\n",
            "...image /content/drive/MyDrive/Image Processing and Analysis 2022/projects/Calcification Detection/dataset/images/20588510_bf1a6aaadb05e3df_MG_R_ML_ANON.tif loaded and added to pool\n",
            "...image /content/drive/MyDrive/Image Processing and Analysis 2022/projects/Calcification Detection/dataset/images/20588536_bf1a6aaadb05e3df_MG_L_ML_ANON.tif loaded and added to pool\n",
            "...image /content/drive/MyDrive/Image Processing and Analysis 2022/projects/Calcification Detection/dataset/images/20588562_bf1a6aaadb05e3df_MG_L_CC_ANON.tif loaded and added to pool\n",
            "...image /content/drive/MyDrive/Image Processing and Analysis 2022/projects/Calcification Detection/dataset/images/20588654_036aff49b8ac84f0_MG_R_ML_ANON.tif loaded and added to pool\n",
            "...image /content/drive/MyDrive/Image Processing and Analysis 2022/projects/Calcification Detection/dataset/images/20588680_036aff49b8ac84f0_MG_L_ML_ANON.tif loaded and added to pool\n",
            "...image /content/drive/MyDrive/Image Processing and Analysis 2022/projects/Calcification Detection/dataset/images/22427682_d713ef5849f98b6c_MG_R_CC_ANON.tif loaded and added to pool\n",
            "...image /content/drive/MyDrive/Image Processing and Analysis 2022/projects/Calcification Detection/dataset/images/22427705_d713ef5849f98b6c_MG_L_CC_ANON.tif loaded and added to pool\n",
            "...image /content/drive/MyDrive/Image Processing and Analysis 2022/projects/Calcification Detection/dataset/images/22427728_d713ef5849f98b6c_MG_R_ML_ANON.tif loaded and added to pool\n",
            "...image /content/drive/MyDrive/Image Processing and Analysis 2022/projects/Calcification Detection/dataset/images/22427751_d713ef5849f98b6c_MG_L_ML_ANON.tif loaded and added to pool\n",
            "...image /content/drive/MyDrive/Image Processing and Analysis 2022/projects/Calcification Detection/dataset/images/22427840_bbd6a3a35438c11b_MG_R_CC_ANON.tif loaded and added to pool\n",
            "...image /content/drive/MyDrive/Image Processing and Analysis 2022/projects/Calcification Detection/dataset/images/22427864_bbd6a3a35438c11b_MG_L_CC_ANON.tif loaded and added to pool\n",
            "...image /content/drive/MyDrive/Image Processing and Analysis 2022/projects/Calcification Detection/dataset/images/22579730_bbd6a3a35438c11b_MG_R_ML_ANON.tif loaded and added to pool\n",
            "...image /content/drive/MyDrive/Image Processing and Analysis 2022/projects/Calcification Detection/dataset/images/22579754_bbd6a3a35438c11b_MG_L_ML_ANON.tif loaded and added to pool\n",
            "...image /content/drive/MyDrive/Image Processing and Analysis 2022/projects/Calcification Detection/dataset/images/22579847_301f1776aebbf5d2_MG_R_CC_ANON.tif loaded and added to pool\n",
            "...image /content/drive/MyDrive/Image Processing and Analysis 2022/projects/Calcification Detection/dataset/images/22579870_301f1776aebbf5d2_MG_L_CC_ANON.tif loaded and added to pool\n",
            "...image /content/drive/MyDrive/Image Processing and Analysis 2022/projects/Calcification Detection/dataset/images/22579893_301f1776aebbf5d2_MG_R_ML_ANON.tif loaded and added to pool\n",
            "...image /content/drive/MyDrive/Image Processing and Analysis 2022/projects/Calcification Detection/dataset/images/22579916_301f1776aebbf5d2_MG_L_ML_ANON.tif loaded and added to pool\n",
            "...image /content/drive/MyDrive/Image Processing and Analysis 2022/projects/Calcification Detection/dataset/images/22580192_5530d5782fc89dd7_MG_R_CC_ANON.tif loaded and added to pool\n",
            "...image /content/drive/MyDrive/Image Processing and Analysis 2022/projects/Calcification Detection/dataset/images/22580218_5530d5782fc89dd7_MG_L_CC_ANON.tif loaded and added to pool\n",
            "...image /content/drive/MyDrive/Image Processing and Analysis 2022/projects/Calcification Detection/dataset/images/22580244_5530d5782fc89dd7_MG_R_ML_ANON.tif loaded and added to pool\n",
            "...image /content/drive/MyDrive/Image Processing and Analysis 2022/projects/Calcification Detection/dataset/images/22580270_5530d5782fc89dd7_MG_L_ML_ANON.tif loaded and added to pool\n",
            "...image /content/drive/MyDrive/Image Processing and Analysis 2022/projects/Calcification Detection/dataset/images/22580341_5eae9beae14d26fd_MG_R_CC_ANON.tif loaded and added to pool\n",
            "...image /content/drive/MyDrive/Image Processing and Analysis 2022/projects/Calcification Detection/dataset/images/22580367_5eae9beae14d26fd_MG_L_CC_ANON.tif loaded and added to pool\n",
            "...image /content/drive/MyDrive/Image Processing and Analysis 2022/projects/Calcification Detection/dataset/images/22580393_5eae9beae14d26fd_MG_R_ML_ANON.tif loaded and added to pool\n",
            "...image /content/drive/MyDrive/Image Processing and Analysis 2022/projects/Calcification Detection/dataset/images/22580419_5eae9beae14d26fd_MG_L_ML_ANON.tif loaded and added to pool\n",
            "...image /content/drive/MyDrive/Image Processing and Analysis 2022/projects/Calcification Detection/dataset/images/22580492_2a5b932da4ce5ca1_MG_R_CC_ANON.tif loaded and added to pool\n",
            "...image /content/drive/MyDrive/Image Processing and Analysis 2022/projects/Calcification Detection/dataset/images/22580520_2a5b932da4ce5ca1_MG_L_CC_ANON.tif loaded and added to pool\n",
            "...image /content/drive/MyDrive/Image Processing and Analysis 2022/projects/Calcification Detection/dataset/images/22580548_2a5b932da4ce5ca1_MG_R_ML_ANON.tif loaded and added to pool\n",
            "...image /content/drive/MyDrive/Image Processing and Analysis 2022/projects/Calcification Detection/dataset/images/22580576_2a5b932da4ce5ca1_MG_L_ML_ANON.tif loaded and added to pool\n",
            "...image /content/drive/MyDrive/Image Processing and Analysis 2022/projects/Calcification Detection/dataset/images/22613624_dcafa6ba6374ec07_MG_R_CC_ANON.tif loaded and added to pool\n",
            "...image /content/drive/MyDrive/Image Processing and Analysis 2022/projects/Calcification Detection/dataset/images/22613650_dcafa6ba6374ec07_MG_L_CC_ANON.tif loaded and added to pool\n",
            "...image /content/drive/MyDrive/Image Processing and Analysis 2022/projects/Calcification Detection/dataset/images/22613676_dcafa6ba6374ec07_MG_R_ML_ANON.tif loaded and added to pool\n",
            "...image /content/drive/MyDrive/Image Processing and Analysis 2022/projects/Calcification Detection/dataset/images/22613702_dcafa6ba6374ec07_MG_L_ML_ANON.tif loaded and added to pool\n",
            "...image /content/drive/MyDrive/Image Processing and Analysis 2022/projects/Calcification Detection/dataset/images/22614236_1e5c3af078f74b05_MG_L_CC_ANON.tif loaded and added to pool\n",
            "...image /content/drive/MyDrive/Image Processing and Analysis 2022/projects/Calcification Detection/dataset/images/22614266_1e5c3af078f74b05_MG_L_ML_ANON.tif loaded and added to pool\n",
            "...image /content/drive/MyDrive/Image Processing and Analysis 2022/projects/Calcification Detection/dataset/images/22614353_d065adcb9905b973_MG_R_CC_ANON.tif loaded and added to pool\n",
            "...image /content/drive/MyDrive/Image Processing and Analysis 2022/projects/Calcification Detection/dataset/images/22614379_d065adcb9905b973_MG_L_CC_ANON.tif loaded and added to pool\n",
            "...image /content/drive/MyDrive/Image Processing and Analysis 2022/projects/Calcification Detection/dataset/images/22614405_d065adcb9905b973_MG_R_ML_ANON.tif loaded and added to pool\n",
            "...image /content/drive/MyDrive/Image Processing and Analysis 2022/projects/Calcification Detection/dataset/images/22614431_d065adcb9905b973_MG_L_ML_ANON.tif loaded and added to pool\n",
            "...image /content/drive/MyDrive/Image Processing and Analysis 2022/projects/Calcification Detection/dataset/images/22614499_2dec4948fbe6336d_MG_R_CC_ANON.tif loaded and added to pool\n",
            "...image /content/drive/MyDrive/Image Processing and Analysis 2022/projects/Calcification Detection/dataset/images/22614522_2dec4948fbe6336d_MG_L_CC_ANON.tif loaded and added to pool\n",
            "...image /content/drive/MyDrive/Image Processing and Analysis 2022/projects/Calcification Detection/dataset/images/22614545_2dec4948fbe6336d_MG_R_ML_ANON.tif loaded and added to pool\n",
            "...image /content/drive/MyDrive/Image Processing and Analysis 2022/projects/Calcification Detection/dataset/images/22614568_2dec4948fbe6336d_MG_L_ML_ANON.tif loaded and added to pool\n",
            "...image /content/drive/MyDrive/Image Processing and Analysis 2022/projects/Calcification Detection/dataset/images/22670094_e1f51192f7bf3f5f_MG_R_CC_ANON.tif loaded and added to pool\n",
            "...image /content/drive/MyDrive/Image Processing and Analysis 2022/projects/Calcification Detection/dataset/images/22670124_e1f51192f7bf3f5f_MG_L_CC_ANON.tif loaded and added to pool\n",
            "...image /content/drive/MyDrive/Image Processing and Analysis 2022/projects/Calcification Detection/dataset/images/22670147_e1f51192f7bf3f5f_MG_R_ML_ANON.tif loaded and added to pool\n",
            "...image /content/drive/MyDrive/Image Processing and Analysis 2022/projects/Calcification Detection/dataset/images/22670177_e1f51192f7bf3f5f_MG_L_ML_ANON.tif loaded and added to pool\n",
            "...image /content/drive/MyDrive/Image Processing and Analysis 2022/projects/Calcification Detection/dataset/images/22670442_7e677f3d530e41ed_MG_R_CC_ANON.tif loaded and added to pool\n",
            "...image /content/drive/MyDrive/Image Processing and Analysis 2022/projects/Calcification Detection/dataset/images/22670465_7e677f3d530e41ed_MG_L_CC_ANON.tif loaded and added to pool\n",
            "...image /content/drive/MyDrive/Image Processing and Analysis 2022/projects/Calcification Detection/dataset/images/22670488_7e677f3d530e41ed_MG_R_ML_ANON.tif loaded and added to pool\n",
            "...image /content/drive/MyDrive/Image Processing and Analysis 2022/projects/Calcification Detection/dataset/images/22670511_7e677f3d530e41ed_MG_L_ML_ANON.tif loaded and added to pool\n",
            "...image /content/drive/MyDrive/Image Processing and Analysis 2022/projects/Calcification Detection/dataset/images/22670620_e15a16f87b4f9782_MG_R_CC_ANON.tif loaded and added to pool\n",
            "...image /content/drive/MyDrive/Image Processing and Analysis 2022/projects/Calcification Detection/dataset/images/22670643_e15a16f87b4f9782_MG_L_CC_ANON.tif loaded and added to pool\n",
            "...image /content/drive/MyDrive/Image Processing and Analysis 2022/projects/Calcification Detection/dataset/images/22670673_e15a16f87b4f9782_MG_R_ML_ANON.tif loaded and added to pool\n",
            "...image /content/drive/MyDrive/Image Processing and Analysis 2022/projects/Calcification Detection/dataset/images/22670703_e15a16f87b4f9782_MG_L_ML_ANON.tif loaded and added to pool\n",
            "...image /content/drive/MyDrive/Image Processing and Analysis 2022/projects/Calcification Detection/dataset/images/22670809_0b7396cdccacca82_MG_R_CC_ANON.tif loaded and added to pool\n",
            "...image /content/drive/MyDrive/Image Processing and Analysis 2022/projects/Calcification Detection/dataset/images/22670832_0b7396cdccacca82_MG_L_CC_ANON.tif loaded and added to pool\n",
            "...image /content/drive/MyDrive/Image Processing and Analysis 2022/projects/Calcification Detection/dataset/images/22670855_0b7396cdccacca82_MG_R_ML_ANON.tif loaded and added to pool\n",
            "...image /content/drive/MyDrive/Image Processing and Analysis 2022/projects/Calcification Detection/dataset/images/22670878_0b7396cdccacca82_MG_L_ML_ANON.tif loaded and added to pool\n",
            "...image /content/drive/MyDrive/Image Processing and Analysis 2022/projects/Calcification Detection/dataset/images/22670978_f571fd4e63c718e3_MG_L_CC_ANON.tif loaded and added to pool\n",
            "...image /content/drive/MyDrive/Image Processing and Analysis 2022/projects/Calcification Detection/dataset/images/22671003_f571fd4e63c718e3_MG_L_ML_ANON.tif loaded and added to pool\n",
            "...image /content/drive/MyDrive/Image Processing and Analysis 2022/projects/Calcification Detection/dataset/images/22678449_60995d51033e24b8_MG_R_CC_ANON.tif loaded and added to pool\n",
            "...image /content/drive/MyDrive/Image Processing and Analysis 2022/projects/Calcification Detection/dataset/images/22678472_60995d51033e24b8_MG_L_CC_ANON.tif loaded and added to pool\n",
            "...image /content/drive/MyDrive/Image Processing and Analysis 2022/projects/Calcification Detection/dataset/images/22678495_60995d51033e24b8_MG_R_ML_ANON.tif loaded and added to pool\n",
            "...image /content/drive/MyDrive/Image Processing and Analysis 2022/projects/Calcification Detection/dataset/images/22678518_60995d51033e24b8_MG_L_ML_ANON.tif loaded and added to pool\n",
            "...image /content/drive/MyDrive/Image Processing and Analysis 2022/projects/Calcification Detection/dataset/images/22678622_61b13c59bcba149e_MG_R_CC_ANON.tif loaded and added to pool\n",
            "...image /content/drive/MyDrive/Image Processing and Analysis 2022/projects/Calcification Detection/dataset/images/22678646_61b13c59bcba149e_MG_L_CC_ANON.tif loaded and added to pool\n",
            "...image /content/drive/MyDrive/Image Processing and Analysis 2022/projects/Calcification Detection/dataset/images/22678670_61b13c59bcba149e_MG_R_ML_ANON.tif loaded and added to pool\n",
            "...image /content/drive/MyDrive/Image Processing and Analysis 2022/projects/Calcification Detection/dataset/images/22678694_61b13c59bcba149e_MG_L_ML_ANON.tif loaded and added to pool\n",
            "...image /content/drive/MyDrive/Image Processing and Analysis 2022/projects/Calcification Detection/dataset/images/22678787_64a22c47765f0c5c_MG_R_CC_ANON.tif loaded and added to pool\n",
            "...image /content/drive/MyDrive/Image Processing and Analysis 2022/projects/Calcification Detection/dataset/images/22678810_64a22c47765f0c5c_MG_L_CC_ANON.tif loaded and added to pool\n",
            "...image /content/drive/MyDrive/Image Processing and Analysis 2022/projects/Calcification Detection/dataset/images/22678833_64a22c47765f0c5c_MG_R_ML_ANON.tif loaded and added to pool\n",
            "...image /content/drive/MyDrive/Image Processing and Analysis 2022/projects/Calcification Detection/dataset/images/22678856_64a22c47765f0c5c_MG_L_ML_ANON.tif loaded and added to pool\n",
            "...image /content/drive/MyDrive/Image Processing and Analysis 2022/projects/Calcification Detection/dataset/images/24054997_2f1104b3cda7f145_MG_L_ML_ANON.tif loaded and added to pool\n",
            "...image /content/drive/MyDrive/Image Processing and Analysis 2022/projects/Calcification Detection/dataset/images/24055024_2f1104b3cda7f145_MG_R_ML_ANON.tif loaded and added to pool\n",
            "...image /content/drive/MyDrive/Image Processing and Analysis 2022/projects/Calcification Detection/dataset/images/24055051_2f1104b3cda7f145_MG_L_CC_ANON.tif loaded and added to pool\n",
            "...image /content/drive/MyDrive/Image Processing and Analysis 2022/projects/Calcification Detection/dataset/images/24055078_2f1104b3cda7f145_MG_R_CC_ANON.tif loaded and added to pool\n",
            "...image /content/drive/MyDrive/Image Processing and Analysis 2022/projects/Calcification Detection/dataset/images/24055445_ac3185e18ffdc7b6_MG_L_ML_ANON.tif loaded and added to pool\n",
            "...image /content/drive/MyDrive/Image Processing and Analysis 2022/projects/Calcification Detection/dataset/images/24055464_ac3185e18ffdc7b6_MG_R_ML_ANON.tif loaded and added to pool\n",
            "...image /content/drive/MyDrive/Image Processing and Analysis 2022/projects/Calcification Detection/dataset/images/24055483_ac3185e18ffdc7b6_MG_L_CC_ANON.tif loaded and added to pool\n",
            "...image /content/drive/MyDrive/Image Processing and Analysis 2022/projects/Calcification Detection/dataset/images/24055502_ac3185e18ffdc7b6_MG_R_CC_ANON.tif loaded and added to pool\n",
            "...image /content/drive/MyDrive/Image Processing and Analysis 2022/projects/Calcification Detection/dataset/images/24058660_9e8db9e34d5275ef_MG_R_CC_ANON.tif loaded and added to pool\n",
            "...image /content/drive/MyDrive/Image Processing and Analysis 2022/projects/Calcification Detection/dataset/images/24058686_9e8db9e34d5275ef_MG_L_CC_ANON.tif loaded and added to pool\n",
            "...image /content/drive/MyDrive/Image Processing and Analysis 2022/projects/Calcification Detection/dataset/images/24058712_9e8db9e34d5275ef_MG_R_ML_ANON.tif loaded and added to pool\n",
            "...image /content/drive/MyDrive/Image Processing and Analysis 2022/projects/Calcification Detection/dataset/images/24058738_9e8db9e34d5275ef_MG_L_ML_ANON.tif loaded and added to pool\n",
            "...image /content/drive/MyDrive/Image Processing and Analysis 2022/projects/Calcification Detection/dataset/images/30011647_6968748e66837bc7_MG_R_CC_ANON.tif loaded and added to pool\n",
            "...image /content/drive/MyDrive/Image Processing and Analysis 2022/projects/Calcification Detection/dataset/images/30011674_6968748e66837bc7_MG_L_CC_ANON.tif loaded and added to pool\n",
            "...image /content/drive/MyDrive/Image Processing and Analysis 2022/projects/Calcification Detection/dataset/images/30011700_6968748e66837bc7_MG_R_ML_ANON.tif loaded and added to pool\n",
            "...image /content/drive/MyDrive/Image Processing and Analysis 2022/projects/Calcification Detection/dataset/images/30011727_6968748e66837bc7_MG_L_ML_ANON.tif loaded and added to pool\n",
            "...image /content/drive/MyDrive/Image Processing and Analysis 2022/projects/Calcification Detection/dataset/images/50993399_5d85ecc9cf26b254_MG_L_ML_ANON.tif loaded and added to pool\n",
            "...image /content/drive/MyDrive/Image Processing and Analysis 2022/projects/Calcification Detection/dataset/images/50993426_5d85ecc9cf26b254_MG_L_CC_ANON.tif loaded and added to pool\n",
            "...image /content/drive/MyDrive/Image Processing and Analysis 2022/projects/Calcification Detection/dataset/images/50994110_cc9e66c5b31baab8_MG_L_ML_ANON.tif loaded and added to pool\n",
            "...image /content/drive/MyDrive/Image Processing and Analysis 2022/projects/Calcification Detection/dataset/images/50994137_cc9e66c5b31baab8_MG_R_ML_ANON.tif loaded and added to pool\n",
            "...image /content/drive/MyDrive/Image Processing and Analysis 2022/projects/Calcification Detection/dataset/images/50994164_cc9e66c5b31baab8_MG_L_CC_ANON.tif loaded and added to pool\n",
            "...image /content/drive/MyDrive/Image Processing and Analysis 2022/projects/Calcification Detection/dataset/images/50994191_cc9e66c5b31baab8_MG_R_CC_ANON.tif loaded and added to pool\n",
            "...image /content/drive/MyDrive/Image Processing and Analysis 2022/projects/Calcification Detection/dataset/images/50994273_cc9e66c5b31baab8_MG_R_CC_ANON.tif loaded and added to pool\n",
            "...image /content/drive/MyDrive/Image Processing and Analysis 2022/projects/Calcification Detection/dataset/images/50994300_cc9e66c5b31baab8_MG_R_FB_ANON.tif loaded and added to pool\n",
            "...image /content/drive/MyDrive/Image Processing and Analysis 2022/projects/Calcification Detection/dataset/images/50994327_cc9e66c5b31baab8_MG_L_ML_ANON.tif loaded and added to pool\n",
            "...image /content/drive/MyDrive/Image Processing and Analysis 2022/projects/Calcification Detection/dataset/images/50994354_cc9e66c5b31baab8_MG_R_ML_ANON.tif loaded and added to pool\n",
            "...image /content/drive/MyDrive/Image Processing and Analysis 2022/projects/Calcification Detection/dataset/images/50994381_cc9e66c5b31baab8_MG_L_CC_ANON.tif loaded and added to pool\n",
            "...image /content/drive/MyDrive/Image Processing and Analysis 2022/projects/Calcification Detection/dataset/images/50994408_cc9e66c5b31baab8_MG_R_CC_ANON.tif loaded and added to pool\n",
            "...image /content/drive/MyDrive/Image Processing and Analysis 2022/projects/Calcification Detection/dataset/images/50995762_0c735e8768d276b4_MG_R_ML_ANON.tif loaded and added to pool\n",
            "...image /content/drive/MyDrive/Image Processing and Analysis 2022/projects/Calcification Detection/dataset/images/50995789_0c735e8768d276b4_MG_R_CC_ANON.tif loaded and added to pool\n",
            "...image /content/drive/MyDrive/Image Processing and Analysis 2022/projects/Calcification Detection/dataset/images/50996201_8c1b2bd64ca4d778_MG_L_ML_ANON.tif loaded and added to pool\n",
            "...image /content/drive/MyDrive/Image Processing and Analysis 2022/projects/Calcification Detection/dataset/images/50996228_8c1b2bd64ca4d778_MG_L_CC_ANON.tif loaded and added to pool\n",
            "...image /content/drive/MyDrive/Image Processing and Analysis 2022/projects/Calcification Detection/dataset/images/50996800_fdf4a1516f88b280_MG_L_ML_ANON.tif loaded and added to pool\n",
            "...image /content/drive/MyDrive/Image Processing and Analysis 2022/projects/Calcification Detection/dataset/images/50996827_fdf4a1516f88b280_MG_R_ML_ANON.tif loaded and added to pool\n",
            "...image /content/drive/MyDrive/Image Processing and Analysis 2022/projects/Calcification Detection/dataset/images/50996854_fdf4a1516f88b280_MG_L_CC_ANON.tif loaded and added to pool\n",
            "...image /content/drive/MyDrive/Image Processing and Analysis 2022/projects/Calcification Detection/dataset/images/50996881_fdf4a1516f88b280_MG_R_CC_ANON.tif loaded and added to pool\n",
            "...image /content/drive/MyDrive/Image Processing and Analysis 2022/projects/Calcification Detection/dataset/images/50997223_9054942f7be52dd9_MG_L_ML_ANON.tif loaded and added to pool\n",
            "...image /content/drive/MyDrive/Image Processing and Analysis 2022/projects/Calcification Detection/dataset/images/50997250_9054942f7be52dd9_MG_R_ML_ANON.tif loaded and added to pool\n",
            "...image /content/drive/MyDrive/Image Processing and Analysis 2022/projects/Calcification Detection/dataset/images/50997277_9054942f7be52dd9_MG_L_CC_ANON.tif loaded and added to pool\n",
            "...image /content/drive/MyDrive/Image Processing and Analysis 2022/projects/Calcification Detection/dataset/images/50997304_9054942f7be52dd9_MG_R_CC_ANON.tif loaded and added to pool\n",
            "...image /content/drive/MyDrive/Image Processing and Analysis 2022/projects/Calcification Detection/dataset/images/50997597_67cc8c9939d74a9a_MG_L_ML_ANON.tif loaded and added to pool\n",
            "...image /content/drive/MyDrive/Image Processing and Analysis 2022/projects/Calcification Detection/dataset/images/50997624_67cc8c9939d74a9a_MG_R_ML_ANON.tif loaded and added to pool\n",
            "...image /content/drive/MyDrive/Image Processing and Analysis 2022/projects/Calcification Detection/dataset/images/50997651_67cc8c9939d74a9a_MG_L_CC_ANON.tif loaded and added to pool\n",
            "...image /content/drive/MyDrive/Image Processing and Analysis 2022/projects/Calcification Detection/dataset/images/50997678_67cc8c9939d74a9a_MG_R_CC_ANON.tif loaded and added to pool\n",
            "...image /content/drive/MyDrive/Image Processing and Analysis 2022/projects/Calcification Detection/dataset/images/50997742_cbb6c98a81e69eeb_MG_L_ML_ANON.tif loaded and added to pool\n",
            "...image /content/drive/MyDrive/Image Processing and Analysis 2022/projects/Calcification Detection/dataset/images/50997769_cbb6c98a81e69eeb_MG_R_ML_ANON.tif loaded and added to pool\n",
            "...image /content/drive/MyDrive/Image Processing and Analysis 2022/projects/Calcification Detection/dataset/images/50997796_cbb6c98a81e69eeb_MG_L_CC_ANON.tif loaded and added to pool\n",
            "...image /content/drive/MyDrive/Image Processing and Analysis 2022/projects/Calcification Detection/dataset/images/50997823_cbb6c98a81e69eeb_MG_R_CC_ANON.tif loaded and added to pool\n",
            "...image /content/drive/MyDrive/Image Processing and Analysis 2022/projects/Calcification Detection/dataset/images/50998032_66adfbb4f19c76d2_MG_R_CC_ANON.tif loaded and added to pool\n",
            "...image /content/drive/MyDrive/Image Processing and Analysis 2022/projects/Calcification Detection/dataset/images/50998059_66adfbb4f19c76d2_MG_L_ML_ANON.tif loaded and added to pool\n",
            "...image /content/drive/MyDrive/Image Processing and Analysis 2022/projects/Calcification Detection/dataset/images/50998086_66adfbb4f19c76d2_MG_R_ML_ANON.tif loaded and added to pool\n",
            "...image /content/drive/MyDrive/Image Processing and Analysis 2022/projects/Calcification Detection/dataset/images/50998113_66adfbb4f19c76d2_MG_L_CC_ANON.tif loaded and added to pool\n",
            "...image /content/drive/MyDrive/Image Processing and Analysis 2022/projects/Calcification Detection/dataset/images/50998177_f34ee0ab6591b792_MG_L_ML_ANON.tif loaded and added to pool\n",
            "...image /content/drive/MyDrive/Image Processing and Analysis 2022/projects/Calcification Detection/dataset/images/50998204_f34ee0ab6591b792_MG_R_ML_ANON.tif loaded and added to pool\n",
            "...image /content/drive/MyDrive/Image Processing and Analysis 2022/projects/Calcification Detection/dataset/images/50998231_f34ee0ab6591b792_MG_L_CC_ANON.tif loaded and added to pool\n",
            "...image /content/drive/MyDrive/Image Processing and Analysis 2022/projects/Calcification Detection/dataset/images/50998258_f34ee0ab6591b792_MG_R_CC_ANON.tif loaded and added to pool\n",
            "...image /content/drive/MyDrive/Image Processing and Analysis 2022/projects/Calcification Detection/dataset/images/50998413_1f139436acfc5467_MG_L_ML_ANON.tif loaded and added to pool\n",
            "...image /content/drive/MyDrive/Image Processing and Analysis 2022/projects/Calcification Detection/dataset/images/50998440_1f139436acfc5467_MG_R_ML_ANON.tif loaded and added to pool\n",
            "...image /content/drive/MyDrive/Image Processing and Analysis 2022/projects/Calcification Detection/dataset/images/50998467_1f139436acfc5467_MG_L_CC_ANON.tif loaded and added to pool\n",
            "...image /content/drive/MyDrive/Image Processing and Analysis 2022/projects/Calcification Detection/dataset/images/50998494_1f139436acfc5467_MG_R_CC_ANON.tif loaded and added to pool\n",
            "...image /content/drive/MyDrive/Image Processing and Analysis 2022/projects/Calcification Detection/dataset/images/50998981_a78eba834ef6ee88_MG_R_ML_ANON.tif loaded and added to pool\n",
            "...image /content/drive/MyDrive/Image Processing and Analysis 2022/projects/Calcification Detection/dataset/images/50999008_a78eba834ef6ee88_MG_R_CC_ANON.tif loaded and added to pool\n",
            "...image /content/drive/MyDrive/Image Processing and Analysis 2022/projects/Calcification Detection/dataset/images/50999094_cb65e8dac169f596_MG_L_ML_ANON.tif loaded and added to pool\n",
            "...image /content/drive/MyDrive/Image Processing and Analysis 2022/projects/Calcification Detection/dataset/images/50999121_cb65e8dac169f596_MG_R_ML_ANON.tif loaded and added to pool\n",
            "...image /content/drive/MyDrive/Image Processing and Analysis 2022/projects/Calcification Detection/dataset/images/50999148_cb65e8dac169f596_MG_L_CC_ANON.tif loaded and added to pool\n",
            "...image /content/drive/MyDrive/Image Processing and Analysis 2022/projects/Calcification Detection/dataset/images/50999175_cb65e8dac169f596_MG_R_CC_ANON.tif loaded and added to pool\n",
            "...image /content/drive/MyDrive/Image Processing and Analysis 2022/projects/Calcification Detection/dataset/images/50999246_cb65e8dac169f596_MG_L_ML_ANON.tif loaded and added to pool\n",
            "...image /content/drive/MyDrive/Image Processing and Analysis 2022/projects/Calcification Detection/dataset/images/50999273_cb65e8dac169f596_MG_R_ML_ANON.tif loaded and added to pool\n",
            "...image /content/drive/MyDrive/Image Processing and Analysis 2022/projects/Calcification Detection/dataset/images/50999300_cb65e8dac169f596_MG_L_CC_ANON.tif loaded and added to pool\n",
            "...image /content/drive/MyDrive/Image Processing and Analysis 2022/projects/Calcification Detection/dataset/images/50999327_cb65e8dac169f596_MG_R_CC_ANON.tif loaded and added to pool\n",
            "...image /content/drive/MyDrive/Image Processing and Analysis 2022/projects/Calcification Detection/dataset/images/51049462_6f64793857feb5d0_MG_L_ML_ANON.tif loaded and added to pool\n",
            "...image /content/drive/MyDrive/Image Processing and Analysis 2022/projects/Calcification Detection/dataset/images/51049489_6f64793857feb5d0_MG_R_ML_ANON.tif loaded and added to pool\n",
            "...image /content/drive/MyDrive/Image Processing and Analysis 2022/projects/Calcification Detection/dataset/images/51049516_6f64793857feb5d0_MG_L_CC_ANON.tif loaded and added to pool\n",
            "...image /content/drive/MyDrive/Image Processing and Analysis 2022/projects/Calcification Detection/dataset/images/51049543_6f64793857feb5d0_MG_R_CC_ANON.tif loaded and added to pool\n",
            "...image /content/drive/MyDrive/Image Processing and Analysis 2022/projects/Calcification Detection/dataset/images/51049628_6f64793857feb5d0_MG_L_ML_ANON.tif loaded and added to pool\n",
            "...image /content/drive/MyDrive/Image Processing and Analysis 2022/projects/Calcification Detection/dataset/images/51049655_6f64793857feb5d0_MG_R_ML_ANON.tif loaded and added to pool\n",
            "...image /content/drive/MyDrive/Image Processing and Analysis 2022/projects/Calcification Detection/dataset/images/51049682_6f64793857feb5d0_MG_L_CC_ANON.tif loaded and added to pool\n",
            "...image /content/drive/MyDrive/Image Processing and Analysis 2022/projects/Calcification Detection/dataset/images/51070197_6f64793857feb5d0_MG_R_CC_ANON.tif loaded and added to pool\n",
            "...image /content/drive/MyDrive/Image Processing and Analysis 2022/projects/Calcification Detection/dataset/images/53580611_40e22f2e3215b954_MG_L_ML_ANON.tif loaded and added to pool\n",
            "...image /content/drive/MyDrive/Image Processing and Analysis 2022/projects/Calcification Detection/dataset/images/53580638_40e22f2e3215b954_MG_R_ML_ANON.tif loaded and added to pool\n",
            "...image /content/drive/MyDrive/Image Processing and Analysis 2022/projects/Calcification Detection/dataset/images/53580665_40e22f2e3215b954_MG_L_CC_ANON.tif loaded and added to pool\n",
            "...image /content/drive/MyDrive/Image Processing and Analysis 2022/projects/Calcification Detection/dataset/images/53580692_40e22f2e3215b954_MG_R_CC_ANON.tif loaded and added to pool\n",
            "...image /content/drive/MyDrive/Image Processing and Analysis 2022/projects/Calcification Detection/dataset/images/53580804_51bec6477a7898b9_MG_L_ML_ANON.tif loaded and added to pool\n",
            "...image /content/drive/MyDrive/Image Processing and Analysis 2022/projects/Calcification Detection/dataset/images/53580831_51bec6477a7898b9_MG_R_ML_ANON.tif loaded and added to pool\n",
            "...image /content/drive/MyDrive/Image Processing and Analysis 2022/projects/Calcification Detection/dataset/images/53580858_51bec6477a7898b9_MG_L_CC_ANON.tif loaded and added to pool\n",
            "...image /content/drive/MyDrive/Image Processing and Analysis 2022/projects/Calcification Detection/dataset/images/53580885_51bec6477a7898b9_MG_R_CC_ANON.tif loaded and added to pool\n",
            "...image /content/drive/MyDrive/Image Processing and Analysis 2022/projects/Calcification Detection/dataset/images/53581124_3be876aecfaad4ca_MG_L_ML_ANON.tif loaded and added to pool\n",
            "...image /content/drive/MyDrive/Image Processing and Analysis 2022/projects/Calcification Detection/dataset/images/53581151_3be876aecfaad4ca_MG_L_CC_ANON.tif loaded and added to pool\n",
            "...image /content/drive/MyDrive/Image Processing and Analysis 2022/projects/Calcification Detection/dataset/images/53581769_573747ee33ef6e5a_MG_L_ML_ANON.tif loaded and added to pool\n",
            "...image /content/drive/MyDrive/Image Processing and Analysis 2022/projects/Calcification Detection/dataset/images/53581796_573747ee33ef6e5a_MG_L_CC_ANON.tif loaded and added to pool\n",
            "...image /content/drive/MyDrive/Image Processing and Analysis 2022/projects/Calcification Detection/dataset/images/53581860_21e6cc12630e5e9f_MG_L_ML_ANON.tif loaded and added to pool\n",
            "...image /content/drive/MyDrive/Image Processing and Analysis 2022/projects/Calcification Detection/dataset/images/53581887_21e6cc12630e5e9f_MG_R_ML_ANON.tif loaded and added to pool\n",
            "...image /content/drive/MyDrive/Image Processing and Analysis 2022/projects/Calcification Detection/dataset/images/53581914_21e6cc12630e5e9f_MG_L_CC_ANON.tif loaded and added to pool\n",
            "...image /content/drive/MyDrive/Image Processing and Analysis 2022/projects/Calcification Detection/dataset/images/53581941_21e6cc12630e5e9f_MG_R_CC_ANON.tif loaded and added to pool\n",
            "...image /content/drive/MyDrive/Image Processing and Analysis 2022/projects/Calcification Detection/dataset/images/53582304_8913a7e0cf3bd74e_MG_R_ML_ANON.tif loaded and added to pool\n",
            "...image /content/drive/MyDrive/Image Processing and Analysis 2022/projects/Calcification Detection/dataset/images/53582331_8913a7e0cf3bd74e_MG_R_CC_ANON.tif loaded and added to pool\n",
            "...image /content/drive/MyDrive/Image Processing and Analysis 2022/projects/Calcification Detection/dataset/images/53586361_dda3c6969a34ff8e_MG_L_ML_ANON.tif loaded and added to pool\n",
            "...image /content/drive/MyDrive/Image Processing and Analysis 2022/projects/Calcification Detection/dataset/images/53586388_dda3c6969a34ff8e_MG_R_ML_ANON.tif loaded and added to pool\n",
            "...image /content/drive/MyDrive/Image Processing and Analysis 2022/projects/Calcification Detection/dataset/images/53586415_dda3c6969a34ff8e_MG_L_CC_ANON.tif loaded and added to pool\n",
            "...image /content/drive/MyDrive/Image Processing and Analysis 2022/projects/Calcification Detection/dataset/images/53586442_dda3c6969a34ff8e_MG_R_CC_ANON.tif loaded and added to pool\n",
            "...image /content/drive/MyDrive/Image Processing and Analysis 2022/projects/Calcification Detection/dataset/images/53586960_809e3f43339f93c6_MG_L_ML_ANON.tif loaded and added to pool\n",
            "...image /content/drive/MyDrive/Image Processing and Analysis 2022/projects/Calcification Detection/dataset/images/53586987_809e3f43339f93c6_MG_R_ML_ANON.tif loaded and added to pool\n",
            "...image /content/drive/MyDrive/Image Processing and Analysis 2022/projects/Calcification Detection/dataset/images/53587014_809e3f43339f93c6_MG_L_CC_ANON.tif loaded and added to pool\n",
            "...image /content/drive/MyDrive/Image Processing and Analysis 2022/projects/Calcification Detection/dataset/images/53587041_809e3f43339f93c6_MG_R_CC_ANON.tif loaded and added to pool\n",
            "...image /content/drive/MyDrive/Image Processing and Analysis 2022/projects/Calcification Detection/dataset/images/53587104_7b71aa9928e6975e_MG_L_ML_ANON.tif loaded and added to pool\n",
            "...image /content/drive/MyDrive/Image Processing and Analysis 2022/projects/Calcification Detection/dataset/images/53587131_7b71aa9928e6975e_MG_L_CC_ANON.tif loaded and added to pool\n",
            "...image /content/drive/MyDrive/Image Processing and Analysis 2022/projects/Calcification Detection/dataset/images/53587572_11e6732579acf692_MG_L_ML_ANON.tif loaded and added to pool\n",
            "...image /content/drive/MyDrive/Image Processing and Analysis 2022/projects/Calcification Detection/dataset/images/53587599_11e6732579acf692_MG_L_CC_ANON.tif loaded and added to pool\n",
            "...image /content/drive/MyDrive/Image Processing and Analysis 2022/projects/Calcification Detection/dataset/images/53587663_5fb370d4c1c71974_MG_R_CC_ANON.tif loaded and added to pool\n",
            "...image /content/drive/MyDrive/Image Processing and Analysis 2022/projects/Calcification Detection/dataset/images/53587690_5fb370d4c1c71974_MG_L_ML_ANON.tif loaded and added to pool\n",
            "...image /content/drive/MyDrive/Image Processing and Analysis 2022/projects/Calcification Detection/dataset/images/53587717_5fb370d4c1c71974_MG_R_ML_ANON.tif loaded and added to pool\n",
            "...image /content/drive/MyDrive/Image Processing and Analysis 2022/projects/Calcification Detection/dataset/images/53587744_5fb370d4c1c71974_MG_L_CC_ANON.tif loaded and added to pool\n",
            "...TOTAL TIME elapsed  = 198.1 seconds\n",
            "...roi dim (C x W x H) = 1 x 12 x 12\n",
            "...class counts        = [10649413     2239]\n",
            "...class augmentations = []\n",
            "...total counts        = 10651652\n",
            "...data augmentation:  = NoneType\n"
          ]
        }
      ],
      "source": [
        "import roi_cc_project\n",
        "\n",
        "dataset_test = roi_cc_project.CvROI([noMC_file_test, MC_file_test], os.path.join(DATA_DIR, 'images'), img_prefix='', img_suffix='', img_channel=None, img_list='', train=False,\n",
        "                 crossvalid=(1, 1), class_weights=None, class_max_counts=None, class_min_counts=None,\n",
        "                 preprocessing=None, augmentation=None, verbose=True)\n",
        "# dataset = roi_cc_project.UnlabeledImageROI(os.path.join(DATA_DIR, 'images', '20586908_6c613a14b80a8591_MG_R_CC_ANON.tif'),os.path.join(DATA_DIR, 'groundtruths', '20586908_6c613a14b80a8591_MG_R_CC_ANON.tif'), (12,12), img_channel=None, preprocessing=None, verbose=True)"
      ]
    },
    {
      "cell_type": "code",
      "execution_count": null,
      "metadata": {
        "id": "8Sam8tBr7Q1a"
      },
      "outputs": [],
      "source": [
        "# Add weights to the Cross Entropy Loss\n"
      ]
    },
    {
      "cell_type": "code",
      "execution_count": null,
      "metadata": {
        "id": "2pGR-Sur6NSm"
      },
      "outputs": [],
      "source": [
        "dataloader_test = torch.utils.data.DataLoader(dataset_test, batch_size=batch_size, shuffle=True, num_workers=num_workers, pin_memory=True) "
      ]
    },
    {
      "cell_type": "code",
      "execution_count": null,
      "metadata": {
        "colab": {
          "base_uri": "https://localhost:8080/",
          "height": 200
        },
        "id": "Wy_vO9jx5cl9",
        "outputId": "47ce7cc0-4076-43d9-a848-540617d6f84c"
      },
      "outputs": [
        {
          "ename": "AttributeError",
          "evalue": "ignored",
          "output_type": "error",
          "traceback": [
            "\u001b[0;31m---------------------------------------------------------------------------\u001b[0m",
            "\u001b[0;31mAttributeError\u001b[0m                            Traceback (most recent call last)",
            "\u001b[0;32m<ipython-input-38-d7c79e0d24e4>\u001b[0m in \u001b[0;36m<module>\u001b[0;34m()\u001b[0m\n\u001b[1;32m      1\u001b[0m \u001b[0mpredictions\u001b[0m\u001b[0;34m,\u001b[0m \u001b[0mreals\u001b[0m \u001b[0;34m=\u001b[0m \u001b[0mtest\u001b[0m\u001b[0;34m(\u001b[0m\u001b[0mdataset_test\u001b[0m\u001b[0;34m,\u001b[0m \u001b[0mdataloader_test\u001b[0m\u001b[0;34m)\u001b[0m\u001b[0;34m\u001b[0m\u001b[0;34m\u001b[0m\u001b[0m\n\u001b[0;32m----> 2\u001b[0;31m \u001b[0maccuracy\u001b[0m \u001b[0;34m=\u001b[0m \u001b[0;36m100.\u001b[0m \u001b[0;34m*\u001b[0m \u001b[0mpredictions\u001b[0m\u001b[0;34m.\u001b[0m\u001b[0meq\u001b[0m\u001b[0;34m(\u001b[0m\u001b[0mreals\u001b[0m\u001b[0;34m)\u001b[0m\u001b[0;34m.\u001b[0m\u001b[0msum\u001b[0m\u001b[0;34m(\u001b[0m\u001b[0;34m)\u001b[0m\u001b[0;34m.\u001b[0m\u001b[0mfloat\u001b[0m\u001b[0;34m(\u001b[0m\u001b[0;34m)\u001b[0m \u001b[0;34m/\u001b[0m \u001b[0mlen\u001b[0m\u001b[0;34m(\u001b[0m\u001b[0mdataset_test\u001b[0m\u001b[0;34m)\u001b[0m\u001b[0;34m\u001b[0m\u001b[0;34m\u001b[0m\u001b[0m\n\u001b[0m\u001b[1;32m      3\u001b[0m \u001b[0mprint\u001b[0m \u001b[0;34m(\u001b[0m\u001b[0;34m\"Accuracy on test set is %.2f\"\u001b[0m \u001b[0;34m%\u001b[0m \u001b[0maccuracy\u001b[0m\u001b[0;34m)\u001b[0m\u001b[0;34m\u001b[0m\u001b[0;34m\u001b[0m\u001b[0m\n",
            "\u001b[0;31mAttributeError\u001b[0m: 'list' object has no attribute 'eq'"
          ]
        }
      ],
      "source": [
        "predictions, reals = test(dataset_test, dataloader_test)\n",
        "accuracy = 100. * predictions.eq(reals).sum().float() / len(dataset_test)\n",
        "print (\"Accuracy on test set is %.2f\" % accuracy)"
      ]
    },
    {
      "cell_type": "markdown",
      "source": [
        "# **Chaos zone**"
      ],
      "metadata": {
        "id": "GxwqD-PASnmX"
      }
    },
    {
      "cell_type": "code",
      "execution_count": null,
      "metadata": {
        "id": "QKRXEiPl-8Pr"
      },
      "outputs": [],
      "source": [
        "net = CNN1().to(device) #we need to also send the model to the GPU as well\n",
        "\n",
        "# create loss function\n",
        "criterion = nn.CrossEntropyLoss() #most used for classification purposes\n",
        "\n",
        "# create SGD optimizer\n",
        "optimizer = optim.SGD(net.parameters(), lr=learning_rate, momentum=momentum) #most common optimizer is adam\n",
        "\n",
        "# create learning rate scheduler\n",
        "scheduler = optim.lr_scheduler.StepLR(optimizer, step_size=lr_step_size, gamma=lr_gamma)\n",
        "\n",
        "# experiment ID\n",
        "experiment_ID = \"%s_%s_%s_bs(%d)lr(%.4f_%d_%.1f)m(%.1f)e(%d)act(%s)xavier(yes)da(%s)do(%.1f)BN\" % (type(net).__name__, type(criterion).__name__, type(optimizer).__name__,\n",
        "                batch_size, learning_rate, lr_step_size, lr_gamma, momentum, epochs, type(activation).__name__, data_augmentation, dropout)"
      ]
    },
    {
      "cell_type": "code",
      "execution_count": null,
      "metadata": {
        "colab": {
          "base_uri": "https://localhost:8080/",
          "height": 501
        },
        "id": "x93afF_e9ck7",
        "outputId": "b52c445b-9536-4b58-b58a-39d7b628e277"
      },
      "outputs": [
        {
          "output_type": "stream",
          "name": "stdout",
          "text": [
            "Epoch 1/30\n",
            "----------\n",
            "train Loss: 0.0488 F1-score: 0.9852\n",
            "MCC:  0.9079203692893413\n",
            "AUC:  0.4542839842567363\n",
            "eval Loss: 0.0110 F1-score: 0.9977\n",
            "MCC:  0.9065799731503638\n",
            "AUC:  0.0039548022598870055\n",
            "\n",
            "Epoch 2/30\n",
            "----------\n"
          ]
        },
        {
          "output_type": "error",
          "ename": "KeyboardInterrupt",
          "evalue": "ignored",
          "traceback": [
            "\u001b[0;31m---------------------------------------------------------------------------\u001b[0m",
            "\u001b[0;31mKeyboardInterrupt\u001b[0m                         Traceback (most recent call last)",
            "\u001b[0;32m<ipython-input-24-77e86cb36ebe>\u001b[0m in \u001b[0;36m<module>\u001b[0;34m()\u001b[0m\n\u001b[0;32m----> 1\u001b[0;31m \u001b[0mmodel\u001b[0m \u001b[0;34m=\u001b[0m \u001b[0mtrain_model\u001b[0m\u001b[0;34m(\u001b[0m\u001b[0mnet\u001b[0m\u001b[0;34m,\u001b[0m \u001b[0mcriterion\u001b[0m\u001b[0;34m,\u001b[0m \u001b[0moptimizer\u001b[0m\u001b[0;34m,\u001b[0m \u001b[0mscheduler\u001b[0m\u001b[0;34m,\u001b[0m \u001b[0mnum_epochs\u001b[0m\u001b[0;34m=\u001b[0m\u001b[0mepochs\u001b[0m\u001b[0;34m)\u001b[0m\u001b[0;34m\u001b[0m\u001b[0;34m\u001b[0m\u001b[0m\n\u001b[0m",
            "\u001b[0;32m<ipython-input-19-8d8f3cd7daef>\u001b[0m in \u001b[0;36mtrain_model\u001b[0;34m(model, criterion, optimizer, scheduler, num_epochs)\u001b[0m\n\u001b[1;32m     54\u001b[0m \u001b[0;31m#                running_corrects += torch.sum(preds == labels.data)\u001b[0m\u001b[0;34m\u001b[0m\u001b[0;34m\u001b[0m\u001b[0;34m\u001b[0m\u001b[0m\n\u001b[1;32m     55\u001b[0m \u001b[0;34m\u001b[0m\u001b[0m\n\u001b[0;32m---> 56\u001b[0;31m                 \u001b[0mf1_history\u001b[0m\u001b[0;34m.\u001b[0m\u001b[0mappend\u001b[0m\u001b[0;34m(\u001b[0m\u001b[0mf1\u001b[0m\u001b[0;34m(\u001b[0m\u001b[0mpreds\u001b[0m\u001b[0;34m,\u001b[0m \u001b[0mlabels\u001b[0m\u001b[0;34m.\u001b[0m\u001b[0mdata\u001b[0m\u001b[0;34m)\u001b[0m\u001b[0;34m.\u001b[0m\u001b[0mdouble\u001b[0m\u001b[0;34m(\u001b[0m\u001b[0;34m)\u001b[0m\u001b[0;34m.\u001b[0m\u001b[0mcpu\u001b[0m\u001b[0;34m(\u001b[0m\u001b[0;34m)\u001b[0m\u001b[0;34m.\u001b[0m\u001b[0mnumpy\u001b[0m\u001b[0;34m(\u001b[0m\u001b[0;34m)\u001b[0m\u001b[0;34m)\u001b[0m\u001b[0;34m\u001b[0m\u001b[0;34m\u001b[0m\u001b[0m\n\u001b[0m\u001b[1;32m     57\u001b[0m                 \u001b[0mauc_history\u001b[0m\u001b[0;34m.\u001b[0m\u001b[0mappend\u001b[0m\u001b[0;34m(\u001b[0m\u001b[0mauc\u001b[0m\u001b[0;34m(\u001b[0m\u001b[0mpreds\u001b[0m\u001b[0;34m,\u001b[0m \u001b[0mlabels\u001b[0m\u001b[0;34m.\u001b[0m\u001b[0mdata\u001b[0m\u001b[0;34m,\u001b[0m \u001b[0mreorder\u001b[0m\u001b[0;34m=\u001b[0m\u001b[0;32mTrue\u001b[0m\u001b[0;34m)\u001b[0m\u001b[0;34m.\u001b[0m\u001b[0mdouble\u001b[0m\u001b[0;34m(\u001b[0m\u001b[0;34m)\u001b[0m\u001b[0;34m.\u001b[0m\u001b[0mcpu\u001b[0m\u001b[0;34m(\u001b[0m\u001b[0;34m)\u001b[0m\u001b[0;34m.\u001b[0m\u001b[0mnumpy\u001b[0m\u001b[0;34m(\u001b[0m\u001b[0;34m)\u001b[0m\u001b[0;34m)\u001b[0m\u001b[0;34m\u001b[0m\u001b[0;34m\u001b[0m\u001b[0m\n\u001b[1;32m     58\u001b[0m \u001b[0;31m#                running_prerec += precision_recall(preds, labels.data)\u001b[0m\u001b[0;34m\u001b[0m\u001b[0;34m\u001b[0m\u001b[0;34m\u001b[0m\u001b[0m\n",
            "\u001b[0;32m/usr/local/lib/python3.7/dist-packages/torch/nn/modules/module.py\u001b[0m in \u001b[0;36m_call_impl\u001b[0;34m(self, *input, **kwargs)\u001b[0m\n\u001b[1;32m   1108\u001b[0m         if not (self._backward_hooks or self._forward_hooks or self._forward_pre_hooks or _global_backward_hooks\n\u001b[1;32m   1109\u001b[0m                 or _global_forward_hooks or _global_forward_pre_hooks):\n\u001b[0;32m-> 1110\u001b[0;31m             \u001b[0;32mreturn\u001b[0m \u001b[0mforward_call\u001b[0m\u001b[0;34m(\u001b[0m\u001b[0;34m*\u001b[0m\u001b[0minput\u001b[0m\u001b[0;34m,\u001b[0m \u001b[0;34m**\u001b[0m\u001b[0mkwargs\u001b[0m\u001b[0;34m)\u001b[0m\u001b[0;34m\u001b[0m\u001b[0;34m\u001b[0m\u001b[0m\n\u001b[0m\u001b[1;32m   1111\u001b[0m         \u001b[0;31m# Do not call functions when jit is used\u001b[0m\u001b[0;34m\u001b[0m\u001b[0;34m\u001b[0m\u001b[0;34m\u001b[0m\u001b[0m\n\u001b[1;32m   1112\u001b[0m         \u001b[0mfull_backward_hooks\u001b[0m\u001b[0;34m,\u001b[0m \u001b[0mnon_full_backward_hooks\u001b[0m \u001b[0;34m=\u001b[0m \u001b[0;34m[\u001b[0m\u001b[0;34m]\u001b[0m\u001b[0;34m,\u001b[0m \u001b[0;34m[\u001b[0m\u001b[0;34m]\u001b[0m\u001b[0;34m\u001b[0m\u001b[0;34m\u001b[0m\u001b[0m\n",
            "\u001b[0;32m/usr/local/lib/python3.7/dist-packages/torchmetrics/metric.py\u001b[0m in \u001b[0;36mforward\u001b[0;34m(self, *args, **kwargs)\u001b[0m\n\u001b[1;32m    246\u001b[0m \u001b[0;34m\u001b[0m\u001b[0m\n\u001b[1;32m    247\u001b[0m         \u001b[0;31m# global accumulation\u001b[0m\u001b[0;34m\u001b[0m\u001b[0;34m\u001b[0m\u001b[0;34m\u001b[0m\u001b[0m\n\u001b[0;32m--> 248\u001b[0;31m         \u001b[0mself\u001b[0m\u001b[0;34m.\u001b[0m\u001b[0mupdate\u001b[0m\u001b[0;34m(\u001b[0m\u001b[0;34m*\u001b[0m\u001b[0margs\u001b[0m\u001b[0;34m,\u001b[0m \u001b[0;34m**\u001b[0m\u001b[0mkwargs\u001b[0m\u001b[0;34m)\u001b[0m\u001b[0;34m\u001b[0m\u001b[0;34m\u001b[0m\u001b[0m\n\u001b[0m\u001b[1;32m    249\u001b[0m \u001b[0;34m\u001b[0m\u001b[0m\n\u001b[1;32m    250\u001b[0m         \u001b[0mself\u001b[0m\u001b[0;34m.\u001b[0m\u001b[0m_to_sync\u001b[0m \u001b[0;34m=\u001b[0m \u001b[0mself\u001b[0m\u001b[0;34m.\u001b[0m\u001b[0mdist_sync_on_step\u001b[0m  \u001b[0;31m# type: ignore\u001b[0m\u001b[0;34m\u001b[0m\u001b[0;34m\u001b[0m\u001b[0m\n",
            "\u001b[0;32m/usr/local/lib/python3.7/dist-packages/torchmetrics/metric.py\u001b[0m in \u001b[0;36mwrapped_func\u001b[0;34m(*args, **kwargs)\u001b[0m\n\u001b[1;32m    310\u001b[0m             \u001b[0mself\u001b[0m\u001b[0;34m.\u001b[0m\u001b[0m_update_called\u001b[0m \u001b[0;34m=\u001b[0m \u001b[0;32mTrue\u001b[0m\u001b[0;34m\u001b[0m\u001b[0;34m\u001b[0m\u001b[0m\n\u001b[1;32m    311\u001b[0m             \u001b[0;32mwith\u001b[0m \u001b[0mtorch\u001b[0m\u001b[0;34m.\u001b[0m\u001b[0mset_grad_enabled\u001b[0m\u001b[0;34m(\u001b[0m\u001b[0mself\u001b[0m\u001b[0;34m.\u001b[0m\u001b[0m_enable_grad\u001b[0m\u001b[0;34m)\u001b[0m\u001b[0;34m:\u001b[0m\u001b[0;34m\u001b[0m\u001b[0;34m\u001b[0m\u001b[0m\n\u001b[0;32m--> 312\u001b[0;31m                 \u001b[0mupdate\u001b[0m\u001b[0;34m(\u001b[0m\u001b[0;34m*\u001b[0m\u001b[0margs\u001b[0m\u001b[0;34m,\u001b[0m \u001b[0;34m**\u001b[0m\u001b[0mkwargs\u001b[0m\u001b[0;34m)\u001b[0m\u001b[0;34m\u001b[0m\u001b[0;34m\u001b[0m\u001b[0m\n\u001b[0m\u001b[1;32m    313\u001b[0m             \u001b[0;32mif\u001b[0m \u001b[0mself\u001b[0m\u001b[0;34m.\u001b[0m\u001b[0mcompute_on_cpu\u001b[0m\u001b[0;34m:\u001b[0m\u001b[0;34m\u001b[0m\u001b[0;34m\u001b[0m\u001b[0m\n\u001b[1;32m    314\u001b[0m                 \u001b[0mself\u001b[0m\u001b[0;34m.\u001b[0m\u001b[0m_move_list_states_to_cpu\u001b[0m\u001b[0;34m(\u001b[0m\u001b[0;34m)\u001b[0m\u001b[0;34m\u001b[0m\u001b[0;34m\u001b[0m\u001b[0m\n",
            "\u001b[0;32m/usr/local/lib/python3.7/dist-packages/torchmetrics/classification/stat_scores.py\u001b[0m in \u001b[0;36mupdate\u001b[0;34m(self, preds, target)\u001b[0m\n\u001b[1;32m    200\u001b[0m             \u001b[0mself\u001b[0m\u001b[0;34m.\u001b[0m\u001b[0mfp\u001b[0m \u001b[0;34m+=\u001b[0m \u001b[0mfp\u001b[0m\u001b[0;34m\u001b[0m\u001b[0;34m\u001b[0m\u001b[0m\n\u001b[1;32m    201\u001b[0m             \u001b[0mself\u001b[0m\u001b[0;34m.\u001b[0m\u001b[0mtn\u001b[0m \u001b[0;34m+=\u001b[0m \u001b[0mtn\u001b[0m\u001b[0;34m\u001b[0m\u001b[0;34m\u001b[0m\u001b[0m\n\u001b[0;32m--> 202\u001b[0;31m             \u001b[0mself\u001b[0m\u001b[0;34m.\u001b[0m\u001b[0mfn\u001b[0m \u001b[0;34m+=\u001b[0m \u001b[0mfn\u001b[0m\u001b[0;34m\u001b[0m\u001b[0;34m\u001b[0m\u001b[0m\n\u001b[0m\u001b[1;32m    203\u001b[0m         \u001b[0;32melse\u001b[0m\u001b[0;34m:\u001b[0m\u001b[0;34m\u001b[0m\u001b[0;34m\u001b[0m\u001b[0m\n\u001b[1;32m    204\u001b[0m             \u001b[0mself\u001b[0m\u001b[0;34m.\u001b[0m\u001b[0mtp\u001b[0m\u001b[0;34m.\u001b[0m\u001b[0mappend\u001b[0m\u001b[0;34m(\u001b[0m\u001b[0mtp\u001b[0m\u001b[0;34m)\u001b[0m\u001b[0;34m\u001b[0m\u001b[0;34m\u001b[0m\u001b[0m\n",
            "\u001b[0;31mKeyboardInterrupt\u001b[0m: "
          ]
        }
      ],
      "source": [
        "model = train_model(net, criterion, optimizer, scheduler, num_epochs=epochs)"
      ]
    },
    {
      "cell_type": "code",
      "source": [
        "class CNN2_mod(nn.Module):\n",
        "  def __init__(self) -> None:\n",
        "      super(CNN2_mod, self).__init__()\n",
        "\n",
        "      # in_channels is number of channels (this is because we have a patch of 1 image)\n",
        "      # out_channels is number of filters or kernels given out by the convolution\n",
        "      # stride is a parameter (default is 1)\n",
        "      self.conv1 =  nn.Conv2d(in_channels=1, out_channels=64, kernel_size=3, padding=1)\n",
        "      self.bn1 = nn.BatchNorm2d(64)\n",
        "      self.conv2 = nn.Conv2d(in_channels=64, out_channels=64, kernel_size=3, padding=1)\n",
        "      self.bn2 = nn.BatchNorm2d(64)\n",
        "      self.pool1 = nn.MaxPool2d(kernel_size=2, padding=1)\n",
        "      self.dropout1=nn.Dropout(p=0.2)\n",
        "      self.bn3 = nn.BatchNorm2d(64)\n",
        "\n",
        "      self.flatten = nn.Flatten()\n",
        "\n",
        "      self.fc1 = nn.Linear(3136,2)\n",
        "      self.fc2 = nn.Linear(512,2)\n",
        "\n",
        "\n",
        "      nn.init.xavier_normal_(self.conv1.weight)\n",
        "      nn.init.xavier_normal_(self.conv2.weight)\n",
        "\n",
        "      nn.init.xavier_normal_(self.fc1.weight)\n",
        "      nn.init.xavier_normal_(self.fc2.weight)\n",
        "\n",
        "  def forward(self, x):\n",
        "\n",
        "      x = self.conv1(x)\n",
        "#      x = self.conv2(x)\n",
        "      x = self.pool1(x)\n",
        "      x = self.dropout1(x)\n",
        "      x = self.flatten(x)\n",
        "      x = self.fc1(x)\n",
        "      # x = activation(x)\n",
        "      # x = self.fc2(x)\n",
        "\n",
        "      return x\n",
        "\n"
      ],
      "metadata": {
        "id": "H7ZeLnjY0O7L"
      },
      "execution_count": null,
      "outputs": []
    },
    {
      "cell_type": "code",
      "source": [
        "net = CNN2_mod()\n",
        "# summary(net, (1,12,12))\n",
        "\n",
        "dummy_variable = torch.rand(1,1,12,12) #batch size, channel, image size\n",
        "net(dummy_variable).size()"
      ],
      "metadata": {
        "colab": {
          "base_uri": "https://localhost:8080/"
        },
        "id": "9U_U2vWGIelT",
        "outputId": "9e695278-316b-4a27-985c-8d556023cda4"
      },
      "execution_count": null,
      "outputs": [
        {
          "output_type": "execute_result",
          "data": {
            "text/plain": [
              "torch.Size([1, 2])"
            ]
          },
          "metadata": {},
          "execution_count": 70
        }
      ]
    },
    {
      "cell_type": "code",
      "source": [
        "net = CNN2_mod().to(device) #we need to also send the model to the GPU as well\n",
        "\n",
        "# create loss function\n",
        "criterion = nn.CrossEntropyLoss() #most used for classification purposes\n",
        "\n",
        "# create SGD optimizer\n",
        "optimizer = optim.SGD(net.parameters(), lr=0.00001, momentum=momentum) #most common optimizer is adam\n",
        "\n",
        "# create learning rate scheduler\n",
        "scheduler = optim.lr_scheduler.StepLR(optimizer, step_size=lr_step_size, gamma=0.1)\n",
        "\n",
        "# experiment ID\n",
        "experiment_ID = \"%s_%s_%s_bs(%d)lr(%.4f_%d_%.1f)m(%.1f)e(%d)act(%s)xavier(yes)da(%s)do(%.1f)BN\" % (type(net).__name__, type(criterion).__name__, type(optimizer).__name__,\n",
        "                batch_size, learning_rate, lr_step_size, lr_gamma, momentum, epochs, type(activation).__name__, data_augmentation, dropout)"
      ],
      "metadata": {
        "id": "tvkjM0xc2APS"
      },
      "execution_count": null,
      "outputs": []
    },
    {
      "cell_type": "code",
      "source": [
        "model = train_model(net, criterion, optimizer, scheduler, num_epochs=epochs)"
      ],
      "metadata": {
        "colab": {
          "base_uri": "https://localhost:8080/",
          "height": 501
        },
        "id": "sBXPTUVi2Dqn",
        "outputId": "00fbbab0-e646-4c08-e2f5-0c186899927a"
      },
      "execution_count": null,
      "outputs": [
        {
          "output_type": "stream",
          "name": "stdout",
          "text": [
            "Epoch 1/30\n",
            "----------\n",
            "train Loss: nan F1-score: 0.9090\n",
            "MCC:  -0.000178245609730088\n",
            "AUC:  0.0\n",
            "eval Loss: nan F1-score: 0.9997\n",
            "MCC:  0.00032809164017427673\n",
            "AUC:  0.0\n",
            "\n",
            "Epoch 2/30\n",
            "----------\n"
          ]
        },
        {
          "output_type": "error",
          "ename": "KeyboardInterrupt",
          "evalue": "ignored",
          "traceback": [
            "\u001b[0;31m---------------------------------------------------------------------------\u001b[0m",
            "\u001b[0;31mKeyboardInterrupt\u001b[0m                         Traceback (most recent call last)",
            "\u001b[0;32m<ipython-input-72-77e86cb36ebe>\u001b[0m in \u001b[0;36m<module>\u001b[0;34m()\u001b[0m\n\u001b[0;32m----> 1\u001b[0;31m \u001b[0mmodel\u001b[0m \u001b[0;34m=\u001b[0m \u001b[0mtrain_model\u001b[0m\u001b[0;34m(\u001b[0m\u001b[0mnet\u001b[0m\u001b[0;34m,\u001b[0m \u001b[0mcriterion\u001b[0m\u001b[0;34m,\u001b[0m \u001b[0moptimizer\u001b[0m\u001b[0;34m,\u001b[0m \u001b[0mscheduler\u001b[0m\u001b[0;34m,\u001b[0m \u001b[0mnum_epochs\u001b[0m\u001b[0;34m=\u001b[0m\u001b[0mepochs\u001b[0m\u001b[0;34m)\u001b[0m\u001b[0;34m\u001b[0m\u001b[0;34m\u001b[0m\u001b[0m\n\u001b[0m",
            "\u001b[0;32m<ipython-input-69-8d8f3cd7daef>\u001b[0m in \u001b[0;36mtrain_model\u001b[0;34m(model, criterion, optimizer, scheduler, num_epochs)\u001b[0m\n\u001b[1;32m     58\u001b[0m \u001b[0;31m#                running_prerec += precision_recall(preds, labels.data)\u001b[0m\u001b[0;34m\u001b[0m\u001b[0;34m\u001b[0m\u001b[0;34m\u001b[0m\u001b[0m\n\u001b[1;32m     59\u001b[0m \u001b[0;34m\u001b[0m\u001b[0m\n\u001b[0;32m---> 60\u001b[0;31m                 \u001b[0mtp\u001b[0m\u001b[0;34m,\u001b[0m \u001b[0mfp\u001b[0m\u001b[0;34m,\u001b[0m \u001b[0mtn\u001b[0m\u001b[0;34m,\u001b[0m \u001b[0mfn\u001b[0m \u001b[0;34m=\u001b[0m \u001b[0mconfusion\u001b[0m\u001b[0;34m(\u001b[0m\u001b[0mpreds\u001b[0m\u001b[0;34m,\u001b[0m \u001b[0mlabels\u001b[0m\u001b[0;34m.\u001b[0m\u001b[0mdata\u001b[0m\u001b[0;34m)\u001b[0m\u001b[0;34m\u001b[0m\u001b[0;34m\u001b[0m\u001b[0m\n\u001b[0m\u001b[1;32m     61\u001b[0m                 \u001b[0mtp_total\u001b[0m \u001b[0;34m+=\u001b[0m \u001b[0mtp\u001b[0m\u001b[0;34m\u001b[0m\u001b[0;34m\u001b[0m\u001b[0m\n\u001b[1;32m     62\u001b[0m                 \u001b[0mfp_total\u001b[0m \u001b[0;34m+=\u001b[0m \u001b[0mfp\u001b[0m\u001b[0;34m\u001b[0m\u001b[0;34m\u001b[0m\u001b[0m\n",
            "\u001b[0;32m<ipython-input-19-159c74d532b5>\u001b[0m in \u001b[0;36mconfusion\u001b[0;34m(prediction, truth)\u001b[0m\n\u001b[1;32m     19\u001b[0m     \u001b[0mtrue_positives\u001b[0m \u001b[0;34m=\u001b[0m \u001b[0mtorch\u001b[0m\u001b[0;34m.\u001b[0m\u001b[0msum\u001b[0m\u001b[0;34m(\u001b[0m\u001b[0mconfusion_vector\u001b[0m \u001b[0;34m==\u001b[0m \u001b[0;36m1\u001b[0m\u001b[0;34m)\u001b[0m\u001b[0;34m.\u001b[0m\u001b[0mitem\u001b[0m\u001b[0;34m(\u001b[0m\u001b[0;34m)\u001b[0m\u001b[0;34m\u001b[0m\u001b[0;34m\u001b[0m\u001b[0m\n\u001b[1;32m     20\u001b[0m     \u001b[0mfalse_positives\u001b[0m \u001b[0;34m=\u001b[0m \u001b[0mtorch\u001b[0m\u001b[0;34m.\u001b[0m\u001b[0msum\u001b[0m\u001b[0;34m(\u001b[0m\u001b[0mconfusion_vector\u001b[0m \u001b[0;34m==\u001b[0m \u001b[0mfloat\u001b[0m\u001b[0;34m(\u001b[0m\u001b[0;34m'inf'\u001b[0m\u001b[0;34m)\u001b[0m\u001b[0;34m)\u001b[0m\u001b[0;34m.\u001b[0m\u001b[0mitem\u001b[0m\u001b[0;34m(\u001b[0m\u001b[0;34m)\u001b[0m\u001b[0;34m\u001b[0m\u001b[0;34m\u001b[0m\u001b[0m\n\u001b[0;32m---> 21\u001b[0;31m     \u001b[0mtrue_negatives\u001b[0m \u001b[0;34m=\u001b[0m \u001b[0mtorch\u001b[0m\u001b[0;34m.\u001b[0m\u001b[0msum\u001b[0m\u001b[0;34m(\u001b[0m\u001b[0mtorch\u001b[0m\u001b[0;34m.\u001b[0m\u001b[0misnan\u001b[0m\u001b[0;34m(\u001b[0m\u001b[0mconfusion_vector\u001b[0m\u001b[0;34m)\u001b[0m\u001b[0;34m)\u001b[0m\u001b[0;34m.\u001b[0m\u001b[0mitem\u001b[0m\u001b[0;34m(\u001b[0m\u001b[0;34m)\u001b[0m\u001b[0;34m\u001b[0m\u001b[0;34m\u001b[0m\u001b[0m\n\u001b[0m\u001b[1;32m     22\u001b[0m     \u001b[0mfalse_negatives\u001b[0m \u001b[0;34m=\u001b[0m \u001b[0mtorch\u001b[0m\u001b[0;34m.\u001b[0m\u001b[0msum\u001b[0m\u001b[0;34m(\u001b[0m\u001b[0mconfusion_vector\u001b[0m \u001b[0;34m==\u001b[0m \u001b[0;36m0\u001b[0m\u001b[0;34m)\u001b[0m\u001b[0;34m.\u001b[0m\u001b[0mitem\u001b[0m\u001b[0;34m(\u001b[0m\u001b[0;34m)\u001b[0m\u001b[0;34m\u001b[0m\u001b[0;34m\u001b[0m\u001b[0m\n\u001b[1;32m     23\u001b[0m \u001b[0;34m\u001b[0m\u001b[0m\n",
            "\u001b[0;31mKeyboardInterrupt\u001b[0m: "
          ]
        }
      ]
    },
    {
      "cell_type": "code",
      "execution_count": null,
      "metadata": {
        "id": "-6Xmx6L36K7T"
      },
      "outputs": [],
      "source": [
        "acc = 0\n",
        "for i in range(len(predictions)):\n",
        "  acc += predictions[i].eq(reals[i]).sum().float()\n",
        "accuracy = 100*acc/len(dataset_test)"
      ]
    },
    {
      "cell_type": "code",
      "execution_count": null,
      "metadata": {
        "id": "P-Sxx2HOEoJe"
      },
      "outputs": [],
      "source": [
        "f1_score = 0\n",
        "f1 = F1Score(num_classes=2).to(device)\n",
        "\n",
        "for i in range(len(predictions)):  \n",
        "  f1_score += f1(predictions[i], reals[i]).double()\n",
        "\n",
        "f1_score2 = 100*f1_score/len(predictions)"
      ]
    },
    {
      "cell_type": "code",
      "execution_count": null,
      "metadata": {
        "colab": {
          "base_uri": "https://localhost:8080/"
        },
        "id": "3O6y8me8ENF_",
        "outputId": "6387aabc-9ff8-483c-8197-8d73d4ed80f8"
      },
      "outputs": [
        {
          "data": {
            "text/plain": [
              "tensor(99.7666, device='cuda:0', dtype=torch.float64)"
            ]
          },
          "execution_count": 50,
          "metadata": {},
          "output_type": "execute_result"
        }
      ],
      "source": [
        "f1_score2"
      ]
    },
    {
      "cell_type": "code",
      "execution_count": null,
      "metadata": {
        "colab": {
          "base_uri": "https://localhost:8080/",
          "height": 235
        },
        "id": "0jQMSj59ZRuX",
        "outputId": "049f0953-7e79-4662-9ae7-bb292c7d8f1d"
      },
      "outputs": [
        {
          "ename": "ValueError",
          "evalue": "ignored",
          "output_type": "error",
          "traceback": [
            "\u001b[0;31m---------------------------------------------------------------------------\u001b[0m",
            "\u001b[0;31mValueError\u001b[0m                                Traceback (most recent call last)",
            "\u001b[0;32m<ipython-input-11-79a5ed156283>\u001b[0m in \u001b[0;36m<module>\u001b[0;34m()\u001b[0m\n\u001b[1;32m     13\u001b[0m \u001b[0;34m\u001b[0m\u001b[0m\n\u001b[1;32m     14\u001b[0m \u001b[0;31m# Get a batch of training data\u001b[0m\u001b[0;34m\u001b[0m\u001b[0;34m\u001b[0m\u001b[0;34m\u001b[0m\u001b[0m\n\u001b[0;32m---> 15\u001b[0;31m \u001b[0minputs\u001b[0m\u001b[0;34m,\u001b[0m \u001b[0mclasses\u001b[0m \u001b[0;34m=\u001b[0m \u001b[0mnext\u001b[0m\u001b[0;34m(\u001b[0m\u001b[0miter\u001b[0m\u001b[0;34m(\u001b[0m\u001b[0mloader\u001b[0m\u001b[0;34m.\u001b[0m\u001b[0mrois\u001b[0m\u001b[0;34m[\u001b[0m\u001b[0;36m0\u001b[0m\u001b[0;34m]\u001b[0m\u001b[0;34m)\u001b[0m\u001b[0;34m)\u001b[0m\u001b[0;34m\u001b[0m\u001b[0;34m\u001b[0m\u001b[0m\n\u001b[0m\u001b[1;32m     16\u001b[0m \u001b[0;34m\u001b[0m\u001b[0m\n\u001b[1;32m     17\u001b[0m \u001b[0;31m# Make a grid from batch\u001b[0m\u001b[0;34m\u001b[0m\u001b[0;34m\u001b[0m\u001b[0;34m\u001b[0m\u001b[0m\n",
            "\u001b[0;31mValueError\u001b[0m: too many values to unpack (expected 2)"
          ]
        }
      ],
      "source": [
        "def imshow(inp, title=None):\n",
        "    \"\"\"Imshow for Tensor.\"\"\"\n",
        "    inp = inp.numpy().transpose((1, 2, 0))\n",
        "    # mean = np.array([0.485, 0.456, 0.406])\n",
        "    # std = np.array([0.229, 0.224, 0.225])\n",
        "    # inp = std * inp + mean\n",
        "    # inp = np.clip(inp, 0, 1)\n",
        "    plt.imshow(inp)\n",
        "    if title is not None:\n",
        "        plt.title(title)\n",
        "    plt.pause(0.001)  # pause a bit so that plots are updated\n",
        "\n",
        "\n",
        "# Get a batch of training data\n",
        "# inputs, classes = next(iter(loader.rois[0]))\n",
        "\n",
        "# # Make a grid from batch\n",
        "# out = torchvision.utils.make_grid(inputs)\n",
        "\n",
        "# imshow(out)"
      ]
    },
    {
      "cell_type": "code",
      "execution_count": null,
      "metadata": {
        "id": "GfjBGhBEaSoh"
      },
      "outputs": [],
      "source": [
        ""
      ]
    }
  ],
  "metadata": {
    "accelerator": "GPU",
    "colab": {
      "collapsed_sections": [],
      "machine_shape": "hm",
      "name": "DeepLearning_MC_project_5.ipynb",
      "provenance": [],
      "include_colab_link": true
    },
    "kernelspec": {
      "display_name": "Python 3",
      "name": "python3"
    },
    "language_info": {
      "name": "python"
    }
  },
  "nbformat": 4,
  "nbformat_minor": 0
}