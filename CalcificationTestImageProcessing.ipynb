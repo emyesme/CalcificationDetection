{
  "cells": [
    {
      "cell_type": "markdown",
      "metadata": {
        "id": "view-in-github",
        "colab_type": "text"
      },
      "source": [
        "<a href=\"https://colab.research.google.com/github/emyesme/CalcificationDetection/blob/Tacha/CalcificationTestImageProcessing.ipynb\" target=\"_parent\"><img src=\"https://colab.research.google.com/assets/colab-badge.svg\" alt=\"Open In Colab\"/></a>"
      ]
    },
    {
      "cell_type": "markdown",
      "source": [
        "# Import libraries"
      ],
      "metadata": {
        "id": "P5KF-GomVYsN"
      }
    },
    {
      "cell_type": "code",
      "execution_count": 1,
      "metadata": {
        "colab": {
          "base_uri": "https://localhost:8080/"
        },
        "id": "0Wlt8za56vXZ",
        "outputId": "4b0cb2bc-051b-4620-9218-71d677ce2ec0"
      },
      "outputs": [
        {
          "output_type": "stream",
          "name": "stdout",
          "text": [
            "Requirement already satisfied: opencv-python in /usr/local/lib/python3.7/dist-packages (4.1.2.30)\n",
            "Requirement already satisfied: numpy>=1.14.5 in /usr/local/lib/python3.7/dist-packages (from opencv-python) (1.21.6)\n"
          ]
        }
      ],
      "source": [
        "# just once to install opencv\n",
        "!pip install opencv-python"
      ]
    },
    {
      "cell_type": "code",
      "execution_count": 2,
      "metadata": {
        "colab": {
          "base_uri": "https://localhost:8080/"
        },
        "id": "KxBuW7bh_jBI",
        "outputId": "c3bab8f0-734a-4473-ebe9-98ed104ca0de"
      },
      "outputs": [
        {
          "output_type": "stream",
          "name": "stdout",
          "text": [
            "Requirement already satisfied: matplotlib in /usr/local/lib/python3.7/dist-packages (3.2.2)\n",
            "Requirement already satisfied: pyparsing!=2.0.4,!=2.1.2,!=2.1.6,>=2.0.1 in /usr/local/lib/python3.7/dist-packages (from matplotlib) (3.0.8)\n",
            "Requirement already satisfied: cycler>=0.10 in /usr/local/lib/python3.7/dist-packages (from matplotlib) (0.11.0)\n",
            "Requirement already satisfied: numpy>=1.11 in /usr/local/lib/python3.7/dist-packages (from matplotlib) (1.21.6)\n",
            "Requirement already satisfied: python-dateutil>=2.1 in /usr/local/lib/python3.7/dist-packages (from matplotlib) (2.8.2)\n",
            "Requirement already satisfied: kiwisolver>=1.0.1 in /usr/local/lib/python3.7/dist-packages (from matplotlib) (1.4.2)\n",
            "Requirement already satisfied: typing-extensions in /usr/local/lib/python3.7/dist-packages (from kiwisolver>=1.0.1->matplotlib) (4.1.1)\n",
            "Requirement already satisfied: six>=1.5 in /usr/local/lib/python3.7/dist-packages (from python-dateutil>=2.1->matplotlib) (1.15.0)\n"
          ]
        }
      ],
      "source": [
        "# just once to install matplotlib\n",
        "!pip install matplotlib"
      ]
    },
    {
      "cell_type": "code",
      "execution_count": 3,
      "metadata": {
        "colab": {
          "base_uri": "https://localhost:8080/"
        },
        "id": "3tsmOedaCD10",
        "outputId": "0e2e8263-9287-4f6a-b53d-b9b42b449e97"
      },
      "outputs": [
        {
          "output_type": "stream",
          "name": "stdout",
          "text": [
            "Requirement already satisfied: numpy in /usr/local/lib/python3.7/dist-packages (1.21.6)\n"
          ]
        }
      ],
      "source": [
        "# just once to install numpy\n",
        "!pip install numpy"
      ]
    },
    {
      "cell_type": "code",
      "execution_count": null,
      "metadata": {
        "id": "NGMIWbpq7lPX"
      },
      "outputs": [],
      "source": [
        "# just once to install google.colab\n",
        "#!pip install google-colab"
      ]
    },
    {
      "cell_type": "code",
      "execution_count": null,
      "metadata": {
        "id": "oM9CBgTjzaM-"
      },
      "outputs": [],
      "source": [
        "#!pip install PyWavelets"
      ]
    },
    {
      "cell_type": "code",
      "execution_count": null,
      "metadata": {
        "id": "cY2EJLXij72v"
      },
      "outputs": [],
      "source": [
        "#!pip install image_dehazer"
      ]
    },
    {
      "cell_type": "code",
      "execution_count": 9,
      "metadata": {
        "colab": {
          "base_uri": "https://localhost:8080/"
        },
        "id": "RC3y6ZpI6cAh",
        "outputId": "965937d7-4f7f-4c08-8940-9c606c94d300"
      },
      "outputs": [
        {
          "output_type": "stream",
          "name": "stdout",
          "text": [
            "Requirement already satisfied: scikit-image in /usr/local/lib/python3.7/dist-packages (0.19.2)\n",
            "Requirement already satisfied: scipy>=1.4.1 in /usr/local/lib/python3.7/dist-packages (from scikit-image) (1.4.1)\n",
            "Requirement already satisfied: numpy>=1.17.0 in /usr/local/lib/python3.7/dist-packages (from scikit-image) (1.21.6)\n",
            "Requirement already satisfied: tifffile>=2019.7.26 in /usr/local/lib/python3.7/dist-packages (from scikit-image) (2021.11.2)\n",
            "Requirement already satisfied: PyWavelets>=1.1.1 in /usr/local/lib/python3.7/dist-packages (from scikit-image) (1.3.0)\n",
            "Requirement already satisfied: imageio>=2.4.1 in /usr/local/lib/python3.7/dist-packages (from scikit-image) (2.4.1)\n",
            "Requirement already satisfied: networkx>=2.2 in /usr/local/lib/python3.7/dist-packages (from scikit-image) (2.6.3)\n",
            "Requirement already satisfied: pillow!=7.1.0,!=7.1.1,!=8.3.0,>=6.1.0 in /usr/local/lib/python3.7/dist-packages (from scikit-image) (7.1.2)\n",
            "Requirement already satisfied: packaging>=20.0 in /usr/local/lib/python3.7/dist-packages (from scikit-image) (21.3)\n",
            "Requirement already satisfied: pyparsing!=3.0.5,>=2.0.2 in /usr/local/lib/python3.7/dist-packages (from packaging>=20.0->scikit-image) (3.0.8)\n"
          ]
        }
      ],
      "source": [
        "!pip install -U scikit-image"
      ]
    },
    {
      "cell_type": "code",
      "execution_count": 8,
      "metadata": {
        "id": "PcHV0uIoNFHs"
      },
      "outputs": [],
      "source": [
        "#!pip install fastprogress\n",
        "from fastprogress import master_bar, progress_bar"
      ]
    },
    {
      "cell_type": "code",
      "execution_count": 10,
      "metadata": {
        "colab": {
          "base_uri": "https://localhost:8080/"
        },
        "id": "5i-G98GNpyYt",
        "outputId": "09035502-9d09-4c08-c94d-30d1b253a886"
      },
      "outputs": [
        {
          "output_type": "stream",
          "name": "stdout",
          "text": [
            "Drive already mounted at /content/drive; to attempt to forcibly remount, call drive.mount(\"/content/drive\", force_remount=True).\n"
          ]
        }
      ],
      "source": [
        "from google.colab import drive\n",
        "\n",
        "# This will prompt for authorization.\n",
        "drive.mount('/content/drive')"
      ]
    },
    {
      "cell_type": "code",
      "execution_count": 11,
      "metadata": {
        "colab": {
          "base_uri": "https://localhost:8080/"
        },
        "id": "5st-OLpSqZ6A",
        "outputId": "75208e82-0f26-47e7-e530-9e7fa9103e15"
      },
      "outputs": [
        {
          "output_type": "stream",
          "name": "stdout",
          "text": [
            "['normals.txt', 'images', 'groundtruths', 'masks']\n"
          ]
        }
      ],
      "source": [
        "import os \n",
        "\n",
        "#first put a shortcut in your drive to the image processing folder\n",
        "\n",
        "DATA_DIR = os.path.join('/content',\n",
        "                        'drive',\n",
        "                        'MyDrive',\n",
        "                        'Image Processing and Analysis 2022',\n",
        "                        'projects',\n",
        "                        'Calcification Detection',\n",
        "                        'dataset')\n",
        "\n",
        "\n",
        "print(os.listdir(DATA_DIR))"
      ]
    },
    {
      "cell_type": "code",
      "execution_count": 12,
      "metadata": {
        "id": "_8nkv1ToTdLO"
      },
      "outputs": [],
      "source": [
        "# os.listdir(DATA_DIR + \"/groundtruths\")"
      ]
    },
    {
      "cell_type": "code",
      "execution_count": 13,
      "metadata": {
        "id": "jc5Lu21CF2sx"
      },
      "outputs": [],
      "source": [
        "# import opencv\n",
        "import cv2\n",
        "# import numpy\n",
        "import numpy as np\n"
      ]
    },
    {
      "cell_type": "markdown",
      "source": [
        "# Preprocessing"
      ],
      "metadata": {
        "id": "fLGkMjUYVev7"
      }
    },
    {
      "cell_type": "code",
      "execution_count": 14,
      "metadata": {
        "id": "K5RUKbMaE50a"
      },
      "outputs": [],
      "source": [
        "# preprocessing\n",
        "# here explain what you code\n",
        "def preprocessingWavelet(matrix, mask):\n",
        "  # wavelet high pass, low pass or low pass, high pass, high pass high pass.\n",
        "  import pywt  \n",
        "\n",
        "  # enhancement\n",
        "  # Comparing the Performance of Image Enhancement Methods\n",
        "  # to Detect Microcalcification Clusters in Digital Mammography, Moradmand, Hajar, 2012\n",
        "\n",
        "  # Five-level   discrete   wavelet decomposition  was  employed  by  using  Asymmetric Daubechies  of  order  8; \n",
        "\n",
        "  # normal wavelet from stackoverflow\n",
        "  # convert to grayscale\n",
        "  grayscale = cv2.cvtColor(matrix, cv2.COLOR_BGR2GRAY)\n",
        "\n",
        "  # convert to float\n",
        "  arrayFloat = np.float32(grayscale)\n",
        "  arrayFloat /= 255\n",
        "  \n",
        "  # compute coefficients\n",
        "  coeffs = pywt.wavedec2(arrayFloat,'haar',level=10)\n",
        "\n",
        "  #process coefficients\n",
        "  coeffs_H = list(coeffs)\n",
        "  coeffs_H[0] *= 0\n",
        "\n",
        "  # reconstruction\n",
        "  arrayFloat_H = pywt.waverec2(coeffs_H, 'haar')\n",
        "  arrayFloat_H *= 255\n",
        "  arrayFloat_H = np.uint8(arrayFloat_H)\n",
        "\n",
        "  preprocessed = arrayFloat_H\n",
        "  return preprocessed"
      ]
    },
    {
      "cell_type": "code",
      "execution_count": 15,
      "metadata": {
        "id": "9cJXfvTTks38"
      },
      "outputs": [],
      "source": [
        "# preprocessing\n",
        "# here explain what you code\n",
        "def preprocessingDeHazingPy(matrix, mask):\n",
        "  # https://link.springer.com/chapter/10.1007/978-3-319-68548-9_27\n",
        "  # the professor say we can take the grays in the mammogram as haze. so use dehazing\n",
        "\n",
        "  # still no the hazing method that he use this is just one found in a python library\n",
        "  # https://github.com/Utkarsh-Deshmukh/Single-Image-Dehazing-Python\n",
        "  # dehazing\n",
        "\n",
        "  import image_dehazer\t# Load the library\n",
        "\n",
        "  hazeCorrectedImg = image_dehazer.remove_haze(matrix)\t\t# Remove Haze\n",
        "\n",
        "  preprocessed = hazeCorrectedImg\n",
        "  return preprocessed"
      ]
    },
    {
      "cell_type": "code",
      "execution_count": 16,
      "metadata": {
        "id": "v9lVjTTcoC2C"
      },
      "outputs": [],
      "source": [
        "# dehaze single image using dark channel prior and guided filter\n",
        "# taken from a repository \n",
        "# https://github.com/He-Zhang/image_dehaze\n",
        "# dehazing method proposed by the professor \n",
        "# simple imaging dehazing using dark channel prior (and guided filter, readme.md of the repo say that)\n",
        "import math\n",
        "\n",
        "# change this methods to do just grayscale will be nice\n",
        "\n",
        "def DarkChannel(im,sz):\n",
        "    b,g,r = cv2.split(im)\n",
        "    dc = cv2.min(cv2.min(r,g),b);\n",
        "    kernel = cv2.getStructuringElement(cv2.MORPH_RECT,(sz,sz))\n",
        "    dark = cv2.erode(dc,kernel)\n",
        "    return dark\n",
        "\n",
        "def AtmLight(im,dark):\n",
        "    [h,w] = im.shape[:2]\n",
        "    imsz = h*w\n",
        "    numpx = int(max(math.floor(imsz/1000),1))\n",
        "    darkvec = dark.reshape(imsz);\n",
        "    imvec = im.reshape(imsz,3);\n",
        "\n",
        "    indices = darkvec.argsort();\n",
        "    indices = indices[imsz-numpx::]\n",
        "\n",
        "    atmsum = np.zeros([1,3])\n",
        "    for ind in range(1,numpx):\n",
        "       atmsum = atmsum + imvec[indices[ind]]\n",
        "\n",
        "    A = atmsum / numpx;\n",
        "    return A\n",
        "\n",
        "def TransmissionEstimate(im,A,sz):\n",
        "    omega = 0.95;# the closer to 1 the stronger the darkenning\n",
        "    im3 = np.empty(im.shape,im.dtype);\n",
        "\n",
        "    for ind in range(0,3):\n",
        "        im3[:,:,ind] = im[:,:,ind]/A[0,ind]\n",
        "\n",
        "    transmission = 1 - omega*DarkChannel(im3,sz);\n",
        "    return transmission\n",
        "\n",
        "def Guidedfilter(im,p,r,eps):\n",
        "    mean_I = cv2.boxFilter(im,cv2.CV_64F,(r,r));\n",
        "    mean_p = cv2.boxFilter(p, cv2.CV_64F,(r,r));\n",
        "    mean_Ip = cv2.boxFilter(im*p,cv2.CV_64F,(r,r));\n",
        "    cov_Ip = mean_Ip - mean_I*mean_p;\n",
        "\n",
        "    mean_II = cv2.boxFilter(im*im,cv2.CV_64F,(r,r));\n",
        "    var_I   = mean_II - mean_I*mean_I;\n",
        "\n",
        "    a = cov_Ip/(var_I + eps);\n",
        "    b = mean_p - a*mean_I;\n",
        "\n",
        "    mean_a = cv2.boxFilter(a,cv2.CV_64F,(r,r));\n",
        "    mean_b = cv2.boxFilter(b,cv2.CV_64F,(r,r));\n",
        "\n",
        "    q = mean_a*im + mean_b;\n",
        "    return q;\n",
        "\n",
        "def TransmissionRefine(im,et):\n",
        "    gray = cv2.cvtColor(im,cv2.COLOR_BGR2GRAY);\n",
        "    gray = np.float64(gray)/255;\n",
        "    r = 60;\n",
        "    eps = 0.0001;\n",
        "    t = Guidedfilter(gray,et,r,eps);\n",
        "\n",
        "    return t;\n",
        "\n",
        "def Recover(im,t,A,tx = 0.1):\n",
        "    res = np.empty(im.shape,im.dtype);\n",
        "    t = cv2.max(t,tx);\n",
        "\n",
        "    for ind in range(0,3):\n",
        "        res[:,:,ind] = (im[:,:,ind]-A[0,ind])/t + A[0,ind]\n",
        "    return res\n",
        "\n",
        "def deHazingDarkChannelPriorPy(matrix, mask):\n",
        "\n",
        "    I = matrix.astype(np.float64)/255\n",
        " \n",
        "    dark = DarkChannel(I,15)\n",
        "    A = AtmLight(I,dark)\n",
        "    te = TransmissionEstimate(I,A,15)\n",
        "    t = TransmissionRefine(matrix,te)\n",
        "    J = Recover(I,t,A,0.1)\n",
        "    preprocessed = J\n",
        "    return preprocessed\n",
        "\n",
        "# image = cv2.imread(DATA_DIR+\"/images/53582422_3f0db31711fc9795_MG_R_ML_ANON.tif\")\n",
        "# dark, t, matrix, J = deHazingDarkChannelPriorPy(image, image)\n"
      ]
    },
    {
      "cell_type": "markdown",
      "source": [
        "### Image Dilation"
      ],
      "metadata": {
        "id": "ZAa2ldjTlMWA"
      }
    },
    {
      "cell_type": "code",
      "source": [
        "def imgDilation(matrix):\n",
        "  kernel = np.ones((9,9), np.uint8)\n",
        "  img_dilation = cv2.dilate(matrix, kernel, iterations=3)\n",
        "  return img_dilation"
      ],
      "metadata": {
        "id": "8D4EdMZolL_j"
      },
      "execution_count": 40,
      "outputs": []
    },
    {
      "cell_type": "markdown",
      "source": [
        "### De-noising"
      ],
      "metadata": {
        "id": "Li2hgonWoVIf"
      }
    },
    {
      "cell_type": "code",
      "source": [
        "def gaussianBlur(matrix):\n",
        "  img_blurred = cv2.GaussianBlur(matrix, (5,5), 0)\n",
        "  return img_blurred"
      ],
      "metadata": {
        "id": "cTAZIg1RoauO"
      },
      "execution_count": 42,
      "outputs": []
    },
    {
      "cell_type": "markdown",
      "source": [
        "# Candidate Extraction"
      ],
      "metadata": {
        "id": "vNWyVrjyVvuW"
      }
    },
    {
      "cell_type": "markdown",
      "source": [
        "###Hessian-Matrix-Based Analysis"
      ],
      "metadata": {
        "id": "_BG3WCxXZNpv"
      }
    },
    {
      "cell_type": "code",
      "execution_count": 18,
      "metadata": {
        "id": "f0KHFD9fFC9y"
      },
      "outputs": [],
      "source": [
        "# candidateExtraction\n",
        "# here explain what you code\n",
        "# Hessian-matrix-based analysis or difference of gaussians (DoH) blob detection from skimage\n",
        "# https://scikit-image.org/docs/stable/api/skimage.feature.html?highlight=local%20binary%20pattern#skimage.feature.blob_doh\n",
        "def candidateExtraction(matrix, mask):\n",
        "\n",
        "  from skimage import feature\n",
        "\n",
        "  # returns x,y,sigma of the blob\n",
        "  blobs = feature.blob_doh(matrix,\n",
        "                           min_sigma=1,\n",
        "                           max_sigma=30,\n",
        "                           num_sigma=10,\n",
        "                           # The absolute lower bound for scale space maxima.\n",
        "                           # Local maxima smaller than threshold are ignored.\n",
        "                           # Reduce this to detect blobs with lower intensities.\n",
        "                           # If threshold_rel is also specified, whichever threshold is larger will be used.\n",
        "                           # If None, threshold_rel is used instead.\n",
        "                           threshold=0.005,\n",
        "                           # lower more sensible, more false positives bad also tinier calcifications detected\n",
        "                           overlap=0.5,\n",
        "                           log_scale=False,\n",
        "                           threshold_rel=None\n",
        "                           )\n",
        "  # taken from the documentation\n",
        "  # ...The downside is that this method can’t be used for detecting blobs of radius less than 3px\n",
        "  # due to the box filters used in the approximation of Hessian Determinant.\n",
        "  result = blobs\n",
        "  return result"
      ]
    },
    {
      "cell_type": "markdown",
      "source": [
        "### Difference of Gaussians"
      ],
      "metadata": {
        "id": "Hukzu-tbZaLh"
      }
    },
    {
      "cell_type": "code",
      "source": [
        "# https://scikit-image.org/docs/stable/api/skimage.feature.html?highlight=local%20binary%20pattern#skimage.feature.blob_dog\n",
        "\n",
        "def candidateExtractionDoG(matrix, mask):\n",
        "  from skimage import data, feature\n",
        "\n",
        "  blobs = feature.blob_dog(matrix,\n",
        "                           threshold=.005,\n",
        "                           min_sigma=1,\n",
        "                           max_sigma=30)\n",
        "  result = blobs\n",
        "  return result"
      ],
      "metadata": {
        "id": "CK8xuxdkZEwU"
      },
      "execution_count": 26,
      "outputs": []
    },
    {
      "cell_type": "markdown",
      "source": [
        "# Feature Extraction"
      ],
      "metadata": {
        "id": "von-0yGEXbzT"
      }
    },
    {
      "cell_type": "code",
      "source": [
        "# Get Ground Truth for each patch\n",
        "\n",
        "def patchGroundTruth(candidate, groundTruth):\n",
        "\n",
        "  left = int((candidate[0] - candidate[2]) if ((candidate[0] - candidate[2]) > 0) else 0)\n",
        "  right = int((candidate[0] + candidate[2]) if ((candidate[0] + candidate[2]) < groundTruth.shape[0]) else groundTruth.shape[0])\n",
        "  top = int((candidate[1] - candidate[2]) if ((candidate[1] - candidate[2]) > 0) else 0)\n",
        "  bottom = int((candidate[1] + candidate[2]) if ((candidate[1] + candidate[2]) < groundTruth.shape[1]) else groundTruth.shape[1])\n",
        "\n",
        "  truePatch = groundTruth[left : right,\n",
        "                          top  : bottom]\n",
        "  sum = np.sum(truePatch)\n",
        "  if sum > 0:\n",
        "    return str(1)\n",
        "  else:\n",
        "    return str(0)\n",
        "    "
      ],
      "metadata": {
        "id": "fe7aJb2YhZ9a"
      },
      "execution_count": 19,
      "outputs": []
    },
    {
      "cell_type": "code",
      "execution_count": 20,
      "metadata": {
        "id": "23WbyaI2FhzF"
      },
      "outputs": [],
      "source": [
        "from skimage import feature\n",
        "import itertools\n",
        "\n",
        "# featuresExtraction\n",
        "# here explain what you code\n",
        "def featuresExtraction(matrix, candidates, features, mask, groundTruth, image):\n",
        "  \n",
        "  if (len(candidates) == 0):\n",
        "    return []\n",
        "  # angles\n",
        "  #         0     45      90       135\n",
        "  angles = [0, np.pi/4, np.pi/2, 3*np.pi/4]\n",
        "\n",
        "  # https://www.youtube.com/watch?v=5x-CIHRmMNY\n",
        "  # https://scikit-image.org/docs/dev/auto_examples/features_detection/plot_glcm.html\n",
        "  # https://ijcrr.com/uploads/3454_pdf.pdf\n",
        "\n",
        "  flag = True\n",
        "  for index, candidate in enumerate(progress_bar(candidates)):\n",
        "    \n",
        "    # distances\n",
        "    # taking into account the microcalcifications can be less that 5 pixels\n",
        "\n",
        "    #https://www.sciencedirect.com/topics/engineering/cooccurrence-matrix\n",
        "    #distances = [1,3,5,7]\n",
        "    # read more about the variation of distances in glcm computation\n",
        "    distances = [1]# probably we need bigger\n",
        "\n",
        "    # combination of distances and angles as couples of values\n",
        "    distancesAngles = list(itertools.product(distances, angles))\n",
        "\n",
        "    # candidate points are save as np.float64\n",
        "    # to use them as coordinates they have to be integers\n",
        "    candidate = candidate.astype(np.int64)\n",
        "\n",
        "    # candidates are y,x and sigma\n",
        "    left = int((candidate[0] - candidate[2]) if ((candidate[0] - candidate[2]) > 0) else 0)\n",
        "    right = int((candidate[0] + candidate[2]) if ((candidate[0] + candidate[2]) < matrix.shape[0]) else matrix.shape[0])\n",
        "    top = int((candidate[1] - candidate[2]) if ((candidate[1] - candidate[2]) > 0) else 0)\n",
        "    bottom = int((candidate[1] + candidate[2]) if ((candidate[1] + candidate[2]) < matrix.shape[1]) else matrix.shape[1])\n",
        "\n",
        "    patchCandidate = matrix[left: right,\n",
        "                            top : bottom]\n",
        "    # reduce even more the shades of gray T-T\n",
        "    # graycomatrix, glcm, receive unsigned integer type\n",
        "    # but if it is bigger that np.uint8 you have to change the levels argument\n",
        "    # of graycomatrix for the shades of gray, if it is np.uint16, levels shoud be\n",
        "    # aprox 65 535. that break the colab :c \n",
        "    patchCandidate = patchCandidate.astype(np.uint8)\n",
        "    dictFeatures = {}\n",
        "    dictFeatures = {'name': 'patch_' + str(index) + '_' + str(image.split(\".\")[0]),\n",
        "                    'label': patchGroundTruth(candidate, groundTruth)}\n",
        "    #print(\"patch_\"+str(index))\n",
        "    #print(patchCandidate)\n",
        "\n",
        "    for distanceAngle in distancesAngles:\n",
        "      distance = distanceAngle[0]\n",
        "      angle = distanceAngle[1]\n",
        "      # get the degree to use it as name for the column\n",
        "      name = str(angle*(180.0/np.pi))\n",
        "      # input image, distance in pixels, angles\n",
        "      #https://stackoverflow.com/questions/54512617/creating-gray-level-co-occurrence-matrix-from-16-bit-image\n",
        "      glcm = feature.graycomatrix(patchCandidate, [ distance ], [ angle ])\n",
        "\n",
        "      # Output: the gray-level co-occurrence histogram. The value P[i,j,d,theta]\n",
        "      # is the number of times that gray-level j occurs at a distance d\n",
        "      # and at an angle theta from gray-level i.\n",
        "      # If normed is False, the output is of type uint32, otherwise it is float64.\n",
        "      # The dimensions are: levels x levels x number of distances x number of angles.\n",
        "\n",
        "      # properties: {‘contrast’, ‘dissimilarity’, ‘homogeneity’, ‘energy’, ‘correlation’, ‘ASM’}\n",
        "      dictFeatures['contrast'+ str(distance) + name] = feature.graycoprops(glcm, 'contrast')[0][0]\n",
        "      dictFeatures['dissimilarity' + str(distance) + name] = feature.graycoprops(glcm, 'dissimilarity')[0][0]\n",
        "      dictFeatures['homogeneity' + str(distance) + name] = feature.graycoprops(glcm, 'homogeneity')[0][0]\n",
        "      dictFeatures['energy' + str(distance) + name] = feature.graycoprops(glcm, 'energy')[0][0]\n",
        "      dictFeatures['correlation' + str(distance) + name] = feature.graycoprops(glcm, 'correlation')[0][0]\n",
        "      dictFeatures['ASM' + str(distance) + name] = feature.graycoprops(glcm, 'ASM')[0][0]\n",
        "\n",
        "      # print(feature.graycoprops(glcm, 'contrast')[0][0])\n",
        "      # print(feature.graycoprops(glcm, 'dissimilarity')[0][0])\n",
        "      # print(feature.graycoprops(glcm, 'homogeneity')[0][0])\n",
        "      # print(feature.graycoprops(glcm, 'energy')[0][0])\n",
        "      # print(feature.graycoprops(glcm, 'correlation')[0][0])\n",
        "      # print(feature.graycoprops(glcm, 'ASM')[0][0])\n",
        "\n",
        "      # https://scikit-image.org/docs/dev/api/skimage.feature.html#skimage.feature.graycoprops\n",
        "      # Compute a feature of a gray level co-occurrence matrix to serve as a compact summary of the matrix.\n",
        "      # The properties are computed as follows:\n",
        "      # contrast\n",
        "      # dissimilarity\n",
        "      # homogeneity\n",
        "      # ASM\n",
        "      # energy\n",
        "      # correlation\n",
        "    # add to the dataframe the features for this patch\n",
        "    features = features.append(dictFeatures, ignore_index=True)\n",
        "    # save in the csv\n",
        "\n",
        "  # if(flag):\n",
        "  #   features.to_csv(os.path.join('/content',\n",
        "  #                               'drive',\n",
        "  #                               'MyDrive',\n",
        "  #                               'Results',\n",
        "  #                               str(image.split('.')[0]) + '_features.csv'),\n",
        "  #                   mode='a',\n",
        "  #                   index=False)\n",
        "  #   flag = False\n",
        "  # else:\n",
        "  #   features.to_csv(os.path.join('/content',\n",
        "  #                               'drive',\n",
        "  #                               'MyDrive',\n",
        "  #                               'Results',\n",
        "  #                               str(image.split('.')[0]) + '_features.csv'),\n",
        "  #                 mode='a',\n",
        "  #                 header=False,\n",
        "  #                 index=False)\n",
        "\n",
        "\n",
        "\n",
        "  return features"
      ]
    },
    {
      "cell_type": "markdown",
      "source": [
        "# Connected Components"
      ],
      "metadata": {
        "id": "rYRi_ffVWClo"
      }
    },
    {
      "cell_type": "code",
      "execution_count": 21,
      "metadata": {
        "id": "d7G2psxqargQ"
      },
      "outputs": [],
      "source": [
        "# function to get connected components of the ground truth binary image\n",
        "def componentsStatsGroundTruth(matrix):\n",
        "    # getting the info of the components in the ground truth\n",
        "    # second value is connectivity 4 or 8\n",
        "    connectedComponentsGroundTruth = cv2.connectedComponentsWithStats(matrix, 8, cv2.CV_32S)\n",
        "\n",
        "    # Get the results\n",
        "    # The first cell is the number of labels\n",
        "    num_labels = connectedComponentsGroundTruth[0]\n",
        "    # The second cell is the label matrix\n",
        "    labels = connectedComponentsGroundTruth[1]\n",
        "    # The third cell is the stat matrix\n",
        "    stats = connectedComponentsGroundTruth[2]\n",
        "    # The fourth cell is the centroid matrix\n",
        "    centroids = connectedComponentsGroundTruth[3]\n",
        "\n",
        "    return num_labels, labels, stats, centroids"
      ]
    },
    {
      "cell_type": "markdown",
      "source": [
        "# Get Info from Drive"
      ],
      "metadata": {
        "id": "C1LCKDC2Wctg"
      }
    },
    {
      "cell_type": "code",
      "execution_count": 22,
      "metadata": {
        "id": "IAXteeoxLM_z"
      },
      "outputs": [],
      "source": [
        "#import show special for google colab\n",
        "from google.colab.patches import cv2_imshow\n",
        "#import plt for display\n",
        "import matplotlib.pyplot as plt\n",
        "\n",
        "#go into de directory of the images\n",
        "\n",
        "# this have 3 outputs root directory, the folders in the path and the files in the path.\n",
        "# we ignore _ the two first because we are not interested in those\n",
        "_, _, images = next(os.walk(os.path.join(DATA_DIR,'images')))\n",
        "_, _, breastMasks = next(os.walk(os.path.join(DATA_DIR,'masks')))\n",
        "_, _, groundTruths = next(os.walk(os.path.join(DATA_DIR, 'groundtruths')))\n",
        "\n",
        "images.sort()\n",
        "breastMasks.sort()\n",
        "groundTruths.sort()\n",
        "\n",
        "# read numbers of normal images\n",
        "normals = []\n",
        "with open(os.path.join(DATA_DIR,'normals.txt')) as f:\n",
        "    for line in f:\n",
        "        normals.append(line[:-1])\n",
        "\n"
      ]
    },
    {
      "cell_type": "markdown",
      "source": [
        "# Google Colab like a Pro"
      ],
      "metadata": {
        "id": "quVq5dOEWV-O"
      }
    },
    {
      "cell_type": "code",
      "execution_count": 23,
      "metadata": {
        "colab": {
          "base_uri": "https://localhost:8080/",
          "height": 17
        },
        "id": "gGhsM747LRj7",
        "outputId": "e066d13b-8383-4c99-e412-3d732cca50d0"
      },
      "outputs": [
        {
          "output_type": "display_data",
          "data": {
            "text/plain": [
              "<IPython.core.display.Javascript object>"
            ],
            "application/javascript": [
              "function ClickConnect(){\n",
              "console.log(\"Working\");\n",
              "document.querySelector(\"colab-toolbar-button#connect\").click()\n",
              "}setInterval(ClickConnect,60000)"
            ]
          },
          "metadata": {}
        }
      ],
      "source": [
        "# https://medium.com/@robertbracco1/configuring-google-colab-like-a-pro-d61c253f7573#a642\n",
        "%%javascript\n",
        "function ClickConnect(){\n",
        "console.log(\"Working\");\n",
        "document.querySelector(\"colab-toolbar-button#connect\").click()\n",
        "}setInterval(ClickConnect,60000)"
      ]
    },
    {
      "cell_type": "markdown",
      "source": [
        "# Show Images"
      ],
      "metadata": {
        "id": "pqItorT9Wr06"
      }
    },
    {
      "cell_type": "code",
      "execution_count": 24,
      "metadata": {
        "id": "G6mejNA1fgIq"
      },
      "outputs": [],
      "source": [
        "from matplotlib.patches import Circle\n",
        "import matplotlib.patches as mpatches\n",
        "\n",
        "# function to draw the grid to display\n",
        "def display_grid(figure, axis, img, imgGroundTruth, preprocessed, candidates, features):\n",
        "  # draw in the axis the img\n",
        "  axis[0][0].imshow(img)\n",
        "  # switch off the axis of the plot\n",
        "  axis[0][0].axis('off')\n",
        "  # set a title for the plot\n",
        "  axis[0][0].set_title('Image')\n",
        "\n",
        "  axis[0][1].imshow(imgGroundTruth, cmap='gray')\n",
        "  axis[0][1].axis('off')\n",
        "  axis[0][1].set_title('Ground Truth')\n",
        "\n",
        "  axis[0][2].imshow(imgMask)\n",
        "  axis[0][2].axis('off')\n",
        "  axis[0][2].set_title('Breast Mask')\n",
        "\n",
        "  axis[1][0].imshow(preprocessed, cmap='gray')\n",
        "  axis[1][0].axis('off')\n",
        "  axis[1][0].set_title('Preprocessed')\n",
        "\n",
        "  # draw candidates as circles\n",
        "  axis[1][1].imshow(preprocessed, cmap='gray')\n",
        "  axis[1][1].axis('off')\n",
        "  axis[1][1].set_title('Candidates')\n",
        "\n",
        "  # Now, loop through coord arrays, and create a circle at each x,y pair\n",
        "  for y,x,sigma in candidates:\n",
        "\n",
        "    blob = Circle((x,y), sigma*5, color='blue', fill=False)\n",
        "    axis[1][1].add_patch(blob)\n",
        "\n",
        "    rect=mpatches.Rectangle((x,y),sigma,sigma, \n",
        "                        fill=False,\n",
        "                        color=\"red\",\n",
        "                       linewidth=2)\n",
        "    axis[1][1].add_patch(rect)\n",
        "\n",
        "\n",
        "  axis[1][2].imshow(imgGroundTruth, cmap='gray')\n",
        "  axis[1][2].axis('off')\n",
        "  axis[1][2].set_title('compare with ground truth and candidates')\n",
        "\n",
        "  # Now, loop through coord arrays, and create a circle at each x,y pair\n",
        "  for y,x,sigma in candidates:\n",
        "    blob = Circle((x,y), sigma, color='blue', fill=False)\n",
        "    axis[1][2].add_patch(blob)\n",
        "  \n",
        "  return figure, axis\n"
      ]
    },
    {
      "cell_type": "markdown",
      "source": [
        "# Main"
      ],
      "metadata": {
        "id": "7GHlP95OW6e6"
      }
    },
    {
      "cell_type": "code",
      "execution_count": 43,
      "metadata": {
        "colab": {
          "base_uri": "https://localhost:8080/",
          "height": 891
        },
        "id": "qqqX2PGi6-X8",
        "outputId": "77417ec1-bc88-449f-a515-a9b4973a4a4f"
      },
      "outputs": [
        {
          "output_type": "display_data",
          "data": {
            "text/plain": [
              "<IPython.core.display.HTML object>"
            ],
            "text/html": [
              "\n",
              "<style>\n",
              "    /* Turns off some styling */\n",
              "    progress {\n",
              "        /* gets rid of default border in Firefox and Opera. */\n",
              "        border: none;\n",
              "        /* Needs to be in here for Safari polyfill so background images work as expected. */\n",
              "        background-size: auto;\n",
              "    }\n",
              "    .progress-bar-interrupted, .progress-bar-interrupted::-webkit-progress-bar {\n",
              "        background: #F44336;\n",
              "    }\n",
              "</style>\n"
            ]
          },
          "metadata": {}
        },
        {
          "output_type": "display_data",
          "data": {
            "text/plain": [
              "<IPython.core.display.HTML object>"
            ],
            "text/html": [
              "\n",
              "    <div>\n",
              "      <progress value='410' class='' max='410' style='width:300px; height:20px; vertical-align: middle;'></progress>\n",
              "      100.00% [410/410 00:32<00:00]\n",
              "    </div>\n",
              "    "
            ]
          },
          "metadata": {}
        },
        {
          "output_type": "stream",
          "name": "stdout",
          "text": [
            "image:  24055328_1e10aef17c9fe149_MG_R_ML_ANON.tif\n"
          ]
        },
        {
          "output_type": "display_data",
          "data": {
            "text/plain": [
              "<IPython.core.display.HTML object>"
            ],
            "text/html": [
              "\n",
              "<style>\n",
              "    /* Turns off some styling */\n",
              "    progress {\n",
              "        /* gets rid of default border in Firefox and Opera. */\n",
              "        border: none;\n",
              "        /* Needs to be in here for Safari polyfill so background images work as expected. */\n",
              "        background-size: auto;\n",
              "    }\n",
              "    .progress-bar-interrupted, .progress-bar-interrupted::-webkit-progress-bar {\n",
              "        background: #F44336;\n",
              "    }\n",
              "</style>\n"
            ]
          },
          "metadata": {}
        },
        {
          "output_type": "display_data",
          "data": {
            "text/plain": [
              "<IPython.core.display.HTML object>"
            ],
            "text/html": [
              "\n",
              "    <div>\n",
              "      <progress value='54' class='' max='54' style='width:300px; height:20px; vertical-align: middle;'></progress>\n",
              "      100.00% [54/54 00:01<00:00]\n",
              "    </div>\n",
              "    "
            ]
          },
          "metadata": {}
        },
        {
          "output_type": "stream",
          "name": "stderr",
          "text": [
            "Clipping input data to the valid range for imshow with RGB data ([0..1] for floats or [0..255] for integers).\n",
            "Clipping input data to the valid range for imshow with RGB data ([0..1] for floats or [0..255] for integers).\n"
          ]
        },
        {
          "output_type": "display_data",
          "data": {
            "text/plain": [
              "<Figure size 1080x1080 with 6 Axes>"
            ],
            "image/png": "[encoded data removed]"
          },
          "metadata": {
            "needs_background": "light"
          }
        }
      ],
      "source": [
        "import copy\n",
        "import pandas as pd\n",
        "\n",
        "#go through the image files \n",
        "for image, breastMask, groundTruth in zip(progress_bar(images), breastMasks, groundTruths):\n",
        "  # choose one\n",
        "  # this are the last 4 of the number of the image name {numbers}_{}_{}_{}_{}_{}.tif\n",
        "  # i suppose those are unique\n",
        "  # if your code is working try other images!\n",
        "  #print(breastMask)\n",
        "  \n",
        "  # restart variables for memory\n",
        "\n",
        "  # to save the features generated with the glcm\n",
        "  features = pd.DataFrame(dtype=np.float64)\n",
        "  # to save the candidates\n",
        "  blobs = {}\n",
        "  # to sabe the ground truth connected components\n",
        "  groundTruthsComponents = {}\n",
        "  \n",
        "\n",
        "  # 20588020, 7717, 5328, 3787, 5725, 3859, 6934, 50995872\n",
        "  digits = '5328'\n",
        "\n",
        "  if ((digits in image) and (digits in breastMask) and ('mask' in breastMask)):\n",
        "  #if ('mask' in breastMask):\n",
        "  #if image not in already:\n",
        "    print(\"image: \", image)\n",
        "    #upload images\n",
        "    img = cv2.imread(os.path.join(DATA_DIR,'images',image))\n",
        "    imgMask = cv2.imread(os.path.join(DATA_DIR, 'masks', breastMask))\n",
        "    imgGroundTruth = cv2.imread(os.path.join(DATA_DIR, 'groundtruths', image), cv2.IMREAD_GRAYSCALE)\n",
        "\n",
        "\n",
        "    # processing necessary for evaluation\n",
        "\n",
        "    # Get components of the ground truth\n",
        "    '''\n",
        "    num_labels, labels, stats, centroids = componentsStatsGroundTruth(imgGroundTruth)\n",
        "    groundTruthsComponents[image] = {}\n",
        "    groundTruthsComponents[image]['num_labels'] = num_labels\n",
        "    groundTruthsComponents[image]['labels'] = labels\n",
        "    groundTruthsComponents[image]['stats'] = stats\n",
        "    groundTruthsComponents[image]['centroids'] = centroids\n",
        "    '''\n",
        "    # preprocessing #\n",
        "\n",
        "    imgCopy = copy.deepcopy(img)\n",
        "\n",
        "    # preprocessed = preprocessingDeHazingPy(img, imgMask)\n",
        "    preprocessed = deHazingDarkChannelPriorPy(imgCopy, imgMask)\n",
        "    preprocessed = gaussianBlur(preprocessed)\n",
        "    preprocessed = imgDilation(preprocessed)\n",
        "    # after preprocessingDeHazingPy + contrast streching to see\n",
        "    # preprocessed = preprocessingDeHazingPy(imgCopy,imgMask)\n",
        "\n",
        "      # still missing quantum noise supression\n",
        "      # details in the phd defense file\n",
        "\n",
        "      # still missing linear streching\n",
        "        # keep going forever the code, computational cost\n",
        "\n",
        "      # still missing CLAHE (adaptive histogram equalization) opencv library\n",
        "        # CLAHE + dehazing bad results.\n",
        "        # points less visible with CLAHE\n",
        "\n",
        "        # dehazing + CLAHE \n",
        "        # black image\n",
        "\n",
        "      # Observations from the results:\n",
        "\n",
        "        # fiber intersections may also appear as bright spots (false positives)\n",
        "\n",
        "      # THINGS WE NOTICE BETWEEN BOTH DEHAZING METHODS\n",
        "\n",
        "        # Better suppression of fatty tissue (noise) and greater enhancement of brightness of desired feature (microcalcifications)\n",
        "\n",
        "        # sometimes for the other dehazing method black patches become present in the fatty tissue\n",
        "        # this did not happen in the dehazing with dark channel prior (and guided filter)\n",
        "\n",
        "        # sharper\n",
        "\n",
        "        # enhance the contrast\n",
        "\n",
        "        # details were enhanced\n",
        "\n",
        "    # candidate extraction #\n",
        "\n",
        "    copyPreprocessed = copy.deepcopy(preprocessed)\n",
        "\n",
        "    # we have to change np.float64 to np.float32 for the grayscale conversion\n",
        "    # leading to a reduction of gray values\n",
        "    copyPreprocessed = copyPreprocessed.astype(np.float32)\n",
        "    copyPreprocessed = cv2.cvtColor(copyPreprocessed, cv2.COLOR_BGR2GRAY)\n",
        "\n",
        "    candidates = candidateExtraction(copyPreprocessed, imgMask)\n",
        "\n",
        "    # Observations from the results:\n",
        "\n",
        "      # images with pectoral muscule cause false positives\n",
        "\n",
        "    # feature extraction #\n",
        "\n",
        "    features = featuresExtraction(copyPreprocessed, candidates, features, imgMask, imgGroundTruth, image)\n",
        "\n",
        "    \n",
        "    # machine learning must be applied for the classification of the features extracted\n",
        "\n",
        "    # import gc\n",
        "\n",
        "    # del features\n",
        "    # del preprocessed\n",
        "    # del candidates\n",
        "    # # del blobs\n",
        "    # del copyPreprocessed\n",
        "    # del imgCopy\n",
        "    # del img\n",
        "    # del imgMask\n",
        "    # del imgGroundTruth\n",
        "    \n",
        "    # gc.collect()\n",
        "    \n",
        "    # end image processing part #\n",
        "\n",
        "    # processing necessary for evaluation #\n",
        "\n",
        "    # save blobs results to check groundtruth\n",
        "    blobs[image] = candidates\n",
        "\n",
        "\n",
        "    # display related #\n",
        "\n",
        "    # matrix of plots and size of the figure\n",
        "    figure, axis = plt.subplots(2, 3, figsize=(15,15))\n",
        "\n",
        "    display_grid(figure, axis, img, imgGroundTruth, preprocessed, candidates, features)\n",
        " \n",
        "    plt.subplots_adjust(wspace=0, hspace=0)\n",
        "\n",
        "    # # display figure with image\n",
        "    plt.show()\n",
        "\n",
        "    # # extract patches of candidates\n",
        "    # for index, candidate in enumerate(candidates):\n",
        "    #   print(\"candidate: \", index)\n",
        "    #   left = int((candidate[0] - candidate[2]) if ((candidate[0] - candidate[2]) > 0) else 0)\n",
        "    #   right = int((candidate[0] + candidate[2]) if ((candidate[0] + candidate[2]) < preprocessed.shape[0]) else preprocessed.shape[0])\n",
        "    #   top = int((candidate[1] - candidate[2]) if ((candidate[1] - candidate[2]) > 0) else 0)\n",
        "    #   bottom = int((candidate[1] + candidate[2]) if ((candidate[1] + candidate[2]) < preprocessed.shape[1]) else preprocessed.shape[1])\n",
        "\n",
        "    #   plt.imshow(preprocessed[left:right, top:bottom])\n",
        "    #   plt.show()\n",
        "\n",
        "    # display image with other function\n",
        "    #cv2_imshow(features)\n",
        "    \n"
      ]
    },
    {
      "cell_type": "code",
      "source": [
        "files = os.listdir(\"/content/drive/MyDrive/Results\")\n",
        "print(len(files))\n"
      ],
      "metadata": {
        "colab": {
          "base_uri": "https://localhost:8080/"
        },
        "id": "CjT7XldaA5zP",
        "outputId": "4e474a13-6544-415b-fc02-9e160b9f85f3"
      },
      "execution_count": null,
      "outputs": [
        {
          "output_type": "stream",
          "name": "stdout",
          "text": [
            "403\n"
          ]
        }
      ]
    },
    {
      "cell_type": "code",
      "execution_count": null,
      "metadata": {
        "id": "-YxtDuR3reuX",
        "colab": {
          "base_uri": "https://localhost:8080/",
          "height": 37
        },
        "outputId": "f6f209ee-b251-4a93-f312-bb38e9a2f95e"
      },
      "outputs": [
        {
          "output_type": "display_data",
          "data": {
            "text/plain": [
              "<IPython.core.display.HTML object>"
            ],
            "text/html": [
              "\n",
              "<style>\n",
              "    /* Turns off some styling */\n",
              "    progress {\n",
              "        /* gets rid of default border in Firefox and Opera. */\n",
              "        border: none;\n",
              "        /* Needs to be in here for Safari polyfill so background images work as expected. */\n",
              "        background-size: auto;\n",
              "    }\n",
              "    .progress-bar-interrupted, .progress-bar-interrupted::-webkit-progress-bar {\n",
              "        background: #F44336;\n",
              "    }\n",
              "</style>\n"
            ]
          },
          "metadata": {}
        },
        {
          "output_type": "display_data",
          "data": {
            "text/plain": [
              "<IPython.core.display.HTML object>"
            ],
            "text/html": [
              "\n",
              "    <div>\n",
              "      <progress value='410' class='' max='410' style='width:300px; height:20px; vertical-align: middle;'></progress>\n",
              "      100.00% [410/410 00:00<00:00]\n",
              "    </div>\n",
              "    "
            ]
          },
          "metadata": {}
        }
      ],
      "source": [
        "import copy\n",
        "import pandas as pd\n",
        "\n",
        "df = pd.DataFrame(columns=['names'])\n",
        "\n",
        "#go through the image files \n",
        "for image, breastMask, groundTruth in zip(progress_bar(images), breastMasks, groundTruths):\n",
        "\n",
        "  #if ((digits in image) and (digits in breastMask) and ('mask' in breastMask)):\n",
        "  if ('mask' in breastMask):\n",
        "    \n",
        "    df = df.append({'names': image}, ignore_index=True)\n"
      ]
    },
    {
      "cell_type": "code",
      "execution_count": null,
      "metadata": {
        "id": "OQYG-9Qg4yvg",
        "colab": {
          "base_uri": "https://localhost:8080/",
          "height": 363
        },
        "outputId": "5bec2741-f093-4295-b6ee-ccb3ad11a9fa"
      },
      "outputs": [
        {
          "output_type": "error",
          "ename": "FileNotFoundError",
          "evalue": "ignored",
          "traceback": [
            "\u001b[0;31m---------------------------------------------------------------------------\u001b[0m",
            "\u001b[0;31mFileNotFoundError\u001b[0m                         Traceback (most recent call last)",
            "\u001b[0;32m<ipython-input-25-bae9a2f20e94>\u001b[0m in \u001b[0;36m<module>\u001b[0;34m()\u001b[0m\n\u001b[1;32m      5\u001b[0m                         \u001b[0;34m'MyDrive'\u001b[0m\u001b[0;34m,\u001b[0m\u001b[0;34m\u001b[0m\u001b[0;34m\u001b[0m\u001b[0m\n\u001b[1;32m      6\u001b[0m                         \u001b[0;34m'Results'\u001b[0m\u001b[0;34m,\u001b[0m\u001b[0;34m\u001b[0m\u001b[0;34m\u001b[0m\u001b[0m\n\u001b[0;32m----> 7\u001b[0;31m                         'names.csv'))\n\u001b[0m",
            "\u001b[0;32m/usr/local/lib/python3.7/dist-packages/pandas/util/_decorators.py\u001b[0m in \u001b[0;36mwrapper\u001b[0;34m(*args, **kwargs)\u001b[0m\n\u001b[1;32m    309\u001b[0m                     \u001b[0mstacklevel\u001b[0m\u001b[0;34m=\u001b[0m\u001b[0mstacklevel\u001b[0m\u001b[0;34m,\u001b[0m\u001b[0;34m\u001b[0m\u001b[0;34m\u001b[0m\u001b[0m\n\u001b[1;32m    310\u001b[0m                 )\n\u001b[0;32m--> 311\u001b[0;31m             \u001b[0;32mreturn\u001b[0m \u001b[0mfunc\u001b[0m\u001b[0;34m(\u001b[0m\u001b[0;34m*\u001b[0m\u001b[0margs\u001b[0m\u001b[0;34m,\u001b[0m \u001b[0;34m**\u001b[0m\u001b[0mkwargs\u001b[0m\u001b[0;34m)\u001b[0m\u001b[0;34m\u001b[0m\u001b[0;34m\u001b[0m\u001b[0m\n\u001b[0m\u001b[1;32m    312\u001b[0m \u001b[0;34m\u001b[0m\u001b[0m\n\u001b[1;32m    313\u001b[0m         \u001b[0;32mreturn\u001b[0m \u001b[0mwrapper\u001b[0m\u001b[0;34m\u001b[0m\u001b[0;34m\u001b[0m\u001b[0m\n",
            "\u001b[0;32m/usr/local/lib/python3.7/dist-packages/pandas/io/parsers/readers.py\u001b[0m in \u001b[0;36mread_csv\u001b[0;34m(filepath_or_buffer, sep, delimiter, header, names, index_col, usecols, squeeze, prefix, mangle_dupe_cols, dtype, engine, converters, true_values, false_values, skipinitialspace, skiprows, skipfooter, nrows, na_values, keep_default_na, na_filter, verbose, skip_blank_lines, parse_dates, infer_datetime_format, keep_date_col, date_parser, dayfirst, cache_dates, iterator, chunksize, compression, thousands, decimal, lineterminator, quotechar, quoting, doublequote, escapechar, comment, encoding, encoding_errors, dialect, error_bad_lines, warn_bad_lines, on_bad_lines, delim_whitespace, low_memory, memory_map, float_precision, storage_options)\u001b[0m\n\u001b[1;32m    584\u001b[0m     \u001b[0mkwds\u001b[0m\u001b[0;34m.\u001b[0m\u001b[0mupdate\u001b[0m\u001b[0;34m(\u001b[0m\u001b[0mkwds_defaults\u001b[0m\u001b[0;34m)\u001b[0m\u001b[0;34m\u001b[0m\u001b[0;34m\u001b[0m\u001b[0m\n\u001b[1;32m    585\u001b[0m \u001b[0;34m\u001b[0m\u001b[0m\n\u001b[0;32m--> 586\u001b[0;31m     \u001b[0;32mreturn\u001b[0m \u001b[0m_read\u001b[0m\u001b[0;34m(\u001b[0m\u001b[0mfilepath_or_buffer\u001b[0m\u001b[0;34m,\u001b[0m \u001b[0mkwds\u001b[0m\u001b[0;34m)\u001b[0m\u001b[0;34m\u001b[0m\u001b[0;34m\u001b[0m\u001b[0m\n\u001b[0m\u001b[1;32m    587\u001b[0m \u001b[0;34m\u001b[0m\u001b[0m\n\u001b[1;32m    588\u001b[0m \u001b[0;34m\u001b[0m\u001b[0m\n",
            "\u001b[0;32m/usr/local/lib/python3.7/dist-packages/pandas/io/parsers/readers.py\u001b[0m in \u001b[0;36m_read\u001b[0;34m(filepath_or_buffer, kwds)\u001b[0m\n\u001b[1;32m    480\u001b[0m \u001b[0;34m\u001b[0m\u001b[0m\n\u001b[1;32m    481\u001b[0m     \u001b[0;31m# Create the parser.\u001b[0m\u001b[0;34m\u001b[0m\u001b[0;34m\u001b[0m\u001b[0;34m\u001b[0m\u001b[0m\n\u001b[0;32m--> 482\u001b[0;31m     \u001b[0mparser\u001b[0m \u001b[0;34m=\u001b[0m \u001b[0mTextFileReader\u001b[0m\u001b[0;34m(\u001b[0m\u001b[0mfilepath_or_buffer\u001b[0m\u001b[0;34m,\u001b[0m \u001b[0;34m**\u001b[0m\u001b[0mkwds\u001b[0m\u001b[0;34m)\u001b[0m\u001b[0;34m\u001b[0m\u001b[0;34m\u001b[0m\u001b[0m\n\u001b[0m\u001b[1;32m    483\u001b[0m \u001b[0;34m\u001b[0m\u001b[0m\n\u001b[1;32m    484\u001b[0m     \u001b[0;32mif\u001b[0m \u001b[0mchunksize\u001b[0m \u001b[0;32mor\u001b[0m \u001b[0miterator\u001b[0m\u001b[0;34m:\u001b[0m\u001b[0;34m\u001b[0m\u001b[0;34m\u001b[0m\u001b[0m\n",
            "\u001b[0;32m/usr/local/lib/python3.7/dist-packages/pandas/io/parsers/readers.py\u001b[0m in \u001b[0;36m__init__\u001b[0;34m(self, f, engine, **kwds)\u001b[0m\n\u001b[1;32m    809\u001b[0m             \u001b[0mself\u001b[0m\u001b[0;34m.\u001b[0m\u001b[0moptions\u001b[0m\u001b[0;34m[\u001b[0m\u001b[0;34m\"has_index_names\"\u001b[0m\u001b[0;34m]\u001b[0m \u001b[0;34m=\u001b[0m \u001b[0mkwds\u001b[0m\u001b[0;34m[\u001b[0m\u001b[0;34m\"has_index_names\"\u001b[0m\u001b[0;34m]\u001b[0m\u001b[0;34m\u001b[0m\u001b[0;34m\u001b[0m\u001b[0m\n\u001b[1;32m    810\u001b[0m \u001b[0;34m\u001b[0m\u001b[0m\n\u001b[0;32m--> 811\u001b[0;31m         \u001b[0mself\u001b[0m\u001b[0;34m.\u001b[0m\u001b[0m_engine\u001b[0m \u001b[0;34m=\u001b[0m \u001b[0mself\u001b[0m\u001b[0;34m.\u001b[0m\u001b[0m_make_engine\u001b[0m\u001b[0;34m(\u001b[0m\u001b[0mself\u001b[0m\u001b[0;34m.\u001b[0m\u001b[0mengine\u001b[0m\u001b[0;34m)\u001b[0m\u001b[0;34m\u001b[0m\u001b[0;34m\u001b[0m\u001b[0m\n\u001b[0m\u001b[1;32m    812\u001b[0m \u001b[0;34m\u001b[0m\u001b[0m\n\u001b[1;32m    813\u001b[0m     \u001b[0;32mdef\u001b[0m \u001b[0mclose\u001b[0m\u001b[0;34m(\u001b[0m\u001b[0mself\u001b[0m\u001b[0;34m)\u001b[0m\u001b[0;34m:\u001b[0m\u001b[0;34m\u001b[0m\u001b[0;34m\u001b[0m\u001b[0m\n",
            "\u001b[0;32m/usr/local/lib/python3.7/dist-packages/pandas/io/parsers/readers.py\u001b[0m in \u001b[0;36m_make_engine\u001b[0;34m(self, engine)\u001b[0m\n\u001b[1;32m   1038\u001b[0m             )\n\u001b[1;32m   1039\u001b[0m         \u001b[0;31m# error: Too many arguments for \"ParserBase\"\u001b[0m\u001b[0;34m\u001b[0m\u001b[0;34m\u001b[0m\u001b[0;34m\u001b[0m\u001b[0m\n\u001b[0;32m-> 1040\u001b[0;31m         \u001b[0;32mreturn\u001b[0m \u001b[0mmapping\u001b[0m\u001b[0;34m[\u001b[0m\u001b[0mengine\u001b[0m\u001b[0;34m]\u001b[0m\u001b[0;34m(\u001b[0m\u001b[0mself\u001b[0m\u001b[0;34m.\u001b[0m\u001b[0mf\u001b[0m\u001b[0;34m,\u001b[0m \u001b[0;34m**\u001b[0m\u001b[0mself\u001b[0m\u001b[0;34m.\u001b[0m\u001b[0moptions\u001b[0m\u001b[0;34m)\u001b[0m  \u001b[0;31m# type: ignore[call-arg]\u001b[0m\u001b[0;34m\u001b[0m\u001b[0;34m\u001b[0m\u001b[0m\n\u001b[0m\u001b[1;32m   1041\u001b[0m \u001b[0;34m\u001b[0m\u001b[0m\n\u001b[1;32m   1042\u001b[0m     \u001b[0;32mdef\u001b[0m \u001b[0m_failover_to_python\u001b[0m\u001b[0;34m(\u001b[0m\u001b[0mself\u001b[0m\u001b[0;34m)\u001b[0m\u001b[0;34m:\u001b[0m\u001b[0;34m\u001b[0m\u001b[0;34m\u001b[0m\u001b[0m\n",
            "\u001b[0;32m/usr/local/lib/python3.7/dist-packages/pandas/io/parsers/c_parser_wrapper.py\u001b[0m in \u001b[0;36m__init__\u001b[0;34m(self, src, **kwds)\u001b[0m\n\u001b[1;32m     49\u001b[0m \u001b[0;34m\u001b[0m\u001b[0m\n\u001b[1;32m     50\u001b[0m         \u001b[0;31m# open handles\u001b[0m\u001b[0;34m\u001b[0m\u001b[0;34m\u001b[0m\u001b[0;34m\u001b[0m\u001b[0m\n\u001b[0;32m---> 51\u001b[0;31m         \u001b[0mself\u001b[0m\u001b[0;34m.\u001b[0m\u001b[0m_open_handles\u001b[0m\u001b[0;34m(\u001b[0m\u001b[0msrc\u001b[0m\u001b[0;34m,\u001b[0m \u001b[0mkwds\u001b[0m\u001b[0;34m)\u001b[0m\u001b[0;34m\u001b[0m\u001b[0;34m\u001b[0m\u001b[0m\n\u001b[0m\u001b[1;32m     52\u001b[0m         \u001b[0;32massert\u001b[0m \u001b[0mself\u001b[0m\u001b[0;34m.\u001b[0m\u001b[0mhandles\u001b[0m \u001b[0;32mis\u001b[0m \u001b[0;32mnot\u001b[0m \u001b[0;32mNone\u001b[0m\u001b[0;34m\u001b[0m\u001b[0;34m\u001b[0m\u001b[0m\n\u001b[1;32m     53\u001b[0m \u001b[0;34m\u001b[0m\u001b[0m\n",
            "\u001b[0;32m/usr/local/lib/python3.7/dist-packages/pandas/io/parsers/base_parser.py\u001b[0m in \u001b[0;36m_open_handles\u001b[0;34m(self, src, kwds)\u001b[0m\n\u001b[1;32m    227\u001b[0m             \u001b[0mmemory_map\u001b[0m\u001b[0;34m=\u001b[0m\u001b[0mkwds\u001b[0m\u001b[0;34m.\u001b[0m\u001b[0mget\u001b[0m\u001b[0;34m(\u001b[0m\u001b[0;34m\"memory_map\"\u001b[0m\u001b[0;34m,\u001b[0m \u001b[0;32mFalse\u001b[0m\u001b[0;34m)\u001b[0m\u001b[0;34m,\u001b[0m\u001b[0;34m\u001b[0m\u001b[0;34m\u001b[0m\u001b[0m\n\u001b[1;32m    228\u001b[0m             \u001b[0mstorage_options\u001b[0m\u001b[0;34m=\u001b[0m\u001b[0mkwds\u001b[0m\u001b[0;34m.\u001b[0m\u001b[0mget\u001b[0m\u001b[0;34m(\u001b[0m\u001b[0;34m\"storage_options\"\u001b[0m\u001b[0;34m,\u001b[0m \u001b[0;32mNone\u001b[0m\u001b[0;34m)\u001b[0m\u001b[0;34m,\u001b[0m\u001b[0;34m\u001b[0m\u001b[0;34m\u001b[0m\u001b[0m\n\u001b[0;32m--> 229\u001b[0;31m             \u001b[0merrors\u001b[0m\u001b[0;34m=\u001b[0m\u001b[0mkwds\u001b[0m\u001b[0;34m.\u001b[0m\u001b[0mget\u001b[0m\u001b[0;34m(\u001b[0m\u001b[0;34m\"encoding_errors\"\u001b[0m\u001b[0;34m,\u001b[0m \u001b[0;34m\"strict\"\u001b[0m\u001b[0;34m)\u001b[0m\u001b[0;34m,\u001b[0m\u001b[0;34m\u001b[0m\u001b[0;34m\u001b[0m\u001b[0m\n\u001b[0m\u001b[1;32m    230\u001b[0m         )\n\u001b[1;32m    231\u001b[0m \u001b[0;34m\u001b[0m\u001b[0m\n",
            "\u001b[0;32m/usr/local/lib/python3.7/dist-packages/pandas/io/common.py\u001b[0m in \u001b[0;36mget_handle\u001b[0;34m(path_or_buf, mode, encoding, compression, memory_map, is_text, errors, storage_options)\u001b[0m\n\u001b[1;32m    705\u001b[0m                 \u001b[0mencoding\u001b[0m\u001b[0;34m=\u001b[0m\u001b[0mioargs\u001b[0m\u001b[0;34m.\u001b[0m\u001b[0mencoding\u001b[0m\u001b[0;34m,\u001b[0m\u001b[0;34m\u001b[0m\u001b[0;34m\u001b[0m\u001b[0m\n\u001b[1;32m    706\u001b[0m                 \u001b[0merrors\u001b[0m\u001b[0;34m=\u001b[0m\u001b[0merrors\u001b[0m\u001b[0;34m,\u001b[0m\u001b[0;34m\u001b[0m\u001b[0;34m\u001b[0m\u001b[0m\n\u001b[0;32m--> 707\u001b[0;31m                 \u001b[0mnewline\u001b[0m\u001b[0;34m=\u001b[0m\u001b[0;34m\"\"\u001b[0m\u001b[0;34m,\u001b[0m\u001b[0;34m\u001b[0m\u001b[0;34m\u001b[0m\u001b[0m\n\u001b[0m\u001b[1;32m    708\u001b[0m             )\n\u001b[1;32m    709\u001b[0m         \u001b[0;32melse\u001b[0m\u001b[0;34m:\u001b[0m\u001b[0;34m\u001b[0m\u001b[0;34m\u001b[0m\u001b[0m\n",
            "\u001b[0;31mFileNotFoundError\u001b[0m: [Errno 2] No such file or directory: '/content/drive/MyDrive/Results/names.csv'"
          ]
        }
      ],
      "source": [
        "import pandas as pd\n",
        "\n",
        "features = pd.read_csv(os.path.join('/content',\n",
        "                        'drive',\n",
        "                        'MyDrive',\n",
        "                        'Results',\n",
        "                        'names.csv'))"
      ]
    },
    {
      "cell_type": "code",
      "execution_count": null,
      "metadata": {
        "id": "uVP2PHW9E66x"
      },
      "outputs": [],
      "source": [
        "\n",
        "df.to_csv( os.path.join('/content',\n",
        "                        'drive',\n",
        "                        'MyDrive',\n",
        "                        'Results',\n",
        "                        'names.csv'))\n"
      ]
    },
    {
      "cell_type": "code",
      "execution_count": null,
      "metadata": {
        "id": "3Gag035mepoZ"
      },
      "outputs": [],
      "source": [
        "# save images\n",
        "'''\n",
        "cv2.imwrite(os.path.join('/content',\n",
        "                        'drive',\n",
        "                        'MyDrive',\n",
        "                        'Results',\n",
        "                         'features.csv'),\n",
        "            features)\n",
        "'''"
      ]
    },
    {
      "cell_type": "code",
      "execution_count": null,
      "metadata": {
        "id": "EJrrb3dxTR6P"
      },
      "outputs": [],
      "source": [
        "# evaluation froc curve #\n",
        "\n",
        "''''\n",
        "fp = 0 # false positive, findings on normal images, don't forget the normals variable\n",
        "tp = 0 # true positive, for the blobs that are inside a component\n",
        "fn = 0 # false negative, for the blobs that do not belong to any component\n",
        "\n",
        "for key in groundTruthsComponents:\n",
        "  # list of features found with y,x and sigma\n",
        "  featuresImg = blobs[key]\n",
        "  \n",
        "  # restart the variables\n",
        "  fp = 0\n",
        "  tp = 0\n",
        "  fn = 0\n",
        "\n",
        "  # is the image a normal image?\n",
        "  if (key in normals):\n",
        "    # if it is false positive\n",
        "    fp = fp + 1\n",
        "    continue\n",
        "\n",
        "  # if it is not register as normal\n",
        "  # stat have 5 items: leftmost x coordinate,\n",
        "  #                    topmost y coordinate,\n",
        "  #                    horizontal size of the bounding box\n",
        "  #                    vertical size of the bounding box\n",
        "  #                    total area in pixels of the connected component\n",
        "  for centroid, stat in zip(groundTruthsComponents[key]['centroids'], groundTruthsComponents[key]['stats']):\n",
        "    # remember one component is the background\n",
        "    \n",
        "    if (stat[0] == 0):\n",
        "      # is the background\n",
        "      continue\n",
        "\n",
        "    # top left is the 0,0 of the image\n",
        "    \n",
        "    topX = stat[0]\n",
        "    bottomX = stat[0] + stat[2]\n",
        "\n",
        "    topY = stat[1]\n",
        "    bottomY = stat[1] + stat[3]\n",
        "\n",
        "    matchs = [1 for feature in featuresImg if (( feature[1] >= topX ) and\n",
        "                                               ( feature[1] <= bottomX ) and\n",
        "                                               ( feature[0] >= topY ) and\n",
        "                                               ( feature[0] <= bottomY )) ]\n",
        "\n",
        "    # true positives\n",
        "    tp = tp + np.sum(matchs)\n",
        "\n",
        "\n",
        "    #false negatives will be the difference between the total true positives and the blobs that we receive\n",
        "\n",
        "  fn = len(featuresImg) - tp\n",
        "\n",
        "  # save and compute tpr and fpr\n",
        "\n",
        "  # to make te roc curve i need scores... clasification :|\n",
        "'''"
      ]
    },
    {
      "cell_type": "code",
      "execution_count": null,
      "metadata": {
        "id": "uo57LPvjVEEf"
      },
      "outputs": [],
      "source": [
        "\n",
        "features.to_csv( os.path.join('/content',\n",
        "                        'drive',\n",
        "                        'MyDrive',\n",
        "                        'Results',\n",
        "                        'features.csv'))\n"
      ]
    },
    {
      "cell_type": "code",
      "execution_count": null,
      "metadata": {
        "id": "6B64-S9blVud"
      },
      "outputs": [],
      "source": [
        ""
      ]
    }
  ],
  "metadata": {
    "colab": {
      "collapsed_sections": [],
      "name": "calcificationTestImageProcessing.ipynb",
      "provenance": [],
      "include_colab_link": true
    },
    "kernelspec": {
      "display_name": "Python 3",
      "name": "python3"
    },
    "language_info": {
      "name": "python"
    }
  },
  "nbformat": 4,
  "nbformat_minor": 0
}